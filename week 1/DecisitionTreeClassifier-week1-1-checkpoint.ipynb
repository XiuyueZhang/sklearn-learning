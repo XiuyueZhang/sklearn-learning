{
 "cells": [
  {
   "cell_type": "code",
   "execution_count": 2,
   "id": "48a8bf05",
   "metadata": {},
   "outputs": [],
   "source": [
    "from sklearn import tree\n",
    "from sklearn.datasets import load_wine\n",
    "from sklearn.model_selection import train_test_split"
   ]
  },
  {
   "cell_type": "code",
   "execution_count": 12,
   "id": "37e5aa23",
   "metadata": {},
   "outputs": [
    {
     "data": {
      "text/html": [
       "<div>\n",
       "<style scoped>\n",
       "    .dataframe tbody tr th:only-of-type {\n",
       "        vertical-align: middle;\n",
       "    }\n",
       "\n",
       "    .dataframe tbody tr th {\n",
       "        vertical-align: top;\n",
       "    }\n",
       "\n",
       "    .dataframe thead th {\n",
       "        text-align: right;\n",
       "    }\n",
       "</style>\n",
       "<table border=\"1\" class=\"dataframe\">\n",
       "  <thead>\n",
       "    <tr style=\"text-align: right;\">\n",
       "      <th></th>\n",
       "      <th>0</th>\n",
       "      <th>1</th>\n",
       "      <th>2</th>\n",
       "      <th>3</th>\n",
       "      <th>4</th>\n",
       "      <th>5</th>\n",
       "      <th>6</th>\n",
       "      <th>7</th>\n",
       "      <th>8</th>\n",
       "      <th>9</th>\n",
       "      <th>10</th>\n",
       "      <th>11</th>\n",
       "      <th>12</th>\n",
       "      <th>0</th>\n",
       "    </tr>\n",
       "  </thead>\n",
       "  <tbody>\n",
       "    <tr>\n",
       "      <th>0</th>\n",
       "      <td>14.23</td>\n",
       "      <td>1.71</td>\n",
       "      <td>2.43</td>\n",
       "      <td>15.6</td>\n",
       "      <td>127.0</td>\n",
       "      <td>2.80</td>\n",
       "      <td>3.06</td>\n",
       "      <td>0.28</td>\n",
       "      <td>2.29</td>\n",
       "      <td>5.64</td>\n",
       "      <td>1.04</td>\n",
       "      <td>3.92</td>\n",
       "      <td>1065.0</td>\n",
       "      <td>0</td>\n",
       "    </tr>\n",
       "    <tr>\n",
       "      <th>1</th>\n",
       "      <td>13.20</td>\n",
       "      <td>1.78</td>\n",
       "      <td>2.14</td>\n",
       "      <td>11.2</td>\n",
       "      <td>100.0</td>\n",
       "      <td>2.65</td>\n",
       "      <td>2.76</td>\n",
       "      <td>0.26</td>\n",
       "      <td>1.28</td>\n",
       "      <td>4.38</td>\n",
       "      <td>1.05</td>\n",
       "      <td>3.40</td>\n",
       "      <td>1050.0</td>\n",
       "      <td>0</td>\n",
       "    </tr>\n",
       "    <tr>\n",
       "      <th>2</th>\n",
       "      <td>13.16</td>\n",
       "      <td>2.36</td>\n",
       "      <td>2.67</td>\n",
       "      <td>18.6</td>\n",
       "      <td>101.0</td>\n",
       "      <td>2.80</td>\n",
       "      <td>3.24</td>\n",
       "      <td>0.30</td>\n",
       "      <td>2.81</td>\n",
       "      <td>5.68</td>\n",
       "      <td>1.03</td>\n",
       "      <td>3.17</td>\n",
       "      <td>1185.0</td>\n",
       "      <td>0</td>\n",
       "    </tr>\n",
       "    <tr>\n",
       "      <th>3</th>\n",
       "      <td>14.37</td>\n",
       "      <td>1.95</td>\n",
       "      <td>2.50</td>\n",
       "      <td>16.8</td>\n",
       "      <td>113.0</td>\n",
       "      <td>3.85</td>\n",
       "      <td>3.49</td>\n",
       "      <td>0.24</td>\n",
       "      <td>2.18</td>\n",
       "      <td>7.80</td>\n",
       "      <td>0.86</td>\n",
       "      <td>3.45</td>\n",
       "      <td>1480.0</td>\n",
       "      <td>0</td>\n",
       "    </tr>\n",
       "    <tr>\n",
       "      <th>4</th>\n",
       "      <td>13.24</td>\n",
       "      <td>2.59</td>\n",
       "      <td>2.87</td>\n",
       "      <td>21.0</td>\n",
       "      <td>118.0</td>\n",
       "      <td>2.80</td>\n",
       "      <td>2.69</td>\n",
       "      <td>0.39</td>\n",
       "      <td>1.82</td>\n",
       "      <td>4.32</td>\n",
       "      <td>1.04</td>\n",
       "      <td>2.93</td>\n",
       "      <td>735.0</td>\n",
       "      <td>0</td>\n",
       "    </tr>\n",
       "    <tr>\n",
       "      <th>...</th>\n",
       "      <td>...</td>\n",
       "      <td>...</td>\n",
       "      <td>...</td>\n",
       "      <td>...</td>\n",
       "      <td>...</td>\n",
       "      <td>...</td>\n",
       "      <td>...</td>\n",
       "      <td>...</td>\n",
       "      <td>...</td>\n",
       "      <td>...</td>\n",
       "      <td>...</td>\n",
       "      <td>...</td>\n",
       "      <td>...</td>\n",
       "      <td>...</td>\n",
       "    </tr>\n",
       "    <tr>\n",
       "      <th>173</th>\n",
       "      <td>13.71</td>\n",
       "      <td>5.65</td>\n",
       "      <td>2.45</td>\n",
       "      <td>20.5</td>\n",
       "      <td>95.0</td>\n",
       "      <td>1.68</td>\n",
       "      <td>0.61</td>\n",
       "      <td>0.52</td>\n",
       "      <td>1.06</td>\n",
       "      <td>7.70</td>\n",
       "      <td>0.64</td>\n",
       "      <td>1.74</td>\n",
       "      <td>740.0</td>\n",
       "      <td>2</td>\n",
       "    </tr>\n",
       "    <tr>\n",
       "      <th>174</th>\n",
       "      <td>13.40</td>\n",
       "      <td>3.91</td>\n",
       "      <td>2.48</td>\n",
       "      <td>23.0</td>\n",
       "      <td>102.0</td>\n",
       "      <td>1.80</td>\n",
       "      <td>0.75</td>\n",
       "      <td>0.43</td>\n",
       "      <td>1.41</td>\n",
       "      <td>7.30</td>\n",
       "      <td>0.70</td>\n",
       "      <td>1.56</td>\n",
       "      <td>750.0</td>\n",
       "      <td>2</td>\n",
       "    </tr>\n",
       "    <tr>\n",
       "      <th>175</th>\n",
       "      <td>13.27</td>\n",
       "      <td>4.28</td>\n",
       "      <td>2.26</td>\n",
       "      <td>20.0</td>\n",
       "      <td>120.0</td>\n",
       "      <td>1.59</td>\n",
       "      <td>0.69</td>\n",
       "      <td>0.43</td>\n",
       "      <td>1.35</td>\n",
       "      <td>10.20</td>\n",
       "      <td>0.59</td>\n",
       "      <td>1.56</td>\n",
       "      <td>835.0</td>\n",
       "      <td>2</td>\n",
       "    </tr>\n",
       "    <tr>\n",
       "      <th>176</th>\n",
       "      <td>13.17</td>\n",
       "      <td>2.59</td>\n",
       "      <td>2.37</td>\n",
       "      <td>20.0</td>\n",
       "      <td>120.0</td>\n",
       "      <td>1.65</td>\n",
       "      <td>0.68</td>\n",
       "      <td>0.53</td>\n",
       "      <td>1.46</td>\n",
       "      <td>9.30</td>\n",
       "      <td>0.60</td>\n",
       "      <td>1.62</td>\n",
       "      <td>840.0</td>\n",
       "      <td>2</td>\n",
       "    </tr>\n",
       "    <tr>\n",
       "      <th>177</th>\n",
       "      <td>14.13</td>\n",
       "      <td>4.10</td>\n",
       "      <td>2.74</td>\n",
       "      <td>24.5</td>\n",
       "      <td>96.0</td>\n",
       "      <td>2.05</td>\n",
       "      <td>0.76</td>\n",
       "      <td>0.56</td>\n",
       "      <td>1.35</td>\n",
       "      <td>9.20</td>\n",
       "      <td>0.61</td>\n",
       "      <td>1.60</td>\n",
       "      <td>560.0</td>\n",
       "      <td>2</td>\n",
       "    </tr>\n",
       "  </tbody>\n",
       "</table>\n",
       "<p>178 rows × 14 columns</p>\n",
       "</div>"
      ],
      "text/plain": [
       "        0     1     2     3      4     5     6     7     8      9     10  \\\n",
       "0    14.23  1.71  2.43  15.6  127.0  2.80  3.06  0.28  2.29   5.64  1.04   \n",
       "1    13.20  1.78  2.14  11.2  100.0  2.65  2.76  0.26  1.28   4.38  1.05   \n",
       "2    13.16  2.36  2.67  18.6  101.0  2.80  3.24  0.30  2.81   5.68  1.03   \n",
       "3    14.37  1.95  2.50  16.8  113.0  3.85  3.49  0.24  2.18   7.80  0.86   \n",
       "4    13.24  2.59  2.87  21.0  118.0  2.80  2.69  0.39  1.82   4.32  1.04   \n",
       "..     ...   ...   ...   ...    ...   ...   ...   ...   ...    ...   ...   \n",
       "173  13.71  5.65  2.45  20.5   95.0  1.68  0.61  0.52  1.06   7.70  0.64   \n",
       "174  13.40  3.91  2.48  23.0  102.0  1.80  0.75  0.43  1.41   7.30  0.70   \n",
       "175  13.27  4.28  2.26  20.0  120.0  1.59  0.69  0.43  1.35  10.20  0.59   \n",
       "176  13.17  2.59  2.37  20.0  120.0  1.65  0.68  0.53  1.46   9.30  0.60   \n",
       "177  14.13  4.10  2.74  24.5   96.0  2.05  0.76  0.56  1.35   9.20  0.61   \n",
       "\n",
       "       11      12  0   \n",
       "0    3.92  1065.0   0  \n",
       "1    3.40  1050.0   0  \n",
       "2    3.17  1185.0   0  \n",
       "3    3.45  1480.0   0  \n",
       "4    2.93   735.0   0  \n",
       "..    ...     ...  ..  \n",
       "173  1.74   740.0   2  \n",
       "174  1.56   750.0   2  \n",
       "175  1.56   835.0   2  \n",
       "176  1.62   840.0   2  \n",
       "177  1.60   560.0   2  \n",
       "\n",
       "[178 rows x 14 columns]"
      ]
     },
     "execution_count": 12,
     "metadata": {},
     "output_type": "execute_result"
    }
   ],
   "source": [
    "wine = load_wine()\n",
    "import pandas as pd\n",
    "pd.concat([pd.DataFrame(wine.data),pd.DataFrame(wine.target)],axis=1)"
   ]
  },
  {
   "cell_type": "code",
   "execution_count": 4,
   "id": "1febb750",
   "metadata": {},
   "outputs": [],
   "source": [
    "X_train, X_test, y_train, y_test = train_test_split(wine.data, wine.target, test_size=0.3)"
   ]
  },
  {
   "cell_type": "code",
   "execution_count": 6,
   "id": "bfb30d0f",
   "metadata": {},
   "outputs": [
    {
     "data": {
      "text/plain": [
       "0.9259259259259259"
      ]
     },
     "execution_count": 6,
     "metadata": {},
     "output_type": "execute_result"
    }
   ],
   "source": [
    "clf = tree.DecisionTreeClassifier(criterion='entropy'\n",
    "                                 ,random_state=30\n",
    "                                 ,splitter='best'\n",
    "                                 ,max_depth=3\n",
    "                                 ,min_samples_leaf=10\n",
    "#                                  ,min_samples_split=10\n",
    "                                 )\n",
    "clf = clf.fit(X_train,y_train)\n",
    "score = clf.score(X_test, y_test)\n",
    "score\n"
   ]
  },
  {
   "cell_type": "code",
   "execution_count": 7,
   "id": "e9968857",
   "metadata": {},
   "outputs": [
    {
     "data": {
      "text/plain": [
       "'digraph Tree {\\nnode [shape=box] ;\\n0 [label=\"X[6] <= 1.575\\\\nentropy = 1.568\\\\nsamples = 124\\\\nvalue = [39, 50, 35]\"] ;\\n1 [label=\"X[9] <= 3.925\\\\nentropy = 0.731\\\\nsamples = 44\\\\nvalue = [0, 9, 35]\"] ;\\n0 -> 1 [labeldistance=2.5, labelangle=45, headlabel=\"True\"] ;\\n2 [label=\"entropy = 0.469\\\\nsamples = 10\\\\nvalue = [0, 9, 1]\"] ;\\n1 -> 2 ;\\n3 [label=\"entropy = 0.0\\\\nsamples = 34\\\\nvalue = [0, 0, 34]\"] ;\\n1 -> 3 ;\\n4 [label=\"X[12] <= 742.0\\\\nentropy = 1.0\\\\nsamples = 80\\\\nvalue = [39, 41, 0]\"] ;\\n0 -> 4 [labeldistance=2.5, labelangle=-45, headlabel=\"False\"] ;\\n5 [label=\"X[5] <= 2.63\\\\nentropy = 0.169\\\\nsamples = 40\\\\nvalue = [1, 39, 0]\"] ;\\n4 -> 5 ;\\n6 [label=\"entropy = 0.0\\\\nsamples = 30\\\\nvalue = [0, 30, 0]\"] ;\\n5 -> 6 ;\\n7 [label=\"entropy = 0.469\\\\nsamples = 10\\\\nvalue = [1, 9, 0]\"] ;\\n5 -> 7 ;\\n8 [label=\"X[12] <= 987.5\\\\nentropy = 0.286\\\\nsamples = 40\\\\nvalue = [38, 2, 0]\"] ;\\n4 -> 8 ;\\n9 [label=\"entropy = 0.722\\\\nsamples = 10\\\\nvalue = [8, 2, 0]\"] ;\\n8 -> 9 ;\\n10 [label=\"entropy = 0.0\\\\nsamples = 30\\\\nvalue = [30, 0, 0]\"] ;\\n8 -> 10 ;\\n}'"
      ]
     },
     "execution_count": 7,
     "metadata": {},
     "output_type": "execute_result"
    }
   ],
   "source": [
    "tree.export_graphviz(clf)"
   ]
  },
  {
   "cell_type": "code",
   "execution_count": null,
   "id": "bcee97fe",
   "metadata": {},
   "outputs": [],
   "source": []
  },
  {
   "cell_type": "code",
   "execution_count": 11,
   "id": "380db68b",
   "metadata": {},
   "outputs": [],
   "source": [
    "import matplotlib.pyplot as plt"
   ]
  },
  {
   "cell_type": "code",
   "execution_count": 14,
   "id": "5eba5246",
   "metadata": {},
   "outputs": [
    {
     "data": {
      "image/png": "[encoded data removed]",
      "text/plain": [
       "<Figure size 432x288 with 1 Axes>"
      ]
     },
     "metadata": {
      "needs_background": "light"
     },
     "output_type": "display_data"
    }
   ],
   "source": [
    "test = []\n",
    "for i in range(10):\n",
    "    clf = tree.DecisionTreeClassifier(criterion='entropy'\n",
    "                                     ,random_state=10\n",
    "                                     ,max_depth=i+1\n",
    "                                     )\n",
    "    clf = clf.fit(X_train,y_train)\n",
    "    score = clf.score(X_test, y_test)\n",
    "    test.append(score)\n",
    "\n",
    "plt.plot(range(1,11),test,color='red',label='max_depth')\n",
    "plt.legend()\n",
    "plt.show()\n"
   ]
  },
  {
   "cell_type": "code",
   "execution_count": 1,
   "id": "ee6a22f7",
   "metadata": {},
   "outputs": [
    {
     "name": "stdout",
     "output_type": "stream",
     "text": [
      "Collecting package metadata (current_repodata.json): ...working... done\n",
      "Solving environment: ...working... done\n",
      "\n",
      "## Package Plan ##\n",
      "\n",
      "  environment location: D:\\ISO\\Anoconda\n",
      "\n",
      "  added / updated specs:\n",
      "    - python-graphviz\n",
      "\n",
      "\n",
      "The following packages will be downloaded:\n",
      "\n",
      "    package                    |            build\n",
      "    ---------------------------|-----------------\n",
      "    conda-4.12.0               |   py39haa95532_0        14.5 MB\n",
      "    graphviz-2.38              |       hfd603c8_2        29.3 MB\n",
      "    python-graphviz-0.16       |     pyhd3eb1b0_1          20 KB\n",
      "    ------------------------------------------------------------\n",
      "                                           Total:        43.8 MB\n",
      "\n",
      "The following NEW packages will be INSTALLED:\n",
      "\n",
      "  graphviz           pkgs/main/win-64::graphviz-2.38-hfd603c8_2\n",
      "  python-graphviz    pkgs/main/noarch::python-graphviz-0.16-pyhd3eb1b0_1\n",
      "\n",
      "The following packages will be UPDATED:\n",
      "\n",
      "  conda                               4.10.3-py39haa95532_0 --> 4.12.0-py39haa95532_0\n",
      "\n",
      "\n",
      "\n",
      "Downloading and Extracting Packages\n",
      "\n",
      "graphviz-2.38        | 29.3 MB   |            |   0% \n",
      "graphviz-2.38        | 29.3 MB   |            |   0% \n",
      "graphviz-2.38        | 29.3 MB   | 1          |   2% \n",
      "graphviz-2.38        | 29.3 MB   | 4          |   5% \n",
      "graphviz-2.38        | 29.3 MB   | 7          |   7% \n",
      "graphviz-2.38        | 29.3 MB   | #          |  10% \n",
      "graphviz-2.38        | 29.3 MB   | #4         |  14% \n",
      "graphviz-2.38        | 29.3 MB   | #8         |  18% \n",
      "graphviz-2.38        | 29.3 MB   | ##1        |  22% \n",
      "graphviz-2.38        | 29.3 MB   | ##5        |  26% \n",
      "graphviz-2.38        | 29.3 MB   | ##9        |  30% \n",
      "graphviz-2.38        | 29.3 MB   | ###3       |  34% \n",
      "graphviz-2.38        | 29.3 MB   | ###7       |  37% \n",
      "graphviz-2.38        | 29.3 MB   | ####1      |  41% \n",
      "graphviz-2.38        | 29.3 MB   | ####5      |  45% \n",
      "graphviz-2.38        | 29.3 MB   | ####9      |  49% \n",
      "graphviz-2.38        | 29.3 MB   | #####2     |  53% \n",
      "graphviz-2.38        | 29.3 MB   | #####6     |  57% \n",
      "graphviz-2.38        | 29.3 MB   | ######     |  61% \n",
      "graphviz-2.38        | 29.3 MB   | ######4    |  65% \n",
      "graphviz-2.38        | 29.3 MB   | ######8    |  68% \n",
      "graphviz-2.38        | 29.3 MB   | #######2   |  72% \n",
      "graphviz-2.38        | 29.3 MB   | #######6   |  76% \n",
      "graphviz-2.38        | 29.3 MB   | ########   |  80% \n",
      "graphviz-2.38        | 29.3 MB   | #########2 |  93% \n",
      "graphviz-2.38        | 29.3 MB   | #########8 |  99% \n",
      "graphviz-2.38        | 29.3 MB   | ########## | 100% \n",
      "\n",
      "conda-4.12.0         | 14.5 MB   |            |   0% \n",
      "conda-4.12.0         | 14.5 MB   | 2          |   3% \n",
      "conda-4.12.0         | 14.5 MB   | 9          |  10% \n",
      "conda-4.12.0         | 14.5 MB   | #7         |  18% \n",
      "conda-4.12.0         | 14.5 MB   | ##5        |  26% \n",
      "conda-4.12.0         | 14.5 MB   | ###3       |  34% \n",
      "conda-4.12.0         | 14.5 MB   | ####1      |  42% \n",
      "conda-4.12.0         | 14.5 MB   | ####9      |  50% \n",
      "conda-4.12.0         | 14.5 MB   | #####7     |  57% \n",
      "conda-4.12.0         | 14.5 MB   | ######5    |  65% \n",
      "conda-4.12.0         | 14.5 MB   | #######3   |  73% \n",
      "conda-4.12.0         | 14.5 MB   | ########   |  81% \n",
      "conda-4.12.0         | 14.5 MB   | ########8  |  89% \n",
      "conda-4.12.0         | 14.5 MB   | #########6 |  97% \n",
      "conda-4.12.0         | 14.5 MB   | ########## | 100% \n",
      "\n",
      "python-graphviz-0.16 | 20 KB     |            |   0% \n",
      "python-graphviz-0.16 | 20 KB     | #######8   |  78% \n",
      "python-graphviz-0.16 | 20 KB     | ########## | 100% \n",
      "Preparing transaction: ...working... done\n",
      "Verifying transaction: ...working... done\n",
      "Executing transaction: ...working... done\n",
      "\n",
      "Note: you may need to restart the kernel to use updated packages.\n"
     ]
    }
   ],
   "source": [
    "conda install python-graphviz"
   ]
  },
  {
   "cell_type": "code",
   "execution_count": 13,
   "id": "be51607c",
   "metadata": {},
   "outputs": [
    {
     "data": {
      "text/plain": [
       "['alcohol',\n",
       " 'malic_acid',\n",
       " 'ash',\n",
       " 'alcalinity_of_ash',\n",
       " 'magnesium',\n",
       " 'total_phenols',\n",
       " 'flavanoids',\n",
       " 'nonflavanoid_phenols',\n",
       " 'proanthocyanins',\n",
       " 'color_intensity',\n",
       " 'hue',\n",
       " 'od280/od315_of_diluted_wines',\n",
       " 'proline']"
      ]
     },
     "execution_count": 13,
     "metadata": {},
     "output_type": "execute_result"
    }
   ],
   "source": [
    "wine.feature_names"
   ]
  },
  {
   "cell_type": "code",
   "execution_count": 14,
   "id": "68b55338",
   "metadata": {},
   "outputs": [
    {
     "data": {
      "text/plain": [
       "array(['class_0', 'class_1', 'class_2'], dtype='<U7')"
      ]
     },
     "execution_count": 14,
     "metadata": {},
     "output_type": "execute_result"
    }
   ],
   "source": [
    "wine.target_names"
   ]
  },
  {
   "cell_type": "code",
   "execution_count": 17,
   "id": "b3b59f8a",
   "metadata": {},
   "outputs": [
    {
     "data": {
      "image/svg+xml": [
       "<?xml version=\"1.0\" encoding=\"UTF-8\" standalone=\"no\"?>\r\n",
       "<!DOCTYPE svg PUBLIC \"-//W3C//DTD SVG 1.1//EN\"\r\n",
       " \"http://www.w3.org/Graphics/SVG/1.1/DTD/svg11.dtd\">\r\n",
       "<!-- Generated by graphviz version 2.38.0 (20140413.2041)\r\n",
       " -->\r\n",
       "<!-- Title: Tree Pages: 1 -->\r\n",
       "<svg width=\"679pt\" height=\"433pt\"\r\n",
       " viewBox=\"0.00 0.00 678.50 433.00\" xmlns=\"http://www.w3.org/2000/svg\" xmlns:xlink=\"http://www.w3.org/1999/xlink\">\r\n",
       "<g id=\"graph0\" class=\"graph\" transform=\"scale(1 1) rotate(0) translate(4 429)\">\r\n",
       "<title>Tree</title>\r\n",
       "<polygon fill=\"white\" stroke=\"none\" points=\"-4,4 -4,-429 674.5,-429 674.5,4 -4,4\"/>\r\n",
       "<!-- 0 -->\r\n",
       "<g id=\"node1\" class=\"node\"><title>0</title>\r\n",
       "<path fill=\"#e5fcef\" stroke=\"black\" d=\"M321.5,-425C321.5,-425 208.5,-425 208.5,-425 202.5,-425 196.5,-419 196.5,-413 196.5,-413 196.5,-354 196.5,-354 196.5,-348 202.5,-342 208.5,-342 208.5,-342 321.5,-342 321.5,-342 327.5,-342 333.5,-348 333.5,-354 333.5,-354 333.5,-413 333.5,-413 333.5,-419 327.5,-425 321.5,-425\"/>\r\n",
       "<text text-anchor=\"middle\" x=\"265\" y=\"-409.8\" font-family=\"Helvetica,sans-Serif\" font-size=\"14.00\">X[6] &lt;= 1.575</text>\r\n",
       "<text text-anchor=\"middle\" x=\"265\" y=\"-394.8\" font-family=\"Helvetica,sans-Serif\" font-size=\"14.00\">entropy = 1.568</text>\r\n",
       "<text text-anchor=\"middle\" x=\"265\" y=\"-379.8\" font-family=\"Helvetica,sans-Serif\" font-size=\"14.00\">samples = 124</text>\r\n",
       "<text text-anchor=\"middle\" x=\"265\" y=\"-364.8\" font-family=\"Helvetica,sans-Serif\" font-size=\"14.00\">value = [39, 50, 35]</text>\r\n",
       "<text text-anchor=\"middle\" x=\"265\" y=\"-349.8\" font-family=\"Helvetica,sans-Serif\" font-size=\"14.00\">class = Sherry</text>\r\n",
       "</g>\r\n",
       "<!-- 1 -->\r\n",
       "<g id=\"node2\" class=\"node\"><title>1</title>\r\n",
       "<path fill=\"#a16cec\" stroke=\"black\" d=\"M242.5,-306C242.5,-306 145.5,-306 145.5,-306 139.5,-306 133.5,-300 133.5,-294 133.5,-294 133.5,-235 133.5,-235 133.5,-229 139.5,-223 145.5,-223 145.5,-223 242.5,-223 242.5,-223 248.5,-223 254.5,-229 254.5,-235 254.5,-235 254.5,-294 254.5,-294 254.5,-300 248.5,-306 242.5,-306\"/>\r\n",
       "<text text-anchor=\"middle\" x=\"194\" y=\"-290.8\" font-family=\"Helvetica,sans-Serif\" font-size=\"14.00\">X[9] &lt;= 3.925</text>\r\n",
       "<text text-anchor=\"middle\" x=\"194\" y=\"-275.8\" font-family=\"Helvetica,sans-Serif\" font-size=\"14.00\">entropy = 0.731</text>\r\n",
       "<text text-anchor=\"middle\" x=\"194\" y=\"-260.8\" font-family=\"Helvetica,sans-Serif\" font-size=\"14.00\">samples = 44</text>\r\n",
       "<text text-anchor=\"middle\" x=\"194\" y=\"-245.8\" font-family=\"Helvetica,sans-Serif\" font-size=\"14.00\">value = [0, 9, 35]</text>\r\n",
       "<text text-anchor=\"middle\" x=\"194\" y=\"-230.8\" font-family=\"Helvetica,sans-Serif\" font-size=\"14.00\">class = Votka</text>\r\n",
       "</g>\r\n",
       "<!-- 0&#45;&gt;1 -->\r\n",
       "<g id=\"edge1\" class=\"edge\"><title>0&#45;&gt;1</title>\r\n",
       "<path fill=\"none\" stroke=\"black\" d=\"M240.367,-341.907C235.025,-333.105 229.32,-323.703 223.803,-314.612\"/>\r\n",
       "<polygon fill=\"black\" stroke=\"black\" points=\"226.77,-312.754 218.59,-306.021 220.785,-316.386 226.77,-312.754\"/>\r\n",
       "<text text-anchor=\"middle\" x=\"212.648\" y=\"-326.604\" font-family=\"Helvetica,sans-Serif\" font-size=\"14.00\">True</text>\r\n",
       "</g>\r\n",
       "<!-- 4 -->\r\n",
       "<g id=\"node5\" class=\"node\"><title>4</title>\r\n",
       "<path fill=\"#f5fef9\" stroke=\"black\" d=\"M389.5,-306C389.5,-306 284.5,-306 284.5,-306 278.5,-306 272.5,-300 272.5,-294 272.5,-294 272.5,-235 272.5,-235 272.5,-229 278.5,-223 284.5,-223 284.5,-223 389.5,-223 389.5,-223 395.5,-223 401.5,-229 401.5,-235 401.5,-235 401.5,-294 401.5,-294 401.5,-300 395.5,-306 389.5,-306\"/>\r\n",
       "<text text-anchor=\"middle\" x=\"337\" y=\"-290.8\" font-family=\"Helvetica,sans-Serif\" font-size=\"14.00\">X[12] &lt;= 742.0</text>\r\n",
       "<text text-anchor=\"middle\" x=\"337\" y=\"-275.8\" font-family=\"Helvetica,sans-Serif\" font-size=\"14.00\">entropy = 1.0</text>\r\n",
       "<text text-anchor=\"middle\" x=\"337\" y=\"-260.8\" font-family=\"Helvetica,sans-Serif\" font-size=\"14.00\">samples = 80</text>\r\n",
       "<text text-anchor=\"middle\" x=\"337\" y=\"-245.8\" font-family=\"Helvetica,sans-Serif\" font-size=\"14.00\">value = [39, 41, 0]</text>\r\n",
       "<text text-anchor=\"middle\" x=\"337\" y=\"-230.8\" font-family=\"Helvetica,sans-Serif\" font-size=\"14.00\">class = Sherry</text>\r\n",
       "</g>\r\n",
       "<!-- 0&#45;&gt;4 -->\r\n",
       "<g id=\"edge4\" class=\"edge\"><title>0&#45;&gt;4</title>\r\n",
       "<path fill=\"none\" stroke=\"black\" d=\"M289.98,-341.907C295.397,-333.105 301.183,-323.703 306.777,-314.612\"/>\r\n",
       "<polygon fill=\"black\" stroke=\"black\" points=\"309.804,-316.372 312.064,-306.021 303.842,-312.703 309.804,-316.372\"/>\r\n",
       "<text text-anchor=\"middle\" x=\"317.855\" y=\"-326.641\" font-family=\"Helvetica,sans-Serif\" font-size=\"14.00\">False</text>\r\n",
       "</g>\r\n",
       "<!-- 2 -->\r\n",
       "<g id=\"node3\" class=\"node\"><title>2</title>\r\n",
       "<path fill=\"#4fe88f\" stroke=\"black\" d=\"M104,-179.5C104,-179.5 12,-179.5 12,-179.5 6,-179.5 0,-173.5 0,-167.5 0,-167.5 0,-123.5 0,-123.5 0,-117.5 6,-111.5 12,-111.5 12,-111.5 104,-111.5 104,-111.5 110,-111.5 116,-117.5 116,-123.5 116,-123.5 116,-167.5 116,-167.5 116,-173.5 110,-179.5 104,-179.5\"/>\r\n",
       "<text text-anchor=\"middle\" x=\"58\" y=\"-164.3\" font-family=\"Helvetica,sans-Serif\" font-size=\"14.00\">entropy = 0.469</text>\r\n",
       "<text text-anchor=\"middle\" x=\"58\" y=\"-149.3\" font-family=\"Helvetica,sans-Serif\" font-size=\"14.00\">samples = 10</text>\r\n",
       "<text text-anchor=\"middle\" x=\"58\" y=\"-134.3\" font-family=\"Helvetica,sans-Serif\" font-size=\"14.00\">value = [0, 9, 1]</text>\r\n",
       "<text text-anchor=\"middle\" x=\"58\" y=\"-119.3\" font-family=\"Helvetica,sans-Serif\" font-size=\"14.00\">class = Sherry</text>\r\n",
       "</g>\r\n",
       "<!-- 1&#45;&gt;2 -->\r\n",
       "<g id=\"edge2\" class=\"edge\"><title>1&#45;&gt;2</title>\r\n",
       "<path fill=\"none\" stroke=\"black\" d=\"M146.815,-222.907C133.091,-211.101 118.115,-198.217 104.437,-186.45\"/>\r\n",
       "<polygon fill=\"black\" stroke=\"black\" points=\"106.416,-183.535 96.553,-179.667 101.851,-188.842 106.416,-183.535\"/>\r\n",
       "</g>\r\n",
       "<!-- 3 -->\r\n",
       "<g id=\"node4\" class=\"node\"><title>3</title>\r\n",
       "<path fill=\"#8139e5\" stroke=\"black\" d=\"M243.5,-179.5C243.5,-179.5 146.5,-179.5 146.5,-179.5 140.5,-179.5 134.5,-173.5 134.5,-167.5 134.5,-167.5 134.5,-123.5 134.5,-123.5 134.5,-117.5 140.5,-111.5 146.5,-111.5 146.5,-111.5 243.5,-111.5 243.5,-111.5 249.5,-111.5 255.5,-117.5 255.5,-123.5 255.5,-123.5 255.5,-167.5 255.5,-167.5 255.5,-173.5 249.5,-179.5 243.5,-179.5\"/>\r\n",
       "<text text-anchor=\"middle\" x=\"195\" y=\"-164.3\" font-family=\"Helvetica,sans-Serif\" font-size=\"14.00\">entropy = 0.0</text>\r\n",
       "<text text-anchor=\"middle\" x=\"195\" y=\"-149.3\" font-family=\"Helvetica,sans-Serif\" font-size=\"14.00\">samples = 34</text>\r\n",
       "<text text-anchor=\"middle\" x=\"195\" y=\"-134.3\" font-family=\"Helvetica,sans-Serif\" font-size=\"14.00\">value = [0, 0, 34]</text>\r\n",
       "<text text-anchor=\"middle\" x=\"195\" y=\"-119.3\" font-family=\"Helvetica,sans-Serif\" font-size=\"14.00\">class = Votka</text>\r\n",
       "</g>\r\n",
       "<!-- 1&#45;&gt;3 -->\r\n",
       "<g id=\"edge3\" class=\"edge\"><title>1&#45;&gt;3</title>\r\n",
       "<path fill=\"none\" stroke=\"black\" d=\"M194.347,-222.907C194.438,-212.204 194.537,-200.615 194.63,-189.776\"/>\r\n",
       "<polygon fill=\"black\" stroke=\"black\" points=\"198.131,-189.697 194.717,-179.667 191.131,-189.637 198.131,-189.697\"/>\r\n",
       "</g>\r\n",
       "<!-- 5 -->\r\n",
       "<g id=\"node6\" class=\"node\"><title>5</title>\r\n",
       "<path fill=\"#3ee684\" stroke=\"black\" d=\"M384.5,-187C384.5,-187 287.5,-187 287.5,-187 281.5,-187 275.5,-181 275.5,-175 275.5,-175 275.5,-116 275.5,-116 275.5,-110 281.5,-104 287.5,-104 287.5,-104 384.5,-104 384.5,-104 390.5,-104 396.5,-110 396.5,-116 396.5,-116 396.5,-175 396.5,-175 396.5,-181 390.5,-187 384.5,-187\"/>\r\n",
       "<text text-anchor=\"middle\" x=\"336\" y=\"-171.8\" font-family=\"Helvetica,sans-Serif\" font-size=\"14.00\">X[5] &lt;= 2.63</text>\r\n",
       "<text text-anchor=\"middle\" x=\"336\" y=\"-156.8\" font-family=\"Helvetica,sans-Serif\" font-size=\"14.00\">entropy = 0.169</text>\r\n",
       "<text text-anchor=\"middle\" x=\"336\" y=\"-141.8\" font-family=\"Helvetica,sans-Serif\" font-size=\"14.00\">samples = 40</text>\r\n",
       "<text text-anchor=\"middle\" x=\"336\" y=\"-126.8\" font-family=\"Helvetica,sans-Serif\" font-size=\"14.00\">value = [1, 39, 0]</text>\r\n",
       "<text text-anchor=\"middle\" x=\"336\" y=\"-111.8\" font-family=\"Helvetica,sans-Serif\" font-size=\"14.00\">class = Sherry</text>\r\n",
       "</g>\r\n",
       "<!-- 4&#45;&gt;5 -->\r\n",
       "<g id=\"edge5\" class=\"edge\"><title>4&#45;&gt;5</title>\r\n",
       "<path fill=\"none\" stroke=\"black\" d=\"M336.653,-222.907C336.582,-214.649 336.507,-205.864 336.434,-197.302\"/>\r\n",
       "<polygon fill=\"black\" stroke=\"black\" points=\"339.932,-196.99 336.346,-187.021 332.932,-197.05 339.932,-196.99\"/>\r\n",
       "</g>\r\n",
       "<!-- 8 -->\r\n",
       "<g id=\"node9\" class=\"node\"><title>8</title>\r\n",
       "<path fill=\"#e68843\" stroke=\"black\" d=\"M523.5,-187C523.5,-187 426.5,-187 426.5,-187 420.5,-187 414.5,-181 414.5,-175 414.5,-175 414.5,-116 414.5,-116 414.5,-110 420.5,-104 426.5,-104 426.5,-104 523.5,-104 523.5,-104 529.5,-104 535.5,-110 535.5,-116 535.5,-116 535.5,-175 535.5,-175 535.5,-181 529.5,-187 523.5,-187\"/>\r\n",
       "<text text-anchor=\"middle\" x=\"475\" y=\"-171.8\" font-family=\"Helvetica,sans-Serif\" font-size=\"14.00\">X[12] &lt;= 987.5</text>\r\n",
       "<text text-anchor=\"middle\" x=\"475\" y=\"-156.8\" font-family=\"Helvetica,sans-Serif\" font-size=\"14.00\">entropy = 0.286</text>\r\n",
       "<text text-anchor=\"middle\" x=\"475\" y=\"-141.8\" font-family=\"Helvetica,sans-Serif\" font-size=\"14.00\">samples = 40</text>\r\n",
       "<text text-anchor=\"middle\" x=\"475\" y=\"-126.8\" font-family=\"Helvetica,sans-Serif\" font-size=\"14.00\">value = [38, 2, 0]</text>\r\n",
       "<text text-anchor=\"middle\" x=\"475\" y=\"-111.8\" font-family=\"Helvetica,sans-Serif\" font-size=\"14.00\">class = Jin</text>\r\n",
       "</g>\r\n",
       "<!-- 4&#45;&gt;8 -->\r\n",
       "<g id=\"edge8\" class=\"edge\"><title>4&#45;&gt;8</title>\r\n",
       "<path fill=\"none\" stroke=\"black\" d=\"M384.878,-222.907C396.011,-213.469 407.954,-203.343 419.388,-193.649\"/>\r\n",
       "<polygon fill=\"black\" stroke=\"black\" points=\"421.842,-196.157 427.206,-187.021 417.315,-190.818 421.842,-196.157\"/>\r\n",
       "</g>\r\n",
       "<!-- 6 -->\r\n",
       "<g id=\"node7\" class=\"node\"><title>6</title>\r\n",
       "<path fill=\"#39e581\" stroke=\"black\" d=\"M248.5,-68C248.5,-68 151.5,-68 151.5,-68 145.5,-68 139.5,-62 139.5,-56 139.5,-56 139.5,-12 139.5,-12 139.5,-6 145.5,-0 151.5,-0 151.5,-0 248.5,-0 248.5,-0 254.5,-0 260.5,-6 260.5,-12 260.5,-12 260.5,-56 260.5,-56 260.5,-62 254.5,-68 248.5,-68\"/>\r\n",
       "<text text-anchor=\"middle\" x=\"200\" y=\"-52.8\" font-family=\"Helvetica,sans-Serif\" font-size=\"14.00\">entropy = 0.0</text>\r\n",
       "<text text-anchor=\"middle\" x=\"200\" y=\"-37.8\" font-family=\"Helvetica,sans-Serif\" font-size=\"14.00\">samples = 30</text>\r\n",
       "<text text-anchor=\"middle\" x=\"200\" y=\"-22.8\" font-family=\"Helvetica,sans-Serif\" font-size=\"14.00\">value = [0, 30, 0]</text>\r\n",
       "<text text-anchor=\"middle\" x=\"200\" y=\"-7.8\" font-family=\"Helvetica,sans-Serif\" font-size=\"14.00\">class = Sherry</text>\r\n",
       "</g>\r\n",
       "<!-- 5&#45;&gt;6 -->\r\n",
       "<g id=\"edge6\" class=\"edge\"><title>5&#45;&gt;6</title>\r\n",
       "<path fill=\"none\" stroke=\"black\" d=\"M285.359,-103.726C273.577,-94.2406 261.051,-84.1551 249.327,-74.7159\"/>\r\n",
       "<polygon fill=\"black\" stroke=\"black\" points=\"251.343,-71.8448 241.358,-68.2996 246.953,-77.2972 251.343,-71.8448\"/>\r\n",
       "</g>\r\n",
       "<!-- 7 -->\r\n",
       "<g id=\"node8\" class=\"node\"><title>7</title>\r\n",
       "<path fill=\"#4fe88f\" stroke=\"black\" d=\"M383,-68C383,-68 291,-68 291,-68 285,-68 279,-62 279,-56 279,-56 279,-12 279,-12 279,-6 285,-0 291,-0 291,-0 383,-0 383,-0 389,-0 395,-6 395,-12 395,-12 395,-56 395,-56 395,-62 389,-68 383,-68\"/>\r\n",
       "<text text-anchor=\"middle\" x=\"337\" y=\"-52.8\" font-family=\"Helvetica,sans-Serif\" font-size=\"14.00\">entropy = 0.469</text>\r\n",
       "<text text-anchor=\"middle\" x=\"337\" y=\"-37.8\" font-family=\"Helvetica,sans-Serif\" font-size=\"14.00\">samples = 10</text>\r\n",
       "<text text-anchor=\"middle\" x=\"337\" y=\"-22.8\" font-family=\"Helvetica,sans-Serif\" font-size=\"14.00\">value = [1, 9, 0]</text>\r\n",
       "<text text-anchor=\"middle\" x=\"337\" y=\"-7.8\" font-family=\"Helvetica,sans-Serif\" font-size=\"14.00\">class = Sherry</text>\r\n",
       "</g>\r\n",
       "<!-- 5&#45;&gt;7 -->\r\n",
       "<g id=\"edge7\" class=\"edge\"><title>5&#45;&gt;7</title>\r\n",
       "<path fill=\"none\" stroke=\"black\" d=\"M336.372,-103.726C336.447,-95.5175 336.526,-86.8595 336.602,-78.56\"/>\r\n",
       "<polygon fill=\"black\" stroke=\"black\" points=\"340.104,-78.3312 336.696,-68.2996 333.105,-78.2672 340.104,-78.3312\"/>\r\n",
       "</g>\r\n",
       "<!-- 9 -->\r\n",
       "<g id=\"node10\" class=\"node\"><title>9</title>\r\n",
       "<path fill=\"#eca06a\" stroke=\"black\" d=\"M519,-68C519,-68 427,-68 427,-68 421,-68 415,-62 415,-56 415,-56 415,-12 415,-12 415,-6 421,-0 427,-0 427,-0 519,-0 519,-0 525,-0 531,-6 531,-12 531,-12 531,-56 531,-56 531,-62 525,-68 519,-68\"/>\r\n",
       "<text text-anchor=\"middle\" x=\"473\" y=\"-52.8\" font-family=\"Helvetica,sans-Serif\" font-size=\"14.00\">entropy = 0.722</text>\r\n",
       "<text text-anchor=\"middle\" x=\"473\" y=\"-37.8\" font-family=\"Helvetica,sans-Serif\" font-size=\"14.00\">samples = 10</text>\r\n",
       "<text text-anchor=\"middle\" x=\"473\" y=\"-22.8\" font-family=\"Helvetica,sans-Serif\" font-size=\"14.00\">value = [8, 2, 0]</text>\r\n",
       "<text text-anchor=\"middle\" x=\"473\" y=\"-7.8\" font-family=\"Helvetica,sans-Serif\" font-size=\"14.00\">class = Jin</text>\r\n",
       "</g>\r\n",
       "<!-- 8&#45;&gt;9 -->\r\n",
       "<g id=\"edge9\" class=\"edge\"><title>8&#45;&gt;9</title>\r\n",
       "<path fill=\"none\" stroke=\"black\" d=\"M474.255,-103.726C474.105,-95.5175 473.947,-86.8595 473.796,-78.56\"/>\r\n",
       "<polygon fill=\"black\" stroke=\"black\" points=\"477.29,-78.234 473.608,-68.2996 470.292,-78.3619 477.29,-78.234\"/>\r\n",
       "</g>\r\n",
       "<!-- 10 -->\r\n",
       "<g id=\"node11\" class=\"node\"><title>10</title>\r\n",
       "<path fill=\"#e58139\" stroke=\"black\" d=\"M658.5,-68C658.5,-68 561.5,-68 561.5,-68 555.5,-68 549.5,-62 549.5,-56 549.5,-56 549.5,-12 549.5,-12 549.5,-6 555.5,-0 561.5,-0 561.5,-0 658.5,-0 658.5,-0 664.5,-0 670.5,-6 670.5,-12 670.5,-12 670.5,-56 670.5,-56 670.5,-62 664.5,-68 658.5,-68\"/>\r\n",
       "<text text-anchor=\"middle\" x=\"610\" y=\"-52.8\" font-family=\"Helvetica,sans-Serif\" font-size=\"14.00\">entropy = 0.0</text>\r\n",
       "<text text-anchor=\"middle\" x=\"610\" y=\"-37.8\" font-family=\"Helvetica,sans-Serif\" font-size=\"14.00\">samples = 30</text>\r\n",
       "<text text-anchor=\"middle\" x=\"610\" y=\"-22.8\" font-family=\"Helvetica,sans-Serif\" font-size=\"14.00\">value = [30, 0, 0]</text>\r\n",
       "<text text-anchor=\"middle\" x=\"610\" y=\"-7.8\" font-family=\"Helvetica,sans-Serif\" font-size=\"14.00\">class = Jin</text>\r\n",
       "</g>\r\n",
       "<!-- 8&#45;&gt;10 -->\r\n",
       "<g id=\"edge10\" class=\"edge\"><title>8&#45;&gt;10</title>\r\n",
       "<path fill=\"none\" stroke=\"black\" d=\"M525.269,-103.726C536.964,-94.2406 549.398,-84.1551 561.035,-74.7159\"/>\r\n",
       "<polygon fill=\"black\" stroke=\"black\" points=\"563.384,-77.3173 568.946,-68.2996 558.974,-71.8808 563.384,-77.3173\"/>\r\n",
       "</g>\r\n",
       "</g>\r\n",
       "</svg>\r\n"
      ],
      "text/plain": [
       "<graphviz.files.Source at 0x1dd987d1c10>"
      ]
     },
     "execution_count": 17,
     "metadata": {},
     "output_type": "execute_result"
    }
   ],
   "source": [
    "import graphviz\n",
    "dot_data = tree.export_graphviz(clf,class_names=['Jin','Sherry','Votka'],filled=True,rounded=True)\n",
    "graph = graphviz.Source(dot_data)\n",
    "graph"
   ]
  },
  {
   "cell_type": "code",
   "execution_count": 18,
   "id": "410138d8",
   "metadata": {},
   "outputs": [
    {
     "data": {
      "text/plain": [
       "array([0.        , 0.        , 0.        , 0.        , 0.        ,\n",
       "       0.01156153, 0.46295597, 0.        , 0.        , 0.15444077,\n",
       "       0.        , 0.        , 0.37104172])"
      ]
     },
     "execution_count": 18,
     "metadata": {},
     "output_type": "execute_result"
    }
   ],
   "source": [
    "clf.feature_importances_"
   ]
  },
  {
   "cell_type": "code",
   "execution_count": 19,
   "id": "2b09a77c",
   "metadata": {},
   "outputs": [
    {
     "data": {
      "text/plain": [
       "[('alcohol', 0.0),\n",
       " ('malic_acid', 0.0),\n",
       " ('ash', 0.0),\n",
       " ('alcalinity_of_ash', 0.0),\n",
       " ('magnesium', 0.0),\n",
       " ('total_phenols', 0.011561531187438336),\n",
       " ('flavanoids', 0.4629559743881524),\n",
       " ('nonflavanoid_phenols', 0.0),\n",
       " ('proanthocyanins', 0.0),\n",
       " ('color_intensity', 0.1544407728517851),\n",
       " ('hue', 0.0),\n",
       " ('od280/od315_of_diluted_wines', 0.0),\n",
       " ('proline', 0.37104172157262416)]"
      ]
     },
     "execution_count": 19,
     "metadata": {},
     "output_type": "execute_result"
    }
   ],
   "source": [
    "[*zip(wine.feature_names, clf.feature_importances_)]"
   ]
  },
  {
   "cell_type": "code",
   "execution_count": 20,
   "id": "8ea37bc1",
   "metadata": {},
   "outputs": [
    {
     "data": {
      "text/plain": [
       "array([1, 0, 0, 2, 0, 2, 0, 1, 1, 0, 2, 1, 2, 1, 1, 1, 1, 2, 1, 0, 1, 0,\n",
       "       1, 2, 1, 0, 2, 0, 1, 0, 0, 2, 2, 1, 1, 0, 0, 1, 1, 0, 2, 0, 1, 0,\n",
       "       0, 1, 0, 0, 2, 0, 2, 0, 2, 2])"
      ]
     },
     "execution_count": 20,
     "metadata": {},
     "output_type": "execute_result"
    }
   ],
   "source": [
    "clf.predict(X_test)"
   ]
  },
  {
   "cell_type": "code",
   "execution_count": 21,
   "id": "abf29f52",
   "metadata": {},
   "outputs": [
    {
     "data": {
      "text/plain": [
       "array([ 6,  9,  9,  3,  9,  3, 10,  6,  2, 10,  3,  6,  3,  7,  6,  6,  7,\n",
       "        3,  6, 10,  6, 10,  6,  3,  7,  9,  3, 10,  7, 10,  9,  3,  3,  6,\n",
       "        7, 10, 10,  2,  2, 10,  3, 10,  6, 10, 10,  2,  9,  9,  3, 10,  3,\n",
       "       10,  3,  3], dtype=int64)"
      ]
     },
     "execution_count": 21,
     "metadata": {},
     "output_type": "execute_result"
    }
   ],
   "source": [
    "clf.apply(X_test)"
   ]
  },
  {
   "cell_type": "code",
   "execution_count": 24,
   "id": "7281e81b",
   "metadata": {},
   "outputs": [],
   "source": [
    "# 探究分类树在合成数集上的表现\n",
    "import numpy as np\n",
    "import matplotlib.pyplot as plt\n",
    "from matplotlib.colors import ListedColormap\n",
    "from sklearn.preprocessing import StandardScaler\n",
    "from sklearn.datasets import make_moons, make_circles, make_classification"
   ]
  },
  {
   "cell_type": "code",
   "execution_count": 26,
   "id": "19a3157e",
   "metadata": {},
   "outputs": [],
   "source": [
    "# make_classification库生成随机的二分类数据\n",
    "x,y = make_classification(n_samples=100\n",
    "                         ,n_features=2\n",
    "                         ,n_redundant=0\n",
    "                         ,n_informative=2\n",
    "                         ,random_state=1\n",
    "                         ,n_clusters_per_class=1)"
   ]
  },
  {
   "cell_type": "code",
   "execution_count": 28,
   "id": "e50ff2b2",
   "metadata": {},
   "outputs": [
    {
     "data": {
      "text/plain": [
       "(100, 2)"
      ]
     },
     "execution_count": 28,
     "metadata": {},
     "output_type": "execute_result"
    }
   ],
   "source": [
    "x.shape"
   ]
  },
  {
   "cell_type": "code",
   "execution_count": 29,
   "id": "01309481",
   "metadata": {},
   "outputs": [
    {
     "data": {
      "text/plain": [
       "array([1, 0, 0, 1, 1, 1, 0, 1, 0, 1, 0, 0, 0, 0, 0, 0, 1, 1, 1, 1, 1, 0,\n",
       "       1, 0, 0, 1, 0, 0, 0, 1, 1, 1, 1, 0, 0, 1, 0, 0, 0, 0, 1, 1, 0, 0,\n",
       "       1, 0, 1, 1, 0, 1, 1, 0, 1, 1, 1, 0, 0, 0, 1, 1, 0, 0, 1, 0, 0, 1,\n",
       "       0, 0, 0, 1, 0, 0, 0, 1, 1, 1, 0, 1, 1, 1, 0, 0, 0, 1, 1, 1, 0, 1,\n",
       "       1, 1, 0, 1, 0, 0, 1, 0, 1, 1, 0, 1])"
      ]
     },
     "execution_count": 29,
     "metadata": {},
     "output_type": "execute_result"
    }
   ],
   "source": [
    "y"
   ]
  },
  {
   "cell_type": "code",
   "execution_count": 30,
   "id": "0d05c058",
   "metadata": {},
   "outputs": [
    {
     "data": {
      "text/plain": [
       "<matplotlib.collections.PathCollection at 0x1dd99e5a130>"
      ]
     },
     "execution_count": 30,
     "metadata": {},
     "output_type": "execute_result"
    },
    {
     "data": {
      "image/png": "[encoded data removed]",
      "text/plain": [
       "<Figure size 432x288 with 1 Axes>"
      ]
     },
     "metadata": {
      "needs_background": "light"
     },
     "output_type": "display_data"
    }
   ],
   "source": [
    "plt.scatter(x[:,0],x[:,1])"
   ]
  },
  {
   "cell_type": "code",
   "execution_count": 32,
   "id": "575616ba",
   "metadata": {},
   "outputs": [],
   "source": [
    "rng = np.random.RandomState(2)\n",
    "x += 2*rng.uniform(size=x.shape)\n",
    "linearly_seperate = (x,y)"
   ]
  },
  {
   "cell_type": "code",
   "execution_count": 33,
   "id": "883a8777",
   "metadata": {},
   "outputs": [
    {
     "data": {
      "text/plain": [
       "<matplotlib.collections.PathCollection at 0x1dd99f60850>"
      ]
     },
     "execution_count": 33,
     "metadata": {},
     "output_type": "execute_result"
    },
    {
     "data": {
      "image/png": "[encoded data removed]",
      "text/plain": [
       "<Figure size 432x288 with 1 Axes>"
      ]
     },
     "metadata": {
      "needs_background": "light"
     },
     "output_type": "display_data"
    }
   ],
   "source": [
    "plt.scatter(x[:,0],x[:,1])"
   ]
  },
  {
   "cell_type": "code",
   "execution_count": 34,
   "id": "36283e52",
   "metadata": {},
   "outputs": [],
   "source": [
    "datasets = [make_moons(noise=0.3, random_state=0),\n",
    "           make_circles(noise=0.2, factor=0.5, random_state=1),\n",
    "           linearly_seperate]"
   ]
  },
  {
   "cell_type": "code",
   "execution_count": null,
   "id": "1d5d1347",
   "metadata": {},
   "outputs": [],
   "source": [
    "figure = plt.figure(6,9)\n",
    "i = 1\n",
    "\n",
    "for ds_index, ds in enumerate(datasets):\n",
    "    x,y = ds\n",
    "    x = StandardScaler().fit_transform(x)\n",
    "    X_train, X_test, y_train, y_test = train_test_split(x,y, test_size=.4,random_state=42)\n",
    "    \n",
    "    x1_min, x1_max = x[:,0].min()-0.5, x[:,0].max()+0.5\n",
    "    x2_min, x2_max = x[:,1].min()-0.5, x[:,1].max()+0.5\n",
    "    \n",
    "    "
   ]
  }
 ],
 "metadata": {
  "kernelspec": {
   "display_name": "Python 3 (ipykernel)",
   "language": "python",
   "name": "python3"
  },
  "language_info": {
   "codemirror_mode": {
    "name": "ipython",
    "version": 3
   },
   "file_extension": ".py",
   "mimetype": "text/x-python",
   "name": "python",
   "nbconvert_exporter": "python",
   "pygments_lexer": "ipython3",
   "version": "3.9.7"
  }
 },
 "nbformat": 4,
 "nbformat_minor": 5
}
