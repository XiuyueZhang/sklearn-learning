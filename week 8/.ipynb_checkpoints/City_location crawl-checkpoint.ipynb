{
 "cells": [
  {
   "cell_type": "code",
   "execution_count": 9,
   "id": "5576e7b9",
   "metadata": {},
   "outputs": [],
   "source": [
    "import time\n",
    "from selenium import webdriver\n",
    "import pandas as pd \n",
    "import numpy as np"
   ]
  },
  {
   "cell_type": "code",
   "execution_count": 49,
   "id": "48a4dd3a",
   "metadata": {},
   "outputs": [
    {
     "name": "stderr",
     "output_type": "stream",
     "text": [
      "C:\\Users\\OEM\\AppData\\Local\\Temp/ipykernel_6976/732597220.py:3: DeprecationWarning: executable_path has been deprecated, please pass in a Service object\n",
      "  driver = webdriver.Chrome(executable_path='C:\\Program Files (x86)\\Google\\Chrome\\Application\\chromedriver.exe')\n",
      "C:\\Users\\OEM\\AppData\\Local\\Temp/ipykernel_6976/732597220.py:9: DeprecationWarning: find_element_by_name is deprecated. Please use find_element(by=By.NAME, value=name) instead\n",
      "  search_box = driver.find_element_by_name('q')\n",
      "C:\\Users\\OEM\\AppData\\Local\\Temp/ipykernel_6976/732597220.py:13: DeprecationWarning: find_element_by_xpath is deprecated. Please use find_element(by=By.XPATH, value=xpath) instead\n",
      "  result = driver.find_element_by_xpath('/html/body/div[7]/div/div[10]/div[1]/div[2]/div[2]/div/div/div[1]/block-component/div/div[1]/div[1]/div/div/div[1]/div/div/div[2]/div/div/div/div[1]').text\n"
     ]
    },
    {
     "ename": "NoSuchElementException",
     "evalue": "Message: no such element: Unable to locate element: {\"method\":\"xpath\",\"selector\":\"/html/body/div[7]/div/div[10]/div[1]/div[2]/div[2]/div/div/div[1]/block-component/div/div[1]/div[1]/div/div/div[1]/div/div/div[2]/div/div/div/div[1]\"}\n  (Session info: chrome=103.0.5060.114)\nStacktrace:\nBacktrace:\n\tOrdinal0 [0x00806463+2188387]\n\tOrdinal0 [0x0079E461+1762401]\n\tOrdinal0 [0x006B3D78+802168]\n\tOrdinal0 [0x006E1880+989312]\n\tOrdinal0 [0x006E1B1B+989979]\n\tOrdinal0 [0x0070E912+1173778]\n\tOrdinal0 [0x006FC824+1099812]\n\tOrdinal0 [0x0070CC22+1166370]\n\tOrdinal0 [0x006FC5F6+1099254]\n\tOrdinal0 [0x006D6BE0+945120]\n\tOrdinal0 [0x006D7AD6+948950]\n\tGetHandleVerifier [0x00AA71F2+2712546]\n\tGetHandleVerifier [0x00A9886D+2652765]\n\tGetHandleVerifier [0x0089002A+520730]\n\tGetHandleVerifier [0x0088EE06+516086]\n\tOrdinal0 [0x007A468B+1787531]\n\tOrdinal0 [0x007A8E88+1805960]\n\tOrdinal0 [0x007A8F75+1806197]\n\tOrdinal0 [0x007B1DF1+1842673]\n\tBaseThreadInitThunk [0x76B1FA29+25]\n\tRtlGetAppContainerNamedObjectPath [0x77CF7A9E+286]\n\tRtlGetAppContainerNamedObjectPath [0x77CF7A6E+238]\n",
     "output_type": "error",
     "traceback": [
      "\u001b[1;31m---------------------------------------------------------------------------\u001b[0m",
      "\u001b[1;31mNoSuchElementException\u001b[0m                    Traceback (most recent call last)",
      "\u001b[1;32m~\\AppData\\Local\\Temp/ipykernel_6976/732597220.py\u001b[0m in \u001b[0;36m<module>\u001b[1;34m\u001b[0m\n\u001b[0;32m     11\u001b[0m     \u001b[0msearch_box\u001b[0m\u001b[1;33m.\u001b[0m\u001b[0msubmit\u001b[0m\u001b[1;33m(\u001b[0m\u001b[1;33m)\u001b[0m\u001b[1;33m\u001b[0m\u001b[1;33m\u001b[0m\u001b[0m\n\u001b[0;32m     12\u001b[0m \u001b[1;33m\u001b[0m\u001b[0m\n\u001b[1;32m---> 13\u001b[1;33m     \u001b[0mresult\u001b[0m \u001b[1;33m=\u001b[0m \u001b[0mdriver\u001b[0m\u001b[1;33m.\u001b[0m\u001b[0mfind_element_by_xpath\u001b[0m\u001b[1;33m(\u001b[0m\u001b[1;34m'/html/body/div[7]/div/div[10]/div[1]/div[2]/div[2]/div/div/div[1]/block-component/div/div[1]/div[1]/div/div/div[1]/div/div/div[2]/div/div/div/div[1]'\u001b[0m\u001b[1;33m)\u001b[0m\u001b[1;33m.\u001b[0m\u001b[0mtext\u001b[0m\u001b[1;33m\u001b[0m\u001b[1;33m\u001b[0m\u001b[0m\n\u001b[0m\u001b[0;32m     14\u001b[0m \u001b[1;33m\u001b[0m\u001b[0m\n\u001b[0;32m     15\u001b[0m \u001b[1;33m\u001b[0m\u001b[0m\n",
      "\u001b[1;32mD:\\ISO\\Anoconda\\lib\\site-packages\\selenium\\webdriver\\remote\\webdriver.py\u001b[0m in \u001b[0;36mfind_element_by_xpath\u001b[1;34m(self, xpath)\u001b[0m\n\u001b[0;32m    524\u001b[0m             \u001b[0mstacklevel\u001b[0m\u001b[1;33m=\u001b[0m\u001b[1;36m2\u001b[0m\u001b[1;33m,\u001b[0m\u001b[1;33m\u001b[0m\u001b[1;33m\u001b[0m\u001b[0m\n\u001b[0;32m    525\u001b[0m         )\n\u001b[1;32m--> 526\u001b[1;33m         \u001b[1;32mreturn\u001b[0m \u001b[0mself\u001b[0m\u001b[1;33m.\u001b[0m\u001b[0mfind_element\u001b[0m\u001b[1;33m(\u001b[0m\u001b[0mby\u001b[0m\u001b[1;33m=\u001b[0m\u001b[0mBy\u001b[0m\u001b[1;33m.\u001b[0m\u001b[0mXPATH\u001b[0m\u001b[1;33m,\u001b[0m \u001b[0mvalue\u001b[0m\u001b[1;33m=\u001b[0m\u001b[0mxpath\u001b[0m\u001b[1;33m)\u001b[0m\u001b[1;33m\u001b[0m\u001b[1;33m\u001b[0m\u001b[0m\n\u001b[0m\u001b[0;32m    527\u001b[0m \u001b[1;33m\u001b[0m\u001b[0m\n\u001b[0;32m    528\u001b[0m     \u001b[1;32mdef\u001b[0m \u001b[0mfind_elements_by_xpath\u001b[0m\u001b[1;33m(\u001b[0m\u001b[0mself\u001b[0m\u001b[1;33m,\u001b[0m \u001b[0mxpath\u001b[0m\u001b[1;33m)\u001b[0m \u001b[1;33m->\u001b[0m \u001b[0mList\u001b[0m\u001b[1;33m[\u001b[0m\u001b[0mWebElement\u001b[0m\u001b[1;33m]\u001b[0m\u001b[1;33m:\u001b[0m\u001b[1;33m\u001b[0m\u001b[1;33m\u001b[0m\u001b[0m\n",
      "\u001b[1;32mD:\\ISO\\Anoconda\\lib\\site-packages\\selenium\\webdriver\\remote\\webdriver.py\u001b[0m in \u001b[0;36mfind_element\u001b[1;34m(self, by, value)\u001b[0m\n\u001b[0;32m   1249\u001b[0m             \u001b[0mvalue\u001b[0m \u001b[1;33m=\u001b[0m \u001b[1;34m'[name=\"%s\"]'\u001b[0m \u001b[1;33m%\u001b[0m \u001b[0mvalue\u001b[0m\u001b[1;33m\u001b[0m\u001b[1;33m\u001b[0m\u001b[0m\n\u001b[0;32m   1250\u001b[0m \u001b[1;33m\u001b[0m\u001b[0m\n\u001b[1;32m-> 1251\u001b[1;33m         return self.execute(Command.FIND_ELEMENT, {\n\u001b[0m\u001b[0;32m   1252\u001b[0m             \u001b[1;34m'using'\u001b[0m\u001b[1;33m:\u001b[0m \u001b[0mby\u001b[0m\u001b[1;33m,\u001b[0m\u001b[1;33m\u001b[0m\u001b[1;33m\u001b[0m\u001b[0m\n\u001b[0;32m   1253\u001b[0m             'value': value})['value']\n",
      "\u001b[1;32mD:\\ISO\\Anoconda\\lib\\site-packages\\selenium\\webdriver\\remote\\webdriver.py\u001b[0m in \u001b[0;36mexecute\u001b[1;34m(self, driver_command, params)\u001b[0m\n\u001b[0;32m    428\u001b[0m         \u001b[0mresponse\u001b[0m \u001b[1;33m=\u001b[0m \u001b[0mself\u001b[0m\u001b[1;33m.\u001b[0m\u001b[0mcommand_executor\u001b[0m\u001b[1;33m.\u001b[0m\u001b[0mexecute\u001b[0m\u001b[1;33m(\u001b[0m\u001b[0mdriver_command\u001b[0m\u001b[1;33m,\u001b[0m \u001b[0mparams\u001b[0m\u001b[1;33m)\u001b[0m\u001b[1;33m\u001b[0m\u001b[1;33m\u001b[0m\u001b[0m\n\u001b[0;32m    429\u001b[0m         \u001b[1;32mif\u001b[0m \u001b[0mresponse\u001b[0m\u001b[1;33m:\u001b[0m\u001b[1;33m\u001b[0m\u001b[1;33m\u001b[0m\u001b[0m\n\u001b[1;32m--> 430\u001b[1;33m             \u001b[0mself\u001b[0m\u001b[1;33m.\u001b[0m\u001b[0merror_handler\u001b[0m\u001b[1;33m.\u001b[0m\u001b[0mcheck_response\u001b[0m\u001b[1;33m(\u001b[0m\u001b[0mresponse\u001b[0m\u001b[1;33m)\u001b[0m\u001b[1;33m\u001b[0m\u001b[1;33m\u001b[0m\u001b[0m\n\u001b[0m\u001b[0;32m    431\u001b[0m             response['value'] = self._unwrap_value(\n\u001b[0;32m    432\u001b[0m                 response.get('value', None))\n",
      "\u001b[1;32mD:\\ISO\\Anoconda\\lib\\site-packages\\selenium\\webdriver\\remote\\errorhandler.py\u001b[0m in \u001b[0;36mcheck_response\u001b[1;34m(self, response)\u001b[0m\n\u001b[0;32m    245\u001b[0m                 \u001b[0malert_text\u001b[0m \u001b[1;33m=\u001b[0m \u001b[0mvalue\u001b[0m\u001b[1;33m[\u001b[0m\u001b[1;34m'alert'\u001b[0m\u001b[1;33m]\u001b[0m\u001b[1;33m.\u001b[0m\u001b[0mget\u001b[0m\u001b[1;33m(\u001b[0m\u001b[1;34m'text'\u001b[0m\u001b[1;33m)\u001b[0m\u001b[1;33m\u001b[0m\u001b[1;33m\u001b[0m\u001b[0m\n\u001b[0;32m    246\u001b[0m             \u001b[1;32mraise\u001b[0m \u001b[0mexception_class\u001b[0m\u001b[1;33m(\u001b[0m\u001b[0mmessage\u001b[0m\u001b[1;33m,\u001b[0m \u001b[0mscreen\u001b[0m\u001b[1;33m,\u001b[0m \u001b[0mstacktrace\u001b[0m\u001b[1;33m,\u001b[0m \u001b[0malert_text\u001b[0m\u001b[1;33m)\u001b[0m  \u001b[1;31m# type: ignore[call-arg]  # mypy is not smart enough here\u001b[0m\u001b[1;33m\u001b[0m\u001b[1;33m\u001b[0m\u001b[0m\n\u001b[1;32m--> 247\u001b[1;33m         \u001b[1;32mraise\u001b[0m \u001b[0mexception_class\u001b[0m\u001b[1;33m(\u001b[0m\u001b[0mmessage\u001b[0m\u001b[1;33m,\u001b[0m \u001b[0mscreen\u001b[0m\u001b[1;33m,\u001b[0m \u001b[0mstacktrace\u001b[0m\u001b[1;33m)\u001b[0m\u001b[1;33m\u001b[0m\u001b[1;33m\u001b[0m\u001b[0m\n\u001b[0m\u001b[0;32m    248\u001b[0m \u001b[1;33m\u001b[0m\u001b[0m\n\u001b[0;32m    249\u001b[0m     \u001b[1;32mdef\u001b[0m \u001b[0m_value_or_default\u001b[0m\u001b[1;33m(\u001b[0m\u001b[0mself\u001b[0m\u001b[1;33m,\u001b[0m \u001b[0mobj\u001b[0m\u001b[1;33m:\u001b[0m \u001b[0mMapping\u001b[0m\u001b[1;33m[\u001b[0m\u001b[0m_KT\u001b[0m\u001b[1;33m,\u001b[0m \u001b[0m_VT\u001b[0m\u001b[1;33m]\u001b[0m\u001b[1;33m,\u001b[0m \u001b[0mkey\u001b[0m\u001b[1;33m:\u001b[0m \u001b[0m_KT\u001b[0m\u001b[1;33m,\u001b[0m \u001b[0mdefault\u001b[0m\u001b[1;33m:\u001b[0m \u001b[0m_VT\u001b[0m\u001b[1;33m)\u001b[0m \u001b[1;33m->\u001b[0m \u001b[0m_VT\u001b[0m\u001b[1;33m:\u001b[0m\u001b[1;33m\u001b[0m\u001b[1;33m\u001b[0m\u001b[0m\n",
      "\u001b[1;31mNoSuchElementException\u001b[0m: Message: no such element: Unable to locate element: {\"method\":\"xpath\",\"selector\":\"/html/body/div[7]/div/div[10]/div[1]/div[2]/div[2]/div/div/div[1]/block-component/div/div[1]/div[1]/div/div/div[1]/div/div/div[2]/div/div/div/div[1]\"}\n  (Session info: chrome=103.0.5060.114)\nStacktrace:\nBacktrace:\n\tOrdinal0 [0x00806463+2188387]\n\tOrdinal0 [0x0079E461+1762401]\n\tOrdinal0 [0x006B3D78+802168]\n\tOrdinal0 [0x006E1880+989312]\n\tOrdinal0 [0x006E1B1B+989979]\n\tOrdinal0 [0x0070E912+1173778]\n\tOrdinal0 [0x006FC824+1099812]\n\tOrdinal0 [0x0070CC22+1166370]\n\tOrdinal0 [0x006FC5F6+1099254]\n\tOrdinal0 [0x006D6BE0+945120]\n\tOrdinal0 [0x006D7AD6+948950]\n\tGetHandleVerifier [0x00AA71F2+2712546]\n\tGetHandleVerifier [0x00A9886D+2652765]\n\tGetHandleVerifier [0x0089002A+520730]\n\tGetHandleVerifier [0x0088EE06+516086]\n\tOrdinal0 [0x007A468B+1787531]\n\tOrdinal0 [0x007A8E88+1805960]\n\tOrdinal0 [0x007A8F75+1806197]\n\tOrdinal0 [0x007B1DF1+1842673]\n\tBaseThreadInitThunk [0x76B1FA29+25]\n\tRtlGetAppContainerNamedObjectPath [0x77CF7A9E+286]\n\tRtlGetAppContainerNamedObjectPath [0x77CF7A6E+238]\n"
     ]
    }
   ],
   "source": [
    "df = pd.DataFrame(index=range(len(cityname)))\n",
    "\n",
    "driver = webdriver.Chrome(executable_path='C:\\Program Files (x86)\\Google\\Chrome\\Application\\chromedriver.exe')\n",
    "time0 = time.time()\n",
    "for num, city in enumerate(cityname):\n",
    "    driver.get('https://www.google.co.nz/')\n",
    "    \n",
    "    time.sleep(0.3)\n",
    "    search_box = driver.find_element_by_name('q')\n",
    "    search_box.send_keys('{} Australia Latitude and longitude'.format(city))\n",
    "    search_box.submit()\n",
    "    \n",
    "    result = driver.find_element_by_xpath('/html/body/div[7]/div/div[10]/div[1]/div[2]/div[2]/div/div/div[1]/block-component/div/div[1]/div[1]/div/div/div[1]/div/div/div[2]/div/div/div/div[1]').text\n",
    "                                           \n",
    "    \n",
    "    resultsplit = result.split(\" \")\n",
    "    df.loc[num,'city'] = city\n",
    "    df.loc[num,'Latitude'] = resultsplit[0]\n",
    "    df.loc[num,'Longitude'] = resultsplit[2]\n",
    "    df.loc[num,'Latitudedir'] = resultsplit[1]\n",
    "    df.loc[num,'Longitudedir'] = resultsplit[3]\n",
    "    print('{} webcrawler successfuld for city {}'.format(num,city))\n",
    "    \n",
    "time.sleep(1)\n",
    "driver.quit()\n",
    "print(time.time()-time0)"
   ]
  },
  {
   "cell_type": "code",
   "execution_count": 40,
   "id": "dbc89100",
   "metadata": {},
   "outputs": [
    {
     "data": {
      "text/html": [
       "<div>\n",
       "<style scoped>\n",
       "    .dataframe tbody tr th:only-of-type {\n",
       "        vertical-align: middle;\n",
       "    }\n",
       "\n",
       "    .dataframe tbody tr th {\n",
       "        vertical-align: top;\n",
       "    }\n",
       "\n",
       "    .dataframe thead th {\n",
       "        text-align: right;\n",
       "    }\n",
       "</style>\n",
       "<table border=\"1\" class=\"dataframe\">\n",
       "  <thead>\n",
       "    <tr style=\"text-align: right;\">\n",
       "      <th></th>\n",
       "      <th>City</th>\n",
       "      <th>Climate</th>\n",
       "    </tr>\n",
       "  </thead>\n",
       "  <tbody>\n",
       "    <tr>\n",
       "      <th>0</th>\n",
       "      <td>Exmouth</td>\n",
       "      <td>high humidity summer, warm winter</td>\n",
       "    </tr>\n",
       "    <tr>\n",
       "      <th>1</th>\n",
       "      <td>Dampier</td>\n",
       "      <td>high humidity summer, warm winter</td>\n",
       "    </tr>\n",
       "    <tr>\n",
       "      <th>2</th>\n",
       "      <td>Port Hedland</td>\n",
       "      <td>high humidity summer, warm winter</td>\n",
       "    </tr>\n",
       "    <tr>\n",
       "      <th>3</th>\n",
       "      <td>Broome</td>\n",
       "      <td>high humidity summer, warm winter</td>\n",
       "    </tr>\n",
       "    <tr>\n",
       "      <th>4</th>\n",
       "      <td>Derby</td>\n",
       "      <td>high humidity summer, warm winter</td>\n",
       "    </tr>\n",
       "  </tbody>\n",
       "</table>\n",
       "</div>"
      ],
      "text/plain": [
       "           City                            Climate\n",
       "0       Exmouth  high humidity summer, warm winter\n",
       "1       Dampier  high humidity summer, warm winter\n",
       "2  Port Hedland  high humidity summer, warm winter\n",
       "3        Broome  high humidity summer, warm winter\n",
       "4         Derby  high humidity summer, warm winter"
      ]
     },
     "execution_count": 40,
     "metadata": {},
     "output_type": "execute_result"
    }
   ],
   "source": [
    "cityname = pd.read_csv('Climate-zone-map-aust.csv',encoding='cp1252')\n",
    "cityname.head()"
   ]
  },
  {
   "cell_type": "code",
   "execution_count": 46,
   "id": "80e01110",
   "metadata": {},
   "outputs": [
    {
     "ename": "AttributeError",
     "evalue": "'list' object has no attribute 'iloc'",
     "output_type": "error",
     "traceback": [
      "\u001b[1;31m---------------------------------------------------------------------------\u001b[0m",
      "\u001b[1;31mAttributeError\u001b[0m                            Traceback (most recent call last)",
      "\u001b[1;32m~\\AppData\\Local\\Temp/ipykernel_6976/3261439859.py\u001b[0m in \u001b[0;36m<module>\u001b[1;34m\u001b[0m\n\u001b[1;32m----> 1\u001b[1;33m \u001b[0mcityname\u001b[0m \u001b[1;33m=\u001b[0m \u001b[0mcityname\u001b[0m\u001b[1;33m.\u001b[0m\u001b[0miloc\u001b[0m\u001b[1;33m[\u001b[0m\u001b[1;33m:\u001b[0m\u001b[1;33m,\u001b[0m\u001b[1;36m0\u001b[0m\u001b[1;33m]\u001b[0m\u001b[1;33m.\u001b[0m\u001b[0mtolist\u001b[0m\u001b[1;33m(\u001b[0m\u001b[1;33m)\u001b[0m\u001b[1;33m\u001b[0m\u001b[1;33m\u001b[0m\u001b[0m\n\u001b[0m\u001b[0;32m      2\u001b[0m \u001b[0mcityname\u001b[0m\u001b[1;33m\u001b[0m\u001b[1;33m\u001b[0m\u001b[0m\n",
      "\u001b[1;31mAttributeError\u001b[0m: 'list' object has no attribute 'iloc'"
     ]
    }
   ],
   "source": [
    "cityname = cityname.iloc[:,0].tolist()"
   ]
  },
  {
   "cell_type": "code",
   "execution_count": 47,
   "id": "ed64ab85",
   "metadata": {},
   "outputs": [
    {
     "data": {
      "text/plain": [
       "['Exmouth',\n",
       " 'Dampier',\n",
       " 'Port Hedland',\n",
       " 'Broome',\n",
       " 'Derby',\n",
       " 'Wyndham',\n",
       " 'Timber Creek',\n",
       " 'Katherine',\n",
       " 'Darwin',\n",
       " 'Oenoelli',\n",
       " 'Nhulunbuy',\n",
       " 'Borroloola',\n",
       " 'Burketown',\n",
       " 'Weipa',\n",
       " 'Cooktown',\n",
       " 'Cairns',\n",
       " 'Christmas Island',\n",
       " 'Cocos Island',\n",
       " 'Karratha',\n",
       " 'Townsville',\n",
       " 'Carnarvon',\n",
       " 'Gascoyne Junction',\n",
       " 'Newman',\n",
       " 'Telfer',\n",
       " 'Yulara',\n",
       " 'Kulgera',\n",
       " 'Alice Springs',\n",
       " 'Tennant Creek',\n",
       " 'Elliot',\n",
       " 'Mount Isa',\n",
       " 'Birdsville',\n",
       " 'Longreach',\n",
       " 'Charieville',\n",
       " 'Thargomindah',\n",
       " 'Taroom',\n",
       " 'Goondiwindi',\n",
       " 'Mackay',\n",
       " 'Rockhampton',\n",
       " 'Maryborough',\n",
       " 'Brisbane',\n",
       " 'Coffs Harbour',\n",
       " 'Yalgoo',\n",
       " 'Wiluna',\n",
       " 'Warburton',\n",
       " 'Merredin',\n",
       " 'Newdegate',\n",
       " 'Kalgoorlie-Boulder',\n",
       " 'Norseman',\n",
       " 'Amata',\n",
       " 'Dodnadatta',\n",
       " 'Coober Pedy',\n",
       " 'Innamincka',\n",
       " 'Tibooburra',\n",
       " 'Broken Hill',\n",
       " 'Mildura',\n",
       " 'Bourke',\n",
       " 'Ivanhoe',\n",
       " 'Griffith',\n",
       " 'Albury Wodonga',\n",
       " 'Dubbo',\n",
       " 'Tamworth',\n",
       " 'Geraldton',\n",
       " 'Perth',\n",
       " 'Bunbury',\n",
       " 'Margaret River',\n",
       " 'Esperance',\n",
       " 'Eucia',\n",
       " 'Nullarbor',\n",
       " 'Ceduna',\n",
       " 'Port Lincoin',\n",
       " 'Whyalla',\n",
       " 'Leigh Creek',\n",
       " 'Adelalde',\n",
       " 'Renmark',\n",
       " 'Port Macquarie',\n",
       " 'Newcastle',\n",
       " 'Sydney',\n",
       " 'Wollongong',\n",
       " 'Albany',\n",
       " 'Burra',\n",
       " 'Kingscote',\n",
       " 'Kingston SE',\n",
       " 'Mount Gambier',\n",
       " 'Lakes Entrance',\n",
       " 'Melbourne',\n",
       " 'Shepparton',\n",
       " 'Bathurst',\n",
       " 'Canberra',\n",
       " 'Ballarat',\n",
       " 'Armidale',\n",
       " 'Ballarat',\n",
       " 'Bellingen Shire – Dorrigo Plateau',\n",
       " 'Goulburn',\n",
       " 'Orange',\n",
       " 'Bicheno',\n",
       " 'Deloraine',\n",
       " 'Devonport',\n",
       " 'Flinders Island',\n",
       " 'Hobart',\n",
       " 'Huonville',\n",
       " 'King Island',\n",
       " 'Launceston',\n",
       " 'New Norfolk',\n",
       " 'Oatlands',\n",
       " 'Orford',\n",
       " 'Rossarden',\n",
       " 'Smithton',\n",
       " 'St Marys',\n",
       " 'Zeehan',\n",
       " 'Ararat',\n",
       " 'Bright',\n",
       " 'Hamilton',\n",
       " 'Wangaratta']"
      ]
     },
     "execution_count": 47,
     "metadata": {},
     "output_type": "execute_result"
    }
   ],
   "source": [
    "cityname"
   ]
  }
 ],
 "metadata": {
  "kernelspec": {
   "display_name": "Python 3 (ipykernel)",
   "language": "python",
   "name": "python3"
  },
  "language_info": {
   "codemirror_mode": {
    "name": "ipython",
    "version": 3
   },
   "file_extension": ".py",
   "mimetype": "text/x-python",
   "name": "python",
   "nbconvert_exporter": "python",
   "pygments_lexer": "ipython3",
   "version": "3.9.7"
  }
 },
 "nbformat": 4,
 "nbformat_minor": 5
}
