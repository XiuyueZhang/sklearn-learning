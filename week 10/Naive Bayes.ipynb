{
 "cells": [
  {
   "cell_type": "code",
   "execution_count": 1,
   "id": "01672b05",
   "metadata": {},
   "outputs": [
    {
     "name": "stdout",
     "output_type": "stream",
     "text": [
      "Microsoft Windows [Version 10.0.19043.1826]\r\n",
      "(c) Microsoft Corporation. All rights reserved.\r\n",
      "\r\n",
      "C:\\Users\\OEM\\Desktop\\Yue\\Data Analyst\\Sklearn\\coding practice\\week 10>pip install watermark\n",
      "Collecting watermark\r\n",
      "  Downloading watermark-2.3.1-py2.py3-none-any.whl (7.2 kB)\r\n",
      "Requirement already satisfied: ipython in d:\\iso\\anoconda\\lib\\site-packages (from watermark) (7.29.0)\r\n",
      "Requirement already satisfied: prompt-toolkit!=3.0.0,!=3.0.1,<3.1.0,>=2.0.0 in d:\\iso\\anoconda\\lib\\site-packages (from ipython->watermark) (3.0.20)\r\n",
      "Requirement already satisfied: matplotlib-inline in d:\\iso\\anoconda\\lib\\site-packages (from ipython->watermark) (0.1.2)\r\n",
      "Requirement already satisfied: setuptools>=18.5 in d:\\iso\\anoconda\\lib\\site-packages (from ipython->watermark) (58.0.4)\r\n",
      "Requirement already satisfied: decorator in d:\\iso\\anoconda\\lib\\site-packages (from ipython->watermark) (5.1.0)\r\n",
      "Requirement already satisfied: traitlets>=4.2 in d:\\iso\\anoconda\\lib\\site-packages (from ipython->watermark) (5.1.0)\r\n",
      "Requirement already satisfied: pickleshare in d:\\iso\\anoconda\\lib\\site-packages (from ipython->watermark) (0.7.5)\r\n",
      "Requirement already satisfied: backcall in d:\\iso\\anoconda\\lib\\site-packages (from ipython->watermark) (0.2.0)\r\n",
      "Requirement already satisfied: pygments in d:\\iso\\anoconda\\lib\\site-packages (from ipython->watermark) (2.10.0)\r\n",
      "Requirement already satisfied: jedi>=0.16 in d:\\iso\\anoconda\\lib\\site-packages (from ipython->watermark) (0.18.0)\r\n",
      "Requirement already satisfied: colorama in d:\\iso\\anoconda\\lib\\site-packages (from ipython->watermark) (0.4.4)\r\n",
      "Requirement already satisfied: parso<0.9.0,>=0.8.0 in d:\\iso\\anoconda\\lib\\site-packages (from jedi>=0.16->ipython->watermark) (0.8.2)\r\n",
      "Requirement already satisfied: wcwidth in d:\\iso\\anoconda\\lib\\site-packages (from prompt-toolkit!=3.0.0,!=3.0.1,<3.1.0,>=2.0.0->ipython->watermark) (0.2.5)\r\n",
      "Installing collected packages: watermark\r\n",
      "Successfully installed watermark-2.3.1\r\n",
      "\r\n",
      "C:\\Users\\OEM\\Desktop\\Yue\\Data Analyst\\Sklearn\\coding practice\\week 10>"
     ]
    }
   ],
   "source": [
    "%%cmd\n",
    "pip install watermark"
   ]
  },
  {
   "cell_type": "code",
   "execution_count": 31,
   "id": "6360495a",
   "metadata": {},
   "outputs": [],
   "source": [
    "%load_ext watermark"
   ]
  },
  {
   "cell_type": "code",
   "execution_count": 32,
   "id": "ff3a3a2f",
   "metadata": {},
   "outputs": [
    {
     "name": "stdout",
     "output_type": "stream",
     "text": [
      "Author: Sunny\n",
      "\n",
      "Python implementation: CPython\n",
      "Python version       : 3.9.7\n",
      "IPython version      : 7.29.0\n",
      "\n",
      "numpy     : 1.20.3\n",
      "pandas    : 1.3.4\n",
      "matplotlib: 3.4.3\n",
      "scipy     : 1.7.1\n",
      "sklearn   : 0.0\n",
      "\n",
      "Compiler    : MSC v.1916 64 bit (AMD64)\n",
      "OS          : Windows\n",
      "Release     : 10\n",
      "Machine     : AMD64\n",
      "Processor   : Intel64 Family 6 Model 158 Stepping 10, GenuineIntel\n",
      "CPU cores   : 12\n",
      "Architecture: 64bit\n",
      "\n"
     ]
    }
   ],
   "source": [
    "%watermark -a 'Sunny' -d -v -m -p numpy,pandas,matplotlib,scipy,sklearn"
   ]
  },
  {
   "cell_type": "code",
   "execution_count": 33,
   "id": "8f2691c0",
   "metadata": {},
   "outputs": [
    {
     "name": "stdout",
     "output_type": "stream",
     "text": [
      "0.24.2\n"
     ]
    }
   ],
   "source": [
    "import sklearn\n",
    "print(sklearn.__version__)"
   ]
  },
  {
   "cell_type": "code",
   "execution_count": 1,
   "id": "48f7521a",
   "metadata": {},
   "outputs": [],
   "source": [
    "import numpy as np\n",
    "import pandas as pd\n",
    "import matplotlib.pyplot as plt\n",
    "from sklearn.naive_bayes import GaussianNB\n",
    "from sklearn.datasets import load_digits\n",
    "from sklearn.model_selection import train_test_split\n",
    "from sklearn.svm import SVC\n",
    "from sklearn.ensemble import RandomForestClassifier as RFC\n",
    "from sklearn.tree import DecisionTreeClassifier as DTC\n",
    "from sklearn.linear_model import LogisticRegression as LR\n",
    "from sklearn.model_selection import learning_curve\n",
    "from sklearn.model_selection import ShuffleSplit\n",
    "from time import time\n",
    "import datetime"
   ]
  },
  {
   "cell_type": "code",
   "execution_count": 2,
   "id": "76195503",
   "metadata": {},
   "outputs": [],
   "source": [
    "digits = load_digits()\n",
    "X, y = digits.data, digits.target\n",
    "\n",
    "X_train, X_test, y_train, y_test = train_test_split(X, y, test_size=0.3, random_state=420)"
   ]
  },
  {
   "cell_type": "code",
   "execution_count": 10,
   "id": "86bf5d89",
   "metadata": {},
   "outputs": [
    {
     "data": {
      "text/plain": [
       "(1257, 64)"
      ]
     },
     "execution_count": 10,
     "metadata": {},
     "output_type": "execute_result"
    }
   ],
   "source": [
    "X_train.shape"
   ]
  },
  {
   "cell_type": "code",
   "execution_count": 13,
   "id": "f5053b92",
   "metadata": {},
   "outputs": [
    {
     "data": {
      "text/plain": [
       "array([0, 1, 2, 3, 4, 5, 6, 7, 8, 9])"
      ]
     },
     "execution_count": 13,
     "metadata": {},
     "output_type": "execute_result"
    }
   ],
   "source": [
    "np.unique(y_train)"
   ]
  },
  {
   "cell_type": "markdown",
   "id": "83c24f19",
   "metadata": {},
   "source": [
    "## GaussianNB model"
   ]
  },
  {
   "cell_type": "code",
   "execution_count": 3,
   "id": "e8c0bdcf",
   "metadata": {},
   "outputs": [],
   "source": [
    "gnb = GaussianNB().fit(X_train, y_train)"
   ]
  },
  {
   "cell_type": "code",
   "execution_count": 4,
   "id": "b3a635b3",
   "metadata": {},
   "outputs": [],
   "source": [
    "# Method: score(X_test, y_test) mean accuracy\n",
    "acc_score = gnb.score(X_test, y_test)"
   ]
  },
  {
   "cell_type": "code",
   "execution_count": 5,
   "id": "db7a21f0",
   "metadata": {},
   "outputs": [
    {
     "data": {
      "text/plain": [
       "0.8592592592592593"
      ]
     },
     "execution_count": 5,
     "metadata": {},
     "output_type": "execute_result"
    }
   ],
   "source": [
    "acc_score"
   ]
  },
  {
   "cell_type": "code",
   "execution_count": 6,
   "id": "fc0efa2e",
   "metadata": {},
   "outputs": [],
   "source": [
    "# Method: predict(X_test) Perform classification on an array of test vectors X\n",
    "y_pred = gnb.predict(X_test)"
   ]
  },
  {
   "cell_type": "code",
   "execution_count": 22,
   "id": "a3dba624",
   "metadata": {},
   "outputs": [
    {
     "data": {
      "text/plain": [
       "array([6, 1, 3, 0, 4, 5, 0, 8, 3, 8, 6, 8, 7, 8, 8, 8, 5, 9, 5, 6, 5, 4,\n",
       "       7, 4, 8, 2, 7, 2, 8, 9, 2, 8, 3, 6, 0, 3, 8, 8, 1, 5, 2, 8, 8, 9,\n",
       "       2, 2, 0, 7, 3, 6, 7, 2, 8, 0, 5, 4, 1, 9, 4, 0, 5, 8, 9, 1, 7, 8,\n",
       "       7, 5, 8, 2, 4, 4, 8, 2, 6, 1, 2, 1, 7, 8, 8, 5, 9, 4, 3, 6, 9, 7,\n",
       "       4, 2, 4, 8, 0, 5, 7, 7, 7, 4, 7, 8, 8, 7, 0, 7, 2, 1, 9, 9, 8, 7,\n",
       "       1, 5, 1, 8, 0, 4, 8, 9, 5, 6, 4, 8, 3, 8, 0, 6, 8, 6, 7, 6, 1, 8,\n",
       "       5, 0, 8, 2, 1, 8, 8, 6, 6, 0, 2, 4, 7, 8, 9, 5, 9, 4, 7, 8, 8, 6,\n",
       "       7, 0, 8, 4, 7, 2, 2, 6, 4, 4, 1, 0, 3, 4, 3, 8, 7, 0, 6, 9, 7, 5,\n",
       "       5, 3, 6, 1, 6, 6, 2, 3, 8, 2, 7, 3, 1, 1, 6, 8, 8, 8, 7, 7, 2, 5,\n",
       "       0, 0, 8, 6, 6, 7, 6, 0, 7, 5, 5, 8, 4, 6, 5, 1, 5, 1, 9, 6, 8, 8,\n",
       "       8, 2, 4, 8, 6, 5, 9, 9, 3, 1, 9, 1, 3, 3, 5, 5, 7, 7, 4, 0, 9, 0,\n",
       "       9, 9, 6, 4, 3, 4, 8, 1, 0, 2, 9, 7, 6, 8, 8, 0, 6, 0, 1, 7, 1, 9,\n",
       "       5, 4, 6, 8, 1, 5, 7, 7, 5, 1, 0, 0, 9, 3, 9, 1, 6, 3, 7, 2, 7, 1,\n",
       "       9, 9, 8, 3, 3, 5, 7, 7, 7, 3, 9, 5, 0, 7, 5, 5, 1, 4, 9, 2, 0, 6,\n",
       "       3, 0, 8, 7, 2, 8, 1, 6, 4, 1, 2, 5, 7, 1, 4, 9, 5, 4, 2, 3, 5, 9,\n",
       "       8, 0, 0, 0, 0, 4, 2, 0, 6, 6, 8, 7, 1, 1, 8, 1, 1, 7, 8, 7, 8, 3,\n",
       "       1, 4, 6, 1, 8, 1, 6, 6, 7, 2, 8, 5, 3, 2, 1, 8, 7, 8, 5, 1, 7, 2,\n",
       "       1, 1, 7, 8, 9, 5, 0, 4, 7, 8, 8, 9, 5, 5, 8, 5, 5, 8, 1, 0, 4, 3,\n",
       "       8, 2, 8, 5, 7, 6, 9, 9, 5, 8, 9, 9, 1, 8, 6, 4, 3, 3, 3, 3, 0, 8,\n",
       "       0, 7, 7, 6, 0, 8, 9, 8, 3, 6, 6, 8, 7, 5, 8, 4, 5, 8, 6, 7, 6, 7,\n",
       "       7, 8, 0, 8, 2, 2, 0, 5, 7, 3, 0, 2, 8, 2, 0, 2, 3, 6, 8, 1, 7, 5,\n",
       "       7, 1, 7, 7, 2, 7, 5, 2, 6, 5, 8, 0, 0, 8, 1, 3, 7, 6, 1, 5, 6, 2,\n",
       "       0, 1, 5, 7, 8, 0, 3, 5, 0, 7, 5, 4, 4, 1, 5, 9, 5, 3, 7, 1, 7, 3,\n",
       "       5, 8, 5, 8, 5, 6, 1, 6, 7, 4, 3, 7, 0, 5, 4, 9, 3, 3, 6, 3, 5, 2,\n",
       "       9, 8, 9, 3, 9, 7, 3, 4, 9, 4, 3, 1])"
      ]
     },
     "execution_count": 22,
     "metadata": {},
     "output_type": "execute_result"
    }
   ],
   "source": [
    "y_pred"
   ]
  },
  {
   "cell_type": "code",
   "execution_count": 9,
   "id": "46d71354",
   "metadata": {},
   "outputs": [],
   "source": [
    "# Method: predict_proba(X) Return probability estimates for the test vector X.\n",
    "prob = gnb.predict_proba(X_test)"
   ]
  },
  {
   "cell_type": "code",
   "execution_count": 10,
   "id": "f4ae3e6f",
   "metadata": {},
   "outputs": [
    {
     "data": {
      "text/plain": [
       "array([[0.00000000e+000, 4.69391744e-052, 1.74871280e-098, ...,\n",
       "        0.00000000e+000, 4.19588993e-033, 1.51751459e-119],\n",
       "       [0.00000000e+000, 1.00000000e+000, 9.26742456e-013, ...,\n",
       "        0.00000000e+000, 0.00000000e+000, 0.00000000e+000],\n",
       "       [0.00000000e+000, 0.00000000e+000, 3.73608152e-026, ...,\n",
       "        0.00000000e+000, 1.29541754e-039, 5.54684869e-077],\n",
       "       ...,\n",
       "       [0.00000000e+000, 2.43314963e-047, 4.82483668e-305, ...,\n",
       "        2.31612692e-008, 1.23891596e-126, 2.87896140e-257],\n",
       "       [0.00000000e+000, 8.26462929e-129, 4.99150558e-012, ...,\n",
       "        0.00000000e+000, 4.01802372e-003, 6.19000712e-013],\n",
       "       [0.00000000e+000, 9.99929965e-001, 1.45462767e-013, ...,\n",
       "        5.05856094e-005, 1.94498169e-005, 3.42317317e-042]])"
      ]
     },
     "execution_count": 10,
     "metadata": {},
     "output_type": "execute_result"
    }
   ],
   "source": [
    "prob"
   ]
  },
  {
   "cell_type": "code",
   "execution_count": 25,
   "id": "4366456c",
   "metadata": {},
   "outputs": [
    {
     "data": {
      "text/plain": [
       "(540, 10)"
      ]
     },
     "execution_count": 25,
     "metadata": {},
     "output_type": "execute_result"
    }
   ],
   "source": [
    "prob.shape #每一列对应一个标签类别下的概率（标签为0-9的概率分别是多少）"
   ]
  },
  {
   "cell_type": "code",
   "execution_count": 27,
   "id": "fa5d7e7e",
   "metadata": {},
   "outputs": [
    {
     "data": {
      "text/plain": [
       "1.000000000000003"
      ]
     },
     "execution_count": 27,
     "metadata": {},
     "output_type": "execute_result"
    }
   ],
   "source": [
    "prob[1,:].sum() # Sum of every row and column should be 1"
   ]
  },
  {
   "cell_type": "code",
   "execution_count": 24,
   "id": "cc7c2c69",
   "metadata": {},
   "outputs": [],
   "source": [
    "from sklearn.metrics import confusion_matrix as CM"
   ]
  },
  {
   "cell_type": "code",
   "execution_count": 25,
   "id": "68a5bc01",
   "metadata": {},
   "outputs": [
    {
     "data": {
      "text/plain": [
       "array([[47,  0,  0,  0,  0,  0,  0,  1,  0,  0],\n",
       "       [ 0, 46,  2,  0,  0,  0,  0,  3,  6,  2],\n",
       "       [ 0,  2, 35,  0,  0,  0,  1,  0, 16,  0],\n",
       "       [ 0,  0,  1, 40,  0,  1,  0,  3,  4,  0],\n",
       "       [ 0,  0,  1,  0, 39,  0,  1,  4,  0,  0],\n",
       "       [ 0,  0,  0,  2,  0, 58,  1,  1,  1,  0],\n",
       "       [ 0,  0,  1,  0,  0,  1, 49,  0,  0,  0],\n",
       "       [ 0,  0,  0,  0,  0,  0,  0, 54,  0,  0],\n",
       "       [ 0,  3,  0,  1,  0,  0,  0,  2, 55,  0],\n",
       "       [ 1,  1,  0,  1,  2,  0,  0,  3,  7, 41]], dtype=int64)"
      ]
     },
     "execution_count": 25,
     "metadata": {},
     "output_type": "execute_result"
    }
   ],
   "source": [
    "CM(y_test, y_pred)\n",
    "# 多分类情况下不能用ROC曲线\n",
    "# 多分类情况下，最佳的模型评估指标就是混淆矩阵和整体的准确度"
   ]
  },
  {
   "cell_type": "code",
   "execution_count": 5,
   "id": "f82e44ad",
   "metadata": {},
   "outputs": [],
   "source": [
    "clf = GaussianNB()"
   ]
  },
  {
   "cell_type": "code",
   "execution_count": 7,
   "id": "caa8380a",
   "metadata": {},
   "outputs": [],
   "source": [
    "cv = ShuffleSplit(n_splits=50  #数据分成50份\n",
    "                 ,test_size=0.2  #其中20%作为训练集\n",
    "                 ,random_state=0\n",
    "                 )"
   ]
  },
  {
   "cell_type": "code",
   "execution_count": 8,
   "id": "a29520a1",
   "metadata": {},
   "outputs": [],
   "source": [
    "train_sizes, train_scores, test_scores = learning_curve(clf   #分类器\n",
    "                                                       ,X, y\n",
    "                                                       ,cv=cv   #交叉验证模式\n",
    "                                                       ,n_jobs=6)"
   ]
  },
  {
   "cell_type": "code",
   "execution_count": 9,
   "id": "3dbfaa24",
   "metadata": {},
   "outputs": [
    {
     "data": {
      "text/plain": [
       "array([ 143,  467,  790, 1113, 1437])"
      ]
     },
     "execution_count": 9,
     "metadata": {},
     "output_type": "execute_result"
    }
   ],
   "source": [
    "train_sizes"
   ]
  },
  {
   "cell_type": "code",
   "execution_count": 11,
   "id": "e198d5a6",
   "metadata": {},
   "outputs": [
    {
     "data": {
      "text/plain": [
       "(5, 50)"
      ]
     },
     "execution_count": 11,
     "metadata": {},
     "output_type": "execute_result"
    }
   ],
   "source": [
    "train_scores.shape"
   ]
  },
  {
   "cell_type": "code",
   "execution_count": 12,
   "id": "6b4f914f",
   "metadata": {},
   "outputs": [
    {
     "data": {
      "text/plain": [
       "(5, 50)"
      ]
     },
     "execution_count": 12,
     "metadata": {},
     "output_type": "execute_result"
    }
   ],
   "source": [
    "test_scores.shape"
   ]
  },
  {
   "cell_type": "code",
   "execution_count": 15,
   "id": "b7d51022",
   "metadata": {},
   "outputs": [],
   "source": [
    "def plot_learning_curve(estimator,title, X,y\n",
    "                       ,ax\n",
    "                       ,ylim=None\n",
    "                       ,cv=None\n",
    "                       ,n_jobs=None\n",
    "                       ):\n",
    "    train_sizes, train_scores, test_scores = learning_curve(estimator\n",
    "                                                       ,X, y\n",
    "                                                       ,cv=cv   #交叉验证模式\n",
    "                                                       ,n_jobs=n_jobs)\n",
    "    ax.set_title(title)\n",
    "    if ylim is not None:\n",
    "        ax.set_ylim(*ylim)\n",
    "    ax.set_xlabel('Trainging Examples')\n",
    "    ax.set_ylabel('Score')\n",
    "    ax.grid()   # Show grid as background\n",
    "    ax.plot(train_sizes, np.mean(train_scores, axis=1), 'o-'\n",
    "           ,color='r',label='trainging score')\n",
    "    ax.plot(train_sizes, np.mean(test_scores, axis=1), 'o-'\n",
    "           ,color='g',label='testing score')\n",
    "    ax.legend(loc='best')\n",
    "    return ax"
   ]
  },
  {
   "cell_type": "code",
   "execution_count": 16,
   "id": "2e1f427c",
   "metadata": {},
   "outputs": [],
   "source": [
    "title = ['Naive Bayes', 'Decision Tree', 'SVC, rbf kernel', 'Random Forest','Logistic']\n",
    "model = [GaussianNB(), DTC(),SVC(gamma=0.001)\n",
    "        ,RFC(n_estimators=50), LR(C=0.1,solver='lbfgs')]\n",
    "cv = ShuffleSplit(n_splits=50,test_size=0.2,random_state=0)"
   ]
  },
  {
   "cell_type": "code",
   "execution_count": null,
   "id": "53d77925",
   "metadata": {},
   "outputs": [],
   "source": [
    "fig, ax = plt.subplots(1,5,figsize=(30,6))\n",
    "for ind, title_, estimator in zip(range(len(title)), title, model):\n",
    "    times = time()\n",
    "    plot_learning_curve(estimator,title_, X,y\n",
    "                       ,ax[ind]\n",
    "                       ,ylim=[0.7,1.05]\n",
    "                       ,cv=cv\n",
    "                       ,n_jobs=6\n",
    "                       )\n",
    "    print(\"{}:{}\".format(title_,datetime.datetime.fromtimestamp(time()-times).strftime('%M:%S:%f')))\n",
    "plt.show()"
   ]
  },
  {
   "cell_type": "markdown",
   "id": "49099d57",
   "metadata": {},
   "source": [
    "## Model Assessment"
   ]
  },
  {
   "cell_type": "markdown",
   "id": "c654a2b2",
   "metadata": {},
   "source": [
    "### Brier score 布里尔分数\n",
    "brier_score_loss can only be used in Binary"
   ]
  },
  {
   "cell_type": "code",
   "execution_count": 28,
   "id": "39657cbb",
   "metadata": {},
   "outputs": [],
   "source": [
    "from sklearn.metrics import brier_score_loss"
   ]
  },
  {
   "cell_type": "code",
   "execution_count": 29,
   "id": "46d9b7d0",
   "metadata": {
    "collapsed": true
   },
   "outputs": [
    {
     "ename": "ValueError",
     "evalue": "Only binary classification is supported. The type of the target is multiclass.",
     "output_type": "error",
     "traceback": [
      "\u001b[1;31m---------------------------------------------------------------------------\u001b[0m",
      "\u001b[1;31mValueError\u001b[0m                                Traceback (most recent call last)",
      "\u001b[1;32m~\\AppData\\Local\\Temp/ipykernel_10912/1141733390.py\u001b[0m in \u001b[0;36m<module>\u001b[1;34m\u001b[0m\n\u001b[1;32m----> 1\u001b[1;33m \u001b[0mbrier_score_loss\u001b[0m\u001b[1;33m(\u001b[0m\u001b[0my_test\u001b[0m\u001b[1;33m,\u001b[0m \u001b[0mprob\u001b[0m\u001b[1;33m[\u001b[0m\u001b[1;33m:\u001b[0m\u001b[1;33m,\u001b[0m\u001b[1;36m1\u001b[0m\u001b[1;33m]\u001b[0m\u001b[1;33m,\u001b[0m\u001b[0mpos_label\u001b[0m\u001b[1;33m=\u001b[0m\u001b[1;36m1\u001b[0m\u001b[1;33m)\u001b[0m\u001b[1;33m\u001b[0m\u001b[1;33m\u001b[0m\u001b[0m\n\u001b[0m",
      "\u001b[1;32mD:\\ISO\\Anoconda\\lib\\site-packages\\sklearn\\utils\\validation.py\u001b[0m in \u001b[0;36minner_f\u001b[1;34m(*args, **kwargs)\u001b[0m\n\u001b[0;32m     61\u001b[0m             \u001b[0mextra_args\u001b[0m \u001b[1;33m=\u001b[0m \u001b[0mlen\u001b[0m\u001b[1;33m(\u001b[0m\u001b[0margs\u001b[0m\u001b[1;33m)\u001b[0m \u001b[1;33m-\u001b[0m \u001b[0mlen\u001b[0m\u001b[1;33m(\u001b[0m\u001b[0mall_args\u001b[0m\u001b[1;33m)\u001b[0m\u001b[1;33m\u001b[0m\u001b[1;33m\u001b[0m\u001b[0m\n\u001b[0;32m     62\u001b[0m             \u001b[1;32mif\u001b[0m \u001b[0mextra_args\u001b[0m \u001b[1;33m<=\u001b[0m \u001b[1;36m0\u001b[0m\u001b[1;33m:\u001b[0m\u001b[1;33m\u001b[0m\u001b[1;33m\u001b[0m\u001b[0m\n\u001b[1;32m---> 63\u001b[1;33m                 \u001b[1;32mreturn\u001b[0m \u001b[0mf\u001b[0m\u001b[1;33m(\u001b[0m\u001b[1;33m*\u001b[0m\u001b[0margs\u001b[0m\u001b[1;33m,\u001b[0m \u001b[1;33m**\u001b[0m\u001b[0mkwargs\u001b[0m\u001b[1;33m)\u001b[0m\u001b[1;33m\u001b[0m\u001b[1;33m\u001b[0m\u001b[0m\n\u001b[0m\u001b[0;32m     64\u001b[0m \u001b[1;33m\u001b[0m\u001b[0m\n\u001b[0;32m     65\u001b[0m             \u001b[1;31m# extra_args > 0\u001b[0m\u001b[1;33m\u001b[0m\u001b[1;33m\u001b[0m\u001b[0m\n",
      "\u001b[1;32mD:\\ISO\\Anoconda\\lib\\site-packages\\sklearn\\metrics\\_classification.py\u001b[0m in \u001b[0;36mbrier_score_loss\u001b[1;34m(y_true, y_prob, sample_weight, pos_label)\u001b[0m\n\u001b[0;32m   2487\u001b[0m     \u001b[0my_type\u001b[0m \u001b[1;33m=\u001b[0m \u001b[0mtype_of_target\u001b[0m\u001b[1;33m(\u001b[0m\u001b[0my_true\u001b[0m\u001b[1;33m)\u001b[0m\u001b[1;33m\u001b[0m\u001b[1;33m\u001b[0m\u001b[0m\n\u001b[0;32m   2488\u001b[0m     \u001b[1;32mif\u001b[0m \u001b[0my_type\u001b[0m \u001b[1;33m!=\u001b[0m \u001b[1;34m\"binary\"\u001b[0m\u001b[1;33m:\u001b[0m\u001b[1;33m\u001b[0m\u001b[1;33m\u001b[0m\u001b[0m\n\u001b[1;32m-> 2489\u001b[1;33m         raise ValueError(\n\u001b[0m\u001b[0;32m   2490\u001b[0m             \u001b[1;34mf\"Only binary classification is supported. The type of the target \"\u001b[0m\u001b[1;33m\u001b[0m\u001b[1;33m\u001b[0m\u001b[0m\n\u001b[0;32m   2491\u001b[0m             \u001b[1;34mf\"is {y_type}.\"\u001b[0m\u001b[1;33m\u001b[0m\u001b[1;33m\u001b[0m\u001b[0m\n",
      "\u001b[1;31mValueError\u001b[0m: Only binary classification is supported. The type of the target is multiclass."
     ]
    }
   ],
   "source": [
    "brier_score_loss(y_test, prob[:,1],pos_label=1)\n",
    "# 多分类情况下 - 只能求出一个特征的布里尔分数"
   ]
  },
  {
   "cell_type": "code",
   "execution_count": 30,
   "id": "9b1be67c",
   "metadata": {},
   "outputs": [
    {
     "data": {
      "text/plain": [
       "array([6, 1, 3, 0, 4, 5, 0, 8, 3, 9, 6, 8, 7, 8, 2, 2, 5, 9, 5, 6, 5, 4,\n",
       "       7, 4, 8, 2, 7, 2, 2, 9, 2, 1, 3, 6, 0, 3, 8, 2, 1, 5, 2, 8, 8, 9,\n",
       "       2, 2, 0, 7, 3, 6, 7, 2, 8, 0, 5, 4, 1, 9, 4, 0, 5, 8, 9, 1, 7, 2,\n",
       "       3, 5, 8, 2, 4, 4, 8, 6, 5, 1, 2, 1, 7, 1, 2, 5, 9, 4, 3, 6, 9, 4,\n",
       "       4, 2, 4, 8, 0, 5, 7, 7, 7, 4, 7, 8, 9, 8, 0, 3, 2, 1, 9, 9, 9, 7,\n",
       "       1, 5, 9, 8, 0, 9, 8, 1, 5, 6, 4, 3, 3, 8, 0, 6, 8, 6, 4, 6, 1, 8,\n",
       "       5, 0, 8, 2, 1, 8, 8, 6, 6, 0, 1, 4, 7, 8, 9, 5, 9, 4, 7, 9, 8, 6,\n",
       "       7, 0, 8, 4, 7, 1, 2, 4, 4, 9, 1, 0, 3, 4, 3, 8, 7, 0, 6, 9, 7, 5,\n",
       "       5, 5, 6, 1, 6, 6, 2, 3, 8, 2, 7, 3, 1, 1, 6, 8, 2, 8, 7, 5, 2, 5,\n",
       "       0, 0, 3, 6, 6, 7, 6, 0, 4, 5, 5, 2, 4, 6, 5, 1, 5, 1, 9, 6, 2, 8,\n",
       "       8, 2, 4, 1, 6, 5, 9, 9, 3, 8, 9, 1, 3, 3, 5, 5, 8, 7, 4, 0, 9, 0,\n",
       "       9, 9, 6, 4, 3, 4, 8, 1, 0, 2, 9, 1, 6, 8, 8, 0, 6, 0, 1, 7, 1, 9,\n",
       "       5, 4, 6, 8, 1, 5, 7, 7, 5, 1, 0, 0, 9, 3, 1, 1, 6, 3, 7, 2, 4, 2,\n",
       "       9, 9, 8, 3, 3, 5, 7, 7, 9, 3, 9, 5, 0, 7, 5, 5, 1, 4, 9, 2, 0, 6,\n",
       "       3, 0, 8, 7, 2, 8, 1, 6, 4, 1, 2, 5, 7, 1, 4, 9, 5, 4, 2, 3, 5, 9,\n",
       "       5, 0, 0, 0, 0, 4, 2, 0, 2, 6, 2, 7, 1, 1, 9, 1, 2, 7, 8, 0, 2, 3,\n",
       "       1, 4, 6, 1, 9, 1, 6, 6, 7, 2, 8, 5, 9, 2, 1, 3, 7, 2, 5, 1, 9, 2,\n",
       "       8, 1, 7, 8, 9, 5, 0, 4, 7, 8, 1, 9, 5, 3, 8, 5, 5, 3, 1, 0, 4, 3,\n",
       "       8, 4, 8, 5, 7, 6, 9, 9, 5, 2, 9, 9, 1, 8, 6, 4, 3, 3, 3, 3, 0, 8,\n",
       "       0, 7, 9, 6, 0, 8, 9, 8, 3, 6, 6, 8, 7, 5, 8, 4, 5, 8, 6, 7, 6, 7,\n",
       "       7, 2, 0, 9, 2, 2, 0, 5, 7, 3, 9, 2, 8, 2, 0, 3, 3, 6, 2, 1, 7, 5,\n",
       "       7, 1, 7, 7, 2, 7, 5, 2, 6, 5, 1, 0, 0, 2, 8, 3, 3, 6, 1, 5, 6, 2,\n",
       "       0, 1, 5, 1, 8, 0, 3, 5, 0, 7, 6, 4, 4, 1, 5, 9, 5, 3, 7, 1, 1, 3,\n",
       "       5, 8, 5, 1, 5, 6, 1, 6, 7, 4, 3, 7, 0, 5, 4, 9, 5, 8, 6, 3, 5, 2,\n",
       "       9, 8, 9, 3, 9, 7, 3, 4, 9, 4, 3, 1])"
      ]
     },
     "execution_count": 30,
     "metadata": {},
     "output_type": "execute_result"
    }
   ],
   "source": [
    "y_test"
   ]
  },
  {
   "cell_type": "code",
   "execution_count": 38,
   "id": "27f9e05c",
   "metadata": {
    "collapsed": true
   },
   "outputs": [
    {
     "name": "stderr",
     "output_type": "stream",
     "text": [
      "D:\\ISO\\Anoconda\\lib\\site-packages\\sklearn\\linear_model\\_logistic.py:763: ConvergenceWarning: lbfgs failed to converge (status=1):\n",
      "STOP: TOTAL NO. of ITERATIONS REACHED LIMIT.\n",
      "\n",
      "Increase the number of iterations (max_iter) or scale the data as shown in:\n",
      "    https://scikit-learn.org/stable/modules/preprocessing.html\n",
      "Please also refer to the documentation for alternative solver options:\n",
      "    https://scikit-learn.org/stable/modules/linear_model.html#logistic-regression\n",
      "  n_iter_i = _check_optimize_result(\n"
     ]
    },
    {
     "ename": "ValueError",
     "evalue": "Only binary classification is supported. The type of the target is multiclass.",
     "output_type": "error",
     "traceback": [
      "\u001b[1;31m---------------------------------------------------------------------------\u001b[0m",
      "\u001b[1;31mValueError\u001b[0m                                Traceback (most recent call last)",
      "\u001b[1;32m~\\AppData\\Local\\Temp/ipykernel_10912/2340185971.py\u001b[0m in \u001b[0;36m<module>\u001b[1;34m\u001b[0m\n\u001b[0;32m      2\u001b[0m \u001b[0msvc\u001b[0m \u001b[1;33m=\u001b[0m \u001b[0mSVC\u001b[0m\u001b[1;33m(\u001b[0m\u001b[0mkernel\u001b[0m\u001b[1;33m=\u001b[0m\u001b[1;34m'linear'\u001b[0m\u001b[1;33m,\u001b[0m \u001b[0mgamma\u001b[0m\u001b[1;33m=\u001b[0m\u001b[1;36m1\u001b[0m\u001b[1;33m)\u001b[0m\u001b[1;33m.\u001b[0m\u001b[0mfit\u001b[0m\u001b[1;33m(\u001b[0m\u001b[0mX_train\u001b[0m\u001b[1;33m,\u001b[0m \u001b[0my_train\u001b[0m\u001b[1;33m)\u001b[0m\u001b[1;33m\u001b[0m\u001b[1;33m\u001b[0m\u001b[0m\n\u001b[0;32m      3\u001b[0m \u001b[1;33m\u001b[0m\u001b[0m\n\u001b[1;32m----> 4\u001b[1;33m \u001b[0mbrier_score_loss\u001b[0m\u001b[1;33m(\u001b[0m\u001b[0my_test\u001b[0m\u001b[1;33m,\u001b[0m \u001b[0mlogi\u001b[0m\u001b[1;33m.\u001b[0m\u001b[0mpredict_proba\u001b[0m\u001b[1;33m(\u001b[0m\u001b[0mX_test\u001b[0m\u001b[1;33m)\u001b[0m\u001b[1;33m[\u001b[0m\u001b[1;33m:\u001b[0m\u001b[1;33m,\u001b[0m\u001b[1;36m1\u001b[0m\u001b[1;33m]\u001b[0m\u001b[1;33m,\u001b[0m\u001b[0mpos_label\u001b[0m\u001b[1;33m=\u001b[0m\u001b[1;36m1\u001b[0m\u001b[1;33m)\u001b[0m\u001b[1;33m\u001b[0m\u001b[1;33m\u001b[0m\u001b[0m\n\u001b[0m",
      "\u001b[1;32mD:\\ISO\\Anoconda\\lib\\site-packages\\sklearn\\utils\\validation.py\u001b[0m in \u001b[0;36minner_f\u001b[1;34m(*args, **kwargs)\u001b[0m\n\u001b[0;32m     61\u001b[0m             \u001b[0mextra_args\u001b[0m \u001b[1;33m=\u001b[0m \u001b[0mlen\u001b[0m\u001b[1;33m(\u001b[0m\u001b[0margs\u001b[0m\u001b[1;33m)\u001b[0m \u001b[1;33m-\u001b[0m \u001b[0mlen\u001b[0m\u001b[1;33m(\u001b[0m\u001b[0mall_args\u001b[0m\u001b[1;33m)\u001b[0m\u001b[1;33m\u001b[0m\u001b[1;33m\u001b[0m\u001b[0m\n\u001b[0;32m     62\u001b[0m             \u001b[1;32mif\u001b[0m \u001b[0mextra_args\u001b[0m \u001b[1;33m<=\u001b[0m \u001b[1;36m0\u001b[0m\u001b[1;33m:\u001b[0m\u001b[1;33m\u001b[0m\u001b[1;33m\u001b[0m\u001b[0m\n\u001b[1;32m---> 63\u001b[1;33m                 \u001b[1;32mreturn\u001b[0m \u001b[0mf\u001b[0m\u001b[1;33m(\u001b[0m\u001b[1;33m*\u001b[0m\u001b[0margs\u001b[0m\u001b[1;33m,\u001b[0m \u001b[1;33m**\u001b[0m\u001b[0mkwargs\u001b[0m\u001b[1;33m)\u001b[0m\u001b[1;33m\u001b[0m\u001b[1;33m\u001b[0m\u001b[0m\n\u001b[0m\u001b[0;32m     64\u001b[0m \u001b[1;33m\u001b[0m\u001b[0m\n\u001b[0;32m     65\u001b[0m             \u001b[1;31m# extra_args > 0\u001b[0m\u001b[1;33m\u001b[0m\u001b[1;33m\u001b[0m\u001b[0m\n",
      "\u001b[1;32mD:\\ISO\\Anoconda\\lib\\site-packages\\sklearn\\metrics\\_classification.py\u001b[0m in \u001b[0;36mbrier_score_loss\u001b[1;34m(y_true, y_prob, sample_weight, pos_label)\u001b[0m\n\u001b[0;32m   2487\u001b[0m     \u001b[0my_type\u001b[0m \u001b[1;33m=\u001b[0m \u001b[0mtype_of_target\u001b[0m\u001b[1;33m(\u001b[0m\u001b[0my_true\u001b[0m\u001b[1;33m)\u001b[0m\u001b[1;33m\u001b[0m\u001b[1;33m\u001b[0m\u001b[0m\n\u001b[0;32m   2488\u001b[0m     \u001b[1;32mif\u001b[0m \u001b[0my_type\u001b[0m \u001b[1;33m!=\u001b[0m \u001b[1;34m\"binary\"\u001b[0m\u001b[1;33m:\u001b[0m\u001b[1;33m\u001b[0m\u001b[1;33m\u001b[0m\u001b[0m\n\u001b[1;32m-> 2489\u001b[1;33m         raise ValueError(\n\u001b[0m\u001b[0;32m   2490\u001b[0m             \u001b[1;34mf\"Only binary classification is supported. The type of the target \"\u001b[0m\u001b[1;33m\u001b[0m\u001b[1;33m\u001b[0m\u001b[0m\n\u001b[0;32m   2491\u001b[0m             \u001b[1;34mf\"is {y_type}.\"\u001b[0m\u001b[1;33m\u001b[0m\u001b[1;33m\u001b[0m\u001b[0m\n",
      "\u001b[1;31mValueError\u001b[0m: Only binary classification is supported. The type of the target is multiclass."
     ]
    }
   ],
   "source": [
    "logi = LR(C=1, solver='lbfgs', max_iter=1000, multi_class='auto').fit(X_train, y_train)\n",
    "svc = SVC(kernel='linear', gamma=1).fit(X_train, y_train)\n",
    "\n",
    "brier_score_loss(y_test, logi.predict_proba(X_test)[:,1],pos_label=1)"
   ]
  },
  {
   "cell_type": "code",
   "execution_count": 40,
   "id": "53526314",
   "metadata": {},
   "outputs": [],
   "source": [
    "# SVC的置信度不是概率，所以需要把置信度“距离”归一化，压缩到【0，1】之间\n",
    "svc_prob = ((svc.decision_function(X_test) - svc.decision_function(X_test).min())/(svc.decision_function(X_test).max() - svc.decision_function(X_test).min()))"
   ]
  },
  {
   "cell_type": "code",
   "execution_count": 41,
   "id": "81320b54",
   "metadata": {},
   "outputs": [
    {
     "ename": "ValueError",
     "evalue": "Only binary classification is supported. The type of the target is multiclass.",
     "output_type": "error",
     "traceback": [
      "\u001b[1;31m---------------------------------------------------------------------------\u001b[0m",
      "\u001b[1;31mValueError\u001b[0m                                Traceback (most recent call last)",
      "\u001b[1;32m~\\AppData\\Local\\Temp/ipykernel_10912/1338880719.py\u001b[0m in \u001b[0;36m<module>\u001b[1;34m\u001b[0m\n\u001b[1;32m----> 1\u001b[1;33m \u001b[0mbrier_score_loss\u001b[0m\u001b[1;33m(\u001b[0m\u001b[0my_test\u001b[0m\u001b[1;33m,\u001b[0m \u001b[0msvc_prob\u001b[0m\u001b[1;33m[\u001b[0m\u001b[1;33m:\u001b[0m\u001b[1;33m,\u001b[0m\u001b[1;36m1\u001b[0m\u001b[1;33m]\u001b[0m\u001b[1;33m,\u001b[0m\u001b[0mpos_label\u001b[0m\u001b[1;33m=\u001b[0m\u001b[1;36m1\u001b[0m\u001b[1;33m)\u001b[0m\u001b[1;33m\u001b[0m\u001b[1;33m\u001b[0m\u001b[0m\n\u001b[0m",
      "\u001b[1;32mD:\\ISO\\Anoconda\\lib\\site-packages\\sklearn\\utils\\validation.py\u001b[0m in \u001b[0;36minner_f\u001b[1;34m(*args, **kwargs)\u001b[0m\n\u001b[0;32m     61\u001b[0m             \u001b[0mextra_args\u001b[0m \u001b[1;33m=\u001b[0m \u001b[0mlen\u001b[0m\u001b[1;33m(\u001b[0m\u001b[0margs\u001b[0m\u001b[1;33m)\u001b[0m \u001b[1;33m-\u001b[0m \u001b[0mlen\u001b[0m\u001b[1;33m(\u001b[0m\u001b[0mall_args\u001b[0m\u001b[1;33m)\u001b[0m\u001b[1;33m\u001b[0m\u001b[1;33m\u001b[0m\u001b[0m\n\u001b[0;32m     62\u001b[0m             \u001b[1;32mif\u001b[0m \u001b[0mextra_args\u001b[0m \u001b[1;33m<=\u001b[0m \u001b[1;36m0\u001b[0m\u001b[1;33m:\u001b[0m\u001b[1;33m\u001b[0m\u001b[1;33m\u001b[0m\u001b[0m\n\u001b[1;32m---> 63\u001b[1;33m                 \u001b[1;32mreturn\u001b[0m \u001b[0mf\u001b[0m\u001b[1;33m(\u001b[0m\u001b[1;33m*\u001b[0m\u001b[0margs\u001b[0m\u001b[1;33m,\u001b[0m \u001b[1;33m**\u001b[0m\u001b[0mkwargs\u001b[0m\u001b[1;33m)\u001b[0m\u001b[1;33m\u001b[0m\u001b[1;33m\u001b[0m\u001b[0m\n\u001b[0m\u001b[0;32m     64\u001b[0m \u001b[1;33m\u001b[0m\u001b[0m\n\u001b[0;32m     65\u001b[0m             \u001b[1;31m# extra_args > 0\u001b[0m\u001b[1;33m\u001b[0m\u001b[1;33m\u001b[0m\u001b[0m\n",
      "\u001b[1;32mD:\\ISO\\Anoconda\\lib\\site-packages\\sklearn\\metrics\\_classification.py\u001b[0m in \u001b[0;36mbrier_score_loss\u001b[1;34m(y_true, y_prob, sample_weight, pos_label)\u001b[0m\n\u001b[0;32m   2487\u001b[0m     \u001b[0my_type\u001b[0m \u001b[1;33m=\u001b[0m \u001b[0mtype_of_target\u001b[0m\u001b[1;33m(\u001b[0m\u001b[0my_true\u001b[0m\u001b[1;33m)\u001b[0m\u001b[1;33m\u001b[0m\u001b[1;33m\u001b[0m\u001b[0m\n\u001b[0;32m   2488\u001b[0m     \u001b[1;32mif\u001b[0m \u001b[0my_type\u001b[0m \u001b[1;33m!=\u001b[0m \u001b[1;34m\"binary\"\u001b[0m\u001b[1;33m:\u001b[0m\u001b[1;33m\u001b[0m\u001b[1;33m\u001b[0m\u001b[0m\n\u001b[1;32m-> 2489\u001b[1;33m         raise ValueError(\n\u001b[0m\u001b[0;32m   2490\u001b[0m             \u001b[1;34mf\"Only binary classification is supported. The type of the target \"\u001b[0m\u001b[1;33m\u001b[0m\u001b[1;33m\u001b[0m\u001b[0m\n\u001b[0;32m   2491\u001b[0m             \u001b[1;34mf\"is {y_type}.\"\u001b[0m\u001b[1;33m\u001b[0m\u001b[1;33m\u001b[0m\u001b[0m\n",
      "\u001b[1;31mValueError\u001b[0m: Only binary classification is supported. The type of the target is multiclass."
     ]
    }
   ],
   "source": [
    "brier_score_loss(y_test, svc_prob[:,1],pos_label=1)"
   ]
  },
  {
   "cell_type": "code",
   "execution_count": 7,
   "id": "7338d995",
   "metadata": {},
   "outputs": [],
   "source": [
    "# 2. log_loss\n",
    "from sklearn.metrics import log_loss"
   ]
  },
  {
   "cell_type": "code",
   "execution_count": 11,
   "id": "6e5e0470",
   "metadata": {},
   "outputs": [
    {
     "data": {
      "text/plain": [
       "2.4725653911460683"
      ]
     },
     "execution_count": 11,
     "metadata": {},
     "output_type": "execute_result"
    }
   ],
   "source": [
    "# NB log_loss\n",
    "log_loss(y_test,prob)"
   ]
  },
  {
   "cell_type": "code",
   "execution_count": 13,
   "id": "466d8804",
   "metadata": {},
   "outputs": [
    {
     "name": "stderr",
     "output_type": "stream",
     "text": [
      "D:\\ISO\\Anoconda\\lib\\site-packages\\sklearn\\linear_model\\_logistic.py:763: ConvergenceWarning: lbfgs failed to converge (status=1):\n",
      "STOP: TOTAL NO. of ITERATIONS REACHED LIMIT.\n",
      "\n",
      "Increase the number of iterations (max_iter) or scale the data as shown in:\n",
      "    https://scikit-learn.org/stable/modules/preprocessing.html\n",
      "Please also refer to the documentation for alternative solver options:\n",
      "    https://scikit-learn.org/stable/modules/linear_model.html#logistic-regression\n",
      "  n_iter_i = _check_optimize_result(\n"
     ]
    },
    {
     "data": {
      "text/plain": [
       "0.12860263598986335"
      ]
     },
     "execution_count": 13,
     "metadata": {},
     "output_type": "execute_result"
    }
   ],
   "source": [
    "#logistic Regreesion & SVC log_loss\n",
    "logi = LR(C=1, solver='lbfgs', multi_class='auto').fit(X_train, y_train)\n",
    "svc = SVC(kernel='linear', gamma=1).fit(X_train, y_train)\n",
    "\n",
    "log_loss(y_test, logi.predict_proba(X_test))"
   ]
  },
  {
   "cell_type": "code",
   "execution_count": 14,
   "id": "cf54d02b",
   "metadata": {},
   "outputs": [
    {
     "data": {
      "text/plain": [
       "1.6074987533411256"
      ]
     },
     "execution_count": 14,
     "metadata": {},
     "output_type": "execute_result"
    }
   ],
   "source": [
    "svc_prob = ((svc.decision_function(X_test) - svc.decision_function(X_test).min())/(svc.decision_function(X_test).max() - svc.decision_function(X_test).min()))\n",
    "log_loss(y_test,svc_prob)"
   ]
  },
  {
   "cell_type": "markdown",
   "id": "129e7de6",
   "metadata": {},
   "source": [
    "Finding: log_loss会在求最优解的算法上会表现更好\n",
    "         可能会虚高"
   ]
  },
  {
   "cell_type": "markdown",
   "id": "12f48a10",
   "metadata": {},
   "source": [
    "### Reliability curve 可靠性曲线 = probability calibration cure 可靠性校准曲线\n",
    "横坐标：预测概率\n",
    "纵坐标：真实值\n",
    "一个模型/算法的概率校准曲线越靠近对角线越好"
   ]
  },
  {
   "cell_type": "code",
   "execution_count": 15,
   "id": "eb278af9",
   "metadata": {},
   "outputs": [],
   "source": [
    "import numpy as np\n",
    "import pandas as pd\n",
    "import matplotlib.pyplot as plt\n",
    "\n",
    "from sklearn.naive_bayes import GaussianNB\n",
    "from sklearn.svm import SVC\n",
    "from sklearn.linear_model import LogisticRegression as LR\n",
    "\n",
    "from sklearn.model_selection import train_test_split\n",
    "from sklearn.datasets import make_classification as mc\n",
    "from sklearn.metrics import brier_score_loss"
   ]
  },
  {
   "cell_type": "code",
   "execution_count": 16,
   "id": "20e8ecd9",
   "metadata": {},
   "outputs": [],
   "source": [
    "# create dataset\n",
    "X, y = mc(n_samples=100000\n",
    "         ,n_features=20\n",
    "         ,n_classes=2  # y - binary\n",
    "         ,n_informative=2  # 2 of them carry more information\n",
    "         ,n_redundant=10  # 10 of them is redundant features\n",
    "         ,random_state=42\n",
    "         )"
   ]
  },
  {
   "cell_type": "code",
   "execution_count": 17,
   "id": "c68a7196",
   "metadata": {},
   "outputs": [],
   "source": [
    "X_train, X_test, y_train, y_test = train_test_split(X, y\n",
    "                                                    , test_size=0.99   # only left 0.01% as training\n",
    "                                                    , random_state=420)"
   ]
  },
  {
   "cell_type": "code",
   "execution_count": 20,
   "id": "8d6c2314",
   "metadata": {},
   "outputs": [
    {
     "data": {
      "text/plain": [
       "(1000, 20)"
      ]
     },
     "execution_count": 20,
     "metadata": {},
     "output_type": "execute_result"
    }
   ],
   "source": [
    "X_train.shape"
   ]
  },
  {
   "cell_type": "code",
   "execution_count": 19,
   "id": "16494fc8",
   "metadata": {},
   "outputs": [
    {
     "data": {
      "text/plain": [
       "array([0, 1])"
      ]
     },
     "execution_count": 19,
     "metadata": {},
     "output_type": "execute_result"
    }
   ],
   "source": [
    "np.unique(y_train) # binary"
   ]
  },
  {
   "cell_type": "code",
   "execution_count": 21,
   "id": "fb3cdd0d",
   "metadata": {},
   "outputs": [],
   "source": [
    "gnb = GaussianNB()\n",
    "gnb.fit(X_train,y_train)\n",
    "y_pred = gnb.predict(X_test)  # predict y\n",
    "prob_pos = gnb.predict_proba(X_test)[:,1]  # predict probability - as x\n",
    "# y_test - real y, as y"
   ]
  },
  {
   "cell_type": "code",
   "execution_count": 22,
   "id": "e581c5a6",
   "metadata": {},
   "outputs": [
    {
     "data": {
      "text/html": [
       "<div>\n",
       "<style scoped>\n",
       "    .dataframe tbody tr th:only-of-type {\n",
       "        vertical-align: middle;\n",
       "    }\n",
       "\n",
       "    .dataframe tbody tr th {\n",
       "        vertical-align: top;\n",
       "    }\n",
       "\n",
       "    .dataframe thead th {\n",
       "        text-align: right;\n",
       "    }\n",
       "</style>\n",
       "<table border=\"1\" class=\"dataframe\">\n",
       "  <thead>\n",
       "    <tr style=\"text-align: right;\">\n",
       "      <th></th>\n",
       "      <th>ytrue</th>\n",
       "      <th>probability</th>\n",
       "    </tr>\n",
       "  </thead>\n",
       "  <tbody>\n",
       "    <tr>\n",
       "      <th>0</th>\n",
       "      <td>0</td>\n",
       "      <td>3.022921e-01</td>\n",
       "    </tr>\n",
       "    <tr>\n",
       "      <th>1</th>\n",
       "      <td>0</td>\n",
       "      <td>6.021185e-12</td>\n",
       "    </tr>\n",
       "    <tr>\n",
       "      <th>2</th>\n",
       "      <td>1</td>\n",
       "      <td>1.000000e+00</td>\n",
       "    </tr>\n",
       "    <tr>\n",
       "      <th>3</th>\n",
       "      <td>1</td>\n",
       "      <td>2.060240e-02</td>\n",
       "    </tr>\n",
       "    <tr>\n",
       "      <th>4</th>\n",
       "      <td>0</td>\n",
       "      <td>9.562496e-01</td>\n",
       "    </tr>\n",
       "  </tbody>\n",
       "</table>\n",
       "</div>"
      ],
      "text/plain": [
       "   ytrue   probability\n",
       "0      0  3.022921e-01\n",
       "1      0  6.021185e-12\n",
       "2      1  1.000000e+00\n",
       "3      1  2.060240e-02\n",
       "4      0  9.562496e-01"
      ]
     },
     "execution_count": 22,
     "metadata": {},
     "output_type": "execute_result"
    }
   ],
   "source": [
    "df = pd.DataFrame({'ytrue':y_test[:500],'probability':prob_pos[:500]})"
   ]
  },
  {
   "cell_type": "code",
   "execution_count": 23,
   "id": "be7e5175",
   "metadata": {},
   "outputs": [],
   "source": [
    "df = df.sort_values(by='probability')\n",
    "df.index = range(df.shape[0])"
   ]
  },
  {
   "cell_type": "code",
   "execution_count": 24,
   "id": "75a146dd",
   "metadata": {},
   "outputs": [
    {
     "data": {
      "text/html": [
       "<div>\n",
       "<style scoped>\n",
       "    .dataframe tbody tr th:only-of-type {\n",
       "        vertical-align: middle;\n",
       "    }\n",
       "\n",
       "    .dataframe tbody tr th {\n",
       "        vertical-align: top;\n",
       "    }\n",
       "\n",
       "    .dataframe thead th {\n",
       "        text-align: right;\n",
       "    }\n",
       "</style>\n",
       "<table border=\"1\" class=\"dataframe\">\n",
       "  <thead>\n",
       "    <tr style=\"text-align: right;\">\n",
       "      <th></th>\n",
       "      <th>ytrue</th>\n",
       "      <th>probability</th>\n",
       "    </tr>\n",
       "  </thead>\n",
       "  <tbody>\n",
       "    <tr>\n",
       "      <th>0</th>\n",
       "      <td>0</td>\n",
       "      <td>1.068734e-18</td>\n",
       "    </tr>\n",
       "    <tr>\n",
       "      <th>1</th>\n",
       "      <td>0</td>\n",
       "      <td>9.173823e-18</td>\n",
       "    </tr>\n",
       "    <tr>\n",
       "      <th>2</th>\n",
       "      <td>0</td>\n",
       "      <td>2.842216e-16</td>\n",
       "    </tr>\n",
       "    <tr>\n",
       "      <th>3</th>\n",
       "      <td>0</td>\n",
       "      <td>5.634416e-16</td>\n",
       "    </tr>\n",
       "    <tr>\n",
       "      <th>4</th>\n",
       "      <td>0</td>\n",
       "      <td>2.428343e-15</td>\n",
       "    </tr>\n",
       "  </tbody>\n",
       "</table>\n",
       "</div>"
      ],
      "text/plain": [
       "   ytrue   probability\n",
       "0      0  1.068734e-18\n",
       "1      0  9.173823e-18\n",
       "2      0  2.842216e-16\n",
       "3      0  5.634416e-16\n",
       "4      0  2.428343e-15"
      ]
     },
     "execution_count": 24,
     "metadata": {},
     "output_type": "execute_result"
    }
   ],
   "source": [
    "df.head()"
   ]
  },
  {
   "cell_type": "code",
   "execution_count": 29,
   "id": "a8cbb283",
   "metadata": {},
   "outputs": [
    {
     "data": {
      "image/png": "[encoded data removed]",
      "text/plain": [
       "<Figure size 432x288 with 1 Axes>"
      ]
     },
     "metadata": {
      "needs_background": "light"
     },
     "output_type": "display_data"
    }
   ],
   "source": [
    "fig = plt.figure()\n",
    "ax1 = plt.subplot()\n",
    "ax1.plot([0,1],[0,1],'k:',label='Perfectly calibrated')\n",
    "ax1.scatter(df['probability'],df['ytrue'],s=10)\n",
    "ax1.set_ylabel('True Label')\n",
    "ax1.set_xlabel('Predict Probability')\n",
    "ax1.set_ylim([-0.05,1.05])\n",
    "ax1.legend()\n",
    "plt.show()"
   ]
  },
  {
   "cell_type": "markdown",
   "id": "9d7f65e8",
   "metadata": {},
   "source": [
    "### Plot calibration curve"
   ]
  },
  {
   "cell_type": "code",
   "execution_count": 35,
   "id": "bc64f203",
   "metadata": {},
   "outputs": [
    {
     "data": {
      "image/png": "[encoded data removed]",
      "text/plain": [
       "<Figure size 432x288 with 1 Axes>"
      ]
     },
     "metadata": {
      "needs_background": "light"
     },
     "output_type": "display_data"
    }
   ],
   "source": [
    "from sklearn.calibration import calibration_curve\n",
    "\n",
    "trueproba, predproba = calibration_curve(y_test,prob_pos\n",
    "                                        ,n_bins=10)\n",
    "\n",
    "fig = plt.figure()\n",
    "ax1 = plt.subplot()\n",
    "ax1.plot([0,1],[0,1],'k:',label='Perfectly calibrated')\n",
    "ax1.plot(predproba, trueproba,'s-',label='Bayes:{}'.format(gnb.score(X_test,y_test)))\n",
    "ax1.set_ylabel('True Label')\n",
    "ax1.set_xlabel('Predict Probability')\n",
    "ax1.set_ylim([-0.05,1.05])\n",
    "ax1.legend()\n",
    "plt.show()"
   ]
  },
  {
   "cell_type": "code",
   "execution_count": 41,
   "id": "5db50ea6",
   "metadata": {},
   "outputs": [
    {
     "data": {
      "image/png": "[encoded data removed]",
      "text/plain": [
       "<Figure size 1296x288 with 3 Axes>"
      ]
     },
     "metadata": {
      "needs_background": "light"
     },
     "output_type": "display_data"
    }
   ],
   "source": [
    "# find best n_bins\n",
    "fig, axes = plt.subplots(1,3,figsize=(18,4))\n",
    "for ind, i in enumerate([10,20,100]):\n",
    "    ax = axes[ind]\n",
    "    trueproba, predproba = calibration_curve(y_test,prob_pos\n",
    "                                        ,n_bins=i)\n",
    "\n",
    "    ax.plot([0,1],[0,1],'k:',label='Perfectly calibrated')\n",
    "    ax.plot(predproba, trueproba,'s-',label='n_bins={}'.format(i))\n",
    "    ax1.set_ylabel('True Label')\n",
    "    ax1.set_xlabel('Predict Probability')\n",
    "    ax1.set_ylim([-0.05,1.05])\n",
    "    ax.legend()\n",
    "    \n",
    "plt.show()"
   ]
  },
  {
   "cell_type": "code",
   "execution_count": 44,
   "id": "0ef85eaf",
   "metadata": {},
   "outputs": [],
   "source": [
    "# Explor other methods\n",
    "name = ['GussianNB','Logistic Regression','SVC']\n",
    "\n",
    "gnb = GaussianNB()\n",
    "lr = LR(C=1,solver='lbfgs',multi_class='auto')\n",
    "svc = SVC(kernel='linear',gamma=1)"
   ]
  },
  {
   "cell_type": "code",
   "execution_count": 48,
   "id": "a3f400a8",
   "metadata": {},
   "outputs": [
    {
     "data": {
      "image/png": "[encoded data removed]",
      "text/plain": [
       "<Figure size 576x432 with 1 Axes>"
      ]
     },
     "metadata": {
      "needs_background": "light"
     },
     "output_type": "display_data"
    }
   ],
   "source": [
    "from sklearn.metrics import brier_score_loss\n",
    "\n",
    "fig, ax1 = plt.subplots(figsize=(8,6))\n",
    "ax1.plot([0,1],[0,1],'k:',label='Perfectly calibrated')\n",
    "\n",
    "for clf,name_ in zip([gnb,lr,svc],name):\n",
    "    clf.fit(X_train,y_train)\n",
    "    y_pred = clf.predict(X_test)\n",
    "    # hasattr(obj,name)   check if a obj has an attribute \"name\". return True and False\n",
    "    if hasattr(clf,'predict_proba'):\n",
    "        prob_pos = clf.predict_proba(X_test)[:,1]\n",
    "    else: # use decision function\n",
    "        df = clf.decision_function(X_test)\n",
    "        prob_pos = (df-df.min())/(df.max()-df.min())\n",
    "        \n",
    "    # brier_score\n",
    "    clf_score = brier_score_loss(y_test, prob_pos,pos_label=y.max())\n",
    "    \n",
    "    trueproba, predproba = calibration_curve(y_test,prob_pos\n",
    "                                        ,n_bins=10)\n",
    "\n",
    "\n",
    "    ax1.plot(predproba, trueproba,'s-',label='{}:{}'.format(name_,clf_score))\n",
    "    \n",
    "ax1.set_ylabel('True probability for class 1')\n",
    "ax1.set_xlabel('Mean predict Probability')\n",
    "ax1.set_ylim([-0.05,1.05])\n",
    "ax1.legend()\n",
    "    \n",
    "plt.show()"
   ]
  },
  {
   "cell_type": "markdown",
   "id": "5ed753b6",
   "metadata": {},
   "source": [
    "Findings: Logistic Regression performance is almost perfect"
   ]
  },
  {
   "cell_type": "markdown",
   "id": "162b6b16",
   "metadata": {},
   "source": [
    "### Predicted probability histogram 预测概率直方图"
   ]
  },
  {
   "cell_type": "markdown",
   "id": "9c6a0e0a",
   "metadata": {},
   "source": [
    "Speculate the reason for the performance of svc: insufficient confidence\n",
    " Many sample are near the decision boundary. It is not enough to be sure that the classification can be correct.\n",
    " That is, the probability of many samples is close to 0.5."
   ]
  },
  {
   "cell_type": "markdown",
   "id": "63ae789a",
   "metadata": {},
   "source": [
    "直方图：\n",
    "纵坐标：箱子中样本个数\n",
    "横坐标：箱子中样本的平均概率\n",
    "ax.hist（横坐标，（纵坐标自动计算））"
   ]
  },
  {
   "cell_type": "code",
   "execution_count": 54,
   "id": "f1f77281",
   "metadata": {},
   "outputs": [
    {
     "data": {
      "image/png": "[encoded data removed]",
      "text/plain": [
       "<Figure size 576x432 with 1 Axes>"
      ]
     },
     "metadata": {
      "needs_background": "light"
     },
     "output_type": "display_data"
    }
   ],
   "source": [
    "fig, ax2 = plt.subplots(figsize=(8,6))\n",
    "\n",
    "for clf,name_ in zip([gnb,lr,svc],name):\n",
    "    clf.fit(X_train,y_train)\n",
    "    y_pred = clf.predict(X_test)\n",
    "    # hasattr(obj,name)   check if a obj has an attribute \"name\". return True and False\n",
    "    if hasattr(clf,'predict_proba'):\n",
    "        prob_pos = clf.predict_proba(X_test)[:,1]\n",
    "    else: # use decision function\n",
    "        df = clf.decision_function(X_test)\n",
    "        prob_pos = (df-df.min())/(df.max()-df.min())\n",
    "\n",
    "\n",
    "    ax2.hist(prob_pos\n",
    "             ,bins=10\n",
    "             ,label=name_\n",
    "            ,histtype='step' #Set the histogram to be transparent\n",
    "             ,lw=2\n",
    "            )\n",
    "    \n",
    "ax2.set_ylabel('Distribution of probability')\n",
    "ax2.set_xlabel('Mean predict Probability')\n",
    "ax2.set_xlim([-0.05,1.05])\n",
    "ax2.set_xticks([0,0.1,0.2,0.3,0.4,0.5,0.6,0.7,0.8,0.9,1])\n",
    "ax2.legend(loc=9)\n",
    "    \n",
    "plt.show()"
   ]
  },
  {
   "cell_type": "markdown",
   "id": "1d5b8e7e",
   "metadata": {},
   "source": [
    "### calibratedClassifierCV"
   ]
  },
  {
   "cell_type": "markdown",
   "id": "fff7e3a8",
   "metadata": {},
   "source": [
    "Calibration Reliability Curve  必须在测试集上进行（模型是必须从未见过的数据集）\n",
    "1. Sigmoid\n",
    "2. isotonic calibration"
   ]
  },
  {
   "cell_type": "code",
   "execution_count": 55,
   "id": "63de0c18",
   "metadata": {},
   "outputs": [],
   "source": [
    "def plot_calib(models,name,Xtrain,Xtest,ytrain,ytest,n_bins=10):\n",
    "    \n",
    "    from sklearn.metrics import brier_score_loss\n",
    "    from sklearn.calibration import calibration_curve\n",
    "    \n",
    "    fig, (ax1,ax2) = plt.subplots(1,2,figsize=(20,6))\n",
    "    \n",
    "    # first: calibration_curve\n",
    "    ax1.plot([0,1],[0,1],'k:',label='Perfectly calibrated')\n",
    "\n",
    "    for clf,name_ in zip(models,name):\n",
    "        clf.fit(X_train,y_train)\n",
    "        y_pred = clf.predict(X_test)\n",
    "        # hasattr(obj,name)   check if a obj has an attribute \"name\". return True and False\n",
    "        if hasattr(clf,'predict_proba'):\n",
    "            prob_pos = clf.predict_proba(X_test)[:,1]\n",
    "        else: # use decision function\n",
    "            df = clf.decision_function(X_test)\n",
    "            prob_pos = (df-df.min())/(df.max()-df.min())\n",
    "\n",
    "        # brier_score\n",
    "        clf_score = brier_score_loss(y_test, prob_pos,pos_label=y.max())\n",
    "\n",
    "        trueproba, predproba = calibration_curve(y_test,prob_pos\n",
    "                                            ,n_bins=10)\n",
    "\n",
    "\n",
    "        ax1.plot(predproba, trueproba,'s-',label='{}:{}'.format(name_,clf_score))\n",
    "\n",
    "        ax1.set_ylabel('True probability for class 1')\n",
    "        ax1.set_xlabel('Mean predict Probability')\n",
    "        ax1.set_ylim([-0.05,1.05])\n",
    "        ax1.legend()\n",
    "\n",
    "\n",
    "        # second: histogram\n",
    "        ax2.hist(prob_pos\n",
    "                 ,bins=10\n",
    "                 ,label=name_\n",
    "                 ,histtype='step' #Set the histogram to be transparent\n",
    "                 ,lw=2\n",
    "                )\n",
    "\n",
    "        ax2.set_ylabel('Distribution of probability')\n",
    "        ax2.set_xlabel('Mean predict Probability')\n",
    "        ax2.set_xlim([-0.05,1.05])\n",
    "        ax2.set_xticks([0,0.1,0.2,0.3,0.4,0.5,0.6,0.7,0.8,0.9,1])\n",
    "        ax2.legend(loc=9)\n",
    "\n",
    "    plt.show()"
   ]
  },
  {
   "cell_type": "code",
   "execution_count": 58,
   "id": "ba052700",
   "metadata": {},
   "outputs": [],
   "source": [
    "from sklearn.calibration import CalibratedClassifierCV"
   ]
  },
  {
   "cell_type": "code",
   "execution_count": 64,
   "id": "e2d32daf",
   "metadata": {},
   "outputs": [],
   "source": [
    "name =  ['GussianNB','Logistic Regression','Bayes+isotonic','Bayes+sigmoid']\n",
    "\n",
    "gnb = GaussianNB()\n",
    "lr = LR(C=1,solver='lbfgs',multi_class='auto')\n",
    "\n",
    "models = [gnb\n",
    "         ,lr\n",
    "         ,CalibratedClassifierCV(gnb,cv=2,method='isotonic')\n",
    "         ,CalibratedClassifierCV(gnb,cv=2,method='sigmoid')\n",
    "         ]"
   ]
  },
  {
   "cell_type": "code",
   "execution_count": 65,
   "id": "c471ceb6",
   "metadata": {},
   "outputs": [
    {
     "data": {
      "image/png": "[encoded data removed]",
      "text/plain": [
       "<Figure size 1440x432 with 2 Axes>"
      ]
     },
     "metadata": {
      "needs_background": "light"
     },
     "output_type": "display_data"
    }
   ],
   "source": [
    "plot_calib(models,name,X_train,X_test,y_train,y_test)"
   ]
  },
  {
   "cell_type": "code",
   "execution_count": 66,
   "id": "4e3f704f",
   "metadata": {},
   "outputs": [
    {
     "data": {
      "text/plain": [
       "0.8675353535353535"
      ]
     },
     "execution_count": 66,
     "metadata": {},
     "output_type": "execute_result"
    }
   ],
   "source": [
    "# Compare accuracy score\n",
    "gnb = GaussianNB().fit(X_train,y_train)\n",
    "gnb.score(X_test,y_test)"
   ]
  },
  {
   "cell_type": "code",
   "execution_count": 67,
   "id": "6c2a78c5",
   "metadata": {},
   "outputs": [
    {
     "data": {
      "text/plain": [
       "0.8604444444444445"
      ]
     },
     "execution_count": 67,
     "metadata": {},
     "output_type": "execute_result"
    }
   ],
   "source": [
    "gnbisotonic = CalibratedClassifierCV(gnb,cv=2,method='isotonic').fit(X_train,y_train)\n",
    "gnbisotonic.score(X_test,y_test)"
   ]
  },
  {
   "cell_type": "markdown",
   "id": "43447ff1",
   "metadata": {},
   "source": [
    "Findings: the accuracy is getting lower"
   ]
  },
  {
   "cell_type": "markdown",
   "id": "942a2f2f",
   "metadata": {},
   "source": [
    "## MultinomialNB  多项式朴素贝叶斯"
   ]
  },
  {
   "cell_type": "markdown",
   "id": "458f1cf2",
   "metadata": {},
   "source": [
    "独立重复试验，每次试验的概率都不变\n",
    "擅长：分类型变量（离散）\n",
    "     正整数（特征矩阵多是稀疏矩阵）\n",
    "    - 多用于 文本特征提取：搭配TF-IDF向量技术，单词计数向量等"
   ]
  },
  {
   "cell_type": "code",
   "execution_count": 2,
   "id": "4d4e8b76",
   "metadata": {},
   "outputs": [],
   "source": [
    "import numpy as np\n",
    "import pandas as pd\n",
    "import matplotlib.pyplot as plt\n",
    "\n",
    "from sklearn.naive_bayes import MultinomialNB\n",
    "from sklearn.model_selection import train_test_split\n",
    "from sklearn.datasets import make_blobs\n",
    "from sklearn.metrics import brier_score_loss"
   ]
  },
  {
   "cell_type": "code",
   "execution_count": null,
   "id": "7c5f4099",
   "metadata": {},
   "outputs": [],
   "source": [
    "class_1 = 500\n",
    "class_2 = 500\n",
    "centers = [[0,0],[2,2]]\n",
    "clusters_std = [0.5,0.5]\n",
    "X,y = make_blobs(n_samples=[class_1, class_2]\n",
    "                ,centers=centers\n",
    "                ,cluster_std=clusters_std\n",
    "                ,random_state=0\n",
    "                ,shuffle=False\n",
    "                )"
   ]
  },
  {
   "cell_type": "code",
   "execution_count": 5,
   "id": "1bdb5249",
   "metadata": {},
   "outputs": [],
   "source": [
    "X_train, X_test, y_train, y_test = train_test_split(X,y,test_size=0.3,random_state=420)"
   ]
  },
  {
   "cell_type": "code",
   "execution_count": 6,
   "id": "cfcd1507",
   "metadata": {},
   "outputs": [],
   "source": [
    "# Because MultinomialNB cannot accept minus, so notmalization is needed\n",
    "from sklearn.preprocessing import MinMaxScaler\n",
    "mms = MinMaxScaler().fit(X_train)\n",
    "X_train_ = mms.transform(X_train)\n",
    "X_test_ = mms.transform(X_test)"
   ]
  },
  {
   "cell_type": "code",
   "execution_count": 9,
   "id": "70084c61",
   "metadata": {},
   "outputs": [],
   "source": [
    "mnb = MultinomialNB().fit(X_train_,y_train)"
   ]
  },
  {
   "cell_type": "code",
   "execution_count": 10,
   "id": "414235da",
   "metadata": {},
   "outputs": [
    {
     "data": {
      "text/plain": [
       "array([-0.69029411, -0.69600841])"
      ]
     },
     "execution_count": 10,
     "metadata": {},
     "output_type": "execute_result"
    }
   ],
   "source": [
    "# Attibute: class_log_prior_  = log(P(Y))\n",
    "# 每个标签对应的对数先验概率\n",
    "# 因为概率在【0,1】之间，所以对数先验概率永远是负值\n",
    "mnb.class_log_prior_\n",
    "# 如果先验概率非常接近，证明数据没有不均衡问题"
   ]
  },
  {
   "cell_type": "code",
   "execution_count": 12,
   "id": "a3c24fbf",
   "metadata": {},
   "outputs": [
    {
     "data": {
      "text/plain": [
       "array([0.50142857, 0.49857143])"
      ]
     },
     "execution_count": 12,
     "metadata": {},
     "output_type": "execute_result"
    }
   ],
   "source": [
    "# np.exp(mnb.class_log_prior_)  查看真正的概率\n",
    "np.exp(mnb.class_log_prior_)"
   ]
  },
  {
   "cell_type": "code",
   "execution_count": 13,
   "id": "120df2e8",
   "metadata": {},
   "outputs": [
    {
     "data": {
      "text/plain": [
       "array([[-0.76164788, -0.62903951],\n",
       "       [-0.72500918, -0.6622691 ]])"
      ]
     },
     "execution_count": 13,
     "metadata": {},
     "output_type": "execute_result"
    }
   ],
   "source": [
    "# Attibute: feature_log_prob_  = log(P(Xi|Y))\n",
    "# 每个固定标签下的每个特征的对数概率\n",
    "mnb.feature_log_prob_"
   ]
  },
  {
   "cell_type": "code",
   "execution_count": 14,
   "id": "908c9bd8",
   "metadata": {},
   "outputs": [
    {
     "data": {
      "text/plain": [
       "(2, 2)"
      ]
     },
     "execution_count": 14,
     "metadata": {},
     "output_type": "execute_result"
    }
   ],
   "source": [
    "mnb.feature_log_prob_.shape"
   ]
  },
  {
   "cell_type": "code",
   "execution_count": 15,
   "id": "38050b8d",
   "metadata": {},
   "outputs": [
    {
     "data": {
      "text/plain": [
       "array([351., 349.])"
      ]
     },
     "execution_count": 15,
     "metadata": {},
     "output_type": "execute_result"
    }
   ],
   "source": [
    "# Attibute:class_count_\n",
    "# 在fit时每个标签类别在包含的样本数\n",
    "# 当fit接口中sample_weight被设置时，该接口返回的值也会受到加权的影响\n",
    "mnb.class_count_"
   ]
  },
  {
   "cell_type": "code",
   "execution_count": 16,
   "id": "e5b467f0",
   "metadata": {},
   "outputs": [
    {
     "data": {
      "text/plain": [
       "array([1, 0, 0, 0, 0, 0, 0, 0, 0, 0, 0, 0, 1, 0, 0, 1, 0, 0, 1, 0, 0, 0,\n",
       "       1, 0, 0, 0, 0, 0, 0, 1, 0, 0, 0, 0, 0, 0, 0, 0, 0, 0, 0, 0, 0, 1,\n",
       "       0, 0, 1, 0, 0, 0, 0, 1, 1, 0, 0, 0, 0, 1, 0, 0, 1, 0, 0, 0, 1, 1,\n",
       "       0, 0, 0, 0, 0, 1, 0, 0, 0, 0, 0, 0, 0, 0, 0, 0, 0, 0, 0, 0, 0, 1,\n",
       "       0, 0, 0, 0, 0, 0, 0, 0, 0, 0, 0, 1, 0, 1, 0, 0, 0, 0, 0, 0, 0, 0,\n",
       "       0, 0, 0, 0, 0, 0, 0, 0, 0, 0, 0, 0, 0, 0, 0, 0, 0, 0, 0, 0, 0, 0,\n",
       "       0, 0, 0, 0, 0, 0, 0, 0, 0, 0, 0, 0, 0, 0, 0, 1, 0, 0, 0, 0, 0, 0,\n",
       "       0, 0, 0, 0, 0, 0, 0, 0, 0, 0, 0, 0, 0, 0, 0, 0, 0, 0, 1, 0, 0, 0,\n",
       "       0, 0, 0, 0, 0, 0, 0, 0, 0, 0, 0, 0, 0, 0, 0, 1, 1, 0, 0, 1, 0, 0,\n",
       "       0, 0, 0, 0, 0, 0, 0, 0, 0, 0, 0, 0, 0, 0, 0, 0, 0, 0, 0, 0, 0, 0,\n",
       "       0, 0, 0, 0, 0, 0, 0, 0, 0, 0, 0, 0, 0, 0, 0, 0, 0, 0, 1, 0, 0, 0,\n",
       "       0, 0, 0, 0, 0, 1, 0, 0, 0, 0, 0, 0, 0, 0, 0, 1, 0, 0, 1, 0, 1, 0,\n",
       "       1, 0, 0, 0, 0, 0, 0, 0, 0, 0, 0, 0, 0, 0, 0, 0, 0, 0, 0, 0, 0, 0,\n",
       "       0, 0, 0, 1, 0, 0, 0, 0, 0, 0, 0, 0, 0, 0])"
      ]
     },
     "execution_count": 16,
     "metadata": {},
     "output_type": "execute_result"
    }
   ],
   "source": [
    "# Method: predict()\n",
    "mnb.predict(X_test_)"
   ]
  },
  {
   "cell_type": "code",
   "execution_count": 17,
   "id": "6f9c02a3",
   "metadata": {},
   "outputs": [
    {
     "data": {
      "text/plain": [
       "array([[0.49847128, 0.50152872],\n",
       "       [0.50065987, 0.49934013],\n",
       "       [0.50122363, 0.49877637],\n",
       "       [0.50183745, 0.49816255],\n",
       "       [0.50146433, 0.49853567],\n",
       "       [0.50153147, 0.49846853],\n",
       "       [0.50204549, 0.49795451],\n",
       "       [0.50033124, 0.49966876],\n",
       "       [0.50105254, 0.49894746],\n",
       "       [0.50182815, 0.49817185],\n",
       "       [0.50270707, 0.49729293],\n",
       "       [0.50133396, 0.49866604],\n",
       "       [0.49820896, 0.50179104],\n",
       "       [0.50342829, 0.49657171],\n",
       "       [0.50099022, 0.49900978],\n",
       "       [0.49974388, 0.50025612],\n",
       "       [0.50423879, 0.49576121],\n",
       "       [0.50449207, 0.49550793],\n",
       "       [0.49818224, 0.50181776],\n",
       "       [0.50245485, 0.49754515],\n",
       "       [0.50393627, 0.49606373],\n",
       "       [0.50193571, 0.49806429],\n",
       "       [0.49996152, 0.50003848],\n",
       "       [0.50460038, 0.49539962],\n",
       "       [0.50261175, 0.49738825],\n",
       "       [0.50140163, 0.49859837],\n",
       "       [0.50332522, 0.49667478],\n",
       "       [0.50122253, 0.49877747],\n",
       "       [0.50409939, 0.49590061],\n",
       "       [0.49998717, 0.50001283],\n",
       "       [0.50179417, 0.49820583],\n",
       "       [0.5000057 , 0.4999943 ],\n",
       "       [0.50190643, 0.49809357],\n",
       "       [0.50022071, 0.49977929],\n",
       "       [0.50097776, 0.49902224],\n",
       "       [0.50305244, 0.49694756],\n",
       "       [0.50109969, 0.49890031],\n",
       "       [0.50159754, 0.49840246],\n",
       "       [0.50166181, 0.49833819],\n",
       "       [0.5013594 , 0.4986406 ],\n",
       "       [0.50138322, 0.49861678],\n",
       "       [0.50174823, 0.49825177],\n",
       "       [0.50346533, 0.49653467],\n",
       "       [0.49918461, 0.50081539],\n",
       "       [0.50097953, 0.49902047],\n",
       "       [0.50178893, 0.49821107],\n",
       "       [0.49990491, 0.50009509],\n",
       "       [0.50202801, 0.49797199],\n",
       "       [0.50176739, 0.49823261],\n",
       "       [0.50254336, 0.49745664],\n",
       "       [0.50116963, 0.49883037],\n",
       "       [0.49920141, 0.50079859],\n",
       "       [0.49944211, 0.50055789],\n",
       "       [0.50031645, 0.49968355],\n",
       "       [0.50153599, 0.49846401],\n",
       "       [0.50352461, 0.49647539],\n",
       "       [0.50049178, 0.49950822],\n",
       "       [0.49983178, 0.50016822],\n",
       "       [0.50289574, 0.49710426],\n",
       "       [0.50193747, 0.49806253],\n",
       "       [0.49961192, 0.50038808],\n",
       "       [0.50198825, 0.49801175],\n",
       "       [0.50289658, 0.49710342],\n",
       "       [0.50218643, 0.49781357],\n",
       "       [0.49888163, 0.50111837],\n",
       "       [0.49920224, 0.50079776],\n",
       "       [0.50151585, 0.49848415],\n",
       "       [0.50230998, 0.49769002],\n",
       "       [0.50400072, 0.49599928],\n",
       "       [0.50138781, 0.49861219],\n",
       "       [0.50001327, 0.49998673],\n",
       "       [0.49982061, 0.50017939],\n",
       "       [0.50133343, 0.49866657],\n",
       "       [0.503153  , 0.496847  ],\n",
       "       [0.50180689, 0.49819311],\n",
       "       [0.50141445, 0.49858555],\n",
       "       [0.50248588, 0.49751412],\n",
       "       [0.50308391, 0.49691609],\n",
       "       [0.50024574, 0.49975426],\n",
       "       [0.50173534, 0.49826466],\n",
       "       [0.50018764, 0.49981236],\n",
       "       [0.50171743, 0.49828257],\n",
       "       [0.501695  , 0.498305  ],\n",
       "       [0.50357487, 0.49642513],\n",
       "       [0.50245246, 0.49754754],\n",
       "       [0.50233437, 0.49766563],\n",
       "       [0.50190721, 0.49809279],\n",
       "       [0.49839991, 0.50160009],\n",
       "       [0.50221084, 0.49778916],\n",
       "       [0.5012638 , 0.4987362 ],\n",
       "       [0.50199765, 0.49800235],\n",
       "       [0.50100067, 0.49899933],\n",
       "       [0.50122519, 0.49877481],\n",
       "       [0.50358523, 0.49641477],\n",
       "       [0.50353492, 0.49646508],\n",
       "       [0.50060048, 0.49939952],\n",
       "       [0.50261115, 0.49738885],\n",
       "       [0.50170128, 0.49829872],\n",
       "       [0.50084485, 0.49915515],\n",
       "       [0.49977894, 0.50022106],\n",
       "       [0.50134207, 0.49865793],\n",
       "       [0.49967049, 0.50032951],\n",
       "       [0.50394134, 0.49605866],\n",
       "       [0.50143828, 0.49856172],\n",
       "       [0.50356078, 0.49643922],\n",
       "       [0.50332876, 0.49667124],\n",
       "       [0.50095206, 0.49904794],\n",
       "       [0.50220001, 0.49779999],\n",
       "       [0.50256184, 0.49743816],\n",
       "       [0.50166902, 0.49833098],\n",
       "       [0.50254134, 0.49745866],\n",
       "       [0.5004789 , 0.4995211 ],\n",
       "       [0.50302788, 0.49697212],\n",
       "       [0.50052704, 0.49947296],\n",
       "       [0.50219724, 0.49780276],\n",
       "       [0.50026189, 0.49973811],\n",
       "       [0.50095584, 0.49904416],\n",
       "       [0.50206864, 0.49793136],\n",
       "       [0.50010878, 0.49989122],\n",
       "       [0.50109718, 0.49890282],\n",
       "       [0.50162885, 0.49837115],\n",
       "       [0.50020595, 0.49979405],\n",
       "       [0.50067955, 0.49932045],\n",
       "       [0.50280886, 0.49719114],\n",
       "       [0.50237353, 0.49762647],\n",
       "       [0.50222485, 0.49777515],\n",
       "       [0.5001119 , 0.4998881 ],\n",
       "       [0.50112275, 0.49887725],\n",
       "       [0.50362029, 0.49637971],\n",
       "       [0.50054287, 0.49945713],\n",
       "       [0.50070066, 0.49929934],\n",
       "       [0.50174149, 0.49825851],\n",
       "       [0.50190098, 0.49809902],\n",
       "       [0.5007135 , 0.4992865 ],\n",
       "       [0.50207309, 0.49792691],\n",
       "       [0.50270744, 0.49729256],\n",
       "       [0.50050176, 0.49949824],\n",
       "       [0.50142338, 0.49857662],\n",
       "       [0.50099023, 0.49900977],\n",
       "       [0.50084396, 0.49915604],\n",
       "       [0.50368091, 0.49631909],\n",
       "       [0.50272862, 0.49727138],\n",
       "       [0.50132287, 0.49867713],\n",
       "       [0.50401085, 0.49598915],\n",
       "       [0.50227543, 0.49772457],\n",
       "       [0.50117773, 0.49882227],\n",
       "       [0.50165111, 0.49834889],\n",
       "       [0.49957088, 0.50042912],\n",
       "       [0.50317179, 0.49682821],\n",
       "       [0.50098188, 0.49901812],\n",
       "       [0.5023283 , 0.4976717 ],\n",
       "       [0.50104249, 0.49895751],\n",
       "       [0.50104179, 0.49895821],\n",
       "       [0.501309  , 0.498691  ],\n",
       "       [0.50216322, 0.49783678],\n",
       "       [0.50110205, 0.49889795],\n",
       "       [0.50257045, 0.49742955],\n",
       "       [0.5013388 , 0.4986612 ],\n",
       "       [0.50053838, 0.49946162],\n",
       "       [0.50120029, 0.49879971],\n",
       "       [0.50127632, 0.49872368],\n",
       "       [0.50183619, 0.49816381],\n",
       "       [0.50009396, 0.49990604],\n",
       "       [0.50128105, 0.49871895],\n",
       "       [0.50158456, 0.49841544],\n",
       "       [0.50190347, 0.49809653],\n",
       "       [0.50228193, 0.49771807],\n",
       "       [0.50242186, 0.49757814],\n",
       "       [0.50201385, 0.49798615],\n",
       "       [0.50201075, 0.49798925],\n",
       "       [0.5007775 , 0.4992225 ],\n",
       "       [0.50240731, 0.49759269],\n",
       "       [0.49865226, 0.50134774],\n",
       "       [0.50451121, 0.49548879],\n",
       "       [0.50254794, 0.49745206],\n",
       "       [0.5039106 , 0.4960894 ],\n",
       "       [0.50200714, 0.49799286],\n",
       "       [0.50227154, 0.49772846],\n",
       "       [0.50115683, 0.49884317],\n",
       "       [0.50254911, 0.49745089],\n",
       "       [0.50062667, 0.49937333],\n",
       "       [0.50324846, 0.49675154],\n",
       "       [0.50165038, 0.49834962],\n",
       "       [0.50200129, 0.49799871],\n",
       "       [0.50034533, 0.49965467],\n",
       "       [0.50051902, 0.49948098],\n",
       "       [0.50029115, 0.49970885],\n",
       "       [0.50209651, 0.49790349],\n",
       "       [0.50240236, 0.49759764],\n",
       "       [0.50092696, 0.49907304],\n",
       "       [0.50250997, 0.49749003],\n",
       "       [0.4985069 , 0.5014931 ],\n",
       "       [0.4994373 , 0.5005627 ],\n",
       "       [0.5024844 , 0.4975156 ],\n",
       "       [0.50120384, 0.49879616],\n",
       "       [0.49970062, 0.50029938],\n",
       "       [0.50154039, 0.49845961],\n",
       "       [0.50257601, 0.49742399],\n",
       "       [0.5015003 , 0.4984997 ],\n",
       "       [0.50034533, 0.49965467],\n",
       "       [0.5020367 , 0.4979633 ],\n",
       "       [0.5022038 , 0.4977962 ],\n",
       "       [0.50057621, 0.49942379],\n",
       "       [0.50128065, 0.49871935],\n",
       "       [0.50042842, 0.49957158],\n",
       "       [0.50330239, 0.49669761],\n",
       "       [0.50128544, 0.49871456],\n",
       "       [0.50196417, 0.49803583],\n",
       "       [0.50194098, 0.49805902],\n",
       "       [0.50115364, 0.49884636],\n",
       "       [0.50299407, 0.49700593],\n",
       "       [0.50130317, 0.49869683],\n",
       "       [0.50375311, 0.49624689],\n",
       "       [0.50121088, 0.49878912],\n",
       "       [0.50232441, 0.49767559],\n",
       "       [0.50272548, 0.49727452],\n",
       "       [0.50001357, 0.49998643],\n",
       "       [0.50093936, 0.49906064],\n",
       "       [0.50208529, 0.49791471],\n",
       "       [0.50137482, 0.49862518],\n",
       "       [0.50080493, 0.49919507],\n",
       "       [0.50332574, 0.49667426],\n",
       "       [0.50302616, 0.49697384],\n",
       "       [0.50196237, 0.49803763],\n",
       "       [0.5023057 , 0.4976943 ],\n",
       "       [0.5006412 , 0.4993588 ],\n",
       "       [0.50224065, 0.49775935],\n",
       "       [0.5010883 , 0.4989117 ],\n",
       "       [0.50133566, 0.49866434],\n",
       "       [0.50233576, 0.49766424],\n",
       "       [0.50184149, 0.49815851],\n",
       "       [0.50098641, 0.49901359],\n",
       "       [0.5019006 , 0.4980994 ],\n",
       "       [0.50107183, 0.49892817],\n",
       "       [0.50143271, 0.49856729],\n",
       "       [0.50203595, 0.49796405],\n",
       "       [0.5026515 , 0.4973485 ],\n",
       "       [0.50377703, 0.49622297],\n",
       "       [0.49893439, 0.50106561],\n",
       "       [0.50339275, 0.49660725],\n",
       "       [0.50152766, 0.49847234],\n",
       "       [0.50158634, 0.49841366],\n",
       "       [0.50000096, 0.49999904],\n",
       "       [0.50045491, 0.49954509],\n",
       "       [0.50208306, 0.49791694],\n",
       "       [0.50352855, 0.49647145],\n",
       "       [0.50237312, 0.49762688],\n",
       "       [0.49928464, 0.50071536],\n",
       "       [0.50297955, 0.49702045],\n",
       "       [0.50170373, 0.49829627],\n",
       "       [0.50143102, 0.49856898],\n",
       "       [0.50330941, 0.49669059],\n",
       "       [0.50211473, 0.49788527],\n",
       "       [0.50202076, 0.49797924],\n",
       "       [0.50051225, 0.49948775],\n",
       "       [0.50112964, 0.49887036],\n",
       "       [0.50185392, 0.49814608],\n",
       "       [0.49966058, 0.50033942],\n",
       "       [0.50075293, 0.49924707],\n",
       "       [0.50071296, 0.49928704],\n",
       "       [0.49923395, 0.50076605],\n",
       "       [0.50080148, 0.49919852],\n",
       "       [0.49827919, 0.50172081],\n",
       "       [0.50168248, 0.49831752],\n",
       "       [0.49995601, 0.50004399],\n",
       "       [0.5014818 , 0.4985182 ],\n",
       "       [0.5008324 , 0.4991676 ],\n",
       "       [0.50225201, 0.49774799],\n",
       "       [0.50041346, 0.49958654],\n",
       "       [0.50008176, 0.49991824],\n",
       "       [0.50275251, 0.49724749],\n",
       "       [0.5013088 , 0.4986912 ],\n",
       "       [0.50199637, 0.49800363],\n",
       "       [0.50250964, 0.49749036],\n",
       "       [0.50279177, 0.49720823],\n",
       "       [0.50085703, 0.49914297],\n",
       "       [0.50363226, 0.49636774],\n",
       "       [0.50075518, 0.49924482],\n",
       "       [0.50160237, 0.49839763],\n",
       "       [0.50200633, 0.49799367],\n",
       "       [0.50294549, 0.49705451],\n",
       "       [0.50134492, 0.49865508],\n",
       "       [0.50113355, 0.49886645],\n",
       "       [0.5011625 , 0.4988375 ],\n",
       "       [0.50086075, 0.49913925],\n",
       "       [0.50223575, 0.49776425],\n",
       "       [0.50032738, 0.49967262],\n",
       "       [0.50110359, 0.49889641],\n",
       "       [0.50256978, 0.49743022],\n",
       "       [0.49850301, 0.50149699],\n",
       "       [0.5031758 , 0.4968242 ],\n",
       "       [0.50058575, 0.49941425],\n",
       "       [0.5004442 , 0.4995558 ],\n",
       "       [0.50093672, 0.49906328],\n",
       "       [0.50332508, 0.49667492],\n",
       "       [0.50399354, 0.49600646],\n",
       "       [0.50351518, 0.49648482],\n",
       "       [0.50156107, 0.49843893],\n",
       "       [0.50078711, 0.49921289],\n",
       "       [0.50197128, 0.49802872]])"
      ]
     },
     "execution_count": 17,
     "metadata": {},
     "output_type": "execute_result"
    }
   ],
   "source": [
    "# predict_proba()  每个样本在每个标签取值下的概率\n",
    "mnb.predict_proba(X_test_)"
   ]
  },
  {
   "cell_type": "code",
   "execution_count": 18,
   "id": "d3815b85",
   "metadata": {},
   "outputs": [
    {
     "data": {
      "text/plain": [
       "0.5433333333333333"
      ]
     },
     "execution_count": 18,
     "metadata": {},
     "output_type": "execute_result"
    }
   ],
   "source": [
    "# score()\n",
    "mnb.score(X_test_,y_test)"
   ]
  },
  {
   "cell_type": "code",
   "execution_count": 19,
   "id": "30b24921",
   "metadata": {},
   "outputs": [
    {
     "data": {
      "text/plain": [
       "0.24977828412546027"
      ]
     },
     "execution_count": 19,
     "metadata": {},
     "output_type": "execute_result"
    }
   ],
   "source": [
    "brier_score_loss(y_test,mnb.predict_proba(X_test_)[:,1],pos_label=1)"
   ]
  },
  {
   "cell_type": "code",
   "execution_count": 20,
   "id": "af21712b",
   "metadata": {},
   "outputs": [],
   "source": [
    "# Why accuracy is low? Guess - because the data is continuous\n",
    "# transfrom X_train into discrete variable\n",
    "from sklearn.preprocessing import KBinsDiscretizer\n",
    "kbs = KBinsDiscretizer(n_bins=10,encode='onehot').fit(X_train)"
   ]
  },
  {
   "cell_type": "code",
   "execution_count": 21,
   "id": "fe210d65",
   "metadata": {},
   "outputs": [],
   "source": [
    "X_train2 = kbs.transform(X_train)\n",
    "X_test2 = kbs.transform(X_test)"
   ]
  },
  {
   "cell_type": "code",
   "execution_count": 22,
   "id": "11593875",
   "metadata": {},
   "outputs": [
    {
     "data": {
      "text/plain": [
       "<700x20 sparse matrix of type '<class 'numpy.float64'>'\n",
       "\twith 1400 stored elements in Compressed Sparse Row format>"
      ]
     },
     "execution_count": 22,
     "metadata": {},
     "output_type": "execute_result"
    }
   ],
   "source": [
    "X_train2"
   ]
  },
  {
   "cell_type": "code",
   "execution_count": 23,
   "id": "8e654abc",
   "metadata": {},
   "outputs": [
    {
     "data": {
      "text/plain": [
       "(700, 20)"
      ]
     },
     "execution_count": 23,
     "metadata": {},
     "output_type": "execute_result"
    }
   ],
   "source": [
    "X_train2.shape  #原来的2个特征，每个特征分10箱，得到20个哑变量"
   ]
  },
  {
   "cell_type": "code",
   "execution_count": 26,
   "id": "0b4fa9ae",
   "metadata": {},
   "outputs": [],
   "source": [
    "mnb = MultinomialNB().fit(X_train2,y_train)"
   ]
  },
  {
   "cell_type": "code",
   "execution_count": 27,
   "id": "cb40fca6",
   "metadata": {},
   "outputs": [
    {
     "data": {
      "text/plain": [
       "0.9966666666666667"
      ]
     },
     "execution_count": 27,
     "metadata": {},
     "output_type": "execute_result"
    }
   ],
   "source": [
    "mnb.score(X_test2,y_test)"
   ]
  },
  {
   "cell_type": "code",
   "execution_count": 28,
   "id": "16282ca9",
   "metadata": {},
   "outputs": [
    {
     "data": {
      "text/plain": [
       "0.0014593932778211862"
      ]
     },
     "execution_count": 28,
     "metadata": {},
     "output_type": "execute_result"
    }
   ],
   "source": [
    "brier_score_loss(y_test,mnb.predict_proba(X_test2)[:,1],pos_label=1)"
   ]
  },
  {
   "cell_type": "markdown",
   "id": "2aa99c75",
   "metadata": {},
   "source": [
    "## BernoulliNB "
   ]
  },
  {
   "cell_type": "markdown",
   "id": "1e01258b",
   "metadata": {},
   "source": [
    "伯努利朴素贝叶斯\n",
    "擅长：处理 二项分布\n",
    "要求：所有特征都是二分类"
   ]
  },
  {
   "cell_type": "code",
   "execution_count": 29,
   "id": "03738bf1",
   "metadata": {},
   "outputs": [],
   "source": [
    "from sklearn.naive_bayes import BernoulliNB"
   ]
  },
  {
   "cell_type": "code",
   "execution_count": 30,
   "id": "54c2abf6",
   "metadata": {},
   "outputs": [],
   "source": [
    "mms = MinMaxScaler().fit(X_train)\n",
    "X_train_ = mms.transform(X_train)\n",
    "X_test_ = mms.transform(X_test)"
   ]
  },
  {
   "cell_type": "code",
   "execution_count": 32,
   "id": "29575711",
   "metadata": {},
   "outputs": [
    {
     "data": {
      "text/plain": [
       "0.9833333333333333"
      ]
     },
     "execution_count": 32,
     "metadata": {},
     "output_type": "execute_result"
    }
   ],
   "source": [
    "# Set binarize=0.5\n",
    "bn = BernoulliNB(binarize=0.5).fit(X_train_,y_train)\n",
    "bn.score(X_test_,y_test)"
   ]
  },
  {
   "cell_type": "code",
   "execution_count": 34,
   "id": "37dd5645",
   "metadata": {},
   "outputs": [
    {
     "data": {
      "text/plain": [
       "0.010405875827339534"
      ]
     },
     "execution_count": 34,
     "metadata": {},
     "output_type": "execute_result"
    }
   ],
   "source": [
    "brier_score_loss(y_test,bn.predict_proba(X_test_)[:,1],pos_label=1)"
   ]
  },
  {
   "cell_type": "markdown",
   "id": "65a11db0",
   "metadata": {},
   "source": [
    "## Explore data unbalance"
   ]
  },
  {
   "cell_type": "code",
   "execution_count": 36,
   "id": "0f7d3064",
   "metadata": {},
   "outputs": [],
   "source": [
    "from sklearn.naive_bayes import MultinomialNB, GaussianNB, BernoulliNB\n",
    "from sklearn.model_selection import train_test_split\n",
    "from sklearn.datasets import make_blobs\n",
    "from sklearn.preprocessing import KBinsDiscretizer\n",
    "from sklearn.metrics import brier_score_loss as BS, recall_score, roc_auc_score as AUC"
   ]
  },
  {
   "cell_type": "code",
   "execution_count": 40,
   "id": "51371db5",
   "metadata": {},
   "outputs": [],
   "source": [
    "class_1 = 50000\n",
    "class_2 = 500\n",
    "centers = [[0,0],[5,5]]\n",
    "clusters_std = [3,1]\n",
    "X,y = make_blobs(n_samples=[class_1, class_2]\n",
    "                ,centers=centers\n",
    "                ,cluster_std=clusters_std\n",
    "                ,random_state=0\n",
    "                ,shuffle=False\n",
    "                )"
   ]
  },
  {
   "cell_type": "code",
   "execution_count": 41,
   "id": "b73859c5",
   "metadata": {},
   "outputs": [
    {
     "data": {
      "text/plain": [
       "(50500, 2)"
      ]
     },
     "execution_count": 41,
     "metadata": {},
     "output_type": "execute_result"
    }
   ],
   "source": [
    "X.shape"
   ]
  },
  {
   "cell_type": "code",
   "execution_count": 42,
   "id": "0d75ee5a",
   "metadata": {},
   "outputs": [
    {
     "data": {
      "text/plain": [
       "array([0, 1])"
      ]
     },
     "execution_count": 42,
     "metadata": {},
     "output_type": "execute_result"
    }
   ],
   "source": [
    "np.unique(y)"
   ]
  },
  {
   "cell_type": "code",
   "execution_count": 65,
   "id": "087dd202",
   "metadata": {},
   "outputs": [
    {
     "name": "stdout",
     "output_type": "stream",
     "text": [
      "MultinomialNB\n",
      "\tAccuracy:0.990\n",
      "\tBrier score:0.007\n",
      "\tRecall:0.000\n",
      "\tAUC:0.991\n",
      "GaussianNB\n",
      "\tAccuracy:0.990\n",
      "\tBrier score:0.006\n",
      "\tRecall:0.438\n",
      "\tAUC:0.993\n",
      "BernoulliNB\n",
      "\tAccuracy:0.987\n",
      "\tBrier score:0.009\n",
      "\tRecall:0.771\n",
      "\tAUC:0.987\n"
     ]
    }
   ],
   "source": [
    "name = ['MultinomialNB', 'GaussianNB', 'BernoulliNB']\n",
    "models = [MultinomialNB(), GaussianNB(), BernoulliNB()]\n",
    "\n",
    "for clf, name_ in zip(models,name):\n",
    "    X_train, X_test, y_train, y_test = train_test_split(X,y,test_size=0.3,random_state=420)\n",
    "    \n",
    "    if name_ != 'GaussianNB':\n",
    "        kbs = KBinsDiscretizer(n_bins=10,encode='onehot').fit(X_train)\n",
    "        X_train = kbs.transform(X_train)\n",
    "        X_test = kbs.transform(X_test)\n",
    "        \n",
    "    clf.fit(X_train, y_train)\n",
    "    y_pred = clf.predict(X_test)\n",
    "    proba = clf.predict_proba(X_test)[:,1]\n",
    "    \n",
    "    score = clf.score(X_test,y_test)\n",
    "    brier = brier_score_loss(y_test,proba,pos_label=1)\n",
    "    \n",
    "    print(name_)\n",
    "    print('\\tAccuracy:{:.3f}'.format(score))\n",
    "    print('\\tBrier score:{:.3f}'.format(brier))\n",
    "    print('\\tRecall:{:.3f}'.format(recall_score(y_test,y_pred)))\n",
    "    print('\\tAUC:{:.3f}'.format(AUC(y_test,proba)))"
   ]
  },
  {
   "cell_type": "markdown",
   "id": "85b09d39",
   "metadata": {},
   "source": [
    "## ComplementNB\n",
    "补集朴素贝叶斯"
   ]
  },
  {
   "cell_type": "markdown",
   "id": "1c2b2765",
   "metadata": {},
   "source": [
    "CNB 多项式朴素贝叶斯的改进版\n",
    "擅长：处理样本不均衡\n",
    "速度：很快"
   ]
  },
  {
   "cell_type": "code",
   "execution_count": 66,
   "id": "3f232f35",
   "metadata": {},
   "outputs": [],
   "source": [
    "from sklearn.naive_bayes import ComplementNB\n",
    "from time import time\n",
    "import datetime"
   ]
  },
  {
   "cell_type": "code",
   "execution_count": 68,
   "id": "94031ed3",
   "metadata": {},
   "outputs": [
    {
     "name": "stdout",
     "output_type": "stream",
     "text": [
      "MultinomialNB\n",
      "\tAccuracy:0.990\n",
      "\tBrier score:0.007\n",
      "\tRecall:0.000\n",
      "\tAUC:0.991\n",
      "00:00:027926\n",
      "GaussianNB\n",
      "\tAccuracy:0.990\n",
      "\tBrier score:0.006\n",
      "\tRecall:0.438\n",
      "\tAUC:0.993\n",
      "00:00:015960\n",
      "BernoulliNB\n",
      "\tAccuracy:0.987\n",
      "\tBrier score:0.009\n",
      "\tRecall:0.771\n",
      "\tAUC:0.987\n",
      "00:00:026925\n",
      "Complement\n",
      "\tAccuracy:0.953\n",
      "\tBrier score:0.038\n",
      "\tRecall:0.987\n",
      "\tAUC:0.991\n",
      "00:00:027925\n"
     ]
    }
   ],
   "source": [
    "name = ['MultinomialNB', 'GaussianNB', 'BernoulliNB','Complement']\n",
    "models = [MultinomialNB(), GaussianNB(), BernoulliNB(),ComplementNB()]\n",
    "\n",
    "for clf, name_ in zip(models,name):\n",
    "    time0 = time()\n",
    "    X_train, X_test, y_train, y_test = train_test_split(X,y,test_size=0.3,random_state=420)\n",
    "    \n",
    "    if name_ != 'GaussianNB':\n",
    "        kbs = KBinsDiscretizer(n_bins=10,encode='onehot').fit(X_train)\n",
    "        X_train = kbs.transform(X_train)\n",
    "        X_test = kbs.transform(X_test)\n",
    "        \n",
    "    clf.fit(X_train, y_train)\n",
    "    y_pred = clf.predict(X_test)\n",
    "    proba = clf.predict_proba(X_test)[:,1]\n",
    "    \n",
    "    score = clf.score(X_test,y_test)\n",
    "    brier = brier_score_loss(y_test,proba,pos_label=1)\n",
    "    \n",
    "    print(name_)\n",
    "    print('\\tAccuracy:{:.3f}'.format(score))\n",
    "    print('\\tBrier score:{:.3f}'.format(brier))\n",
    "    print('\\tRecall:{:.3f}'.format(recall_score(y_test,y_pred)))\n",
    "    print('\\tAUC:{:.3f}'.format(AUC(y_test,proba)))\n",
    "    print(datetime.datetime.fromtimestamp(time()-time0).strftime('%M:%S:%f'))"
   ]
  },
  {
   "cell_type": "markdown",
   "id": "352510f9",
   "metadata": {},
   "source": [
    "Findings: Accuracy: lower\n",
    "          Brier score: lower\n",
    "          Recall: high - if we need to capture minority"
   ]
  }
 ],
 "metadata": {
  "kernelspec": {
   "display_name": "Python 3 (ipykernel)",
   "language": "python",
   "name": "python3"
  },
  "language_info": {
   "codemirror_mode": {
    "name": "ipython",
    "version": 3
   },
   "file_extension": ".py",
   "mimetype": "text/x-python",
   "name": "python",
   "nbconvert_exporter": "python",
   "pygments_lexer": "ipython3",
   "version": "3.9.7"
  },
  "toc": {
   "base_numbering": 1,
   "nav_menu": {},
   "number_sections": true,
   "sideBar": true,
   "skip_h1_title": false,
   "title_cell": "Table of Contents",
   "title_sidebar": "Contents",
   "toc_cell": false,
   "toc_position": {},
   "toc_section_display": true,
   "toc_window_display": true
  }
 },
 "nbformat": 4,
 "nbformat_minor": 5
}
