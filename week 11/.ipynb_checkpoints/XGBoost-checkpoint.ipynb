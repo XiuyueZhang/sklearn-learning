{
 "cells": [
  {
   "cell_type": "code",
   "execution_count": 1,
   "id": "271dcfb3",
   "metadata": {},
   "outputs": [
    {
     "name": "stdout",
     "output_type": "stream",
     "text": [
      "\n",
      "Note: you may need to restart the kernel to use updated packages.\n"
     ]
    }
   ],
   "source": [
    "conda install -c conda-forge py-xgboost"
   ]
  },
  {
   "cell_type": "code",
   "execution_count": 2,
   "id": "b393d1a8",
   "metadata": {},
   "outputs": [
    {
     "name": "stdout",
     "output_type": "stream",
     "text": [
      "Collecting xgboost\n",
      "  Downloading xgboost-1.6.1-py3-none-win_amd64.whl (125.4 MB)\n",
      "Requirement already satisfied: scipy in d:\\anaconda\\lib\\site-packages (from xgboost) (1.7.1)\n",
      "Requirement already satisfied: numpy in d:\\anaconda\\lib\\site-packages (from xgboost) (1.20.3)\n",
      "Installing collected packages: xgboost\n",
      "Successfully installed xgboost-1.6.1\n",
      "Note: you may need to restart the kernel to use updated packages.\n"
     ]
    }
   ],
   "source": [
    "pip install xgboost"
   ]
  },
  {
   "cell_type": "code",
   "execution_count": null,
   "id": "0f814b80",
   "metadata": {},
   "outputs": [],
   "source": [
    "# import xgboost\n",
    "import xgboost as xgb\n",
    "\n",
    "# read file\n",
    "xgb.DMatrix()\n",
    "\n",
    "# set params\n",
    "param = {}\n",
    "\n",
    "# train model\n",
    "bst = xgb.train(param)\n",
    "\n",
    "# get outcome - y_pred\n",
    "bst.predict()"
   ]
  },
  {
   "cell_type": "code",
   "execution_count": null,
   "id": "718f8e23",
   "metadata": {},
   "outputs": [],
   "source": [
    "# Sklearn API\n",
    "# Regressor class\n",
    "xgboost.XGBRegressor()"
   ]
  },
  {
   "cell_type": "code",
   "execution_count": 1,
   "id": "7f6bb6c0",
   "metadata": {},
   "outputs": [],
   "source": [
    "from xgboost import XGBRegressor as XGBR\n",
    "from sklearn.ensemble import RandomForestRegressor as RFR\n",
    "from sklearn.linear_model import LinearRegression as LinearR\n",
    "from sklearn.datasets import load_boston\n",
    "from sklearn.metrics import mean_squared_error as MSE\n",
    "from sklearn.model_selection import KFold, cross_val_score as CVS, train_test_split as TTS\n",
    "import pandas as pd\n",
    "import numpy as np\n",
    "from time import time\n",
    "import datetime\n",
    "import matplotlib.pyplot as plt\n",
    "import pickle\n",
    "import xgboost as xgb"
   ]
  },
  {
   "cell_type": "code",
   "execution_count": 2,
   "id": "46561677",
   "metadata": {},
   "outputs": [],
   "source": [
    "data = load_boston()"
   ]
  },
  {
   "cell_type": "code",
   "execution_count": 7,
   "id": "7fa9d36f",
   "metadata": {},
   "outputs": [
    {
     "data": {
      "text/plain": [
       "{'data': array([[6.3200e-03, 1.8000e+01, 2.3100e+00, ..., 1.5300e+01, 3.9690e+02,\n",
       "         4.9800e+00],\n",
       "        [2.7310e-02, 0.0000e+00, 7.0700e+00, ..., 1.7800e+01, 3.9690e+02,\n",
       "         9.1400e+00],\n",
       "        [2.7290e-02, 0.0000e+00, 7.0700e+00, ..., 1.7800e+01, 3.9283e+02,\n",
       "         4.0300e+00],\n",
       "        ...,\n",
       "        [6.0760e-02, 0.0000e+00, 1.1930e+01, ..., 2.1000e+01, 3.9690e+02,\n",
       "         5.6400e+00],\n",
       "        [1.0959e-01, 0.0000e+00, 1.1930e+01, ..., 2.1000e+01, 3.9345e+02,\n",
       "         6.4800e+00],\n",
       "        [4.7410e-02, 0.0000e+00, 1.1930e+01, ..., 2.1000e+01, 3.9690e+02,\n",
       "         7.8800e+00]]),\n",
       " 'target': array([24. , 21.6, 34.7, 33.4, 36.2, 28.7, 22.9, 27.1, 16.5, 18.9, 15. ,\n",
       "        18.9, 21.7, 20.4, 18.2, 19.9, 23.1, 17.5, 20.2, 18.2, 13.6, 19.6,\n",
       "        15.2, 14.5, 15.6, 13.9, 16.6, 14.8, 18.4, 21. , 12.7, 14.5, 13.2,\n",
       "        13.1, 13.5, 18.9, 20. , 21. , 24.7, 30.8, 34.9, 26.6, 25.3, 24.7,\n",
       "        21.2, 19.3, 20. , 16.6, 14.4, 19.4, 19.7, 20.5, 25. , 23.4, 18.9,\n",
       "        35.4, 24.7, 31.6, 23.3, 19.6, 18.7, 16. , 22.2, 25. , 33. , 23.5,\n",
       "        19.4, 22. , 17.4, 20.9, 24.2, 21.7, 22.8, 23.4, 24.1, 21.4, 20. ,\n",
       "        20.8, 21.2, 20.3, 28. , 23.9, 24.8, 22.9, 23.9, 26.6, 22.5, 22.2,\n",
       "        23.6, 28.7, 22.6, 22. , 22.9, 25. , 20.6, 28.4, 21.4, 38.7, 43.8,\n",
       "        33.2, 27.5, 26.5, 18.6, 19.3, 20.1, 19.5, 19.5, 20.4, 19.8, 19.4,\n",
       "        21.7, 22.8, 18.8, 18.7, 18.5, 18.3, 21.2, 19.2, 20.4, 19.3, 22. ,\n",
       "        20.3, 20.5, 17.3, 18.8, 21.4, 15.7, 16.2, 18. , 14.3, 19.2, 19.6,\n",
       "        23. , 18.4, 15.6, 18.1, 17.4, 17.1, 13.3, 17.8, 14. , 14.4, 13.4,\n",
       "        15.6, 11.8, 13.8, 15.6, 14.6, 17.8, 15.4, 21.5, 19.6, 15.3, 19.4,\n",
       "        17. , 15.6, 13.1, 41.3, 24.3, 23.3, 27. , 50. , 50. , 50. , 22.7,\n",
       "        25. , 50. , 23.8, 23.8, 22.3, 17.4, 19.1, 23.1, 23.6, 22.6, 29.4,\n",
       "        23.2, 24.6, 29.9, 37.2, 39.8, 36.2, 37.9, 32.5, 26.4, 29.6, 50. ,\n",
       "        32. , 29.8, 34.9, 37. , 30.5, 36.4, 31.1, 29.1, 50. , 33.3, 30.3,\n",
       "        34.6, 34.9, 32.9, 24.1, 42.3, 48.5, 50. , 22.6, 24.4, 22.5, 24.4,\n",
       "        20. , 21.7, 19.3, 22.4, 28.1, 23.7, 25. , 23.3, 28.7, 21.5, 23. ,\n",
       "        26.7, 21.7, 27.5, 30.1, 44.8, 50. , 37.6, 31.6, 46.7, 31.5, 24.3,\n",
       "        31.7, 41.7, 48.3, 29. , 24. , 25.1, 31.5, 23.7, 23.3, 22. , 20.1,\n",
       "        22.2, 23.7, 17.6, 18.5, 24.3, 20.5, 24.5, 26.2, 24.4, 24.8, 29.6,\n",
       "        42.8, 21.9, 20.9, 44. , 50. , 36. , 30.1, 33.8, 43.1, 48.8, 31. ,\n",
       "        36.5, 22.8, 30.7, 50. , 43.5, 20.7, 21.1, 25.2, 24.4, 35.2, 32.4,\n",
       "        32. , 33.2, 33.1, 29.1, 35.1, 45.4, 35.4, 46. , 50. , 32.2, 22. ,\n",
       "        20.1, 23.2, 22.3, 24.8, 28.5, 37.3, 27.9, 23.9, 21.7, 28.6, 27.1,\n",
       "        20.3, 22.5, 29. , 24.8, 22. , 26.4, 33.1, 36.1, 28.4, 33.4, 28.2,\n",
       "        22.8, 20.3, 16.1, 22.1, 19.4, 21.6, 23.8, 16.2, 17.8, 19.8, 23.1,\n",
       "        21. , 23.8, 23.1, 20.4, 18.5, 25. , 24.6, 23. , 22.2, 19.3, 22.6,\n",
       "        19.8, 17.1, 19.4, 22.2, 20.7, 21.1, 19.5, 18.5, 20.6, 19. , 18.7,\n",
       "        32.7, 16.5, 23.9, 31.2, 17.5, 17.2, 23.1, 24.5, 26.6, 22.9, 24.1,\n",
       "        18.6, 30.1, 18.2, 20.6, 17.8, 21.7, 22.7, 22.6, 25. , 19.9, 20.8,\n",
       "        16.8, 21.9, 27.5, 21.9, 23.1, 50. , 50. , 50. , 50. , 50. , 13.8,\n",
       "        13.8, 15. , 13.9, 13.3, 13.1, 10.2, 10.4, 10.9, 11.3, 12.3,  8.8,\n",
       "         7.2, 10.5,  7.4, 10.2, 11.5, 15.1, 23.2,  9.7, 13.8, 12.7, 13.1,\n",
       "        12.5,  8.5,  5. ,  6.3,  5.6,  7.2, 12.1,  8.3,  8.5,  5. , 11.9,\n",
       "        27.9, 17.2, 27.5, 15. , 17.2, 17.9, 16.3,  7. ,  7.2,  7.5, 10.4,\n",
       "         8.8,  8.4, 16.7, 14.2, 20.8, 13.4, 11.7,  8.3, 10.2, 10.9, 11. ,\n",
       "         9.5, 14.5, 14.1, 16.1, 14.3, 11.7, 13.4,  9.6,  8.7,  8.4, 12.8,\n",
       "        10.5, 17.1, 18.4, 15.4, 10.8, 11.8, 14.9, 12.6, 14.1, 13. , 13.4,\n",
       "        15.2, 16.1, 17.8, 14.9, 14.1, 12.7, 13.5, 14.9, 20. , 16.4, 17.7,\n",
       "        19.5, 20.2, 21.4, 19.9, 19. , 19.1, 19.1, 20.1, 19.9, 19.6, 23.2,\n",
       "        29.8, 13.8, 13.3, 16.7, 12. , 14.6, 21.4, 23. , 23.7, 25. , 21.8,\n",
       "        20.6, 21.2, 19.1, 20.6, 15.2,  7. ,  8.1, 13.6, 20.1, 21.8, 24.5,\n",
       "        23.1, 19.7, 18.3, 21.2, 17.5, 16.8, 22.4, 20.6, 23.9, 22. , 11.9]),\n",
       " 'feature_names': array(['CRIM', 'ZN', 'INDUS', 'CHAS', 'NOX', 'RM', 'AGE', 'DIS', 'RAD',\n",
       "        'TAX', 'PTRATIO', 'B', 'LSTAT'], dtype='<U7'),\n",
       " 'DESCR': \".. _boston_dataset:\\n\\nBoston house prices dataset\\n---------------------------\\n\\n**Data Set Characteristics:**  \\n\\n    :Number of Instances: 506 \\n\\n    :Number of Attributes: 13 numeric/categorical predictive. Median Value (attribute 14) is usually the target.\\n\\n    :Attribute Information (in order):\\n        - CRIM     per capita crime rate by town\\n        - ZN       proportion of residential land zoned for lots over 25,000 sq.ft.\\n        - INDUS    proportion of non-retail business acres per town\\n        - CHAS     Charles River dummy variable (= 1 if tract bounds river; 0 otherwise)\\n        - NOX      nitric oxides concentration (parts per 10 million)\\n        - RM       average number of rooms per dwelling\\n        - AGE      proportion of owner-occupied units built prior to 1940\\n        - DIS      weighted distances to five Boston employment centres\\n        - RAD      index of accessibility to radial highways\\n        - TAX      full-value property-tax rate per $10,000\\n        - PTRATIO  pupil-teacher ratio by town\\n        - B        1000(Bk - 0.63)^2 where Bk is the proportion of black people by town\\n        - LSTAT    % lower status of the population\\n        - MEDV     Median value of owner-occupied homes in $1000's\\n\\n    :Missing Attribute Values: None\\n\\n    :Creator: Harrison, D. and Rubinfeld, D.L.\\n\\nThis is a copy of UCI ML housing dataset.\\nhttps://archive.ics.uci.edu/ml/machine-learning-databases/housing/\\n\\n\\nThis dataset was taken from the StatLib library which is maintained at Carnegie Mellon University.\\n\\nThe Boston house-price data of Harrison, D. and Rubinfeld, D.L. 'Hedonic\\nprices and the demand for clean air', J. Environ. Economics & Management,\\nvol.5, 81-102, 1978.   Used in Belsley, Kuh & Welsch, 'Regression diagnostics\\n...', Wiley, 1980.   N.B. Various transformations are used in the table on\\npages 244-261 of the latter.\\n\\nThe Boston house-price data has been used in many machine learning papers that address regression\\nproblems.   \\n     \\n.. topic:: References\\n\\n   - Belsley, Kuh & Welsch, 'Regression diagnostics: Identifying Influential Data and Sources of Collinearity', Wiley, 1980. 244-261.\\n   - Quinlan,R. (1993). Combining Instance-Based and Model-Based Learning. In Proceedings on the Tenth International Conference of Machine Learning, 236-243, University of Massachusetts, Amherst. Morgan Kaufmann.\\n\",\n",
       " 'filename': 'D:\\\\Anaconda\\\\lib\\\\site-packages\\\\sklearn\\\\datasets\\\\data\\\\boston_house_prices.csv'}"
      ]
     },
     "execution_count": 7,
     "metadata": {},
     "output_type": "execute_result"
    }
   ],
   "source": [
    "data"
   ]
  },
  {
   "cell_type": "code",
   "execution_count": 3,
   "id": "3b3d7cc8",
   "metadata": {},
   "outputs": [],
   "source": [
    "X = data.data\n",
    "y = data.target"
   ]
  },
  {
   "cell_type": "code",
   "execution_count": 9,
   "id": "b903c78c",
   "metadata": {},
   "outputs": [
    {
     "data": {
      "text/plain": [
       "(506, 13)"
      ]
     },
     "execution_count": 9,
     "metadata": {},
     "output_type": "execute_result"
    }
   ],
   "source": [
    "X.shape"
   ]
  },
  {
   "cell_type": "code",
   "execution_count": 10,
   "id": "c7bada95",
   "metadata": {},
   "outputs": [
    {
     "data": {
      "text/plain": [
       "(506,)"
      ]
     },
     "execution_count": 10,
     "metadata": {},
     "output_type": "execute_result"
    }
   ],
   "source": [
    "y.shape"
   ]
  },
  {
   "cell_type": "code",
   "execution_count": 11,
   "id": "acd0eb46",
   "metadata": {
    "collapsed": true
   },
   "outputs": [
    {
     "data": {
      "text/plain": [
       "array([24. , 21.6, 34.7, 33.4, 36.2, 28.7, 22.9, 27.1, 16.5, 18.9, 15. ,\n",
       "       18.9, 21.7, 20.4, 18.2, 19.9, 23.1, 17.5, 20.2, 18.2, 13.6, 19.6,\n",
       "       15.2, 14.5, 15.6, 13.9, 16.6, 14.8, 18.4, 21. , 12.7, 14.5, 13.2,\n",
       "       13.1, 13.5, 18.9, 20. , 21. , 24.7, 30.8, 34.9, 26.6, 25.3, 24.7,\n",
       "       21.2, 19.3, 20. , 16.6, 14.4, 19.4, 19.7, 20.5, 25. , 23.4, 18.9,\n",
       "       35.4, 24.7, 31.6, 23.3, 19.6, 18.7, 16. , 22.2, 25. , 33. , 23.5,\n",
       "       19.4, 22. , 17.4, 20.9, 24.2, 21.7, 22.8, 23.4, 24.1, 21.4, 20. ,\n",
       "       20.8, 21.2, 20.3, 28. , 23.9, 24.8, 22.9, 23.9, 26.6, 22.5, 22.2,\n",
       "       23.6, 28.7, 22.6, 22. , 22.9, 25. , 20.6, 28.4, 21.4, 38.7, 43.8,\n",
       "       33.2, 27.5, 26.5, 18.6, 19.3, 20.1, 19.5, 19.5, 20.4, 19.8, 19.4,\n",
       "       21.7, 22.8, 18.8, 18.7, 18.5, 18.3, 21.2, 19.2, 20.4, 19.3, 22. ,\n",
       "       20.3, 20.5, 17.3, 18.8, 21.4, 15.7, 16.2, 18. , 14.3, 19.2, 19.6,\n",
       "       23. , 18.4, 15.6, 18.1, 17.4, 17.1, 13.3, 17.8, 14. , 14.4, 13.4,\n",
       "       15.6, 11.8, 13.8, 15.6, 14.6, 17.8, 15.4, 21.5, 19.6, 15.3, 19.4,\n",
       "       17. , 15.6, 13.1, 41.3, 24.3, 23.3, 27. , 50. , 50. , 50. , 22.7,\n",
       "       25. , 50. , 23.8, 23.8, 22.3, 17.4, 19.1, 23.1, 23.6, 22.6, 29.4,\n",
       "       23.2, 24.6, 29.9, 37.2, 39.8, 36.2, 37.9, 32.5, 26.4, 29.6, 50. ,\n",
       "       32. , 29.8, 34.9, 37. , 30.5, 36.4, 31.1, 29.1, 50. , 33.3, 30.3,\n",
       "       34.6, 34.9, 32.9, 24.1, 42.3, 48.5, 50. , 22.6, 24.4, 22.5, 24.4,\n",
       "       20. , 21.7, 19.3, 22.4, 28.1, 23.7, 25. , 23.3, 28.7, 21.5, 23. ,\n",
       "       26.7, 21.7, 27.5, 30.1, 44.8, 50. , 37.6, 31.6, 46.7, 31.5, 24.3,\n",
       "       31.7, 41.7, 48.3, 29. , 24. , 25.1, 31.5, 23.7, 23.3, 22. , 20.1,\n",
       "       22.2, 23.7, 17.6, 18.5, 24.3, 20.5, 24.5, 26.2, 24.4, 24.8, 29.6,\n",
       "       42.8, 21.9, 20.9, 44. , 50. , 36. , 30.1, 33.8, 43.1, 48.8, 31. ,\n",
       "       36.5, 22.8, 30.7, 50. , 43.5, 20.7, 21.1, 25.2, 24.4, 35.2, 32.4,\n",
       "       32. , 33.2, 33.1, 29.1, 35.1, 45.4, 35.4, 46. , 50. , 32.2, 22. ,\n",
       "       20.1, 23.2, 22.3, 24.8, 28.5, 37.3, 27.9, 23.9, 21.7, 28.6, 27.1,\n",
       "       20.3, 22.5, 29. , 24.8, 22. , 26.4, 33.1, 36.1, 28.4, 33.4, 28.2,\n",
       "       22.8, 20.3, 16.1, 22.1, 19.4, 21.6, 23.8, 16.2, 17.8, 19.8, 23.1,\n",
       "       21. , 23.8, 23.1, 20.4, 18.5, 25. , 24.6, 23. , 22.2, 19.3, 22.6,\n",
       "       19.8, 17.1, 19.4, 22.2, 20.7, 21.1, 19.5, 18.5, 20.6, 19. , 18.7,\n",
       "       32.7, 16.5, 23.9, 31.2, 17.5, 17.2, 23.1, 24.5, 26.6, 22.9, 24.1,\n",
       "       18.6, 30.1, 18.2, 20.6, 17.8, 21.7, 22.7, 22.6, 25. , 19.9, 20.8,\n",
       "       16.8, 21.9, 27.5, 21.9, 23.1, 50. , 50. , 50. , 50. , 50. , 13.8,\n",
       "       13.8, 15. , 13.9, 13.3, 13.1, 10.2, 10.4, 10.9, 11.3, 12.3,  8.8,\n",
       "        7.2, 10.5,  7.4, 10.2, 11.5, 15.1, 23.2,  9.7, 13.8, 12.7, 13.1,\n",
       "       12.5,  8.5,  5. ,  6.3,  5.6,  7.2, 12.1,  8.3,  8.5,  5. , 11.9,\n",
       "       27.9, 17.2, 27.5, 15. , 17.2, 17.9, 16.3,  7. ,  7.2,  7.5, 10.4,\n",
       "        8.8,  8.4, 16.7, 14.2, 20.8, 13.4, 11.7,  8.3, 10.2, 10.9, 11. ,\n",
       "        9.5, 14.5, 14.1, 16.1, 14.3, 11.7, 13.4,  9.6,  8.7,  8.4, 12.8,\n",
       "       10.5, 17.1, 18.4, 15.4, 10.8, 11.8, 14.9, 12.6, 14.1, 13. , 13.4,\n",
       "       15.2, 16.1, 17.8, 14.9, 14.1, 12.7, 13.5, 14.9, 20. , 16.4, 17.7,\n",
       "       19.5, 20.2, 21.4, 19.9, 19. , 19.1, 19.1, 20.1, 19.9, 19.6, 23.2,\n",
       "       29.8, 13.8, 13.3, 16.7, 12. , 14.6, 21.4, 23. , 23.7, 25. , 21.8,\n",
       "       20.6, 21.2, 19.1, 20.6, 15.2,  7. ,  8.1, 13.6, 20.1, 21.8, 24.5,\n",
       "       23.1, 19.7, 18.3, 21.2, 17.5, 16.8, 22.4, 20.6, 23.9, 22. , 11.9])"
      ]
     },
     "execution_count": 11,
     "metadata": {},
     "output_type": "execute_result"
    }
   ],
   "source": [
    "y"
   ]
  },
  {
   "cell_type": "code",
   "execution_count": 4,
   "id": "0490d167",
   "metadata": {},
   "outputs": [],
   "source": [
    "X_train, X_test, y_train, y_test = TTS(X,y,test_size=0.3,random_state=420)"
   ]
  },
  {
   "cell_type": "markdown",
   "id": "479a60ce",
   "metadata": {},
   "source": [
    "## Understanding XGBoost"
   ]
  },
  {
   "cell_type": "code",
   "execution_count": 13,
   "id": "368abbf4",
   "metadata": {},
   "outputs": [
    {
     "data": {
      "text/plain": [
       "array([ 6.6689262, 22.34918  , 31.052807 , 13.911595 ,  9.467966 ,\n",
       "       22.658588 , 14.514282 , 15.092699 , 15.293644 , 12.680115 ,\n",
       "       24.140797 , 35.890083 , 21.573483 , 27.07066  , 19.052658 ,\n",
       "        9.89033  , 23.386076 , 23.588493 , 23.311466 , 22.401644 ,\n",
       "       18.98444  , 15.766946 , 25.8352   , 20.193802 , 19.982517 ,\n",
       "       15.611423 , 22.883228 , 29.838228 , 22.815304 , 16.779037 ,\n",
       "       37.13194  , 20.133305 , 19.67352  , 23.525528 , 22.845137 ,\n",
       "       23.87397  , 15.17887  , 23.45934  , 16.685331 , 31.761686 ,\n",
       "       18.525843 , 22.441063 , 38.48728  , 17.93719  , 15.10122  ,\n",
       "       28.980541 , 46.363487 , 12.842797 ,  9.618281 , 35.40579  ,\n",
       "       25.657566 , 20.605602 , 20.800055 , 49.228447 , 31.355848 ,\n",
       "       29.382515 , 18.911947 , 21.049877 , 16.165182 , 18.098577 ,\n",
       "       14.659002 , 21.720213 , 19.413454 , 28.932102 , 30.573524 ,\n",
       "       19.228426 , 20.531511 , 15.666289 , 23.52929  , 19.30554  ,\n",
       "       28.384985 , 42.83562  , 29.429724 , 23.306015 , 19.741224 ,\n",
       "       24.202463 , 38.735516 , 26.782232 , 22.168324 , 20.67139  ,\n",
       "       19.534992 , 47.360317 , 24.008802 ,  8.184814 , 25.613977 ,\n",
       "       20.691843 , 17.127483 , 21.10027  , 22.279167 ,  7.755469 ,\n",
       "       20.0476   , 15.406112 , 42.38165  , 33.828186 , 22.788246 ,\n",
       "        9.302419 , 10.416187 , 20.033014 ,  8.241165 , 12.816478 ,\n",
       "       30.793974 , 10.078776 , 25.383692 , 21.933594 , 30.53568  ,\n",
       "       42.866497 , 19.598145 ,  8.321976 , 23.194368 , 12.547767 ,\n",
       "       46.838867 , 22.961082 , 20.244467 , 23.170694 , 18.948856 ,\n",
       "       29.682056 , 24.363865 , 19.715958 , 44.975193 , 17.64582  ,\n",
       "       24.3169   , 24.946495 , 18.23235  , 16.922577 , 14.77714  ,\n",
       "       21.757038 , 33.83876  , 10.938419 , 20.035763 , 21.085218 ,\n",
       "       19.331562 , 20.505526 ,  8.285518 , 28.01946  , 29.631227 ,\n",
       "       19.908175 , 18.30325  , 14.204149 , 10.795732 , 18.232307 ,\n",
       "       42.266888 , 17.304502 , 22.974121 , 20.946724 , 30.724297 ,\n",
       "       20.072989 , 12.772859 , 41.472908 , 27.652838 , 22.20476  ,\n",
       "       14.235871 , 25.88964  ], dtype=float32)"
      ]
     },
     "execution_count": 13,
     "metadata": {},
     "output_type": "execute_result"
    }
   ],
   "source": [
    "reg = XGBR(n_estimators=100).fit(X_train, y_train)\n",
    "reg.predict(X_test)"
   ]
  },
  {
   "cell_type": "code",
   "execution_count": 14,
   "id": "25cc4e1d",
   "metadata": {
    "scrolled": true
   },
   "outputs": [
    {
     "data": {
      "text/plain": [
       "0.9050988968414799"
      ]
     },
     "execution_count": 14,
     "metadata": {},
     "output_type": "execute_result"
    }
   ],
   "source": [
    "reg.score(X_test,y_test)   # method score: R^2"
   ]
  },
  {
   "cell_type": "code",
   "execution_count": 15,
   "id": "870c519b",
   "metadata": {},
   "outputs": [
    {
     "data": {
      "text/plain": [
       "8.830916343629323"
      ]
     },
     "execution_count": 15,
     "metadata": {},
     "output_type": "execute_result"
    }
   ],
   "source": [
    "MSE(y_test,reg.predict(X_test)) # around 1/3 of y.mean()"
   ]
  },
  {
   "cell_type": "code",
   "execution_count": 17,
   "id": "7c2c4627",
   "metadata": {},
   "outputs": [
    {
     "data": {
      "text/plain": [
       "22.532806324110677"
      ]
     },
     "execution_count": 17,
     "metadata": {},
     "output_type": "execute_result"
    }
   ],
   "source": [
    "y.mean()"
   ]
  },
  {
   "cell_type": "code",
   "execution_count": 18,
   "id": "ccbd322e",
   "metadata": {},
   "outputs": [
    {
     "data": {
      "text/plain": [
       "array([0.01902167, 0.0042109 , 0.01478316, 0.00553537, 0.02222196,\n",
       "       0.37914088, 0.01679686, 0.0469872 , 0.04073574, 0.05491759,\n",
       "       0.06684221, 0.00869464, 0.3201119 ], dtype=float32)"
      ]
     },
     "execution_count": 18,
     "metadata": {},
     "output_type": "execute_result"
    }
   ],
   "source": [
    "reg.feature_importances_"
   ]
  },
  {
   "cell_type": "markdown",
   "id": "db1965fa",
   "metadata": {},
   "source": [
    "Compare XGBoost and Random Foprest, Linear Regression using Cross_val_score"
   ]
  },
  {
   "cell_type": "code",
   "execution_count": 20,
   "id": "e744b4f2",
   "metadata": {},
   "outputs": [
    {
     "data": {
      "text/plain": [
       "0.7995062821902295"
      ]
     },
     "execution_count": 20,
     "metadata": {},
     "output_type": "execute_result"
    }
   ],
   "source": [
    "# XGBoost\n",
    "reg = XGBR(n_estimators=100)\n",
    "CVS(reg,X_train,y_train,cv=5).mean()  # =score(R^2)"
   ]
  },
  {
   "cell_type": "code",
   "execution_count": 21,
   "id": "c83b1424",
   "metadata": {},
   "outputs": [
    {
     "data": {
      "text/plain": [
       "-16.215644229762717"
      ]
     },
     "execution_count": 21,
     "metadata": {},
     "output_type": "execute_result"
    }
   ],
   "source": [
    "CVS(reg,X_train,y_train,cv=5,scoring='neg_mean_squared_error').mean()"
   ]
  },
  {
   "cell_type": "code",
   "execution_count": 23,
   "id": "b7b60ed7",
   "metadata": {},
   "outputs": [
    {
     "data": {
      "text/plain": [
       "['accuracy',\n",
       " 'adjusted_mutual_info_score',\n",
       " 'adjusted_rand_score',\n",
       " 'average_precision',\n",
       " 'balanced_accuracy',\n",
       " 'completeness_score',\n",
       " 'explained_variance',\n",
       " 'f1',\n",
       " 'f1_macro',\n",
       " 'f1_micro',\n",
       " 'f1_samples',\n",
       " 'f1_weighted',\n",
       " 'fowlkes_mallows_score',\n",
       " 'homogeneity_score',\n",
       " 'jaccard',\n",
       " 'jaccard_macro',\n",
       " 'jaccard_micro',\n",
       " 'jaccard_samples',\n",
       " 'jaccard_weighted',\n",
       " 'max_error',\n",
       " 'mutual_info_score',\n",
       " 'neg_brier_score',\n",
       " 'neg_log_loss',\n",
       " 'neg_mean_absolute_error',\n",
       " 'neg_mean_absolute_percentage_error',\n",
       " 'neg_mean_gamma_deviance',\n",
       " 'neg_mean_poisson_deviance',\n",
       " 'neg_mean_squared_error',\n",
       " 'neg_mean_squared_log_error',\n",
       " 'neg_median_absolute_error',\n",
       " 'neg_root_mean_squared_error',\n",
       " 'normalized_mutual_info_score',\n",
       " 'precision',\n",
       " 'precision_macro',\n",
       " 'precision_micro',\n",
       " 'precision_samples',\n",
       " 'precision_weighted',\n",
       " 'r2',\n",
       " 'rand_score',\n",
       " 'recall',\n",
       " 'recall_macro',\n",
       " 'recall_micro',\n",
       " 'recall_samples',\n",
       " 'recall_weighted',\n",
       " 'roc_auc',\n",
       " 'roc_auc_ovo',\n",
       " 'roc_auc_ovo_weighted',\n",
       " 'roc_auc_ovr',\n",
       " 'roc_auc_ovr_weighted',\n",
       " 'top_k_accuracy',\n",
       " 'v_measure_score']"
      ]
     },
     "execution_count": 23,
     "metadata": {},
     "output_type": "execute_result"
    }
   ],
   "source": [
    "import sklearn\n",
    "sorted(sklearn.metrics.SCORERS.keys())"
   ]
  },
  {
   "cell_type": "code",
   "execution_count": 24,
   "id": "e9c42649",
   "metadata": {},
   "outputs": [
    {
     "data": {
      "text/plain": [
       "-16.928014657746477"
      ]
     },
     "execution_count": 24,
     "metadata": {},
     "output_type": "execute_result"
    }
   ],
   "source": [
    "rfr = RFR(n_estimators=100)\n",
    "CVS(rfr,X_train,y_train,cv=5,scoring='neg_mean_squared_error').mean()"
   ]
  },
  {
   "cell_type": "code",
   "execution_count": 25,
   "id": "e8fb0cae",
   "metadata": {},
   "outputs": [
    {
     "data": {
      "text/plain": [
       "-25.349507493648463"
      ]
     },
     "execution_count": 25,
     "metadata": {},
     "output_type": "execute_result"
    }
   ],
   "source": [
    "lr = LinearR()\n",
    "CVS(lr,X_train,y_train,cv=5,scoring='neg_mean_squared_error').mean()"
   ]
  },
  {
   "cell_type": "markdown",
   "id": "6bf0de97",
   "metadata": {},
   "source": [
    "### silent: monitor model process"
   ]
  },
  {
   "cell_type": "code",
   "execution_count": 27,
   "id": "9a1e5173",
   "metadata": {},
   "outputs": [
    {
     "name": "stdout",
     "output_type": "stream",
     "text": [
      "[17:07:58] WARNING: C:/Users/Administrator/workspace/xgboost-win64_release_1.6.0/src/learner.cc:627: \n",
      "Parameters: { \"silent\" } might not be used.\n",
      "\n",
      "  This could be a false alarm, with some parameters getting used by language bindings but\n",
      "  then being mistakenly passed down to XGBoost core, or some parameter actually being used\n",
      "  but getting flagged wrongly here. Please open an issue if you find any such cases.\n",
      "\n",
      "\n",
      "[17:07:58] WARNING: C:/Users/Administrator/workspace/xgboost-win64_release_1.6.0/src/learner.cc:627: \n",
      "Parameters: { \"silent\" } might not be used.\n",
      "\n",
      "  This could be a false alarm, with some parameters getting used by language bindings but\n",
      "  then being mistakenly passed down to XGBoost core, or some parameter actually being used\n",
      "  but getting flagged wrongly here. Please open an issue if you find any such cases.\n",
      "\n",
      "\n",
      "[17:07:58] WARNING: C:/Users/Administrator/workspace/xgboost-win64_release_1.6.0/src/learner.cc:627: \n",
      "Parameters: { \"silent\" } might not be used.\n",
      "\n",
      "  This could be a false alarm, with some parameters getting used by language bindings but\n",
      "  then being mistakenly passed down to XGBoost core, or some parameter actually being used\n",
      "  but getting flagged wrongly here. Please open an issue if you find any such cases.\n",
      "\n",
      "\n",
      "[17:07:58] WARNING: C:/Users/Administrator/workspace/xgboost-win64_release_1.6.0/src/learner.cc:627: \n",
      "Parameters: { \"silent\" } might not be used.\n",
      "\n",
      "  This could be a false alarm, with some parameters getting used by language bindings but\n",
      "  then being mistakenly passed down to XGBoost core, or some parameter actually being used\n",
      "  but getting flagged wrongly here. Please open an issue if you find any such cases.\n",
      "\n",
      "\n",
      "[17:07:58] WARNING: C:/Users/Administrator/workspace/xgboost-win64_release_1.6.0/src/learner.cc:627: \n",
      "Parameters: { \"silent\" } might not be used.\n",
      "\n",
      "  This could be a false alarm, with some parameters getting used by language bindings but\n",
      "  then being mistakenly passed down to XGBoost core, or some parameter actually being used\n",
      "  but getting flagged wrongly here. Please open an issue if you find any such cases.\n",
      "\n",
      "\n"
     ]
    },
    {
     "data": {
      "text/plain": [
       "0.7719827598952362"
      ]
     },
     "execution_count": 27,
     "metadata": {},
     "output_type": "execute_result"
    }
   ],
   "source": [
    "reg = XGBR(n_estimators=10,silent=False)\n",
    "CVS(reg,X_train,y_train,cv=5).mean()  # =score(R^2)"
   ]
  },
  {
   "cell_type": "code",
   "execution_count": 41,
   "id": "eb26305c",
   "metadata": {},
   "outputs": [],
   "source": [
    "def plot_learning_curve(estimator\n",
    "                       ,title\n",
    "                       ,X,y\n",
    "                       ,ax=None\n",
    "                       ,cv=None\n",
    "                       ,n_jobs=None\n",
    "                        ,ylim=None\n",
    "                       ):\n",
    "    from sklearn.model_selection import learning_curve\n",
    "    import matplotlib.pyplot as plt\n",
    "    import numpy as np\n",
    "    \n",
    "    train_sizes, train_scores, test_scores = learning_curve(estimator\n",
    "                                                           ,X,y\n",
    "                                                           ,cv=cv\n",
    "                                                           ,random_state=420\n",
    "                                                           ,n_jobs=n_jobs\n",
    "                                                           )\n",
    "    \n",
    "    if ax == None:\n",
    "        ax = plt.gca()\n",
    "    else:\n",
    "        ax = plt.figure()\n",
    "    ax.set_title(title)\n",
    "    if ylim is not None:\n",
    "        ax.set_ylim(*ylim)\n",
    "    ax.set_xlabel('Training examples')\n",
    "    ax.set_ylabel('Scores')\n",
    "    ax.grid()\n",
    "    ax.plot(train_sizes, np.mean(train_scores, axis=1),'o-',color='r',label='Training score')\n",
    "    ax.plot(train_sizes, np.mean(test_scores, axis=1),'o-',color='g',label='Test score')\n",
    "    ax.legend(loc='best')\n",
    "    return ax"
   ]
  },
  {
   "cell_type": "code",
   "execution_count": 42,
   "id": "ce5faad1",
   "metadata": {},
   "outputs": [],
   "source": [
    "cv = KFold(n_splits=5, shuffle=True, random_state=42)"
   ]
  },
  {
   "cell_type": "code",
   "execution_count": 49,
   "id": "caf1ef17",
   "metadata": {},
   "outputs": [
    {
     "data": {
      "image/png": "[encoded data removed]",
      "text/plain": [
       "<Figure size 432x288 with 1 Axes>"
      ]
     },
     "metadata": {
      "needs_background": "light"
     },
     "output_type": "display_data"
    }
   ],
   "source": [
    "plot_learning_curve(XGBR(n_estimators=10,random_state=420)\n",
    "                   ,'XGB',X_train, y_train\n",
    "                   ,cv=cv\n",
    "                   )\n",
    "plt.show()"
   ]
  },
  {
   "cell_type": "markdown",
   "id": "98bcb8b9",
   "metadata": {},
   "source": [
    "### n_estimators"
   ]
  },
  {
   "cell_type": "code",
   "execution_count": 50,
   "id": "017a0e3f",
   "metadata": {},
   "outputs": [
    {
     "name": "stdout",
     "output_type": "stream",
     "text": [
      "100 0.8320924293483107\n"
     ]
    },
    {
     "data": {
      "image/png": "[encoded data removed]",
      "text/plain": [
       "<Figure size 1440x360 with 1 Axes>"
      ]
     },
     "metadata": {
      "needs_background": "light"
     },
     "output_type": "display_data"
    }
   ],
   "source": [
    "axisx = range(10,1050,10)\n",
    "rs = []\n",
    "for i in axisx:\n",
    "    reg = XGBR(n_estimators=i,random_state=420)\n",
    "    rs.append(CVS(reg,X_train,y_train,cv=cv).mean())\n",
    "print(axisx[rs.index(max(rs))],max(rs))\n",
    "plt.figure(figsize=(20,5))\n",
    "plt.plot(axisx,rs,c='red',label='XGB')\n",
    "plt.legend()\n",
    "plt.show()"
   ]
  },
  {
   "cell_type": "code",
   "execution_count": 53,
   "id": "d0eedc24",
   "metadata": {},
   "outputs": [
    {
     "name": "stdout",
     "output_type": "stream",
     "text": [
      "100 0.8320924293483107 0.005344212126112929\n",
      "10 0.0024782856939611353 0.8170020274778438\n",
      "100 0.03353716440826495 0.8320924293483107 0.005344212126112929\n"
     ]
    },
    {
     "data": {
      "image/png": "[encoded data removed]",
      "text/plain": [
       "<Figure size 1440x360 with 1 Axes>"
      ]
     },
     "metadata": {
      "needs_background": "light"
     },
     "output_type": "display_data"
    }
   ],
   "source": [
    "# Improve learnign curve: we need to consider bias and var\n",
    "\n",
    "axisx = range(10,1050,10)\n",
    "rs = []\n",
    "var = []   # var record\n",
    "ge = []  # bias^2+var record\n",
    "\n",
    "for i in axisx:\n",
    "    reg = XGBR(n_estimators=i,random_state=420)\n",
    "    cvresult = CVS(reg,X_train,y_train,cv=cv)\n",
    "    rs.append(cvresult.mean())\n",
    "    var.append(cvresult.var())\n",
    "    ge.append((1-cvresult.mean())**2+cvresult.var())\n",
    "    \n",
    "print(axisx[rs.index(max(rs))],max(rs),var[rs.index(max(rs))])\n",
    "print(axisx[var.index(min(var))],min(var),rs[var.index(min(var))])\n",
    "print(axisx[ge.index(min(ge))],min(ge),rs[ge.index(min(ge))],var[ge.index(min(ge))])\n",
    "plt.figure(figsize=(20,5))\n",
    "plt.plot(axisx,rs,c='red',label='XGB')\n",
    "plt.legend()\n",
    "plt.show()\n"
   ]
  },
  {
   "cell_type": "code",
   "execution_count": 74,
   "id": "df4c69e1",
   "metadata": {},
   "outputs": [
    {
     "name": "stdout",
     "output_type": "stream",
     "text": [
      "85 0.8321055480001769 0.00534559843980848\n",
      "10 0.0024782856939611353 0.8170020274778438\n",
      "15 0.032201219617519115 0.8316366584941444 0.0038550048545017467\n"
     ]
    },
    {
     "data": {
      "image/png": "[encoded data removed]",
      "text/plain": [
       "<Figure size 1440x360 with 1 Axes>"
      ]
     },
     "metadata": {
      "needs_background": "light"
     },
     "output_type": "display_data"
    }
   ],
   "source": [
    "axisx = range(10,100,5)\n",
    "rs = []\n",
    "var = []   # var record\n",
    "ge = []  # bias^2+var record\n",
    "\n",
    "for i in axisx:\n",
    "    reg = XGBR(n_estimators=i,random_state=420)\n",
    "    cvresult = CVS(reg,X_train,y_train,cv=cv)\n",
    "    rs.append(cvresult.mean())\n",
    "    var.append(cvresult.var())\n",
    "    ge.append((1-cvresult.mean())**2+cvresult.var())\n",
    "    \n",
    "print(axisx[rs.index(max(rs))],max(rs),var[rs.index(max(rs))])\n",
    "print(axisx[var.index(min(var))],min(var),rs[var.index(min(var))])\n",
    "print(axisx[ge.index(min(ge))],min(ge),rs[ge.index(min(ge))],var[ge.index(min(ge))]) \n",
    "\n",
    "plt.figure(figsize=(20,5))\n",
    "plt.plot(axisx,rs,c='red',label='XGB')\n",
    "# add variance line\n",
    "rs = np.array(rs)\n",
    "var = np.array(var)*0.2\n",
    "plt.plot(axisx,rs+var,c='black',linestyle='-.')\n",
    "plt.plot(axisx,rs-var,c='black',linestyle='-.')\n",
    "\n",
    "plt.legend()\n",
    "plt.show()"
   ]
  },
  {
   "cell_type": "code",
   "execution_count": 78,
   "id": "9e311a12",
   "metadata": {},
   "outputs": [
    {
     "name": "stdout",
     "output_type": "stream",
     "text": [
      "0.9032424246408705\n",
      "0.019003629684448242\n"
     ]
    }
   ],
   "source": [
    "time0 = time()\n",
    "print(XGBR(n_estimators=15,random_state=420).fit(X_train, y_train).score(X_test, y_test))\n",
    "print(time()-time0)"
   ]
  },
  {
   "cell_type": "code",
   "execution_count": 82,
   "id": "2e8ce315",
   "metadata": {},
   "outputs": [
    {
     "name": "stdout",
     "output_type": "stream",
     "text": [
      "0.8894915063570491\n",
      "0.014003276824951172\n"
     ]
    }
   ],
   "source": [
    "time0 = time()\n",
    "print(XGBR(n_estimators=10,random_state=420).fit(X_train, y_train).score(X_test, y_test))\n",
    "print(time()-time0)"
   ]
  },
  {
   "cell_type": "markdown",
   "id": "98868759",
   "metadata": {},
   "source": [
    "### subsample - Bootstrap  有放回的随机抽样"
   ]
  },
  {
   "cell_type": "code",
   "execution_count": 83,
   "id": "b1cc8480",
   "metadata": {},
   "outputs": [
    {
     "name": "stdout",
     "output_type": "stream",
     "text": [
      "1.0 0.8316366584941444\n"
     ]
    },
    {
     "data": {
      "image/png": "[encoded data removed]",
      "text/plain": [
       "<Figure size 1440x360 with 1 Axes>"
      ]
     },
     "metadata": {
      "needs_background": "light"
     },
     "output_type": "display_data"
    }
   ],
   "source": [
    "axisx = np.linspace(0,1,20)\n",
    "rs = []\n",
    "for i in axisx:\n",
    "    reg = XGBR(n_estimators=15,subsample=i,random_state=420)\n",
    "    rs.append(CVS(reg,X_train,y_train,cv=cv).mean())\n",
    "print(axisx[rs.index(max(rs))],max(rs))\n",
    "plt.figure(figsize=(20,5))\n",
    "plt.plot(axisx,rs,c='red',label='XGB')\n",
    "plt.legend()\n",
    "plt.show()"
   ]
  },
  {
   "cell_type": "code",
   "execution_count": 87,
   "id": "587d6b86",
   "metadata": {},
   "outputs": [
    {
     "name": "stdout",
     "output_type": "stream",
     "text": [
      "1.0 0.8316366584941444 0.0038550048545017467\n",
      "0.75 0.0020211764283283944 0.8047437039797416\n",
      "1.0 0.032201219617519115 0.8316366584941444 0.0038550048545017467\n"
     ]
    },
    {
     "data": {
      "image/png": "[encoded data removed]",
      "text/plain": [
       "<Figure size 1440x360 with 1 Axes>"
      ]
     },
     "metadata": {
      "needs_background": "light"
     },
     "output_type": "display_data"
    }
   ],
   "source": [
    "axisx = np.linspace(0.05,1,20)\n",
    "rs = []\n",
    "var = []   # var record\n",
    "ge = []  # bias^2+var record\n",
    "\n",
    "for i in axisx:\n",
    "    reg = XGBR(n_estimators=15,subsample=i,random_state=420)\n",
    "    cvresult = CVS(reg,X_train,y_train,cv=cv)\n",
    "    rs.append(cvresult.mean())\n",
    "    var.append(cvresult.var())\n",
    "    ge.append((1-cvresult.mean())**2+cvresult.var())\n",
    "    \n",
    "print(axisx[rs.index(max(rs))],max(rs),var[rs.index(max(rs))])\n",
    "print(axisx[var.index(min(var))],min(var),rs[var.index(min(var))])\n",
    "print(axisx[ge.index(min(ge))],min(ge),rs[ge.index(min(ge))],var[ge.index(min(ge))]) \n",
    "\n",
    "plt.figure(figsize=(20,5))\n",
    "plt.plot(axisx,rs,c='red',label='XGB')\n",
    "# add variance line\n",
    "rs = np.array(rs)\n",
    "var = np.array(var)*5\n",
    "plt.plot(axisx,rs+var,c='black',linestyle='-.')\n",
    "plt.plot(axisx,rs-var,c='black',linestyle='-.')\n",
    "\n",
    "plt.legend()\n",
    "plt.show()"
   ]
  },
  {
   "cell_type": "code",
   "execution_count": 88,
   "id": "d61b86d9",
   "metadata": {},
   "outputs": [
    {
     "name": "stdout",
     "output_type": "stream",
     "text": [
      "1.0 0.8316366584941444 0.0038550048545017467\n",
      "0.9342105263157895 0.0014111561016153713 0.8086367914080077\n",
      "1.0 0.032201219617519115 0.8316366584941444 0.0038550048545017467\n"
     ]
    },
    {
     "data": {
      "image/png": "[encoded data removed]",
      "text/plain": [
       "<Figure size 1440x360 with 1 Axes>"
      ]
     },
     "metadata": {
      "needs_background": "light"
     },
     "output_type": "display_data"
    }
   ],
   "source": [
    "axisx = np.linspace(0.75,1,20)\n",
    "rs = []\n",
    "var = []   # var record\n",
    "ge = []  # bias^2+var record\n",
    "\n",
    "for i in axisx:\n",
    "    reg = XGBR(n_estimators=15,subsample=i,random_state=420)\n",
    "    cvresult = CVS(reg,X_train,y_train,cv=cv)\n",
    "    rs.append(cvresult.mean())\n",
    "    var.append(cvresult.var())\n",
    "    ge.append((1-cvresult.mean())**2+cvresult.var())\n",
    "    \n",
    "print(axisx[rs.index(max(rs))],max(rs),var[rs.index(max(rs))])\n",
    "print(axisx[var.index(min(var))],min(var),rs[var.index(min(var))])\n",
    "print(axisx[ge.index(min(ge))],min(ge),rs[ge.index(min(ge))],var[ge.index(min(ge))]) \n",
    "\n",
    "plt.figure(figsize=(20,5))\n",
    "plt.plot(axisx,rs,c='red',label='XGB')\n",
    "# add variance line\n",
    "rs = np.array(rs)\n",
    "var = np.array(var)*5\n",
    "plt.plot(axisx,rs+var,c='black',linestyle='-.')\n",
    "plt.plot(axisx,rs-var,c='black',linestyle='-.')\n",
    "\n",
    "plt.legend()\n",
    "plt.show()"
   ]
  },
  {
   "cell_type": "code",
   "execution_count": 91,
   "id": "f8a0b91f",
   "metadata": {},
   "outputs": [
    {
     "data": {
      "text/plain": [
       "0.9141775719421544"
      ]
     },
     "execution_count": 91,
     "metadata": {},
     "output_type": "execute_result"
    }
   ],
   "source": [
    "reg = XGBR(n_estimators=15,subsample=0.9342105263157895,random_state=420).fit(X_train, y_train)\n",
    "reg.score(X_test, y_test)"
   ]
  },
  {
   "cell_type": "code",
   "execution_count": 93,
   "id": "18d09bd5",
   "metadata": {},
   "outputs": [
    {
     "data": {
      "text/plain": [
       "7.986110354481564"
      ]
     },
     "execution_count": 93,
     "metadata": {},
     "output_type": "execute_result"
    }
   ],
   "source": [
    "MSE(y_test, reg.predict(X_test))"
   ]
  },
  {
   "cell_type": "code",
   "execution_count": 94,
   "id": "c06250aa",
   "metadata": {},
   "outputs": [
    {
     "data": {
      "text/plain": [
       "0.9032424246408705"
      ]
     },
     "execution_count": 94,
     "metadata": {},
     "output_type": "execute_result"
    }
   ],
   "source": [
    "reg = XGBR(n_estimators=15,subsample=1,random_state=420).fit(X_train, y_train)\n",
    "reg.score(X_test, y_test)"
   ]
  },
  {
   "cell_type": "code",
   "execution_count": 95,
   "id": "6b8d352e",
   "metadata": {},
   "outputs": [
    {
     "data": {
      "text/plain": [
       "9.003668294367671"
      ]
     },
     "execution_count": 95,
     "metadata": {},
     "output_type": "execute_result"
    }
   ],
   "source": [
    "MSE(y_test, reg.predict(X_test))"
   ]
  },
  {
   "cell_type": "markdown",
   "id": "bee30003",
   "metadata": {},
   "source": [
    "### eta: = shrinkage = learning rate\n",
    "eta类似逻辑回归中的alpha，表示迭代的步长\n",
    "eta越大，迭代速度越快，算法的极限很快达到，有可能无法收敛到真正的最佳"
   ]
  },
  {
   "cell_type": "code",
   "execution_count": 98,
   "id": "7780becf",
   "metadata": {},
   "outputs": [],
   "source": [
    "# define fuction: print cross_val_score.mean()\n",
    "def regassess(reg,X_train,y_train,cv,scoring=['r2'],show=True):\n",
    "    score = []\n",
    "    for i in range(len(scoring)):\n",
    "        if show:\n",
    "            print(\"{}:{:.2f}\".format(scoring[i]\n",
    "                                ,CVS(reg\n",
    "                                    ,X_train,y_train\n",
    "                                    ,cv=cv\n",
    "                                    ,scoring=scoring[i]).mean()))\n",
    "        score.append(CVS(reg,X_train,y_train,cv=cv,scoring=scoring[i]).mean())\n",
    "    return score"
   ]
  },
  {
   "cell_type": "code",
   "execution_count": 99,
   "id": "2282b289",
   "metadata": {},
   "outputs": [],
   "source": [
    "reg = XGBR(n_estimators=15,random_state=420)"
   ]
  },
  {
   "cell_type": "code",
   "execution_count": 100,
   "id": "f9755c38",
   "metadata": {},
   "outputs": [
    {
     "name": "stdout",
     "output_type": "stream",
     "text": [
      "r2:0.83\n",
      "neg_mean_squared_error:-12.42\n"
     ]
    },
    {
     "data": {
      "text/plain": [
       "[0.8316366584941444, -12.42160655263006]"
      ]
     },
     "execution_count": 100,
     "metadata": {},
     "output_type": "execute_result"
    }
   ],
   "source": [
    "regassess(reg,X_train,y_train,cv,scoring=['r2','neg_mean_squared_error'])"
   ]
  },
  {
   "cell_type": "code",
   "execution_count": 101,
   "id": "fbd64b68",
   "metadata": {},
   "outputs": [
    {
     "name": "stdout",
     "output_type": "stream",
     "text": [
      "learning_rate = 0\n",
      "r2:-6.76\n",
      "neg_mean_squared_error:-567.55\n",
      "00:00:292065\n",
      "\t\n",
      "learning_rate = 0.2\n",
      "r2:0.79\n",
      "neg_mean_squared_error:-15.59\n",
      "00:00:320153\n",
      "\t\n",
      "learning_rate = 0.5\n",
      "r2:0.82\n",
      "neg_mean_squared_error:-12.48\n",
      "00:00:331774\n",
      "\t\n",
      "learning_rate = 1\n",
      "r2:0.71\n",
      "neg_mean_squared_error:-20.09\n",
      "00:00:344537\n",
      "\t\n"
     ]
    }
   ],
   "source": [
    "for i in [0,0.2,0.5,1]:\n",
    "    time0 = time()\n",
    "    reg = XGBR(n_estimators=15,learning_rate=i,random_state=420)\n",
    "    print(\"learning_rate = {}\".format(i))\n",
    "    regassess(reg,X_train,y_train,cv,scoring=['r2','neg_mean_squared_error'])\n",
    "    print(datetime.datetime.fromtimestamp(time()-time0).strftime(\"%M:%S:%f\"))\n",
    "    print(\"\\t\")"
   ]
  },
  {
   "cell_type": "code",
   "execution_count": 104,
   "id": "642b01c5",
   "metadata": {},
   "outputs": [
    {
     "name": "stdout",
     "output_type": "stream",
     "text": [
      "0.3 0.8316366584941444\n"
     ]
    },
    {
     "data": {
      "image/png": "[encoded data removed]",
      "text/plain": [
       "<Figure size 1440x360 with 1 Axes>"
      ]
     },
     "metadata": {
      "needs_background": "light"
     },
     "output_type": "display_data"
    }
   ],
   "source": [
    "axisx = np.arange(0.2,0.5,0.05)\n",
    "rs = []\n",
    "te = []\n",
    "for i in axisx:\n",
    "    reg = XGBR(n_estimators=15,learning_rate=i,random_state=420)\n",
    "    score = regassess(reg,X_train,y_train,cv,scoring=['r2','neg_mean_squared_error'],show=False)\n",
    "    test = reg.fit(X_train,y_train).score(X_test,y_test)\n",
    "    rs.append(score[0])\n",
    "    te.append(test)\n",
    "print(axisx[rs.index(max(rs))],max(rs))\n",
    "plt.figure(figsize=(20,5))\n",
    "plt.plot(axisx,rs,c='red',label='XGB-training')\n",
    "plt.plot(axisx,te,c='green',label='XGB-test')\n",
    "plt.legend()\n",
    "plt.show()"
   ]
  },
  {
   "cell_type": "markdown",
   "id": "ce3ee9f0",
   "metadata": {},
   "source": [
    "## Parameters"
   ]
  },
  {
   "cell_type": "markdown",
   "id": "b26f0662",
   "metadata": {},
   "source": [
    "### booster"
   ]
  },
  {
   "cell_type": "code",
   "execution_count": 9,
   "id": "bd7a193f",
   "metadata": {},
   "outputs": [
    {
     "name": "stdout",
     "output_type": "stream",
     "text": [
      "gbtree\n",
      "0.9032424246408705\n",
      "gblinear\n",
      "0.2555886020529411\n",
      "dart\n",
      "0.9032424287280978\n"
     ]
    }
   ],
   "source": [
    "for booster in ['gbtree','gblinear','dart']:\n",
    "    reg = XGBR(n_estimators=15\n",
    "              ,learning_rate=0.3\n",
    "              ,random_state=420\n",
    "              ,booster=booster).fit(X_train, y_train)\n",
    "    print(booster)\n",
    "    print(reg.score(X_test,y_test))"
   ]
  },
  {
   "cell_type": "markdown",
   "id": "5bb92a18",
   "metadata": {},
   "source": [
    "### objective"
   ]
  },
  {
   "cell_type": "code",
   "execution_count": 10,
   "id": "f1e1520d",
   "metadata": {},
   "outputs": [
    {
     "data": {
      "text/plain": [
       "0.9032424287280978"
      ]
     },
     "execution_count": 10,
     "metadata": {},
     "output_type": "execute_result"
    }
   ],
   "source": [
    "# sklearn API\n",
    "reg = XGBR(n_estimators=15\n",
    "              ,learning_rate=0.3\n",
    "              ,random_state=420\n",
    "              ,booster=booster).fit(X_train, y_train)\n",
    "reg.score(X_test,y_test)"
   ]
  },
  {
   "cell_type": "code",
   "execution_count": 12,
   "id": "e8e184b0",
   "metadata": {},
   "outputs": [
    {
     "data": {
      "text/plain": [
       "9.00366791403529"
      ]
     },
     "execution_count": 12,
     "metadata": {},
     "output_type": "execute_result"
    }
   ],
   "source": [
    "MSE(y_test, reg.predict(X_test))"
   ]
  },
  {
   "cell_type": "code",
   "execution_count": 13,
   "id": "cc6fd773",
   "metadata": {},
   "outputs": [],
   "source": [
    "# xgb\n",
    "import xgboost as xgb\n",
    "\n",
    "# read data\n",
    "dtrain = xgb.DMatrix(X_train,y_train)\n",
    "dtest = xgb.DMatrix(X_test,y_test)"
   ]
  },
  {
   "cell_type": "code",
   "execution_count": 15,
   "id": "f6b8bb45",
   "metadata": {},
   "outputs": [
    {
     "data": {
      "text/html": [
       "<div>\n",
       "<style scoped>\n",
       "    .dataframe tbody tr th:only-of-type {\n",
       "        vertical-align: middle;\n",
       "    }\n",
       "\n",
       "    .dataframe tbody tr th {\n",
       "        vertical-align: top;\n",
       "    }\n",
       "\n",
       "    .dataframe thead th {\n",
       "        text-align: right;\n",
       "    }\n",
       "</style>\n",
       "<table border=\"1\" class=\"dataframe\">\n",
       "  <thead>\n",
       "    <tr style=\"text-align: right;\">\n",
       "      <th></th>\n",
       "      <th>0</th>\n",
       "      <th>1</th>\n",
       "      <th>2</th>\n",
       "      <th>3</th>\n",
       "      <th>4</th>\n",
       "      <th>5</th>\n",
       "      <th>6</th>\n",
       "      <th>7</th>\n",
       "      <th>8</th>\n",
       "      <th>9</th>\n",
       "      <th>10</th>\n",
       "      <th>11</th>\n",
       "      <th>12</th>\n",
       "    </tr>\n",
       "  </thead>\n",
       "  <tbody>\n",
       "    <tr>\n",
       "      <th>0</th>\n",
       "      <td>0.03041</td>\n",
       "      <td>0.0</td>\n",
       "      <td>5.19</td>\n",
       "      <td>0.0</td>\n",
       "      <td>0.515</td>\n",
       "      <td>5.895</td>\n",
       "      <td>59.6</td>\n",
       "      <td>5.6150</td>\n",
       "      <td>5.0</td>\n",
       "      <td>224.0</td>\n",
       "      <td>20.2</td>\n",
       "      <td>394.81</td>\n",
       "      <td>10.56</td>\n",
       "    </tr>\n",
       "    <tr>\n",
       "      <th>1</th>\n",
       "      <td>0.04113</td>\n",
       "      <td>25.0</td>\n",
       "      <td>4.86</td>\n",
       "      <td>0.0</td>\n",
       "      <td>0.426</td>\n",
       "      <td>6.727</td>\n",
       "      <td>33.5</td>\n",
       "      <td>5.4007</td>\n",
       "      <td>4.0</td>\n",
       "      <td>281.0</td>\n",
       "      <td>19.0</td>\n",
       "      <td>396.90</td>\n",
       "      <td>5.29</td>\n",
       "    </tr>\n",
       "    <tr>\n",
       "      <th>2</th>\n",
       "      <td>10.23300</td>\n",
       "      <td>0.0</td>\n",
       "      <td>18.10</td>\n",
       "      <td>0.0</td>\n",
       "      <td>0.614</td>\n",
       "      <td>6.185</td>\n",
       "      <td>96.7</td>\n",
       "      <td>2.1705</td>\n",
       "      <td>24.0</td>\n",
       "      <td>666.0</td>\n",
       "      <td>20.2</td>\n",
       "      <td>379.70</td>\n",
       "      <td>18.03</td>\n",
       "    </tr>\n",
       "    <tr>\n",
       "      <th>3</th>\n",
       "      <td>0.17142</td>\n",
       "      <td>0.0</td>\n",
       "      <td>6.91</td>\n",
       "      <td>0.0</td>\n",
       "      <td>0.448</td>\n",
       "      <td>5.682</td>\n",
       "      <td>33.8</td>\n",
       "      <td>5.1004</td>\n",
       "      <td>3.0</td>\n",
       "      <td>233.0</td>\n",
       "      <td>17.9</td>\n",
       "      <td>396.90</td>\n",
       "      <td>10.21</td>\n",
       "    </tr>\n",
       "    <tr>\n",
       "      <th>4</th>\n",
       "      <td>0.05059</td>\n",
       "      <td>0.0</td>\n",
       "      <td>4.49</td>\n",
       "      <td>0.0</td>\n",
       "      <td>0.449</td>\n",
       "      <td>6.389</td>\n",
       "      <td>48.0</td>\n",
       "      <td>4.7794</td>\n",
       "      <td>3.0</td>\n",
       "      <td>247.0</td>\n",
       "      <td>18.5</td>\n",
       "      <td>396.90</td>\n",
       "      <td>9.62</td>\n",
       "    </tr>\n",
       "    <tr>\n",
       "      <th>...</th>\n",
       "      <td>...</td>\n",
       "      <td>...</td>\n",
       "      <td>...</td>\n",
       "      <td>...</td>\n",
       "      <td>...</td>\n",
       "      <td>...</td>\n",
       "      <td>...</td>\n",
       "      <td>...</td>\n",
       "      <td>...</td>\n",
       "      <td>...</td>\n",
       "      <td>...</td>\n",
       "      <td>...</td>\n",
       "      <td>...</td>\n",
       "    </tr>\n",
       "    <tr>\n",
       "      <th>349</th>\n",
       "      <td>0.03871</td>\n",
       "      <td>52.5</td>\n",
       "      <td>5.32</td>\n",
       "      <td>0.0</td>\n",
       "      <td>0.405</td>\n",
       "      <td>6.209</td>\n",
       "      <td>31.3</td>\n",
       "      <td>7.3172</td>\n",
       "      <td>6.0</td>\n",
       "      <td>293.0</td>\n",
       "      <td>16.6</td>\n",
       "      <td>396.90</td>\n",
       "      <td>7.14</td>\n",
       "    </tr>\n",
       "    <tr>\n",
       "      <th>350</th>\n",
       "      <td>0.12650</td>\n",
       "      <td>25.0</td>\n",
       "      <td>5.13</td>\n",
       "      <td>0.0</td>\n",
       "      <td>0.453</td>\n",
       "      <td>6.762</td>\n",
       "      <td>43.4</td>\n",
       "      <td>7.9809</td>\n",
       "      <td>8.0</td>\n",
       "      <td>284.0</td>\n",
       "      <td>19.7</td>\n",
       "      <td>395.58</td>\n",
       "      <td>9.50</td>\n",
       "    </tr>\n",
       "    <tr>\n",
       "      <th>351</th>\n",
       "      <td>6.96215</td>\n",
       "      <td>0.0</td>\n",
       "      <td>18.10</td>\n",
       "      <td>0.0</td>\n",
       "      <td>0.700</td>\n",
       "      <td>5.713</td>\n",
       "      <td>97.0</td>\n",
       "      <td>1.9265</td>\n",
       "      <td>24.0</td>\n",
       "      <td>666.0</td>\n",
       "      <td>20.2</td>\n",
       "      <td>394.43</td>\n",
       "      <td>17.11</td>\n",
       "    </tr>\n",
       "    <tr>\n",
       "      <th>352</th>\n",
       "      <td>0.09164</td>\n",
       "      <td>0.0</td>\n",
       "      <td>10.81</td>\n",
       "      <td>0.0</td>\n",
       "      <td>0.413</td>\n",
       "      <td>6.065</td>\n",
       "      <td>7.8</td>\n",
       "      <td>5.2873</td>\n",
       "      <td>4.0</td>\n",
       "      <td>305.0</td>\n",
       "      <td>19.2</td>\n",
       "      <td>390.91</td>\n",
       "      <td>5.52</td>\n",
       "    </tr>\n",
       "    <tr>\n",
       "      <th>353</th>\n",
       "      <td>5.58107</td>\n",
       "      <td>0.0</td>\n",
       "      <td>18.10</td>\n",
       "      <td>0.0</td>\n",
       "      <td>0.713</td>\n",
       "      <td>6.436</td>\n",
       "      <td>87.9</td>\n",
       "      <td>2.3158</td>\n",
       "      <td>24.0</td>\n",
       "      <td>666.0</td>\n",
       "      <td>20.2</td>\n",
       "      <td>100.19</td>\n",
       "      <td>16.22</td>\n",
       "    </tr>\n",
       "  </tbody>\n",
       "</table>\n",
       "<p>354 rows × 13 columns</p>\n",
       "</div>"
      ],
      "text/plain": [
       "           0     1      2    3      4      5     6       7     8      9   \\\n",
       "0     0.03041   0.0   5.19  0.0  0.515  5.895  59.6  5.6150   5.0  224.0   \n",
       "1     0.04113  25.0   4.86  0.0  0.426  6.727  33.5  5.4007   4.0  281.0   \n",
       "2    10.23300   0.0  18.10  0.0  0.614  6.185  96.7  2.1705  24.0  666.0   \n",
       "3     0.17142   0.0   6.91  0.0  0.448  5.682  33.8  5.1004   3.0  233.0   \n",
       "4     0.05059   0.0   4.49  0.0  0.449  6.389  48.0  4.7794   3.0  247.0   \n",
       "..        ...   ...    ...  ...    ...    ...   ...     ...   ...    ...   \n",
       "349   0.03871  52.5   5.32  0.0  0.405  6.209  31.3  7.3172   6.0  293.0   \n",
       "350   0.12650  25.0   5.13  0.0  0.453  6.762  43.4  7.9809   8.0  284.0   \n",
       "351   6.96215   0.0  18.10  0.0  0.700  5.713  97.0  1.9265  24.0  666.0   \n",
       "352   0.09164   0.0  10.81  0.0  0.413  6.065   7.8  5.2873   4.0  305.0   \n",
       "353   5.58107   0.0  18.10  0.0  0.713  6.436  87.9  2.3158  24.0  666.0   \n",
       "\n",
       "       10      11     12  \n",
       "0    20.2  394.81  10.56  \n",
       "1    19.0  396.90   5.29  \n",
       "2    20.2  379.70  18.03  \n",
       "3    17.9  396.90  10.21  \n",
       "4    18.5  396.90   9.62  \n",
       "..    ...     ...    ...  \n",
       "349  16.6  396.90   7.14  \n",
       "350  19.7  395.58   9.50  \n",
       "351  20.2  394.43  17.11  \n",
       "352  19.2  390.91   5.52  \n",
       "353  20.2  100.19  16.22  \n",
       "\n",
       "[354 rows x 13 columns]"
      ]
     },
     "execution_count": 15,
     "metadata": {},
     "output_type": "execute_result"
    }
   ],
   "source": [
    "# import to pandas to see the data\n",
    "# dtrain cannot be read\n",
    "pd.DataFrame(X_train)"
   ]
  },
  {
   "cell_type": "code",
   "execution_count": 16,
   "id": "a69be449",
   "metadata": {},
   "outputs": [],
   "source": [
    "# set params\n",
    "param = {'silent':False\n",
    "         ,'objective':'reg:linear'\n",
    "         ,'eta':0.3\n",
    "        }\n",
    "num_round = 15"
   ]
  },
  {
   "cell_type": "code",
   "execution_count": 17,
   "id": "badcdeff",
   "metadata": {},
   "outputs": [
    {
     "name": "stdout",
     "output_type": "stream",
     "text": [
      "[11:56:24] WARNING: C:/Users/Administrator/workspace/xgboost-win64_release_1.6.0/src/objective/regression_obj.cu:203: reg:linear is now deprecated in favor of reg:squarederror.\n",
      "[11:56:24] WARNING: C:/Users/Administrator/workspace/xgboost-win64_release_1.6.0/src/learner.cc:627: \n",
      "Parameters: { \"silent\" } might not be used.\n",
      "\n",
      "  This could be a false alarm, with some parameters getting used by language bindings but\n",
      "  then being mistakenly passed down to XGBoost core, or some parameter actually being used\n",
      "  but getting flagged wrongly here. Please open an issue if you find any such cases.\n",
      "\n",
      "\n"
     ]
    }
   ],
   "source": [
    "bst = xgb.train(param,dtrain,num_round)"
   ]
  },
  {
   "cell_type": "code",
   "execution_count": 18,
   "id": "04db5457",
   "metadata": {},
   "outputs": [],
   "source": [
    "preds = bst.predict(dtest)"
   ]
  },
  {
   "cell_type": "code",
   "execution_count": 19,
   "id": "203f67ba",
   "metadata": {},
   "outputs": [
    {
     "data": {
      "text/plain": [
       "array([ 6.66613 , 23.043736, 31.186098, 13.260312,  9.522438, 21.586727,\n",
       "       14.921668, 14.568327, 14.922807, 11.865495, 25.091711, 35.17635 ,\n",
       "       20.424477, 26.992748, 19.01196 , 10.147176, 22.962017, 24.355452,\n",
       "       23.395031, 22.448553, 18.288166, 16.2632  , 25.111977, 20.308386,\n",
       "       20.03337 , 15.792682, 21.893843, 30.310465, 22.901709, 17.046076,\n",
       "       35.709972, 20.629528, 20.033772, 23.854162, 23.003927, 24.101784,\n",
       "       15.649354, 23.062927, 17.640398, 31.099024, 18.380018, 21.687183,\n",
       "       37.395668, 17.799994, 13.49722 , 28.778645, 45.34947 , 12.700996,\n",
       "       10.522727, 35.871586, 25.590792, 20.775051, 20.93299 , 48.497208,\n",
       "       30.939093, 29.83225 , 19.579744, 20.656752, 16.19512 , 17.7077  ,\n",
       "       14.613887, 21.92294 , 19.392311, 29.015112, 29.254725, 19.176561,\n",
       "       20.809456, 16.124592, 23.585567, 19.115513, 27.906435, 42.33857 ,\n",
       "       28.367836, 23.486462, 19.980444, 23.850855, 38.433105, 27.498747,\n",
       "       22.84804 , 21.03535 , 19.825293, 46.08833 , 23.060905,  8.738048,\n",
       "       25.579866, 21.085108, 17.339798, 21.365131, 21.950535,  7.804409,\n",
       "       19.918783, 14.613887, 41.988655, 33.805687, 23.103   , 10.336174,\n",
       "       10.009341, 19.991545,  8.873415, 11.490731, 29.90213 , 10.182675,\n",
       "       24.725391, 21.7541  , 29.905102, 42.818905, 20.142782,  8.278184,\n",
       "       23.363346, 14.30068 , 46.286686, 22.277021, 20.884434, 24.08925 ,\n",
       "       19.298752, 29.620256, 24.268877, 18.323011, 43.88916 , 17.345856,\n",
       "       24.019367, 23.55166 , 18.377771, 16.818441, 14.97658 , 21.371363,\n",
       "       33.804413, 10.033447, 20.37845 , 20.620132, 17.22126 , 20.165012,\n",
       "        8.06736 , 27.108215, 28.364996, 20.224873, 18.808588, 13.785933,\n",
       "       10.327881, 17.993408, 41.92198 , 17.289255, 23.146667, 20.600773,\n",
       "       30.317734, 19.666622, 13.214379, 41.66663 , 27.798086, 22.645569,\n",
       "       13.948351, 25.66789 ], dtype=float32)"
      ]
     },
     "execution_count": 19,
     "metadata": {},
     "output_type": "execute_result"
    }
   ],
   "source": [
    "preds"
   ]
  },
  {
   "cell_type": "code",
   "execution_count": 20,
   "id": "3bb361a3",
   "metadata": {},
   "outputs": [
    {
     "data": {
      "text/plain": [
       "0.9032424246408705"
      ]
     },
     "execution_count": 20,
     "metadata": {},
     "output_type": "execute_result"
    }
   ],
   "source": [
    "from sklearn.metrics import r2_score\n",
    "r2_score(y_test,preds)"
   ]
  },
  {
   "cell_type": "code",
   "execution_count": 21,
   "id": "a46ed25d",
   "metadata": {},
   "outputs": [
    {
     "data": {
      "text/plain": [
       "9.003668294367671"
      ]
     },
     "execution_count": 21,
     "metadata": {},
     "output_type": "execute_result"
    }
   ],
   "source": [
    "MSE(y_test, preds)"
   ]
  },
  {
   "cell_type": "markdown",
   "id": "c8fa0ecc",
   "metadata": {},
   "source": [
    "### alpha/lamda, gamma"
   ]
  },
  {
   "cell_type": "markdown",
   "id": "9063e424",
   "metadata": {},
   "source": [
    "L1: alpha  default=0\n",
    "L2: lambda default=1\n",
    "gamma：make the tree stop growing\n",
    "       when \"gain\">gamma,the tree will be grow"
   ]
  },
  {
   "cell_type": "code",
   "execution_count": 24,
   "id": "ac338777",
   "metadata": {},
   "outputs": [
    {
     "name": "stdout",
     "output_type": "stream",
     "text": [
      "0.8 0.8359788796415561 0.004716235362055888\n",
      "1.2000000000000002 0.0037516007035225804 0.831487885858911\n",
      "0.6000000000000001 0.031463534557285004 0.8350076788348224 0.004241068513811896\n"
     ]
    },
    {
     "data": {
      "image/png": "[encoded data removed]",
      "text/plain": [
       "<Figure size 1440x360 with 1 Axes>"
      ]
     },
     "metadata": {
      "needs_background": "light"
     },
     "output_type": "display_data"
    }
   ],
   "source": [
    "axisx = np.arange(0,5,0.05)\n",
    "cv = KFold(n_splits=5, shuffle=True, random_state=42)\n",
    "rs = []\n",
    "var = []   # var record\n",
    "ge = []  # bias^2+var record\n",
    "\n",
    "for i in axisx:\n",
    "    reg = XGBR(n_estimators=15,gamma=i,random_state=420)\n",
    "    cvresult = CVS(reg,X_train,y_train,cv=cv)\n",
    "    rs.append(cvresult.mean())\n",
    "    var.append(cvresult.var())\n",
    "    ge.append((1-cvresult.mean())**2+cvresult.var())\n",
    "    \n",
    "print(axisx[rs.index(max(rs))],max(rs),var[rs.index(max(rs))])\n",
    "print(axisx[var.index(min(var))],min(var),rs[var.index(min(var))])\n",
    "print(axisx[ge.index(min(ge))],min(ge),rs[ge.index(min(ge))],var[ge.index(min(ge))]) \n",
    "\n",
    "plt.figure(figsize=(20,5))\n",
    "plt.plot(axisx,rs,c='red',label='XGB')\n",
    "# add variance line\n",
    "rs = np.array(rs)\n",
    "var = np.array(var)*0.5\n",
    "plt.plot(axisx,rs+var,c='black',linestyle='-.')\n",
    "plt.plot(axisx,rs-var,c='black',linestyle='-.')\n",
    "\n",
    "plt.legend()\n",
    "plt.show()"
   ]
  },
  {
   "cell_type": "markdown",
   "id": "833ac89a",
   "metadata": {},
   "source": [
    "#### xgboost.cv - for finding gamma"
   ]
  },
  {
   "cell_type": "markdown",
   "id": "77d7e707",
   "metadata": {},
   "source": [
    "return train score and test score\n",
    "\n",
    "xgboost.cv(params, dtrain, num_boost_round=10, nfold=3, stratified=False, folds=None, metrics=(), obj=None, feval=None, maximize=None, early_stopping_rounds=None, fpreproc=None, as_pandas=True, verbose_eval=None, show_stdv=True, seed=0, callbacks=None, shuffle=True, custom_metric=None)"
   ]
  },
  {
   "cell_type": "code",
   "execution_count": 25,
   "id": "81014438",
   "metadata": {},
   "outputs": [],
   "source": [
    "import xgboost as xgb\n",
    "dfull = xgb.DMatrix(X,y)"
   ]
  },
  {
   "cell_type": "code",
   "execution_count": 27,
   "id": "83e8fc55",
   "metadata": {},
   "outputs": [],
   "source": [
    "param1 = {'silent':True, 'obj':'reg:linear','gamma':0}\n",
    "num_round = 100\n",
    "n_fold = 5"
   ]
  },
  {
   "cell_type": "code",
   "execution_count": 30,
   "id": "14ed1374",
   "metadata": {},
   "outputs": [
    {
     "name": "stdout",
     "output_type": "stream",
     "text": [
      "[16:53:46] WARNING: C:/Users/Administrator/workspace/xgboost-win64_release_1.6.0/src/learner.cc:627: \n",
      "Parameters: { \"obj\", \"silent\" } might not be used.\n",
      "\n",
      "  This could be a false alarm, with some parameters getting used by language bindings but\n",
      "  then being mistakenly passed down to XGBoost core, or some parameter actually being used\n",
      "  but getting flagged wrongly here. Please open an issue if you find any such cases.\n",
      "\n",
      "\n",
      "[16:53:46] WARNING: C:/Users/Administrator/workspace/xgboost-win64_release_1.6.0/src/learner.cc:627: \n",
      "Parameters: { \"obj\", \"silent\" } might not be used.\n",
      "\n",
      "  This could be a false alarm, with some parameters getting used by language bindings but\n",
      "  then being mistakenly passed down to XGBoost core, or some parameter actually being used\n",
      "  but getting flagged wrongly here. Please open an issue if you find any such cases.\n",
      "\n",
      "\n",
      "[16:53:46] WARNING: C:/Users/Administrator/workspace/xgboost-win64_release_1.6.0/src/learner.cc:627: \n",
      "Parameters: { \"obj\", \"silent\" } might not be used.\n",
      "\n",
      "  This could be a false alarm, with some parameters getting used by language bindings but\n",
      "  then being mistakenly passed down to XGBoost core, or some parameter actually being used\n",
      "  but getting flagged wrongly here. Please open an issue if you find any such cases.\n",
      "\n",
      "\n",
      "[16:53:46] WARNING: C:/Users/Administrator/workspace/xgboost-win64_release_1.6.0/src/learner.cc:627: \n",
      "Parameters: { \"obj\", \"silent\" } might not be used.\n",
      "\n",
      "  This could be a false alarm, with some parameters getting used by language bindings but\n",
      "  then being mistakenly passed down to XGBoost core, or some parameter actually being used\n",
      "  but getting flagged wrongly here. Please open an issue if you find any such cases.\n",
      "\n",
      "\n",
      "[16:53:46] WARNING: C:/Users/Administrator/workspace/xgboost-win64_release_1.6.0/src/learner.cc:627: \n",
      "Parameters: { \"obj\", \"silent\" } might not be used.\n",
      "\n",
      "  This could be a false alarm, with some parameters getting used by language bindings but\n",
      "  then being mistakenly passed down to XGBoost core, or some parameter actually being used\n",
      "  but getting flagged wrongly here. Please open an issue if you find any such cases.\n",
      "\n",
      "\n",
      "00:00:674355\n"
     ]
    }
   ],
   "source": [
    "time0 = time()\n",
    "cvresult1 = xgb.cv(param1,dfull,num_round,n_fold)\n",
    "print(datetime.datetime.fromtimestamp(time()-time0).strftime(\"%M:%S:%f\"))"
   ]
  },
  {
   "cell_type": "code",
   "execution_count": 31,
   "id": "cfbf1ea5",
   "metadata": {},
   "outputs": [
    {
     "data": {
      "text/html": [
       "<div>\n",
       "<style scoped>\n",
       "    .dataframe tbody tr th:only-of-type {\n",
       "        vertical-align: middle;\n",
       "    }\n",
       "\n",
       "    .dataframe tbody tr th {\n",
       "        vertical-align: top;\n",
       "    }\n",
       "\n",
       "    .dataframe thead th {\n",
       "        text-align: right;\n",
       "    }\n",
       "</style>\n",
       "<table border=\"1\" class=\"dataframe\">\n",
       "  <thead>\n",
       "    <tr style=\"text-align: right;\">\n",
       "      <th></th>\n",
       "      <th>train-rmse-mean</th>\n",
       "      <th>train-rmse-std</th>\n",
       "      <th>test-rmse-mean</th>\n",
       "      <th>test-rmse-std</th>\n",
       "    </tr>\n",
       "  </thead>\n",
       "  <tbody>\n",
       "    <tr>\n",
       "      <th>0</th>\n",
       "      <td>17.105578</td>\n",
       "      <td>0.129116</td>\n",
       "      <td>17.163215</td>\n",
       "      <td>0.584297</td>\n",
       "    </tr>\n",
       "    <tr>\n",
       "      <th>1</th>\n",
       "      <td>12.337973</td>\n",
       "      <td>0.097557</td>\n",
       "      <td>12.519736</td>\n",
       "      <td>0.473458</td>\n",
       "    </tr>\n",
       "    <tr>\n",
       "      <th>2</th>\n",
       "      <td>8.994071</td>\n",
       "      <td>0.065756</td>\n",
       "      <td>9.404534</td>\n",
       "      <td>0.472310</td>\n",
       "    </tr>\n",
       "    <tr>\n",
       "      <th>3</th>\n",
       "      <td>6.629481</td>\n",
       "      <td>0.050323</td>\n",
       "      <td>7.250335</td>\n",
       "      <td>0.500342</td>\n",
       "    </tr>\n",
       "    <tr>\n",
       "      <th>4</th>\n",
       "      <td>4.954406</td>\n",
       "      <td>0.033209</td>\n",
       "      <td>5.920812</td>\n",
       "      <td>0.591874</td>\n",
       "    </tr>\n",
       "    <tr>\n",
       "      <th>...</th>\n",
       "      <td>...</td>\n",
       "      <td>...</td>\n",
       "      <td>...</td>\n",
       "      <td>...</td>\n",
       "    </tr>\n",
       "    <tr>\n",
       "      <th>95</th>\n",
       "      <td>0.025204</td>\n",
       "      <td>0.005145</td>\n",
       "      <td>3.669921</td>\n",
       "      <td>0.858313</td>\n",
       "    </tr>\n",
       "    <tr>\n",
       "      <th>96</th>\n",
       "      <td>0.024422</td>\n",
       "      <td>0.005242</td>\n",
       "      <td>3.669984</td>\n",
       "      <td>0.858255</td>\n",
       "    </tr>\n",
       "    <tr>\n",
       "      <th>97</th>\n",
       "      <td>0.023661</td>\n",
       "      <td>0.005117</td>\n",
       "      <td>3.669947</td>\n",
       "      <td>0.858332</td>\n",
       "    </tr>\n",
       "    <tr>\n",
       "      <th>98</th>\n",
       "      <td>0.022562</td>\n",
       "      <td>0.004705</td>\n",
       "      <td>3.669868</td>\n",
       "      <td>0.858578</td>\n",
       "    </tr>\n",
       "    <tr>\n",
       "      <th>99</th>\n",
       "      <td>0.021496</td>\n",
       "      <td>0.004738</td>\n",
       "      <td>3.669824</td>\n",
       "      <td>0.858305</td>\n",
       "    </tr>\n",
       "  </tbody>\n",
       "</table>\n",
       "<p>100 rows × 4 columns</p>\n",
       "</div>"
      ],
      "text/plain": [
       "    train-rmse-mean  train-rmse-std  test-rmse-mean  test-rmse-std\n",
       "0         17.105578        0.129116       17.163215       0.584297\n",
       "1         12.337973        0.097557       12.519736       0.473458\n",
       "2          8.994071        0.065756        9.404534       0.472310\n",
       "3          6.629481        0.050323        7.250335       0.500342\n",
       "4          4.954406        0.033209        5.920812       0.591874\n",
       "..              ...             ...             ...            ...\n",
       "95         0.025204        0.005145        3.669921       0.858313\n",
       "96         0.024422        0.005242        3.669984       0.858255\n",
       "97         0.023661        0.005117        3.669947       0.858332\n",
       "98         0.022562        0.004705        3.669868       0.858578\n",
       "99         0.021496        0.004738        3.669824       0.858305\n",
       "\n",
       "[100 rows x 4 columns]"
      ]
     },
     "execution_count": 31,
     "metadata": {},
     "output_type": "execute_result"
    }
   ],
   "source": [
    "cvresult1\n",
    "# return MSE on train & test fron round 1 to 100"
   ]
  },
  {
   "cell_type": "code",
   "execution_count": 33,
   "id": "2464fd92",
   "metadata": {},
   "outputs": [
    {
     "data": {
      "image/png": "[encoded data removed]",
      "text/plain": [
       "<Figure size 1440x360 with 1 Axes>"
      ]
     },
     "metadata": {
      "needs_background": "light"
     },
     "output_type": "display_data"
    }
   ],
   "source": [
    "plt.figure(figsize=(20,5))\n",
    "plt.grid()\n",
    "plt.plot(range(1,101),cvresult1.iloc[:,0],c='red',label='train, gamma=0')\n",
    "plt.plot(range(1,101),cvresult1.iloc[:,2],c='orange',label='test, gamma=0')\n",
    "plt.legend()\n",
    "plt.show()"
   ]
  },
  {
   "cell_type": "markdown",
   "id": "aa948284",
   "metadata": {},
   "source": [
    "##### eval_metric"
   ]
  },
  {
   "cell_type": "code",
   "execution_count": 34,
   "id": "8f5f4645",
   "metadata": {},
   "outputs": [
    {
     "name": "stdout",
     "output_type": "stream",
     "text": [
      "[17:03:45] WARNING: C:/Users/Administrator/workspace/xgboost-win64_release_1.6.0/src/learner.cc:627: \n",
      "Parameters: { \"obj\", \"silent\" } might not be used.\n",
      "\n",
      "  This could be a false alarm, with some parameters getting used by language bindings but\n",
      "  then being mistakenly passed down to XGBoost core, or some parameter actually being used\n",
      "  but getting flagged wrongly here. Please open an issue if you find any such cases.\n",
      "\n",
      "\n",
      "[17:03:45] WARNING: C:/Users/Administrator/workspace/xgboost-win64_release_1.6.0/src/learner.cc:627: \n",
      "Parameters: { \"obj\", \"silent\" } might not be used.\n",
      "\n",
      "  This could be a false alarm, with some parameters getting used by language bindings but\n",
      "  then being mistakenly passed down to XGBoost core, or some parameter actually being used\n",
      "  but getting flagged wrongly here. Please open an issue if you find any such cases.\n",
      "\n",
      "\n",
      "[17:03:45] WARNING: C:/Users/Administrator/workspace/xgboost-win64_release_1.6.0/src/learner.cc:627: \n",
      "Parameters: { \"obj\", \"silent\" } might not be used.\n",
      "\n",
      "  This could be a false alarm, with some parameters getting used by language bindings but\n",
      "  then being mistakenly passed down to XGBoost core, or some parameter actually being used\n",
      "  but getting flagged wrongly here. Please open an issue if you find any such cases.\n",
      "\n",
      "\n",
      "[17:03:45] WARNING: C:/Users/Administrator/workspace/xgboost-win64_release_1.6.0/src/learner.cc:627: \n",
      "Parameters: { \"obj\", \"silent\" } might not be used.\n",
      "\n",
      "  This could be a false alarm, with some parameters getting used by language bindings but\n",
      "  then being mistakenly passed down to XGBoost core, or some parameter actually being used\n",
      "  but getting flagged wrongly here. Please open an issue if you find any such cases.\n",
      "\n",
      "\n",
      "[17:03:45] WARNING: C:/Users/Administrator/workspace/xgboost-win64_release_1.6.0/src/learner.cc:627: \n",
      "Parameters: { \"obj\", \"silent\" } might not be used.\n",
      "\n",
      "  This could be a false alarm, with some parameters getting used by language bindings but\n",
      "  then being mistakenly passed down to XGBoost core, or some parameter actually being used\n",
      "  but getting flagged wrongly here. Please open an issue if you find any such cases.\n",
      "\n",
      "\n"
     ]
    },
    {
     "data": {
      "image/png": "[encoded data removed]",
      "text/plain": [
       "<Figure size 1440x360 with 1 Axes>"
      ]
     },
     "metadata": {
      "needs_background": "light"
     },
     "output_type": "display_data"
    }
   ],
   "source": [
    "param1 = {'silent':True, 'obj':'reg:linear','gamma':0,'eval_metric':'mae'}\n",
    "cvresult1 = xgb.cv(param1,dfull,num_round,n_fold)\n",
    "\n",
    "plt.figure(figsize=(20,5))\n",
    "plt.grid()\n",
    "plt.plot(range(1,101),cvresult1.iloc[:,0],c='red',label='train, gamma=0')\n",
    "plt.plot(range(1,101),cvresult1.iloc[:,2],c='orange',label='test, gamma=0')\n",
    "plt.legend()\n",
    "plt.show()"
   ]
  },
  {
   "cell_type": "code",
   "execution_count": 38,
   "id": "608b3c99",
   "metadata": {},
   "outputs": [
    {
     "name": "stdout",
     "output_type": "stream",
     "text": [
      "[17:07:50] WARNING: C:/Users/Administrator/workspace/xgboost-win64_release_1.6.0/src/learner.cc:627: \n",
      "Parameters: { \"obj\", \"silent\" } might not be used.\n",
      "\n",
      "  This could be a false alarm, with some parameters getting used by language bindings but\n",
      "  then being mistakenly passed down to XGBoost core, or some parameter actually being used\n",
      "  but getting flagged wrongly here. Please open an issue if you find any such cases.\n",
      "\n",
      "\n",
      "[17:07:50] WARNING: C:/Users/Administrator/workspace/xgboost-win64_release_1.6.0/src/learner.cc:627: \n",
      "Parameters: { \"obj\", \"silent\" } might not be used.\n",
      "\n",
      "  This could be a false alarm, with some parameters getting used by language bindings but\n",
      "  then being mistakenly passed down to XGBoost core, or some parameter actually being used\n",
      "  but getting flagged wrongly here. Please open an issue if you find any such cases.\n",
      "\n",
      "\n",
      "[17:07:50] WARNING: C:/Users/Administrator/workspace/xgboost-win64_release_1.6.0/src/learner.cc:627: \n",
      "Parameters: { \"obj\", \"silent\" } might not be used.\n",
      "\n",
      "  This could be a false alarm, with some parameters getting used by language bindings but\n",
      "  then being mistakenly passed down to XGBoost core, or some parameter actually being used\n",
      "  but getting flagged wrongly here. Please open an issue if you find any such cases.\n",
      "\n",
      "\n",
      "[17:07:50] WARNING: C:/Users/Administrator/workspace/xgboost-win64_release_1.6.0/src/learner.cc:627: \n",
      "Parameters: { \"obj\", \"silent\" } might not be used.\n",
      "\n",
      "  This could be a false alarm, with some parameters getting used by language bindings but\n",
      "  then being mistakenly passed down to XGBoost core, or some parameter actually being used\n",
      "  but getting flagged wrongly here. Please open an issue if you find any such cases.\n",
      "\n",
      "\n",
      "[17:07:50] WARNING: C:/Users/Administrator/workspace/xgboost-win64_release_1.6.0/src/learner.cc:627: \n",
      "Parameters: { \"obj\", \"silent\" } might not be used.\n",
      "\n",
      "  This could be a false alarm, with some parameters getting used by language bindings but\n",
      "  then being mistakenly passed down to XGBoost core, or some parameter actually being used\n",
      "  but getting flagged wrongly here. Please open an issue if you find any such cases.\n",
      "\n",
      "\n"
     ]
    },
    {
     "data": {
      "image/png": "[encoded data removed]",
      "text/plain": [
       "<Figure size 1440x360 with 1 Axes>"
      ]
     },
     "metadata": {
      "needs_background": "light"
     },
     "output_type": "display_data"
    }
   ],
   "source": [
    "param1 = {'silent':False, 'obj':'reg:linear','gamma':0,'eval_metric':'mae'}\n",
    "num_round = 40\n",
    "n_fold = 5\n",
    "cvresult2 = xgb.cv(param1,dfull,num_round,n_fold)\n",
    "\n",
    "plt.figure(figsize=(20,5))\n",
    "plt.grid()\n",
    "plt.plot(range(1,41),cvresult2.iloc[:,0],c='red',label='train, gamma=0')\n",
    "plt.plot(range(1,41),cvresult2.iloc[:,2],c='orange',label='test, gamma=0')\n",
    "plt.legend()\n",
    "plt.show()"
   ]
  },
  {
   "cell_type": "markdown",
   "id": "397fbdc1",
   "metadata": {},
   "source": [
    "Findings: \n",
    "1. Overfitting - Tuning: find best gamma to minimize overfitting\n",
    "2. n_estimators should be around 35-40"
   ]
  },
  {
   "cell_type": "code",
   "execution_count": 40,
   "id": "d8b72475",
   "metadata": {},
   "outputs": [
    {
     "name": "stdout",
     "output_type": "stream",
     "text": [
      "[17:12:10] WARNING: C:/Users/Administrator/workspace/xgboost-win64_release_1.6.0/src/learner.cc:627: \n",
      "Parameters: { \"obj\", \"silent\" } might not be used.\n",
      "\n",
      "  This could be a false alarm, with some parameters getting used by language bindings but\n",
      "  then being mistakenly passed down to XGBoost core, or some parameter actually being used\n",
      "  but getting flagged wrongly here. Please open an issue if you find any such cases.\n",
      "\n",
      "\n",
      "[17:12:10] WARNING: C:/Users/Administrator/workspace/xgboost-win64_release_1.6.0/src/learner.cc:627: \n",
      "Parameters: { \"obj\", \"silent\" } might not be used.\n",
      "\n",
      "  This could be a false alarm, with some parameters getting used by language bindings but\n",
      "  then being mistakenly passed down to XGBoost core, or some parameter actually being used\n",
      "  but getting flagged wrongly here. Please open an issue if you find any such cases.\n",
      "\n",
      "\n",
      "[17:12:10] WARNING: C:/Users/Administrator/workspace/xgboost-win64_release_1.6.0/src/learner.cc:627: \n",
      "Parameters: { \"obj\", \"silent\" } might not be used.\n",
      "\n",
      "  This could be a false alarm, with some parameters getting used by language bindings but\n",
      "  then being mistakenly passed down to XGBoost core, or some parameter actually being used\n",
      "  but getting flagged wrongly here. Please open an issue if you find any such cases.\n",
      "\n",
      "\n",
      "[17:12:10] WARNING: C:/Users/Administrator/workspace/xgboost-win64_release_1.6.0/src/learner.cc:627: \n",
      "Parameters: { \"obj\", \"silent\" } might not be used.\n",
      "\n",
      "  This could be a false alarm, with some parameters getting used by language bindings but\n",
      "  then being mistakenly passed down to XGBoost core, or some parameter actually being used\n",
      "  but getting flagged wrongly here. Please open an issue if you find any such cases.\n",
      "\n",
      "\n",
      "[17:12:10] WARNING: C:/Users/Administrator/workspace/xgboost-win64_release_1.6.0/src/learner.cc:627: \n",
      "Parameters: { \"obj\", \"silent\" } might not be used.\n",
      "\n",
      "  This could be a false alarm, with some parameters getting used by language bindings but\n",
      "  then being mistakenly passed down to XGBoost core, or some parameter actually being used\n",
      "  but getting flagged wrongly here. Please open an issue if you find any such cases.\n",
      "\n",
      "\n",
      "[17:12:11] WARNING: C:/Users/Administrator/workspace/xgboost-win64_release_1.6.0/src/learner.cc:627: \n",
      "Parameters: { \"obj\", \"silent\" } might not be used.\n",
      "\n",
      "  This could be a false alarm, with some parameters getting used by language bindings but\n",
      "  then being mistakenly passed down to XGBoost core, or some parameter actually being used\n",
      "  but getting flagged wrongly here. Please open an issue if you find any such cases.\n",
      "\n",
      "\n",
      "[17:12:11] WARNING: C:/Users/Administrator/workspace/xgboost-win64_release_1.6.0/src/learner.cc:627: \n",
      "Parameters: { \"obj\", \"silent\" } might not be used.\n",
      "\n",
      "  This could be a false alarm, with some parameters getting used by language bindings but\n",
      "  then being mistakenly passed down to XGBoost core, or some parameter actually being used\n",
      "  but getting flagged wrongly here. Please open an issue if you find any such cases.\n",
      "\n",
      "\n",
      "[17:12:11] WARNING: C:/Users/Administrator/workspace/xgboost-win64_release_1.6.0/src/learner.cc:627: \n",
      "Parameters: { \"obj\", \"silent\" } might not be used.\n",
      "\n",
      "  This could be a false alarm, with some parameters getting used by language bindings but\n",
      "  then being mistakenly passed down to XGBoost core, or some parameter actually being used\n",
      "  but getting flagged wrongly here. Please open an issue if you find any such cases.\n",
      "\n",
      "\n",
      "[17:12:11] WARNING: C:/Users/Administrator/workspace/xgboost-win64_release_1.6.0/src/learner.cc:627: \n",
      "Parameters: { \"obj\", \"silent\" } might not be used.\n",
      "\n",
      "  This could be a false alarm, with some parameters getting used by language bindings but\n",
      "  then being mistakenly passed down to XGBoost core, or some parameter actually being used\n",
      "  but getting flagged wrongly here. Please open an issue if you find any such cases.\n",
      "\n",
      "\n",
      "[17:12:11] WARNING: C:/Users/Administrator/workspace/xgboost-win64_release_1.6.0/src/learner.cc:627: \n",
      "Parameters: { \"obj\", \"silent\" } might not be used.\n",
      "\n",
      "  This could be a false alarm, with some parameters getting used by language bindings but\n",
      "  then being mistakenly passed down to XGBoost core, or some parameter actually being used\n",
      "  but getting flagged wrongly here. Please open an issue if you find any such cases.\n",
      "\n",
      "\n"
     ]
    },
    {
     "data": {
      "image/png": "[encoded data removed]",
      "text/plain": [
       "<Figure size 1440x360 with 1 Axes>"
      ]
     },
     "metadata": {
      "needs_background": "light"
     },
     "output_type": "display_data"
    }
   ],
   "source": [
    "param1 = {'silent':False, 'obj':'reg:linear','gamma':0}\n",
    "param2 = {'silent':False, 'obj':'reg:linear','gamma':20} # set large gamma, to stop overfitting\n",
    "num_round = 40\n",
    "n_fold = 5\n",
    "\n",
    "cvresult1 = xgb.cv(param1,dfull,num_round,n_fold)\n",
    "cvresult2 = xgb.cv(param2,dfull,num_round,n_fold)\n",
    "\n",
    "plt.figure(figsize=(20,5))\n",
    "plt.grid()\n",
    "plt.plot(range(1,41),cvresult1.iloc[:,0],c='red',label='train, gamma=0')\n",
    "plt.plot(range(1,41),cvresult1.iloc[:,2],c='orange',label='test, gamma=0')\n",
    "plt.plot(range(1,41),cvresult2.iloc[:,0],c='green',label='train, gamma=20')\n",
    "plt.plot(range(1,41),cvresult2.iloc[:,2],c='blue',label='test, gamma=20')\n",
    "plt.legend()\n",
    "plt.show()"
   ]
  },
  {
   "cell_type": "markdown",
   "id": "14ab4cf8",
   "metadata": {},
   "source": [
    "Findings:\n",
    "gamma = 0  \n",
    "gamma = 20  Reduce performance on the training set to control overfitting "
   ]
  },
  {
   "cell_type": "markdown",
   "id": "f091cae6",
   "metadata": {},
   "source": [
    "##### XGBClassifier case study - finding gamma effect"
   ]
  },
  {
   "cell_type": "code",
   "execution_count": 42,
   "id": "48b6e40b",
   "metadata": {},
   "outputs": [],
   "source": [
    "from sklearn.datasets import load_breast_cancer\n",
    "data2 = load_breast_cancer()\n",
    "\n",
    "x2 = data2.data\n",
    "y2 = data2.target\n",
    "\n",
    "dfull = xgb.DMatrix(x2,y2)\n",
    "\n",
    "param1 = {'obj':'binary:logistic','gamma':0,'nfold':5}\n",
    "param2 = {'obj':'binary:logistic','gamma':1,'nfold':5}\n",
    "num_round = 100"
   ]
  },
  {
   "cell_type": "code",
   "execution_count": 43,
   "id": "30e4b609",
   "metadata": {},
   "outputs": [
    {
     "name": "stdout",
     "output_type": "stream",
     "text": [
      "[17:21:07] WARNING: C:/Users/Administrator/workspace/xgboost-win64_release_1.6.0/src/learner.cc:627: \n",
      "Parameters: { \"nfold\", \"obj\" } might not be used.\n",
      "\n",
      "  This could be a false alarm, with some parameters getting used by language bindings but\n",
      "  then being mistakenly passed down to XGBoost core, or some parameter actually being used\n",
      "  but getting flagged wrongly here. Please open an issue if you find any such cases.\n",
      "\n",
      "\n",
      "[17:21:07] WARNING: C:/Users/Administrator/workspace/xgboost-win64_release_1.6.0/src/learner.cc:627: \n",
      "Parameters: { \"nfold\", \"obj\" } might not be used.\n",
      "\n",
      "  This could be a false alarm, with some parameters getting used by language bindings but\n",
      "  then being mistakenly passed down to XGBoost core, or some parameter actually being used\n",
      "  but getting flagged wrongly here. Please open an issue if you find any such cases.\n",
      "\n",
      "\n",
      "[17:21:07] WARNING: C:/Users/Administrator/workspace/xgboost-win64_release_1.6.0/src/learner.cc:627: \n",
      "Parameters: { \"nfold\", \"obj\" } might not be used.\n",
      "\n",
      "  This could be a false alarm, with some parameters getting used by language bindings but\n",
      "  then being mistakenly passed down to XGBoost core, or some parameter actually being used\n",
      "  but getting flagged wrongly here. Please open an issue if you find any such cases.\n",
      "\n",
      "\n",
      "00:00:375086\n"
     ]
    }
   ],
   "source": [
    "time0 = time()\n",
    "cvresult1 = xgb.cv(param1,dfull,num_round)\n",
    "print(datetime.datetime.fromtimestamp(time()-time0).strftime(\"%M:%S:%f\"))"
   ]
  },
  {
   "cell_type": "code",
   "execution_count": 44,
   "id": "219c128b",
   "metadata": {},
   "outputs": [
    {
     "name": "stdout",
     "output_type": "stream",
     "text": [
      "[17:21:11] WARNING: C:/Users/Administrator/workspace/xgboost-win64_release_1.6.0/src/learner.cc:627: \n",
      "Parameters: { \"nfold\", \"obj\" } might not be used.\n",
      "\n",
      "  This could be a false alarm, with some parameters getting used by language bindings but\n",
      "  then being mistakenly passed down to XGBoost core, or some parameter actually being used\n",
      "  but getting flagged wrongly here. Please open an issue if you find any such cases.\n",
      "\n",
      "\n",
      "[17:21:11] WARNING: C:/Users/Administrator/workspace/xgboost-win64_release_1.6.0/src/learner.cc:627: \n",
      "Parameters: { \"nfold\", \"obj\" } might not be used.\n",
      "\n",
      "  This could be a false alarm, with some parameters getting used by language bindings but\n",
      "  then being mistakenly passed down to XGBoost core, or some parameter actually being used\n",
      "  but getting flagged wrongly here. Please open an issue if you find any such cases.\n",
      "\n",
      "\n",
      "[17:21:11] WARNING: C:/Users/Administrator/workspace/xgboost-win64_release_1.6.0/src/learner.cc:627: \n",
      "Parameters: { \"nfold\", \"obj\" } might not be used.\n",
      "\n",
      "  This could be a false alarm, with some parameters getting used by language bindings but\n",
      "  then being mistakenly passed down to XGBoost core, or some parameter actually being used\n",
      "  but getting flagged wrongly here. Please open an issue if you find any such cases.\n",
      "\n",
      "\n",
      "00:00:447101\n"
     ]
    }
   ],
   "source": [
    "time0 = time()\n",
    "cvresult2 = xgb.cv(param2,dfull,num_round)\n",
    "print(datetime.datetime.fromtimestamp(time()-time0).strftime(\"%M:%S:%f\"))"
   ]
  },
  {
   "cell_type": "code",
   "execution_count": 48,
   "id": "474f7027",
   "metadata": {},
   "outputs": [
    {
     "data": {
      "image/png": "[encoded data removed]",
      "text/plain": [
       "<Figure size 1440x360 with 1 Axes>"
      ]
     },
     "metadata": {
      "needs_background": "light"
     },
     "output_type": "display_data"
    }
   ],
   "source": [
    "plt.figure(figsize=(20,5))\n",
    "plt.grid()\n",
    "plt.plot(range(1,101),cvresult1.iloc[:,0],c='red',label='train, gamma=0')\n",
    "plt.plot(range(1,101),cvresult1.iloc[:,2],c='orange',label='test, gamma=0')\n",
    "plt.plot(range(1,101),cvresult2.iloc[:,0],c='green',label='train, gamma=1')\n",
    "plt.plot(range(1,101),cvresult2.iloc[:,2],c='blue',label='test, gamma=1')\n",
    "plt.legend()\n",
    "plt.show()"
   ]
  },
  {
   "cell_type": "markdown",
   "id": "84191cd8",
   "metadata": {},
   "source": [
    "## Case Study - Application"
   ]
  },
  {
   "cell_type": "code",
   "execution_count": 4,
   "id": "a8a2f331",
   "metadata": {},
   "outputs": [],
   "source": [
    "# first step: see model under default parameters\n",
    "import xgboost as xgb\n",
    "dfull = xgb.DMatrix(X,y)\n",
    "\n",
    "param1 = {'silent':True\n",
    "         ,'obj':'reg:linear'\n",
    "         ,'subsample':1\n",
    "         ,'max_depth':6\n",
    "         ,'eta':0.3\n",
    "         ,'gamma':0\n",
    "         ,'lambda':1\n",
    "         ,'alpha':0\n",
    "         ,'colsample_bytree':1\n",
    "         ,'colsample_bylevel':1\n",
    "         ,'colsample_bynode':1\n",
    "         ,'nfold':5\n",
    "         }\n",
    "num_round = 200"
   ]
  },
  {
   "cell_type": "code",
   "execution_count": 5,
   "id": "35a2b3ee",
   "metadata": {},
   "outputs": [
    {
     "name": "stdout",
     "output_type": "stream",
     "text": [
      "[09:53:22] WARNING: C:/Users/Administrator/workspace/xgboost-win64_release_1.6.0/src/learner.cc:627: \n",
      "Parameters: { \"nfold\", \"obj\", \"silent\" } might not be used.\n",
      "\n",
      "  This could be a false alarm, with some parameters getting used by language bindings but\n",
      "  then being mistakenly passed down to XGBoost core, or some parameter actually being used\n",
      "  but getting flagged wrongly here. Please open an issue if you find any such cases.\n",
      "\n",
      "\n",
      "[09:53:22] WARNING: C:/Users/Administrator/workspace/xgboost-win64_release_1.6.0/src/learner.cc:627: \n",
      "Parameters: { \"nfold\", \"obj\", \"silent\" } might not be used.\n",
      "\n",
      "  This could be a false alarm, with some parameters getting used by language bindings but\n",
      "  then being mistakenly passed down to XGBoost core, or some parameter actually being used\n",
      "  but getting flagged wrongly here. Please open an issue if you find any such cases.\n",
      "\n",
      "\n",
      "[09:53:22] WARNING: C:/Users/Administrator/workspace/xgboost-win64_release_1.6.0/src/learner.cc:627: \n",
      "Parameters: { \"nfold\", \"obj\", \"silent\" } might not be used.\n",
      "\n",
      "  This could be a false alarm, with some parameters getting used by language bindings but\n",
      "  then being mistakenly passed down to XGBoost core, or some parameter actually being used\n",
      "  but getting flagged wrongly here. Please open an issue if you find any such cases.\n",
      "\n",
      "\n",
      "00:00:887520\n"
     ]
    }
   ],
   "source": [
    "time0 = time()\n",
    "cvresult1 = xgb.cv(param1,dfull,num_round)\n",
    "print(datetime.datetime.fromtimestamp(time()-time0).strftime(\"%M:%S:%f\"))"
   ]
  },
  {
   "cell_type": "code",
   "execution_count": 10,
   "id": "f62f4ca6",
   "metadata": {},
   "outputs": [
    {
     "data": {
      "image/png": "[encoded data removed]",
      "text/plain": [
       "<Figure size 1080x360 with 1 Axes>"
      ]
     },
     "metadata": {
      "needs_background": "light"
     },
     "output_type": "display_data"
    }
   ],
   "source": [
    "fig,ax = plt.subplots(1,figsize=(15,5))\n",
    "ax.grid()\n",
    "ax.plot(range(1,201),cvresult1.iloc[:,0],c='red',label='train, original')\n",
    "ax.plot(range(1,201),cvresult1.iloc[:,2],c='orange',label='test, original')\n",
    "ax.legend()\n",
    "plt.show()"
   ]
  },
  {
   "cell_type": "code",
   "execution_count": 13,
   "id": "dd38d97b",
   "metadata": {},
   "outputs": [
    {
     "data": {
      "image/png": "[encoded data removed]",
      "text/plain": [
       "<Figure size 1080x576 with 1 Axes>"
      ]
     },
     "metadata": {
      "needs_background": "light"
     },
     "output_type": "display_data"
    }
   ],
   "source": [
    "fig,ax = plt.subplots(1,figsize=(15,8))\n",
    "ax.grid()\n",
    "\n",
    "# set ylim top to see the plot in detail\n",
    "ax.set_ylim(top=5)\n",
    "\n",
    "ax.plot(range(1,201),cvresult1.iloc[:,0],c='red',label='train, original')\n",
    "ax.plot(range(1,201),cvresult1.iloc[:,2],c='orange',label='test, original')\n",
    "ax.legend(fontsize='xx-large')\n",
    "plt.show()"
   ]
  },
  {
   "cell_type": "code",
   "execution_count": 19,
   "id": "0a25d8c4",
   "metadata": {},
   "outputs": [
    {
     "name": "stdout",
     "output_type": "stream",
     "text": [
      "[10:09:25] WARNING: C:/Users/Administrator/workspace/xgboost-win64_release_1.6.0/src/learner.cc:627: \n",
      "Parameters: { \"nfold\", \"obj\", \"silent\" } might not be used.\n",
      "\n",
      "  This could be a false alarm, with some parameters getting used by language bindings but\n",
      "  then being mistakenly passed down to XGBoost core, or some parameter actually being used\n",
      "  but getting flagged wrongly here. Please open an issue if you find any such cases.\n",
      "\n",
      "\n",
      "[10:09:25] WARNING: C:/Users/Administrator/workspace/xgboost-win64_release_1.6.0/src/learner.cc:627: \n",
      "Parameters: { \"nfold\", \"obj\", \"silent\" } might not be used.\n",
      "\n",
      "  This could be a false alarm, with some parameters getting used by language bindings but\n",
      "  then being mistakenly passed down to XGBoost core, or some parameter actually being used\n",
      "  but getting flagged wrongly here. Please open an issue if you find any such cases.\n",
      "\n",
      "\n",
      "[10:09:25] WARNING: C:/Users/Administrator/workspace/xgboost-win64_release_1.6.0/src/learner.cc:627: \n",
      "Parameters: { \"nfold\", \"obj\", \"silent\" } might not be used.\n",
      "\n",
      "  This could be a false alarm, with some parameters getting used by language bindings but\n",
      "  then being mistakenly passed down to XGBoost core, or some parameter actually being used\n",
      "  but getting flagged wrongly here. Please open an issue if you find any such cases.\n",
      "\n",
      "\n",
      "00:00:758764\n",
      "[10:09:25] WARNING: C:/Users/Administrator/workspace/xgboost-win64_release_1.6.0/src/learner.cc:627: \n",
      "Parameters: { \"nfold\", \"obj\", \"silent\" } might not be used.\n",
      "\n",
      "  This could be a false alarm, with some parameters getting used by language bindings but\n",
      "  then being mistakenly passed down to XGBoost core, or some parameter actually being used\n",
      "  but getting flagged wrongly here. Please open an issue if you find any such cases.\n",
      "\n",
      "\n",
      "[10:09:25] WARNING: C:/Users/Administrator/workspace/xgboost-win64_release_1.6.0/src/learner.cc:627: \n",
      "Parameters: { \"nfold\", \"obj\", \"silent\" } might not be used.\n",
      "\n",
      "  This could be a false alarm, with some parameters getting used by language bindings but\n",
      "  then being mistakenly passed down to XGBoost core, or some parameter actually being used\n",
      "  but getting flagged wrongly here. Please open an issue if you find any such cases.\n",
      "\n",
      "\n",
      "[10:09:25] WARNING: C:/Users/Administrator/workspace/xgboost-win64_release_1.6.0/src/learner.cc:627: \n",
      "Parameters: { \"nfold\", \"obj\", \"silent\" } might not be used.\n",
      "\n",
      "  This could be a false alarm, with some parameters getting used by language bindings but\n",
      "  then being mistakenly passed down to XGBoost core, or some parameter actually being used\n",
      "  but getting flagged wrongly here. Please open an issue if you find any such cases.\n",
      "\n",
      "\n",
      "00:00:681967\n",
      "[10:09:26] WARNING: C:/Users/Administrator/workspace/xgboost-win64_release_1.6.0/src/learner.cc:627: \n",
      "Parameters: { \"nfold\", \"obj\", \"silent\" } might not be used.\n",
      "\n",
      "  This could be a false alarm, with some parameters getting used by language bindings but\n",
      "  then being mistakenly passed down to XGBoost core, or some parameter actually being used\n",
      "  but getting flagged wrongly here. Please open an issue if you find any such cases.\n",
      "\n",
      "\n",
      "[10:09:26] WARNING: C:/Users/Administrator/workspace/xgboost-win64_release_1.6.0/src/learner.cc:627: \n",
      "Parameters: { \"nfold\", \"obj\", \"silent\" } might not be used.\n",
      "\n",
      "  This could be a false alarm, with some parameters getting used by language bindings but\n",
      "  then being mistakenly passed down to XGBoost core, or some parameter actually being used\n",
      "  but getting flagged wrongly here. Please open an issue if you find any such cases.\n",
      "\n",
      "\n",
      "[10:09:26] WARNING: C:/Users/Administrator/workspace/xgboost-win64_release_1.6.0/src/learner.cc:627: \n",
      "Parameters: { \"nfold\", \"obj\", \"silent\" } might not be used.\n",
      "\n",
      "  This could be a false alarm, with some parameters getting used by language bindings but\n",
      "  then being mistakenly passed down to XGBoost core, or some parameter actually being used\n",
      "  but getting flagged wrongly here. Please open an issue if you find any such cases.\n",
      "\n",
      "\n",
      "00:00:657633\n"
     ]
    },
    {
     "data": {
      "image/png": "[encoded data removed]",
      "text/plain": [
       "<Figure size 1080x576 with 1 Axes>"
      ]
     },
     "metadata": {
      "needs_background": "light"
     },
     "output_type": "display_data"
    }
   ],
   "source": [
    "# Compare the original with some params tuned\n",
    "# 1. max_depth\n",
    "param1 = {'silent':True\n",
    "         ,'obj':'reg:linear'\n",
    "         ,'subsample':1\n",
    "         ,'max_depth':6\n",
    "         ,'eta':0.3\n",
    "         ,'gamma':0\n",
    "         ,'lambda':1\n",
    "         ,'alpha':0\n",
    "         ,'colsample_bytree':1\n",
    "         ,'colsample_bylevel':1\n",
    "         ,'colsample_bynode':1\n",
    "         ,'nfold':5\n",
    "         }\n",
    "num_round = 200\n",
    "\n",
    "time0 = time()\n",
    "cvresult1 = xgb.cv(param1,dfull,num_round)\n",
    "print(datetime.datetime.fromtimestamp(time()-time0).strftime(\"%M:%S:%f\"))\n",
    "\n",
    "\n",
    "param2 = {'silent':True\n",
    "         ,'obj':'reg:linear'\n",
    "         ,'nfold':5\n",
    "          ,'max_depth':2\n",
    "         }\n",
    "\n",
    "param3 = {'silent':True\n",
    "         ,'obj':'reg:linear'\n",
    "        ,'nfold':5\n",
    "          ,'max_depth':1\n",
    "        }\n",
    "\n",
    "time0 = time()\n",
    "cvresult2 = xgb.cv(param2,dfull,num_round)\n",
    "print(datetime.datetime.fromtimestamp(time()-time0).strftime(\"%M:%S:%f\"))\n",
    "\n",
    "time0 = time()\n",
    "cvresult3 = xgb.cv(param3,dfull,num_round)\n",
    "print(datetime.datetime.fromtimestamp(time()-time0).strftime(\"%M:%S:%f\"))\n",
    "\n",
    "fig,ax = plt.subplots(1,figsize=(15,8))\n",
    "ax.set_ylim(top=5)\n",
    "ax.grid()\n",
    "ax.plot(range(1,201),cvresult1.iloc[:,0],c='red',label='train, original')\n",
    "ax.plot(range(1,201),cvresult1.iloc[:,2],c='orange',label='test, original')\n",
    "ax.plot(range(1,201),cvresult2.iloc[:,0],c='green',label='train, last')\n",
    "ax.plot(range(1,201),cvresult2.iloc[:,2],c='blue',label='test, last')\n",
    "ax.plot(range(1,201),cvresult3.iloc[:,0],c='grey',label='train, current')\n",
    "ax.plot(range(1,201),cvresult3.iloc[:,2],c='pink',label='test, current')\n",
    "ax.legend(fontsize='xx-large')\n",
    "plt.show()"
   ]
  },
  {
   "cell_type": "markdown",
   "id": "83d20c0b",
   "metadata": {},
   "source": [
    "1. max_depth = 2:\n",
    "    2 is better than 1 and 3"
   ]
  },
  {
   "cell_type": "code",
   "execution_count": 22,
   "id": "d8d0b5d7",
   "metadata": {},
   "outputs": [
    {
     "name": "stdout",
     "output_type": "stream",
     "text": [
      "[10:13:05] WARNING: C:/Users/Administrator/workspace/xgboost-win64_release_1.6.0/src/learner.cc:627: \n",
      "Parameters: { \"nfold\", \"obj\", \"silent\" } might not be used.\n",
      "\n",
      "  This could be a false alarm, with some parameters getting used by language bindings but\n",
      "  then being mistakenly passed down to XGBoost core, or some parameter actually being used\n",
      "  but getting flagged wrongly here. Please open an issue if you find any such cases.\n",
      "\n",
      "\n",
      "[10:13:05] WARNING: C:/Users/Administrator/workspace/xgboost-win64_release_1.6.0/src/learner.cc:627: \n",
      "Parameters: { \"nfold\", \"obj\", \"silent\" } might not be used.\n",
      "\n",
      "  This could be a false alarm, with some parameters getting used by language bindings but\n",
      "  then being mistakenly passed down to XGBoost core, or some parameter actually being used\n",
      "  but getting flagged wrongly here. Please open an issue if you find any such cases.\n",
      "\n",
      "\n",
      "[10:13:05] WARNING: C:/Users/Administrator/workspace/xgboost-win64_release_1.6.0/src/learner.cc:627: \n",
      "Parameters: { \"nfold\", \"obj\", \"silent\" } might not be used.\n",
      "\n",
      "  This could be a false alarm, with some parameters getting used by language bindings but\n",
      "  then being mistakenly passed down to XGBoost core, or some parameter actually being used\n",
      "  but getting flagged wrongly here. Please open an issue if you find any such cases.\n",
      "\n",
      "\n",
      "00:00:793049\n",
      "[10:13:06] WARNING: C:/Users/Administrator/workspace/xgboost-win64_release_1.6.0/src/learner.cc:627: \n",
      "Parameters: { \"nfold\", \"obj\", \"silent\" } might not be used.\n",
      "\n",
      "  This could be a false alarm, with some parameters getting used by language bindings but\n",
      "  then being mistakenly passed down to XGBoost core, or some parameter actually being used\n",
      "  but getting flagged wrongly here. Please open an issue if you find any such cases.\n",
      "\n",
      "\n",
      "[10:13:06] WARNING: C:/Users/Administrator/workspace/xgboost-win64_release_1.6.0/src/learner.cc:627: \n",
      "Parameters: { \"nfold\", \"obj\", \"silent\" } might not be used.\n",
      "\n",
      "  This could be a false alarm, with some parameters getting used by language bindings but\n",
      "  then being mistakenly passed down to XGBoost core, or some parameter actually being used\n",
      "  but getting flagged wrongly here. Please open an issue if you find any such cases.\n",
      "\n",
      "\n",
      "[10:13:06] WARNING: C:/Users/Administrator/workspace/xgboost-win64_release_1.6.0/src/learner.cc:627: \n",
      "Parameters: { \"nfold\", \"obj\", \"silent\" } might not be used.\n",
      "\n",
      "  This could be a false alarm, with some parameters getting used by language bindings but\n",
      "  then being mistakenly passed down to XGBoost core, or some parameter actually being used\n",
      "  but getting flagged wrongly here. Please open an issue if you find any such cases.\n",
      "\n",
      "\n",
      "00:00:665222\n",
      "[10:13:07] WARNING: C:/Users/Administrator/workspace/xgboost-win64_release_1.6.0/src/learner.cc:627: \n",
      "Parameters: { \"nfold\", \"obj\", \"silent\" } might not be used.\n",
      "\n",
      "  This could be a false alarm, with some parameters getting used by language bindings but\n",
      "  then being mistakenly passed down to XGBoost core, or some parameter actually being used\n",
      "  but getting flagged wrongly here. Please open an issue if you find any such cases.\n",
      "\n",
      "\n",
      "[10:13:07] WARNING: C:/Users/Administrator/workspace/xgboost-win64_release_1.6.0/src/learner.cc:627: \n",
      "Parameters: { \"nfold\", \"obj\", \"silent\" } might not be used.\n",
      "\n",
      "  This could be a false alarm, with some parameters getting used by language bindings but\n",
      "  then being mistakenly passed down to XGBoost core, or some parameter actually being used\n",
      "  but getting flagged wrongly here. Please open an issue if you find any such cases.\n",
      "\n",
      "\n",
      "[10:13:07] WARNING: C:/Users/Administrator/workspace/xgboost-win64_release_1.6.0/src/learner.cc:627: \n",
      "Parameters: { \"nfold\", \"obj\", \"silent\" } might not be used.\n",
      "\n",
      "  This could be a false alarm, with some parameters getting used by language bindings but\n",
      "  then being mistakenly passed down to XGBoost core, or some parameter actually being used\n",
      "  but getting flagged wrongly here. Please open an issue if you find any such cases.\n",
      "\n",
      "\n",
      "00:00:654972\n"
     ]
    },
    {
     "data": {
      "image/png": "[encoded data removed]",
      "text/plain": [
       "<Figure size 1080x576 with 1 Axes>"
      ]
     },
     "metadata": {
      "needs_background": "light"
     },
     "output_type": "display_data"
    }
   ],
   "source": [
    "# 2. eta\n",
    "param1 = {'silent':True\n",
    "         ,'obj':'reg:linear'\n",
    "         ,'subsample':1\n",
    "         ,'max_depth':6\n",
    "         ,'eta':0.3\n",
    "         ,'gamma':0\n",
    "         ,'lambda':1\n",
    "         ,'alpha':0\n",
    "         ,'colsample_bytree':1\n",
    "         ,'colsample_bylevel':1\n",
    "         ,'colsample_bynode':1\n",
    "         ,'nfold':5\n",
    "         }\n",
    "num_round = 200\n",
    "\n",
    "time0 = time()\n",
    "cvresult1 = xgb.cv(param1,dfull,num_round)\n",
    "print(datetime.datetime.fromtimestamp(time()-time0).strftime(\"%M:%S:%f\"))\n",
    "\n",
    "\n",
    "param2 = {'silent':True\n",
    "         ,'obj':'reg:linear'\n",
    "         ,'nfold':5\n",
    "          ,'max_depth':2\n",
    "          ,'eta':0.05\n",
    "         }\n",
    "\n",
    "param3 = {'silent':True\n",
    "         ,'obj':'reg:linear'\n",
    "        ,'nfold':5\n",
    "          ,'max_depth':2\n",
    "          ,'eta':0.05\n",
    "          ,'gamma':5\n",
    "        }\n",
    "\n",
    "time0 = time()\n",
    "cvresult2 = xgb.cv(param2,dfull,num_round)\n",
    "print(datetime.datetime.fromtimestamp(time()-time0).strftime(\"%M:%S:%f\"))\n",
    "\n",
    "time0 = time()\n",
    "cvresult3 = xgb.cv(param3,dfull,num_round)\n",
    "print(datetime.datetime.fromtimestamp(time()-time0).strftime(\"%M:%S:%f\"))\n",
    "\n",
    "fig,ax = plt.subplots(1,figsize=(15,8))\n",
    "ax.set_ylim(top=5)\n",
    "ax.grid()\n",
    "ax.plot(range(1,201),cvresult1.iloc[:,0],c='red',label='train, original')\n",
    "ax.plot(range(1,201),cvresult1.iloc[:,2],c='orange',label='test, original')\n",
    "ax.plot(range(1,201),cvresult2.iloc[:,0],c='green',label='train, last')\n",
    "ax.plot(range(1,201),cvresult2.iloc[:,2],c='blue',label='test, last')\n",
    "ax.plot(range(1,201),cvresult3.iloc[:,0],c='grey',label='train, current')\n",
    "ax.plot(range(1,201),cvresult3.iloc[:,2],c='pink',label='test, current')\n",
    "ax.legend(fontsize='xx-large')\n",
    "plt.show()"
   ]
  },
  {
   "cell_type": "markdown",
   "id": "dd6a01b9",
   "metadata": {},
   "source": [
    "2. eta = 0.05\n",
    "    0.05 is better than 0.1 or 0.03"
   ]
  },
  {
   "cell_type": "code",
   "execution_count": 24,
   "id": "017e2727",
   "metadata": {},
   "outputs": [
    {
     "name": "stdout",
     "output_type": "stream",
     "text": [
      "[10:15:09] WARNING: C:/Users/Administrator/workspace/xgboost-win64_release_1.6.0/src/learner.cc:627: \n",
      "Parameters: { \"nfold\", \"obj\", \"silent\" } might not be used.\n",
      "\n",
      "  This could be a false alarm, with some parameters getting used by language bindings but\n",
      "  then being mistakenly passed down to XGBoost core, or some parameter actually being used\n",
      "  but getting flagged wrongly here. Please open an issue if you find any such cases.\n",
      "\n",
      "\n",
      "[10:15:09] WARNING: C:/Users/Administrator/workspace/xgboost-win64_release_1.6.0/src/learner.cc:627: \n",
      "Parameters: { \"nfold\", \"obj\", \"silent\" } might not be used.\n",
      "\n",
      "  This could be a false alarm, with some parameters getting used by language bindings but\n",
      "  then being mistakenly passed down to XGBoost core, or some parameter actually being used\n",
      "  but getting flagged wrongly here. Please open an issue if you find any such cases.\n",
      "\n",
      "\n",
      "[10:15:09] WARNING: C:/Users/Administrator/workspace/xgboost-win64_release_1.6.0/src/learner.cc:627: \n",
      "Parameters: { \"nfold\", \"obj\", \"silent\" } might not be used.\n",
      "\n",
      "  This could be a false alarm, with some parameters getting used by language bindings but\n",
      "  then being mistakenly passed down to XGBoost core, or some parameter actually being used\n",
      "  but getting flagged wrongly here. Please open an issue if you find any such cases.\n",
      "\n",
      "\n",
      "00:00:774774\n",
      "[10:15:10] WARNING: C:/Users/Administrator/workspace/xgboost-win64_release_1.6.0/src/learner.cc:627: \n",
      "Parameters: { \"nfold\", \"obj\", \"silent\" } might not be used.\n",
      "\n",
      "  This could be a false alarm, with some parameters getting used by language bindings but\n",
      "  then being mistakenly passed down to XGBoost core, or some parameter actually being used\n",
      "  but getting flagged wrongly here. Please open an issue if you find any such cases.\n",
      "\n",
      "\n",
      "[10:15:10] WARNING: C:/Users/Administrator/workspace/xgboost-win64_release_1.6.0/src/learner.cc:627: \n",
      "Parameters: { \"nfold\", \"obj\", \"silent\" } might not be used.\n",
      "\n",
      "  This could be a false alarm, with some parameters getting used by language bindings but\n",
      "  then being mistakenly passed down to XGBoost core, or some parameter actually being used\n",
      "  but getting flagged wrongly here. Please open an issue if you find any such cases.\n",
      "\n",
      "\n",
      "[10:15:10] WARNING: C:/Users/Administrator/workspace/xgboost-win64_release_1.6.0/src/learner.cc:627: \n",
      "Parameters: { \"nfold\", \"obj\", \"silent\" } might not be used.\n",
      "\n",
      "  This could be a false alarm, with some parameters getting used by language bindings but\n",
      "  then being mistakenly passed down to XGBoost core, or some parameter actually being used\n",
      "  but getting flagged wrongly here. Please open an issue if you find any such cases.\n",
      "\n",
      "\n",
      "00:00:671606\n",
      "[10:15:11] WARNING: C:/Users/Administrator/workspace/xgboost-win64_release_1.6.0/src/learner.cc:627: \n",
      "Parameters: { \"nfold\", \"obj\", \"silent\" } might not be used.\n",
      "\n",
      "  This could be a false alarm, with some parameters getting used by language bindings but\n",
      "  then being mistakenly passed down to XGBoost core, or some parameter actually being used\n",
      "  but getting flagged wrongly here. Please open an issue if you find any such cases.\n",
      "\n",
      "\n",
      "[10:15:11] WARNING: C:/Users/Administrator/workspace/xgboost-win64_release_1.6.0/src/learner.cc:627: \n",
      "Parameters: { \"nfold\", \"obj\", \"silent\" } might not be used.\n",
      "\n",
      "  This could be a false alarm, with some parameters getting used by language bindings but\n",
      "  then being mistakenly passed down to XGBoost core, or some parameter actually being used\n",
      "  but getting flagged wrongly here. Please open an issue if you find any such cases.\n",
      "\n",
      "\n",
      "[10:15:11] WARNING: C:/Users/Administrator/workspace/xgboost-win64_release_1.6.0/src/learner.cc:627: \n",
      "Parameters: { \"nfold\", \"obj\", \"silent\" } might not be used.\n",
      "\n",
      "  This could be a false alarm, with some parameters getting used by language bindings but\n",
      "  then being mistakenly passed down to XGBoost core, or some parameter actually being used\n",
      "  but getting flagged wrongly here. Please open an issue if you find any such cases.\n",
      "\n",
      "\n",
      "00:00:663120\n"
     ]
    },
    {
     "data": {
      "image/png": "[encoded data removed]",
      "text/plain": [
       "<Figure size 1080x576 with 1 Axes>"
      ]
     },
     "metadata": {
      "needs_background": "light"
     },
     "output_type": "display_data"
    }
   ],
   "source": [
    "# 3. gamma\n",
    "param1 = {'silent':True\n",
    "         ,'obj':'reg:linear'\n",
    "         ,'subsample':1\n",
    "         ,'max_depth':6\n",
    "         ,'eta':0.3\n",
    "         ,'gamma':0\n",
    "         ,'lambda':1\n",
    "         ,'alpha':0\n",
    "         ,'colsample_bytree':1\n",
    "         ,'colsample_bylevel':1\n",
    "         ,'colsample_bynode':1\n",
    "         ,'nfold':5\n",
    "         }\n",
    "num_round = 200\n",
    "\n",
    "time0 = time()\n",
    "cvresult1 = xgb.cv(param1,dfull,num_round)\n",
    "print(datetime.datetime.fromtimestamp(time()-time0).strftime(\"%M:%S:%f\"))\n",
    "\n",
    "\n",
    "param2 = {'silent':True\n",
    "         ,'obj':'reg:linear'\n",
    "         ,'nfold':5\n",
    "          ,'max_depth':2\n",
    "          ,'eta':0.05\n",
    "         }\n",
    "\n",
    "param3 = {'silent':True\n",
    "         ,'obj':'reg:linear'\n",
    "        ,'nfold':5\n",
    "          ,'max_depth':2\n",
    "          ,'eta':0.05\n",
    "          ,'gamma':10\n",
    "        }\n",
    "\n",
    "time0 = time()\n",
    "cvresult2 = xgb.cv(param2,dfull,num_round)\n",
    "print(datetime.datetime.fromtimestamp(time()-time0).strftime(\"%M:%S:%f\"))\n",
    "\n",
    "time0 = time()\n",
    "cvresult3 = xgb.cv(param3,dfull,num_round)\n",
    "print(datetime.datetime.fromtimestamp(time()-time0).strftime(\"%M:%S:%f\"))\n",
    "\n",
    "fig,ax = plt.subplots(1,figsize=(15,8))\n",
    "ax.set_ylim(top=5)\n",
    "ax.grid()\n",
    "ax.plot(range(1,201),cvresult1.iloc[:,0],c='red',label='train, original')\n",
    "ax.plot(range(1,201),cvresult1.iloc[:,2],c='orange',label='test, original')\n",
    "ax.plot(range(1,201),cvresult2.iloc[:,0],c='green',label='train, last')\n",
    "ax.plot(range(1,201),cvresult2.iloc[:,2],c='blue',label='test, last')\n",
    "ax.plot(range(1,201),cvresult3.iloc[:,0],c='grey',label='train, current')\n",
    "ax.plot(range(1,201),cvresult3.iloc[:,2],c='pink',label='test, current')\n",
    "ax.legend(fontsize='xx-large')\n",
    "plt.show()"
   ]
  },
  {
   "cell_type": "markdown",
   "id": "3f31a67b",
   "metadata": {},
   "source": [
    "3. Gamma has little effect on the model\n",
    "If the gamma is too large(>20), the performance of the test machine will be even worse"
   ]
  },
  {
   "cell_type": "code",
   "execution_count": 26,
   "id": "88bfef90",
   "metadata": {},
   "outputs": [
    {
     "name": "stdout",
     "output_type": "stream",
     "text": [
      "[10:18:12] WARNING: C:/Users/Administrator/workspace/xgboost-win64_release_1.6.0/src/learner.cc:627: \n",
      "Parameters: { \"nfold\", \"obj\", \"silent\" } might not be used.\n",
      "\n",
      "  This could be a false alarm, with some parameters getting used by language bindings but\n",
      "  then being mistakenly passed down to XGBoost core, or some parameter actually being used\n",
      "  but getting flagged wrongly here. Please open an issue if you find any such cases.\n",
      "\n",
      "\n",
      "[10:18:12] WARNING: C:/Users/Administrator/workspace/xgboost-win64_release_1.6.0/src/learner.cc:627: \n",
      "Parameters: { \"nfold\", \"obj\", \"silent\" } might not be used.\n",
      "\n",
      "  This could be a false alarm, with some parameters getting used by language bindings but\n",
      "  then being mistakenly passed down to XGBoost core, or some parameter actually being used\n",
      "  but getting flagged wrongly here. Please open an issue if you find any such cases.\n",
      "\n",
      "\n",
      "[10:18:12] WARNING: C:/Users/Administrator/workspace/xgboost-win64_release_1.6.0/src/learner.cc:627: \n",
      "Parameters: { \"nfold\", \"obj\", \"silent\" } might not be used.\n",
      "\n",
      "  This could be a false alarm, with some parameters getting used by language bindings but\n",
      "  then being mistakenly passed down to XGBoost core, or some parameter actually being used\n",
      "  but getting flagged wrongly here. Please open an issue if you find any such cases.\n",
      "\n",
      "\n",
      "00:00:762012\n",
      "[10:18:13] WARNING: C:/Users/Administrator/workspace/xgboost-win64_release_1.6.0/src/learner.cc:627: \n",
      "Parameters: { \"nfold\", \"obj\", \"silent\" } might not be used.\n",
      "\n",
      "  This could be a false alarm, with some parameters getting used by language bindings but\n",
      "  then being mistakenly passed down to XGBoost core, or some parameter actually being used\n",
      "  but getting flagged wrongly here. Please open an issue if you find any such cases.\n",
      "\n",
      "\n",
      "[10:18:13] WARNING: C:/Users/Administrator/workspace/xgboost-win64_release_1.6.0/src/learner.cc:627: \n",
      "Parameters: { \"nfold\", \"obj\", \"silent\" } might not be used.\n",
      "\n",
      "  This could be a false alarm, with some parameters getting used by language bindings but\n",
      "  then being mistakenly passed down to XGBoost core, or some parameter actually being used\n",
      "  but getting flagged wrongly here. Please open an issue if you find any such cases.\n",
      "\n",
      "\n",
      "[10:18:13] WARNING: C:/Users/Administrator/workspace/xgboost-win64_release_1.6.0/src/learner.cc:627: \n",
      "Parameters: { \"nfold\", \"obj\", \"silent\" } might not be used.\n",
      "\n",
      "  This could be a false alarm, with some parameters getting used by language bindings but\n",
      "  then being mistakenly passed down to XGBoost core, or some parameter actually being used\n",
      "  but getting flagged wrongly here. Please open an issue if you find any such cases.\n",
      "\n",
      "\n",
      "00:00:679681\n",
      "[10:18:13] WARNING: C:/Users/Administrator/workspace/xgboost-win64_release_1.6.0/src/learner.cc:627: \n",
      "Parameters: { \"nfold\", \"obj\", \"silent\" } might not be used.\n",
      "\n",
      "  This could be a false alarm, with some parameters getting used by language bindings but\n",
      "  then being mistakenly passed down to XGBoost core, or some parameter actually being used\n",
      "  but getting flagged wrongly here. Please open an issue if you find any such cases.\n",
      "\n",
      "\n",
      "[10:18:13] WARNING: C:/Users/Administrator/workspace/xgboost-win64_release_1.6.0/src/learner.cc:627: \n",
      "Parameters: { \"nfold\", \"obj\", \"silent\" } might not be used.\n",
      "\n",
      "  This could be a false alarm, with some parameters getting used by language bindings but\n",
      "  then being mistakenly passed down to XGBoost core, or some parameter actually being used\n",
      "  but getting flagged wrongly here. Please open an issue if you find any such cases.\n",
      "\n",
      "\n",
      "[10:18:13] WARNING: C:/Users/Administrator/workspace/xgboost-win64_release_1.6.0/src/learner.cc:627: \n",
      "Parameters: { \"nfold\", \"obj\", \"silent\" } might not be used.\n",
      "\n",
      "  This could be a false alarm, with some parameters getting used by language bindings but\n",
      "  then being mistakenly passed down to XGBoost core, or some parameter actually being used\n",
      "  but getting flagged wrongly here. Please open an issue if you find any such cases.\n",
      "\n",
      "\n",
      "00:00:668449\n"
     ]
    },
    {
     "data": {
      "image/png": "[encoded data removed]",
      "text/plain": [
       "<Figure size 1080x576 with 1 Axes>"
      ]
     },
     "metadata": {
      "needs_background": "light"
     },
     "output_type": "display_data"
    }
   ],
   "source": [
    "# 4. lambda & alpha\n",
    "param1 = {'silent':True\n",
    "         ,'obj':'reg:linear'\n",
    "         ,'subsample':1\n",
    "         ,'max_depth':6\n",
    "         ,'eta':0.3\n",
    "         ,'gamma':0\n",
    "         ,'lambda':1\n",
    "         ,'alpha':0\n",
    "         ,'colsample_bytree':1\n",
    "         ,'colsample_bylevel':1\n",
    "         ,'colsample_bynode':1\n",
    "         ,'nfold':5\n",
    "         }\n",
    "num_round = 200\n",
    "\n",
    "time0 = time()\n",
    "cvresult1 = xgb.cv(param1,dfull,num_round)\n",
    "print(datetime.datetime.fromtimestamp(time()-time0).strftime(\"%M:%S:%f\"))\n",
    "\n",
    "\n",
    "param2 = {'silent':True\n",
    "         ,'obj':'reg:linear'\n",
    "         ,'nfold':5\n",
    "          ,'max_depth':2\n",
    "          ,'eta':0.05\n",
    "          ,'gamma':0\n",
    "          ,'lambda':1\n",
    "          ,'alpha':0\n",
    "         }\n",
    "\n",
    "param3 = {'silent':True\n",
    "         ,'obj':'reg:linear'\n",
    "        ,'nfold':5\n",
    "          ,'max_depth':2\n",
    "          ,'eta':0.05\n",
    "          ,'gamma':0\n",
    "          ,'lambda':1\n",
    "          ,'alpha':0\n",
    "        }\n",
    "\n",
    "time0 = time()\n",
    "cvresult2 = xgb.cv(param2,dfull,num_round)\n",
    "print(datetime.datetime.fromtimestamp(time()-time0).strftime(\"%M:%S:%f\"))\n",
    "\n",
    "time0 = time()\n",
    "cvresult3 = xgb.cv(param3,dfull,num_round)\n",
    "print(datetime.datetime.fromtimestamp(time()-time0).strftime(\"%M:%S:%f\"))\n",
    "\n",
    "fig,ax = plt.subplots(1,figsize=(15,8))\n",
    "ax.set_ylim(top=5)\n",
    "ax.grid()\n",
    "ax.plot(range(1,201),cvresult1.iloc[:,0],c='red',label='train, original')\n",
    "ax.plot(range(1,201),cvresult1.iloc[:,2],c='orange',label='test, original')\n",
    "ax.plot(range(1,201),cvresult2.iloc[:,0],c='green',label='train, last')\n",
    "ax.plot(range(1,201),cvresult2.iloc[:,2],c='blue',label='test, last')\n",
    "ax.plot(range(1,201),cvresult3.iloc[:,0],c='grey',label='train, current')\n",
    "ax.plot(range(1,201),cvresult3.iloc[:,2],c='pink',label='test, current')\n",
    "ax.legend(fontsize='xx-large')\n",
    "plt.show()"
   ]
  },
  {
   "cell_type": "markdown",
   "id": "4316fbfd",
   "metadata": {},
   "source": [
    "4. lamnda = 1\n",
    "5. alpha = 1"
   ]
  },
  {
   "cell_type": "code",
   "execution_count": 37,
   "id": "1d03cc2c",
   "metadata": {},
   "outputs": [
    {
     "name": "stdout",
     "output_type": "stream",
     "text": [
      "[10:25:38] WARNING: C:/Users/Administrator/workspace/xgboost-win64_release_1.6.0/src/learner.cc:627: \n",
      "Parameters: { \"nfold\", \"obj\", \"silent\" } might not be used.\n",
      "\n",
      "  This could be a false alarm, with some parameters getting used by language bindings but\n",
      "  then being mistakenly passed down to XGBoost core, or some parameter actually being used\n",
      "  but getting flagged wrongly here. Please open an issue if you find any such cases.\n",
      "\n",
      "\n",
      "[10:25:38] WARNING: C:/Users/Administrator/workspace/xgboost-win64_release_1.6.0/src/learner.cc:627: \n",
      "Parameters: { \"nfold\", \"obj\", \"silent\" } might not be used.\n",
      "\n",
      "  This could be a false alarm, with some parameters getting used by language bindings but\n",
      "  then being mistakenly passed down to XGBoost core, or some parameter actually being used\n",
      "  but getting flagged wrongly here. Please open an issue if you find any such cases.\n",
      "\n",
      "\n",
      "[10:25:38] WARNING: C:/Users/Administrator/workspace/xgboost-win64_release_1.6.0/src/learner.cc:627: \n",
      "Parameters: { \"nfold\", \"obj\", \"silent\" } might not be used.\n",
      "\n",
      "  This could be a false alarm, with some parameters getting used by language bindings but\n",
      "  then being mistakenly passed down to XGBoost core, or some parameter actually being used\n",
      "  but getting flagged wrongly here. Please open an issue if you find any such cases.\n",
      "\n",
      "\n",
      "00:01:062257\n",
      "[10:25:39] WARNING: C:/Users/Administrator/workspace/xgboost-win64_release_1.6.0/src/learner.cc:627: \n",
      "Parameters: { \"nfold\", \"obj\", \"silent\" } might not be used.\n",
      "\n",
      "  This could be a false alarm, with some parameters getting used by language bindings but\n",
      "  then being mistakenly passed down to XGBoost core, or some parameter actually being used\n",
      "  but getting flagged wrongly here. Please open an issue if you find any such cases.\n",
      "\n",
      "\n",
      "[10:25:39] WARNING: C:/Users/Administrator/workspace/xgboost-win64_release_1.6.0/src/learner.cc:627: \n",
      "Parameters: { \"nfold\", \"obj\", \"silent\" } might not be used.\n",
      "\n",
      "  This could be a false alarm, with some parameters getting used by language bindings but\n",
      "  then being mistakenly passed down to XGBoost core, or some parameter actually being used\n",
      "  but getting flagged wrongly here. Please open an issue if you find any such cases.\n",
      "\n",
      "\n",
      "[10:25:39] WARNING: C:/Users/Administrator/workspace/xgboost-win64_release_1.6.0/src/learner.cc:627: \n",
      "Parameters: { \"nfold\", \"obj\", \"silent\" } might not be used.\n",
      "\n",
      "  This could be a false alarm, with some parameters getting used by language bindings but\n",
      "  then being mistakenly passed down to XGBoost core, or some parameter actually being used\n",
      "  but getting flagged wrongly here. Please open an issue if you find any such cases.\n",
      "\n",
      "\n",
      "00:00:983761\n",
      "[10:25:40] WARNING: C:/Users/Administrator/workspace/xgboost-win64_release_1.6.0/src/learner.cc:627: \n",
      "Parameters: { \"nfold\", \"obj\", \"silent\" } might not be used.\n",
      "\n",
      "  This could be a false alarm, with some parameters getting used by language bindings but\n",
      "  then being mistakenly passed down to XGBoost core, or some parameter actually being used\n",
      "  but getting flagged wrongly here. Please open an issue if you find any such cases.\n",
      "\n",
      "\n",
      "[10:25:40] WARNING: C:/Users/Administrator/workspace/xgboost-win64_release_1.6.0/src/learner.cc:627: \n",
      "Parameters: { \"nfold\", \"obj\", \"silent\" } might not be used.\n",
      "\n",
      "  This could be a false alarm, with some parameters getting used by language bindings but\n",
      "  then being mistakenly passed down to XGBoost core, or some parameter actually being used\n",
      "  but getting flagged wrongly here. Please open an issue if you find any such cases.\n",
      "\n",
      "\n",
      "[10:25:40] WARNING: C:/Users/Administrator/workspace/xgboost-win64_release_1.6.0/src/learner.cc:627: \n",
      "Parameters: { \"nfold\", \"obj\", \"silent\" } might not be used.\n",
      "\n",
      "  This could be a false alarm, with some parameters getting used by language bindings but\n",
      "  then being mistakenly passed down to XGBoost core, or some parameter actually being used\n",
      "  but getting flagged wrongly here. Please open an issue if you find any such cases.\n",
      "\n",
      "\n",
      "00:00:999226\n"
     ]
    },
    {
     "data": {
      "image/png": "[encoded data removed]",
      "text/plain": [
       "<Figure size 1080x576 with 1 Axes>"
      ]
     },
     "metadata": {
      "needs_background": "light"
     },
     "output_type": "display_data"
    }
   ],
   "source": [
    "# 6. colsample_bytree\n",
    "param1 = {'silent':True\n",
    "         ,'obj':'reg:linear'\n",
    "         ,'subsample':1\n",
    "         ,'max_depth':6\n",
    "         ,'eta':0.3\n",
    "         ,'gamma':0\n",
    "         ,'lambda':1\n",
    "         ,'alpha':0\n",
    "         ,'colsample_bytree':1\n",
    "         ,'colsample_bylevel':1\n",
    "         ,'colsample_bynode':1\n",
    "         ,'nfold':5\n",
    "         }\n",
    "num_round = 300\n",
    "\n",
    "time0 = time()\n",
    "cvresult1 = xgb.cv(param1,dfull,num_round)\n",
    "print(datetime.datetime.fromtimestamp(time()-time0).strftime(\"%M:%S:%f\"))\n",
    "\n",
    "\n",
    "param2 = {'silent':True\n",
    "         ,'obj':'reg:linear'\n",
    "         ,'nfold':5\n",
    "          ,'max_depth':2\n",
    "          ,'eta':0.05\n",
    "          ,'gamma':0\n",
    "          ,'lambda':1\n",
    "          ,'alpha':0\n",
    "          ,'colsample_bytree':1\n",
    "          ,'colsample_bylevel':0.4\n",
    "          ,'colsample_bynode':1\n",
    "         }\n",
    "\n",
    "param3 = {'silent':True\n",
    "         ,'obj':'reg:linear'\n",
    "        ,'nfold':5\n",
    "          ,'max_depth':2\n",
    "          ,'eta':0.05\n",
    "          ,'gamma':0\n",
    "          ,'lambda':1\n",
    "          ,'alpha':0\n",
    "          ,'colsample_bytree':1\n",
    "          ,'colsample_bylevel':0.4  # n_round get bigger, model better, but time less\n",
    "          ,'colsample_bynode':1\n",
    "        }\n",
    "\n",
    "time0 = time()\n",
    "cvresult2 = xgb.cv(param2,dfull,num_round)\n",
    "print(datetime.datetime.fromtimestamp(time()-time0).strftime(\"%M:%S:%f\"))\n",
    "\n",
    "time0 = time()\n",
    "cvresult3 = xgb.cv(param3,dfull,num_round)\n",
    "print(datetime.datetime.fromtimestamp(time()-time0).strftime(\"%M:%S:%f\"))\n",
    "\n",
    "fig,ax = plt.subplots(1,figsize=(15,8))\n",
    "ax.set_ylim(top=5)\n",
    "ax.grid()\n",
    "ax.plot(range(1,301),cvresult1.iloc[:,0],c='red',label='train, original')\n",
    "ax.plot(range(1,301),cvresult1.iloc[:,2],c='orange',label='test, original')\n",
    "ax.plot(range(1,301),cvresult2.iloc[:,0],c='green',label='train, last')\n",
    "ax.plot(range(1,301),cvresult2.iloc[:,2],c='blue',label='test, last')\n",
    "ax.plot(range(1,301),cvresult3.iloc[:,0],c='grey',label='train, current')\n",
    "ax.plot(range(1,301),cvresult3.iloc[:,2],c='pink',label='test, current')\n",
    "ax.legend(fontsize='xx-large')\n",
    "plt.show()"
   ]
  },
  {
   "cell_type": "markdown",
   "id": "b80e9dad",
   "metadata": {},
   "source": [
    "6. colsample parameters has little effect to the model, keep original\n",
    "but we get colsample_bylevel=0.4, this makes time less, though model performance keep the same"
   ]
  },
  {
   "cell_type": "markdown",
   "id": "baa47861",
   "metadata": {},
   "source": [
    "## Save model"
   ]
  },
  {
   "cell_type": "markdown",
   "id": "60305600",
   "metadata": {},
   "source": [
    "### pickle"
   ]
  },
  {
   "cell_type": "code",
   "execution_count": 38,
   "id": "ec6894d5",
   "metadata": {},
   "outputs": [
    {
     "name": "stdout",
     "output_type": "stream",
     "text": [
      "[10:38:01] WARNING: C:/Users/Administrator/workspace/xgboost-win64_release_1.6.0/src/learner.cc:627: \n",
      "Parameters: { \"nfold\", \"obj\", \"silent\" } might not be used.\n",
      "\n",
      "  This could be a false alarm, with some parameters getting used by language bindings but\n",
      "  then being mistakenly passed down to XGBoost core, or some parameter actually being used\n",
      "  but getting flagged wrongly here. Please open an issue if you find any such cases.\n",
      "\n",
      "\n"
     ]
    }
   ],
   "source": [
    "param = {'silent':True\n",
    "         ,'obj':'reg:linear'\n",
    "         ,'nfold':5\n",
    "         ,'subsample':1\n",
    "          ,'max_depth':2\n",
    "          ,'eta':0.05\n",
    "          ,'gamma':0\n",
    "          ,'lambda':1\n",
    "          ,'alpha':0\n",
    "          ,'colsample_bytree':1\n",
    "          ,'colsample_bylevel':0.4\n",
    "          ,'colsample_bynode':1\n",
    "         }\n",
    "num_round = 200\n",
    "\n",
    "bst = xgb.train(param, dfull, num_round)"
   ]
  },
  {
   "cell_type": "code",
   "execution_count": 39,
   "id": "d40ae196",
   "metadata": {},
   "outputs": [],
   "source": [
    "import pickle\n",
    "\n",
    "pickle.dump(bst,open('xgboost_on_boston.dat','wb'))  # binary writing"
   ]
  },
  {
   "cell_type": "code",
   "execution_count": 40,
   "id": "fd29774b",
   "metadata": {},
   "outputs": [
    {
     "data": {
      "text/plain": [
       "['C:\\\\Users\\\\le\\\\Desktop\\\\Yue\\\\data analysis\\\\Sklearn\\\\Caicai sklearn\\\\week 11',\n",
       " 'D:\\\\Anaconda\\\\python39.zip',\n",
       " 'D:\\\\Anaconda\\\\DLLs',\n",
       " 'D:\\\\Anaconda\\\\lib',\n",
       " 'D:\\\\Anaconda',\n",
       " '',\n",
       " 'D:\\\\Anaconda\\\\lib\\\\site-packages',\n",
       " 'D:\\\\Anaconda\\\\lib\\\\site-packages\\\\locket-0.2.1-py3.9.egg',\n",
       " 'D:\\\\Anaconda\\\\lib\\\\site-packages\\\\win32',\n",
       " 'D:\\\\Anaconda\\\\lib\\\\site-packages\\\\win32\\\\lib',\n",
       " 'D:\\\\Anaconda\\\\lib\\\\site-packages\\\\Pythonwin',\n",
       " 'D:\\\\Anaconda\\\\lib\\\\site-packages\\\\IPython\\\\extensions',\n",
       " 'C:\\\\Users\\\\le\\\\.ipython']"
      ]
     },
     "execution_count": 40,
     "metadata": {},
     "output_type": "execute_result"
    }
   ],
   "source": [
    "import sys\n",
    "sys.path"
   ]
  },
  {
   "cell_type": "code",
   "execution_count": 5,
   "id": "dddef818",
   "metadata": {},
   "outputs": [],
   "source": [
    "from sklearn.datasets import load_boston\n",
    "from sklearn.model_selection import KFold, cross_val_score as CVS, train_test_split as TTS\n",
    "import pandas as pd\n",
    "import numpy as np\n",
    "from time import time\n",
    "import datetime\n",
    "import matplotlib.pyplot as plt\n",
    "import pickle\n",
    "import xgboost as xgb\n",
    "\n",
    "X = data.data\n",
    "y = data.target\n",
    "\n",
    "X_train, X_test, y_train, y_test = TTS(X,y,test_size=0.3,random_state=420)\n",
    "\n",
    "dtest = xgb.DMatrix(X_test, y_test)"
   ]
  },
  {
   "cell_type": "code",
   "execution_count": 6,
   "id": "532a3ec6",
   "metadata": {},
   "outputs": [
    {
     "name": "stdout",
     "output_type": "stream",
     "text": [
      "load model from: xgboost_on_boston.dat\n"
     ]
    }
   ],
   "source": [
    "# import model\n",
    "loaded_model = pickle.load(open('xgboost_on_boston.dat','rb'))\n",
    "print('load model from: xgboost_on_boston.dat')"
   ]
  },
  {
   "cell_type": "code",
   "execution_count": 7,
   "id": "ab7e59aa",
   "metadata": {},
   "outputs": [],
   "source": [
    "# make prediction\n",
    "ypreds = loaded_model.predict(dtest)"
   ]
  },
  {
   "cell_type": "code",
   "execution_count": 8,
   "id": "65a66b20",
   "metadata": {},
   "outputs": [
    {
     "data": {
      "text/plain": [
       "array([ 8.893159, 22.291353, 32.655872, 13.766508,  8.643134, 21.739342,\n",
       "       15.64927 , 15.435605, 15.806309, 14.610831, 17.204418, 36.079983,\n",
       "       21.032116, 29.211317, 21.63107 , 12.154703, 15.93055 , 25.77323 ,\n",
       "       24.025932, 22.999292, 18.275343, 17.342926, 23.89674 , 21.81469 ,\n",
       "       20.193857, 16.444035, 23.22761 , 24.689629, 23.418873, 17.095888,\n",
       "       35.959538, 20.588243, 20.904146, 23.527018, 23.411821, 24.121311,\n",
       "       16.496422, 24.595764, 16.304773, 35.93034 , 17.36722 , 21.346107,\n",
       "       37.300537, 18.38729 , 14.610468, 29.847033, 49.14404 , 14.386822,\n",
       "        9.754104, 33.793713, 25.46798 , 20.988392, 20.24074 , 49.18548 ,\n",
       "       26.871983, 24.399012, 19.0598  , 20.662697, 17.00608 , 18.869074,\n",
       "       14.48862 , 23.54471 , 19.214403, 29.62904 , 26.994827, 20.501951,\n",
       "       20.880135, 17.198973, 21.833517, 18.744997, 28.744343, 41.573284,\n",
       "       30.41069 , 23.703104, 20.771673, 23.124266, 44.83618 , 25.798738,\n",
       "       21.152214, 20.287685, 18.792532, 46.829556, 21.835209,  9.020104,\n",
       "       25.959684, 23.680925, 17.404469, 21.093287, 12.737028, 11.819137,\n",
       "       19.792364, 17.48005 , 43.40939 , 33.036   , 22.992165, 12.380723,\n",
       "       15.927233, 21.874413,  8.376938, 10.993561, 32.061317, 15.287617,\n",
       "       24.159771, 23.621378, 31.204002, 44.995777, 20.531565,  8.828082,\n",
       "       23.703104, 15.083622, 44.43264 , 20.876228, 22.442297, 24.478945,\n",
       "       19.47942 , 29.20916 , 24.455498, 19.299078, 47.321445, 17.283827,\n",
       "       23.632195, 21.37949 , 17.524794, 17.66981 , 15.890716, 23.310736,\n",
       "       32.140163,  9.512477, 21.7154  , 18.759716, 15.307688, 19.032022,\n",
       "        7.83782 , 28.793665, 27.521536, 20.86391 , 20.673592, 15.368046,\n",
       "        9.893723, 16.663826, 43.88725 , 17.438982, 23.65203 , 19.083027,\n",
       "       31.623924, 20.00932 , 13.272578, 40.83304 , 25.920639, 22.620705,\n",
       "       16.004847, 18.863035], dtype=float32)"
      ]
     },
     "execution_count": 8,
     "metadata": {},
     "output_type": "execute_result"
    }
   ],
   "source": [
    "ypreds"
   ]
  },
  {
   "cell_type": "code",
   "execution_count": 11,
   "id": "720dd179",
   "metadata": {},
   "outputs": [
    {
     "data": {
      "text/plain": [
       "4.343760290230668"
      ]
     },
     "execution_count": 11,
     "metadata": {},
     "output_type": "execute_result"
    }
   ],
   "source": [
    "# Model evaluation\n",
    "from sklearn.metrics import mean_squared_error as MSE,r2_score\n",
    "\n",
    "MSE(y_test,ypreds)"
   ]
  },
  {
   "cell_type": "code",
   "execution_count": 12,
   "id": "9250231c",
   "metadata": {},
   "outputs": [
    {
     "data": {
      "text/plain": [
       "0.9533199469501885"
      ]
     },
     "execution_count": 12,
     "metadata": {},
     "output_type": "execute_result"
    }
   ],
   "source": [
    "r2_score(y_test,ypreds)"
   ]
  },
  {
   "cell_type": "markdown",
   "id": "4111f2fa",
   "metadata": {},
   "source": [
    "### jobblib \n",
    "when datasets very large preferable"
   ]
  },
  {
   "cell_type": "code",
   "execution_count": null,
   "id": "42aa166f",
   "metadata": {},
   "outputs": [],
   "source": [
    "param = {'silent':True\n",
    "         ,'obj':'reg:linear'\n",
    "         ,'nfold':5\n",
    "         ,'subsample':1\n",
    "          ,'max_depth':2\n",
    "          ,'eta':0.05\n",
    "          ,'gamma':0\n",
    "          ,'lambda':1\n",
    "          ,'alpha':0\n",
    "          ,'colsample_bytree':1\n",
    "          ,'colsample_bylevel':0.4\n",
    "          ,'colsample_bynode':1\n",
    "         }\n",
    "num_round = 200\n",
    "\n",
    "bst = xgb.train(param, dfull, num_round)"
   ]
  },
  {
   "cell_type": "code",
   "execution_count": null,
   "id": "2a0f2146",
   "metadata": {},
   "outputs": [],
   "source": [
    "import joblib\n",
    "\n",
    "joblib.dump(bst,'xgboost-on-boston.dat')"
   ]
  },
  {
   "cell_type": "code",
   "execution_count": null,
   "id": "0a4a233a",
   "metadata": {},
   "outputs": [],
   "source": [
    "# import model\n",
    "loaded_model = joblib.load('xgboost_on_boston.dat')\n",
    "print('load model from: xgboost_on_boston.dat')"
   ]
  },
  {
   "cell_type": "code",
   "execution_count": null,
   "id": "c6e5d0ba",
   "metadata": {},
   "outputs": [],
   "source": [
    "# make prediction\n",
    "ypreds = loaded_model.predict(dtest)"
   ]
  },
  {
   "cell_type": "code",
   "execution_count": null,
   "id": "af17a25b",
   "metadata": {},
   "outputs": [],
   "source": [
    "# Model evaluation\n",
    "from sklearn.metrics import mean_squared_error as MSE,r2_score\n",
    "\n",
    "MSE(y_test,ypreds)\n",
    "r2_score(y_test,ypreds)"
   ]
  },
  {
   "cell_type": "markdown",
   "id": "d65f176a",
   "metadata": {},
   "source": [
    "## XGBClassifier"
   ]
  },
  {
   "cell_type": "markdown",
   "id": "3bf1f5a1",
   "metadata": {},
   "source": [
    "### scale_pos_weight: default=1"
   ]
  },
  {
   "cell_type": "code",
   "execution_count": 3,
   "id": "357d2811",
   "metadata": {},
   "outputs": [],
   "source": [
    "# create an imbalanced dataset\n",
    "import numpy as np\n",
    "import xgboost as xgb\n",
    "import matplotlib.pyplot as plt\n",
    "from xgboost import XGBClassifier as XGBC\n",
    "from sklearn.datasets import make_blobs\n",
    "from sklearn.model_selection import train_test_split as TTS\n",
    "from sklearn.metrics import confusion_matrix as cm, recall_score as recall, roc_auc_score as auc"
   ]
  },
  {
   "cell_type": "code",
   "execution_count": 5,
   "id": "935bc8a3",
   "metadata": {},
   "outputs": [],
   "source": [
    "class1 = 500\n",
    "class2 = 50\n",
    "centers = [[0.0,0.0],[2.0,2.0]]\n",
    "clusters_std = [1.5,0.5]\n",
    "X,y = make_blobs(n_samples=[class1,class2]\n",
    "                ,centers=centers\n",
    "                ,cluster_std=clusters_std\n",
    "                ,random_state=0\n",
    "                ,shuffle=False)"
   ]
  },
  {
   "cell_type": "code",
   "execution_count": 6,
   "id": "c80616ab",
   "metadata": {},
   "outputs": [],
   "source": [
    "X_train, X_test, y_train, y_test = TTS(X,y,test_size=0.3,random_state=100)"
   ]
  },
  {
   "cell_type": "code",
   "execution_count": 7,
   "id": "0ee7cfd3",
   "metadata": {},
   "outputs": [
    {
     "data": {
      "text/plain": [
       "0.09090909090909091"
      ]
     },
     "execution_count": 7,
     "metadata": {},
     "output_type": "execute_result"
    }
   ],
   "source": [
    "(y == 1).sum()/y.shape[0]  #9%"
   ]
  },
  {
   "cell_type": "code",
   "execution_count": 8,
   "id": "5e53b2aa",
   "metadata": {},
   "outputs": [
    {
     "data": {
      "text/plain": [
       "0.9333333333333333"
      ]
     },
     "execution_count": 8,
     "metadata": {},
     "output_type": "execute_result"
    }
   ],
   "source": [
    "clf = XGBC().fit(X_train,y_train)\n",
    "ypred = clf.predict(X_test)\n",
    "clf.score(X_test,y_test)  #accuracy"
   ]
  },
  {
   "cell_type": "code",
   "execution_count": 9,
   "id": "f8884650",
   "metadata": {},
   "outputs": [
    {
     "data": {
      "text/plain": [
       "array([[ 12,   7],\n",
       "       [  4, 142]], dtype=int64)"
      ]
     },
     "execution_count": 9,
     "metadata": {},
     "output_type": "execute_result"
    }
   ],
   "source": [
    "cm(y_test,ypred,labels=[1,0])  #[minority,majority]"
   ]
  },
  {
   "cell_type": "code",
   "execution_count": 10,
   "id": "aa587373",
   "metadata": {},
   "outputs": [
    {
     "data": {
      "text/plain": [
       "0.631578947368421"
      ]
     },
     "execution_count": 10,
     "metadata": {},
     "output_type": "execute_result"
    }
   ],
   "source": [
    "recall(y_test,ypred)"
   ]
  },
  {
   "cell_type": "code",
   "execution_count": 11,
   "id": "e90e28cd",
   "metadata": {},
   "outputs": [
    {
     "data": {
      "text/plain": [
       "0.9644917087238645"
      ]
     },
     "execution_count": 11,
     "metadata": {},
     "output_type": "execute_result"
    }
   ],
   "source": [
    "auc(y_test,clf.predict_proba(X_test)[:,1])"
   ]
  },
  {
   "cell_type": "code",
   "execution_count": 12,
   "id": "dc1ea126",
   "metadata": {},
   "outputs": [
    {
     "data": {
      "text/plain": [
       "0.9515151515151515"
      ]
     },
     "execution_count": 12,
     "metadata": {},
     "output_type": "execute_result"
    }
   ],
   "source": [
    "# scale_pos_weight\n",
    "clf = XGBC(scale_pos_weight=10).fit(X_train,y_train)\n",
    "ypred = clf.predict(X_test)\n",
    "clf.score(X_test,y_test)"
   ]
  },
  {
   "cell_type": "code",
   "execution_count": 13,
   "id": "b1c41aba",
   "metadata": {},
   "outputs": [
    {
     "data": {
      "text/plain": [
       "array([[ 14,   5],\n",
       "       [  3, 143]], dtype=int64)"
      ]
     },
     "execution_count": 13,
     "metadata": {},
     "output_type": "execute_result"
    }
   ],
   "source": [
    "cm(y_test,ypred,labels=[1,0]) "
   ]
  },
  {
   "cell_type": "code",
   "execution_count": 14,
   "id": "830d260a",
   "metadata": {},
   "outputs": [
    {
     "data": {
      "text/plain": [
       "0.7368421052631579"
      ]
     },
     "execution_count": 14,
     "metadata": {},
     "output_type": "execute_result"
    }
   ],
   "source": [
    "recall(y_test,ypred)"
   ]
  },
  {
   "cell_type": "code",
   "execution_count": 15,
   "id": "40ffa82d",
   "metadata": {},
   "outputs": [
    {
     "data": {
      "text/plain": [
       "0.957101658255227"
      ]
     },
     "execution_count": 15,
     "metadata": {},
     "output_type": "execute_result"
    }
   ],
   "source": [
    "auc(y_test,clf.predict_proba(X_test)[:,1])"
   ]
  },
  {
   "cell_type": "code",
   "execution_count": 16,
   "id": "bbcf4097",
   "metadata": {},
   "outputs": [
    {
     "name": "stdout",
     "output_type": "stream",
     "text": [
      "1\n",
      "\tAccuracy:0.9333333333333333\n",
      "\tRecall:0.631578947368421\n",
      "\tAUC:0.9644917087238645\n",
      "5\n",
      "\tAccuracy:0.9515151515151515\n",
      "\tRecall:0.7368421052631579\n",
      "\tAUC:0.9641312184571016\n",
      "10\n",
      "\tAccuracy:0.9515151515151515\n",
      "\tRecall:0.7368421052631579\n",
      "\tAUC:0.957101658255227\n",
      "20\n",
      "\tAccuracy:0.9393939393939394\n",
      "\tRecall:0.7368421052631579\n",
      "\tAUC:0.9571016582552272\n",
      "30\n",
      "\tAccuracy:0.9454545454545454\n",
      "\tRecall:0.7894736842105263\n",
      "\tAUC:0.9578226387887526\n"
     ]
    }
   ],
   "source": [
    "for i in [1,5,10,20,30]:\n",
    "    clf_ = XGBC(scale_pos_weight=i).fit(X_train,y_train)\n",
    "    ypred = clf_.predict(X_test)\n",
    "    print(i)\n",
    "    print('\\tAccuracy:{}'.format(clf_.score(X_test,y_test)))\n",
    "    print('\\tRecall:{}'.format(recall(y_test,ypred)))\n",
    "    print('\\tAUC:{}'.format(auc(y_test,clf_.predict_proba(X_test)[:,1])))"
   ]
  },
  {
   "cell_type": "code",
   "execution_count": 18,
   "id": "c7f9ca64",
   "metadata": {},
   "outputs": [],
   "source": [
    "dtrain = xgb.DMatrix(X_train,y_train)\n",
    "dtest = xgb.DMatrix(X_test,y_test)"
   ]
  },
  {
   "cell_type": "code",
   "execution_count": 19,
   "id": "7ebba1c4",
   "metadata": {},
   "outputs": [],
   "source": [
    "param = {'silent':True\n",
    "         ,'obj':'binary:logistic'\n",
    "          ,'eta':0.1\n",
    "         ,'scale_pos_weight':1\n",
    "         }\n",
    "num_round = 200"
   ]
  },
  {
   "cell_type": "code",
   "execution_count": 20,
   "id": "e46c766c",
   "metadata": {},
   "outputs": [
    {
     "name": "stdout",
     "output_type": "stream",
     "text": [
      "[15:05:56] WARNING: C:/Users/Administrator/workspace/xgboost-win64_release_1.6.0/src/learner.cc:627: \n",
      "Parameters: { \"nfold\", \"obj\", \"silent\" } might not be used.\n",
      "\n",
      "  This could be a false alarm, with some parameters getting used by language bindings but\n",
      "  then being mistakenly passed down to XGBoost core, or some parameter actually being used\n",
      "  but getting flagged wrongly here. Please open an issue if you find any such cases.\n",
      "\n",
      "\n"
     ]
    }
   ],
   "source": [
    "bst = xgb.train(param, dtrain, num_round)"
   ]
  },
  {
   "cell_type": "code",
   "execution_count": 22,
   "id": "cdd79b3f",
   "metadata": {},
   "outputs": [],
   "source": [
    "preds = bst.predict(dtest)"
   ]
  },
  {
   "cell_type": "code",
   "execution_count": 23,
   "id": "1f142114",
   "metadata": {},
   "outputs": [
    {
     "data": {
      "text/plain": [
       "array([ 1.35845330e-04, -2.06479817e-05,  6.17859187e-03,  2.11447431e-03,\n",
       "       -2.06479817e-05, -2.06479817e-05, -2.06479817e-05, -2.06479817e-05,\n",
       "       -2.06479817e-05, -2.06479817e-05, -2.06479817e-05,  9.93800223e-01,\n",
       "       -2.06479817e-05, -2.06479817e-05,  1.35845330e-04, -9.77229103e-02,\n",
       "       -5.12219558e-04, -2.06479817e-05, -5.12219558e-04, -2.94567924e-02,\n",
       "       -2.06479817e-05,  3.87531847e-01, -1.32196769e-01,  3.29160393e-05,\n",
       "       -2.06479817e-05,  5.40132284e-01, -2.06479817e-05, -2.06479817e-05,\n",
       "       -2.06479817e-05,  1.28833264e-01, -2.06479817e-05, -2.06479817e-05,\n",
       "       -2.06479817e-05, -2.06479817e-05, -2.06479817e-05, -2.06479817e-05,\n",
       "       -2.06479817e-05,  1.70479804e-01, -2.06479817e-05, -2.06479817e-05,\n",
       "       -2.06479817e-05, -7.85560678e-06, -2.06479817e-05,  1.35845330e-04,\n",
       "       -1.80223747e-03,  6.01294637e-01,  4.91193414e-01,  1.78836945e-05,\n",
       "       -2.06479817e-05, -2.06479817e-05, -2.06479817e-05, -2.06479817e-05,\n",
       "       -2.06479817e-05, -1.36142728e-04,  2.56461371e-03,  1.96301786e-04,\n",
       "        9.36788499e-01, -2.06479817e-05,  3.66091937e-01, -2.06479817e-05,\n",
       "       -2.06479817e-05,  2.19055071e-01,  1.35845330e-04, -1.31099529e-04,\n",
       "       -2.06479817e-05, -2.06479817e-05, -2.06479817e-05, -2.06479817e-05,\n",
       "        9.57205057e-01,  1.51638378e-04, -2.06479817e-05,  4.88337502e-02,\n",
       "        1.04664278e+00,  1.00150609e+00, -2.06479817e-05,  1.35845330e-04,\n",
       "       -1.97874499e-03, -1.07115855e-04, -2.06479817e-05, -2.06479817e-05,\n",
       "       -2.06479817e-05,  1.78836945e-05, -2.06479817e-05, -5.12219558e-04,\n",
       "        4.99743104e-01, -2.06479817e-05, -2.06479817e-05, -2.06479817e-05,\n",
       "        9.86543894e-01,  9.77847636e-01, -2.06479817e-05, -2.06479817e-05,\n",
       "        5.76970307e-03,  1.60766824e-03, -2.06479817e-05, -2.06479817e-05,\n",
       "       -2.06479817e-05, -8.02555028e-03, -2.06479817e-05, -2.06479817e-05,\n",
       "       -2.06479817e-05, -2.06479817e-05,  6.90828136e-04,  6.49636786e-04,\n",
       "       -2.06479817e-05, -2.06479817e-05, -2.06479817e-05, -2.06479817e-05,\n",
       "       -2.06479817e-05,  4.57856199e-03, -2.06479817e-05, -2.06479817e-05,\n",
       "        4.39028349e-03,  4.97451484e-01, -2.06479817e-05, -2.06479817e-05,\n",
       "       -2.06479817e-05,  1.51638378e-04,  1.35845330e-04, -2.06479817e-05,\n",
       "        9.02085125e-01,  5.76970307e-03, -2.06479817e-05, -2.06479817e-05,\n",
       "       -3.74961994e-04, -2.06479817e-05, -3.47628928e-04,  1.10284269e-01,\n",
       "       -2.06479817e-05, -2.06479817e-05,  2.18499452e-04, -2.06479817e-05,\n",
       "        1.21655621e-01,  1.35845330e-04, -2.06479817e-05, -2.06479817e-05,\n",
       "       -2.06479817e-05,  1.51638378e-04, -2.06479817e-05, -2.06479817e-05,\n",
       "       -2.06479817e-05, -2.06479817e-05,  3.52837652e-01,  9.98604417e-01,\n",
       "       -2.06479817e-05,  1.00369763e+00, -2.06479817e-05,  8.29001188e-01,\n",
       "       -2.06479817e-05, -5.12219558e-04,  9.43100393e-01, -2.79260887e-04,\n",
       "        9.59004402e-01,  2.15847287e-02, -2.06479817e-05, -2.06479817e-05,\n",
       "       -2.06479817e-05,  1.51638378e-04, -1.71648641e-03, -2.06479817e-05,\n",
       "       -2.06479817e-05, -2.06479817e-05,  1.25795457e-04, -2.06479817e-05,\n",
       "        1.35845330e-04], dtype=float32)"
      ]
     },
     "execution_count": 23,
     "metadata": {},
     "output_type": "execute_result"
    }
   ],
   "source": [
    "preds"
   ]
  },
  {
   "cell_type": "code",
   "execution_count": 24,
   "id": "3595d17e",
   "metadata": {},
   "outputs": [],
   "source": [
    "ypred = preds.copy()"
   ]
  },
  {
   "cell_type": "code",
   "execution_count": 27,
   "id": "1f5b95a1",
   "metadata": {},
   "outputs": [],
   "source": [
    "ypred[preds>0.5] = 1"
   ]
  },
  {
   "cell_type": "code",
   "execution_count": 33,
   "id": "c4a5019f",
   "metadata": {
    "collapsed": true
   },
   "outputs": [
    {
     "data": {
      "text/plain": [
       "array([ 1.35845330e-04, -2.06479817e-05,  6.17859187e-03,  2.11447431e-03,\n",
       "       -2.06479817e-05, -2.06479817e-05, -2.06479817e-05, -2.06479817e-05,\n",
       "       -2.06479817e-05, -2.06479817e-05, -2.06479817e-05,  1.00000000e+00,\n",
       "       -2.06479817e-05, -2.06479817e-05,  1.35845330e-04, -9.77229103e-02,\n",
       "       -5.12219558e-04, -2.06479817e-05, -5.12219558e-04, -2.94567924e-02,\n",
       "       -2.06479817e-05,  3.87531847e-01, -1.32196769e-01,  3.29160393e-05,\n",
       "       -2.06479817e-05,  1.00000000e+00, -2.06479817e-05, -2.06479817e-05,\n",
       "       -2.06479817e-05,  1.28833264e-01, -2.06479817e-05, -2.06479817e-05,\n",
       "       -2.06479817e-05, -2.06479817e-05, -2.06479817e-05, -2.06479817e-05,\n",
       "       -2.06479817e-05,  1.70479804e-01, -2.06479817e-05, -2.06479817e-05,\n",
       "       -2.06479817e-05, -7.85560678e-06, -2.06479817e-05,  1.35845330e-04,\n",
       "       -1.80223747e-03,  1.00000000e+00,  4.91193414e-01,  1.78836945e-05,\n",
       "       -2.06479817e-05, -2.06479817e-05, -2.06479817e-05, -2.06479817e-05,\n",
       "       -2.06479817e-05, -1.36142728e-04,  2.56461371e-03,  1.96301786e-04,\n",
       "        1.00000000e+00, -2.06479817e-05,  3.66091937e-01, -2.06479817e-05,\n",
       "       -2.06479817e-05,  2.19055071e-01,  1.35845330e-04, -1.31099529e-04,\n",
       "       -2.06479817e-05, -2.06479817e-05, -2.06479817e-05, -2.06479817e-05,\n",
       "        1.00000000e+00,  1.51638378e-04, -2.06479817e-05,  4.88337502e-02,\n",
       "        1.00000000e+00,  1.00000000e+00, -2.06479817e-05,  1.35845330e-04,\n",
       "       -1.97874499e-03, -1.07115855e-04, -2.06479817e-05, -2.06479817e-05,\n",
       "       -2.06479817e-05,  1.78836945e-05, -2.06479817e-05, -5.12219558e-04,\n",
       "        4.99743104e-01, -2.06479817e-05, -2.06479817e-05, -2.06479817e-05,\n",
       "        1.00000000e+00,  1.00000000e+00, -2.06479817e-05, -2.06479817e-05,\n",
       "        5.76970307e-03,  1.60766824e-03, -2.06479817e-05, -2.06479817e-05,\n",
       "       -2.06479817e-05, -8.02555028e-03, -2.06479817e-05, -2.06479817e-05,\n",
       "       -2.06479817e-05, -2.06479817e-05,  6.90828136e-04,  6.49636786e-04,\n",
       "       -2.06479817e-05, -2.06479817e-05, -2.06479817e-05, -2.06479817e-05,\n",
       "       -2.06479817e-05,  4.57856199e-03, -2.06479817e-05, -2.06479817e-05,\n",
       "        4.39028349e-03,  4.97451484e-01, -2.06479817e-05, -2.06479817e-05,\n",
       "       -2.06479817e-05,  1.51638378e-04,  1.35845330e-04, -2.06479817e-05,\n",
       "        1.00000000e+00,  5.76970307e-03, -2.06479817e-05, -2.06479817e-05,\n",
       "       -3.74961994e-04, -2.06479817e-05, -3.47628928e-04,  1.10284269e-01,\n",
       "       -2.06479817e-05, -2.06479817e-05,  2.18499452e-04, -2.06479817e-05,\n",
       "        1.21655621e-01,  1.35845330e-04, -2.06479817e-05, -2.06479817e-05,\n",
       "       -2.06479817e-05,  1.51638378e-04, -2.06479817e-05, -2.06479817e-05,\n",
       "       -2.06479817e-05, -2.06479817e-05,  3.52837652e-01,  1.00000000e+00,\n",
       "       -2.06479817e-05,  1.00000000e+00, -2.06479817e-05,  1.00000000e+00,\n",
       "       -2.06479817e-05, -5.12219558e-04,  1.00000000e+00, -2.79260887e-04,\n",
       "        1.00000000e+00,  2.15847287e-02, -2.06479817e-05, -2.06479817e-05,\n",
       "       -2.06479817e-05,  1.51638378e-04, -1.71648641e-03, -2.06479817e-05,\n",
       "       -2.06479817e-05, -2.06479817e-05,  1.25795457e-04, -2.06479817e-05,\n",
       "        1.35845330e-04], dtype=float32)"
      ]
     },
     "execution_count": 33,
     "metadata": {},
     "output_type": "execute_result"
    }
   ],
   "source": [
    "ypred"
   ]
  },
  {
   "cell_type": "code",
   "execution_count": 34,
   "id": "a9ce2e8b",
   "metadata": {},
   "outputs": [],
   "source": [
    "ypred[ypred!=1] = 0"
   ]
  },
  {
   "cell_type": "code",
   "execution_count": 35,
   "id": "58dd37e4",
   "metadata": {},
   "outputs": [
    {
     "data": {
      "text/plain": [
       "array([0., 0., 0., 0., 0., 0., 0., 0., 0., 0., 0., 1., 0., 0., 0., 0., 0.,\n",
       "       0., 0., 0., 0., 0., 0., 0., 0., 1., 0., 0., 0., 0., 0., 0., 0., 0.,\n",
       "       0., 0., 0., 0., 0., 0., 0., 0., 0., 0., 0., 1., 0., 0., 0., 0., 0.,\n",
       "       0., 0., 0., 0., 0., 1., 0., 0., 0., 0., 0., 0., 0., 0., 0., 0., 0.,\n",
       "       1., 0., 0., 0., 1., 1., 0., 0., 0., 0., 0., 0., 0., 0., 0., 0., 0.,\n",
       "       0., 0., 0., 1., 1., 0., 0., 0., 0., 0., 0., 0., 0., 0., 0., 0., 0.,\n",
       "       0., 0., 0., 0., 0., 0., 0., 0., 0., 0., 0., 0., 0., 0., 0., 0., 0.,\n",
       "       0., 1., 0., 0., 0., 0., 0., 0., 0., 0., 0., 0., 0., 0., 0., 0., 0.,\n",
       "       0., 0., 0., 0., 0., 0., 0., 1., 0., 1., 0., 1., 0., 0., 1., 0., 1.,\n",
       "       0., 0., 0., 0., 0., 0., 0., 0., 0., 0., 0., 0.], dtype=float32)"
      ]
     },
     "execution_count": 35,
     "metadata": {},
     "output_type": "execute_result"
    }
   ],
   "source": [
    "ypred"
   ]
  },
  {
   "cell_type": "code",
   "execution_count": 38,
   "id": "62431d01",
   "metadata": {},
   "outputs": [
    {
     "name": "stdout",
     "output_type": "stream",
     "text": [
      "[16:01:23] WARNING: C:/Users/Administrator/workspace/xgboost-win64_release_1.6.0/src/learner.cc:627: \n",
      "Parameters: { \"object\", \"silent\" } might not be used.\n",
      "\n",
      "  This could be a false alarm, with some parameters getting used by language bindings but\n",
      "  then being mistakenly passed down to XGBoost core, or some parameter actually being used\n",
      "  but getting flagged wrongly here. Please open an issue if you find any such cases.\n",
      "\n",
      "\n",
      "negtive vs positive: 1\n",
      "\tAccuracy:0.9393939393939394\n",
      "\tRecall:0.631578947368421\n",
      "\tAUC:0.8741888968997835\n",
      "[16:01:23] WARNING: C:/Users/Administrator/workspace/xgboost-win64_release_1.6.0/src/learner.cc:627: \n",
      "Parameters: { \"object\", \"silent\" } might not be used.\n",
      "\n",
      "  This could be a false alarm, with some parameters getting used by language bindings but\n",
      "  then being mistakenly passed down to XGBoost core, or some parameter actually being used\n",
      "  but getting flagged wrongly here. Please open an issue if you find any such cases.\n",
      "\n",
      "\n",
      "negtive vs positive: 5\n",
      "\tAccuracy:0.9393939393939394\n",
      "\tRecall:0.6842105263157895\n",
      "\tAUC:0.8777937995674119\n",
      "[16:01:23] WARNING: C:/Users/Administrator/workspace/xgboost-win64_release_1.6.0/src/learner.cc:627: \n",
      "Parameters: { \"object\", \"silent\" } might not be used.\n",
      "\n",
      "  This could be a false alarm, with some parameters getting used by language bindings but\n",
      "  then being mistakenly passed down to XGBoost core, or some parameter actually being used\n",
      "  but getting flagged wrongly here. Please open an issue if you find any such cases.\n",
      "\n",
      "\n",
      "negtive vs positive: 10\n",
      "\tAccuracy:0.9393939393939394\n",
      "\tRecall:0.6842105263157895\n",
      "\tAUC:0.8756308579668349\n"
     ]
    }
   ],
   "source": [
    "from sklearn.metrics import accuracy_score as accuracy, recall_score as recall, roc_auc_score as auc\n",
    "\n",
    "scale_pos_weight = [1,5,10]\n",
    "names = ['negtive vs positive: 1'\n",
    "        ,'negtive vs positive: 5'\n",
    "        ,'negtive vs positive: 10']\n",
    "\n",
    "for name,i in zip(names,scale_pos_weight):\n",
    "    param = {'silent':True\n",
    "         ,'object':'binary:logistic'\n",
    "          ,'eta':0.1\n",
    "         ,'scale_pos_weight':i\n",
    "            }\n",
    "    num_round = 200\n",
    "    clf = xgb.train(param, dtrain, num_round)\n",
    "    preds = clf.predict(dtest)\n",
    "    ypred = preds.copy()\n",
    "    ypred[preds>0.5] = 1\n",
    "    ypred[ypred!=1] = 0\n",
    "    print(name)\n",
    "    print('\\tAccuracy:{}'.format(accuracy(y_test,ypred)))\n",
    "    print('\\tRecall:{}'.format(recall(y_test,ypred)))\n",
    "    print('\\tAUC:{}'.format(auc(y_test,preds)))"
   ]
  },
  {
   "cell_type": "code",
   "execution_count": 39,
   "id": "ddcabe67",
   "metadata": {},
   "outputs": [
    {
     "name": "stdout",
     "output_type": "stream",
     "text": [
      "[16:09:42] WARNING: C:/Users/Administrator/workspace/xgboost-win64_release_1.6.0/src/learner.cc:627: \n",
      "Parameters: { \"object\", \"silent\" } might not be used.\n",
      "\n",
      "  This could be a false alarm, with some parameters getting used by language bindings but\n",
      "  then being mistakenly passed down to XGBoost core, or some parameter actually being used\n",
      "  but getting flagged wrongly here. Please open an issue if you find any such cases.\n",
      "\n",
      "\n",
      "negtive vs positive: 1\n",
      "\tAccuracy:0.9393939393939394\n",
      "\tRecall:0.7894736842105263\n",
      "\tAUC:0.8741888968997835\n",
      "[16:09:43] WARNING: C:/Users/Administrator/workspace/xgboost-win64_release_1.6.0/src/learner.cc:627: \n",
      "Parameters: { \"object\", \"silent\" } might not be used.\n",
      "\n",
      "  This could be a false alarm, with some parameters getting used by language bindings but\n",
      "  then being mistakenly passed down to XGBoost core, or some parameter actually being used\n",
      "  but getting flagged wrongly here. Please open an issue if you find any such cases.\n",
      "\n",
      "\n",
      "negtive vs positive: 1\n",
      "\tAccuracy:0.9393939393939394\n",
      "\tRecall:0.631578947368421\n",
      "\tAUC:0.8741888968997835\n",
      "[16:09:43] WARNING: C:/Users/Administrator/workspace/xgboost-win64_release_1.6.0/src/learner.cc:627: \n",
      "Parameters: { \"object\", \"silent\" } might not be used.\n",
      "\n",
      "  This could be a false alarm, with some parameters getting used by language bindings but\n",
      "  then being mistakenly passed down to XGBoost core, or some parameter actually being used\n",
      "  but getting flagged wrongly here. Please open an issue if you find any such cases.\n",
      "\n",
      "\n",
      "negtive vs positive: 1\n",
      "\tAccuracy:0.9272727272727272\n",
      "\tRecall:0.5263157894736842\n",
      "\tAUC:0.8741888968997835\n",
      "[16:09:43] WARNING: C:/Users/Administrator/workspace/xgboost-win64_release_1.6.0/src/learner.cc:627: \n",
      "Parameters: { \"object\", \"silent\" } might not be used.\n",
      "\n",
      "  This could be a false alarm, with some parameters getting used by language bindings but\n",
      "  then being mistakenly passed down to XGBoost core, or some parameter actually being used\n",
      "  but getting flagged wrongly here. Please open an issue if you find any such cases.\n",
      "\n",
      "\n",
      "negtive vs positive: 1\n",
      "\tAccuracy:0.9212121212121213\n",
      "\tRecall:0.47368421052631576\n",
      "\tAUC:0.8741888968997835\n",
      "[16:09:43] WARNING: C:/Users/Administrator/workspace/xgboost-win64_release_1.6.0/src/learner.cc:627: \n",
      "Parameters: { \"object\", \"silent\" } might not be used.\n",
      "\n",
      "  This could be a false alarm, with some parameters getting used by language bindings but\n",
      "  then being mistakenly passed down to XGBoost core, or some parameter actually being used\n",
      "  but getting flagged wrongly here. Please open an issue if you find any such cases.\n",
      "\n",
      "\n",
      "negtive vs positive: 5\n",
      "\tAccuracy:0.9454545454545454\n",
      "\tRecall:0.7368421052631579\n",
      "\tAUC:0.8777937995674119\n",
      "[16:09:43] WARNING: C:/Users/Administrator/workspace/xgboost-win64_release_1.6.0/src/learner.cc:627: \n",
      "Parameters: { \"object\", \"silent\" } might not be used.\n",
      "\n",
      "  This could be a false alarm, with some parameters getting used by language bindings but\n",
      "  then being mistakenly passed down to XGBoost core, or some parameter actually being used\n",
      "  but getting flagged wrongly here. Please open an issue if you find any such cases.\n",
      "\n",
      "\n",
      "negtive vs positive: 5\n",
      "\tAccuracy:0.9393939393939394\n",
      "\tRecall:0.6842105263157895\n",
      "\tAUC:0.8777937995674119\n",
      "[16:09:43] WARNING: C:/Users/Administrator/workspace/xgboost-win64_release_1.6.0/src/learner.cc:627: \n",
      "Parameters: { \"object\", \"silent\" } might not be used.\n",
      "\n",
      "  This could be a false alarm, with some parameters getting used by language bindings but\n",
      "  then being mistakenly passed down to XGBoost core, or some parameter actually being used\n",
      "  but getting flagged wrongly here. Please open an issue if you find any such cases.\n",
      "\n",
      "\n",
      "negtive vs positive: 5\n",
      "\tAccuracy:0.9333333333333333\n",
      "\tRecall:0.5789473684210527\n",
      "\tAUC:0.8777937995674119\n",
      "[16:09:43] WARNING: C:/Users/Administrator/workspace/xgboost-win64_release_1.6.0/src/learner.cc:627: \n",
      "Parameters: { \"object\", \"silent\" } might not be used.\n",
      "\n",
      "  This could be a false alarm, with some parameters getting used by language bindings but\n",
      "  then being mistakenly passed down to XGBoost core, or some parameter actually being used\n",
      "  but getting flagged wrongly here. Please open an issue if you find any such cases.\n",
      "\n",
      "\n",
      "negtive vs positive: 5\n",
      "\tAccuracy:0.9272727272727272\n",
      "\tRecall:0.5263157894736842\n",
      "\tAUC:0.8777937995674119\n",
      "[16:09:43] WARNING: C:/Users/Administrator/workspace/xgboost-win64_release_1.6.0/src/learner.cc:627: \n",
      "Parameters: { \"object\", \"silent\" } might not be used.\n",
      "\n",
      "  This could be a false alarm, with some parameters getting used by language bindings but\n",
      "  then being mistakenly passed down to XGBoost core, or some parameter actually being used\n",
      "  but getting flagged wrongly here. Please open an issue if you find any such cases.\n",
      "\n",
      "\n",
      "negtive vs positive: 10\n",
      "\tAccuracy:0.9393939393939394\n",
      "\tRecall:0.7368421052631579\n",
      "\tAUC:0.8756308579668349\n",
      "[16:09:44] WARNING: C:/Users/Administrator/workspace/xgboost-win64_release_1.6.0/src/learner.cc:627: \n",
      "Parameters: { \"object\", \"silent\" } might not be used.\n",
      "\n",
      "  This could be a false alarm, with some parameters getting used by language bindings but\n",
      "  then being mistakenly passed down to XGBoost core, or some parameter actually being used\n",
      "  but getting flagged wrongly here. Please open an issue if you find any such cases.\n",
      "\n",
      "\n",
      "negtive vs positive: 10\n",
      "\tAccuracy:0.9393939393939394\n",
      "\tRecall:0.6842105263157895\n",
      "\tAUC:0.8756308579668349\n",
      "[16:09:44] WARNING: C:/Users/Administrator/workspace/xgboost-win64_release_1.6.0/src/learner.cc:627: \n",
      "Parameters: { \"object\", \"silent\" } might not be used.\n",
      "\n",
      "  This could be a false alarm, with some parameters getting used by language bindings but\n",
      "  then being mistakenly passed down to XGBoost core, or some parameter actually being used\n",
      "  but getting flagged wrongly here. Please open an issue if you find any such cases.\n",
      "\n",
      "\n",
      "negtive vs positive: 10\n",
      "\tAccuracy:0.9333333333333333\n",
      "\tRecall:0.5789473684210527\n",
      "\tAUC:0.8756308579668349\n",
      "[16:09:44] WARNING: C:/Users/Administrator/workspace/xgboost-win64_release_1.6.0/src/learner.cc:627: \n",
      "Parameters: { \"object\", \"silent\" } might not be used.\n",
      "\n",
      "  This could be a false alarm, with some parameters getting used by language bindings but\n",
      "  then being mistakenly passed down to XGBoost core, or some parameter actually being used\n",
      "  but getting flagged wrongly here. Please open an issue if you find any such cases.\n",
      "\n",
      "\n",
      "negtive vs positive: 10\n",
      "\tAccuracy:0.9272727272727272\n",
      "\tRecall:0.5263157894736842\n",
      "\tAUC:0.8756308579668349\n"
     ]
    }
   ],
   "source": [
    "# threshold\n",
    "for name,i in zip(names,scale_pos_weight):\n",
    "    for thres in [0.3,0.5,0.7,0.9]:\n",
    "        param = {'silent':True\n",
    "             ,'object':'binary:logistic'\n",
    "              ,'eta':0.1\n",
    "             ,'scale_pos_weight':i\n",
    "                }\n",
    "        num_round = 200\n",
    "        clf = xgb.train(param, dtrain, num_round)\n",
    "        preds = clf.predict(dtest)\n",
    "        ypred = preds.copy()\n",
    "        ypred[preds>thres] = 1\n",
    "        ypred[ypred!=1] = 0\n",
    "        print(name)\n",
    "        print('\\tAccuracy:{}'.format(accuracy(y_test,ypred)))\n",
    "        print('\\tRecall:{}'.format(recall(y_test,ypred)))\n",
    "        print('\\tAUC:{}'.format(auc(y_test,preds)))"
   ]
  },
  {
   "cell_type": "code",
   "execution_count": null,
   "id": "1b3aac4f",
   "metadata": {},
   "outputs": [],
   "source": []
  }
 ],
 "metadata": {
  "kernelspec": {
   "display_name": "Python 3 (ipykernel)",
   "language": "python",
   "name": "python3"
  },
  "language_info": {
   "codemirror_mode": {
    "name": "ipython",
    "version": 3
   },
   "file_extension": ".py",
   "mimetype": "text/x-python",
   "name": "python",
   "nbconvert_exporter": "python",
   "pygments_lexer": "ipython3",
   "version": "3.9.7"
  },
  "toc": {
   "base_numbering": 1,
   "nav_menu": {},
   "number_sections": true,
   "sideBar": true,
   "skip_h1_title": false,
   "title_cell": "Table of Contents",
   "title_sidebar": "Contents",
   "toc_cell": false,
   "toc_position": {
    "height": "calc(100% - 180px)",
    "left": "10px",
    "top": "150px",
    "width": "231.989px"
   },
   "toc_section_display": true,
   "toc_window_display": true
  }
 },
 "nbformat": 4,
 "nbformat_minor": 5
}
