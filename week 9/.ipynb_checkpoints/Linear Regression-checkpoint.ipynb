{
 "cells": [
  {
   "cell_type": "code",
   "execution_count": 1,
   "id": "9049265f",
   "metadata": {},
   "outputs": [],
   "source": [
    "import numpy as np\n",
    "import pandas as pd\n",
    "from sklearn.linear_model import LinearRegression as LR\n",
    "from sklearn.model_selection import train_test_split\n",
    "from sklearn.model_selection import cross_val_score\n",
    "from sklearn.datasets import fetch_california_housing as fch"
   ]
  },
  {
   "cell_type": "code",
   "execution_count": 2,
   "id": "d74c3dc3",
   "metadata": {},
   "outputs": [],
   "source": [
    "housevalue = fch()"
   ]
  },
  {
   "cell_type": "code",
   "execution_count": 3,
   "id": "c11c5c1f",
   "metadata": {},
   "outputs": [
    {
     "data": {
      "text/html": [
       "<div>\n",
       "<style scoped>\n",
       "    .dataframe tbody tr th:only-of-type {\n",
       "        vertical-align: middle;\n",
       "    }\n",
       "\n",
       "    .dataframe tbody tr th {\n",
       "        vertical-align: top;\n",
       "    }\n",
       "\n",
       "    .dataframe thead th {\n",
       "        text-align: right;\n",
       "    }\n",
       "</style>\n",
       "<table border=\"1\" class=\"dataframe\">\n",
       "  <thead>\n",
       "    <tr style=\"text-align: right;\">\n",
       "      <th></th>\n",
       "      <th>0</th>\n",
       "      <th>1</th>\n",
       "      <th>2</th>\n",
       "      <th>3</th>\n",
       "      <th>4</th>\n",
       "      <th>5</th>\n",
       "      <th>6</th>\n",
       "      <th>7</th>\n",
       "    </tr>\n",
       "  </thead>\n",
       "  <tbody>\n",
       "    <tr>\n",
       "      <th>0</th>\n",
       "      <td>8.3252</td>\n",
       "      <td>41.0</td>\n",
       "      <td>6.984127</td>\n",
       "      <td>1.023810</td>\n",
       "      <td>322.0</td>\n",
       "      <td>2.555556</td>\n",
       "      <td>37.88</td>\n",
       "      <td>-122.23</td>\n",
       "    </tr>\n",
       "    <tr>\n",
       "      <th>1</th>\n",
       "      <td>8.3014</td>\n",
       "      <td>21.0</td>\n",
       "      <td>6.238137</td>\n",
       "      <td>0.971880</td>\n",
       "      <td>2401.0</td>\n",
       "      <td>2.109842</td>\n",
       "      <td>37.86</td>\n",
       "      <td>-122.22</td>\n",
       "    </tr>\n",
       "    <tr>\n",
       "      <th>2</th>\n",
       "      <td>7.2574</td>\n",
       "      <td>52.0</td>\n",
       "      <td>8.288136</td>\n",
       "      <td>1.073446</td>\n",
       "      <td>496.0</td>\n",
       "      <td>2.802260</td>\n",
       "      <td>37.85</td>\n",
       "      <td>-122.24</td>\n",
       "    </tr>\n",
       "    <tr>\n",
       "      <th>3</th>\n",
       "      <td>5.6431</td>\n",
       "      <td>52.0</td>\n",
       "      <td>5.817352</td>\n",
       "      <td>1.073059</td>\n",
       "      <td>558.0</td>\n",
       "      <td>2.547945</td>\n",
       "      <td>37.85</td>\n",
       "      <td>-122.25</td>\n",
       "    </tr>\n",
       "    <tr>\n",
       "      <th>4</th>\n",
       "      <td>3.8462</td>\n",
       "      <td>52.0</td>\n",
       "      <td>6.281853</td>\n",
       "      <td>1.081081</td>\n",
       "      <td>565.0</td>\n",
       "      <td>2.181467</td>\n",
       "      <td>37.85</td>\n",
       "      <td>-122.25</td>\n",
       "    </tr>\n",
       "  </tbody>\n",
       "</table>\n",
       "</div>"
      ],
      "text/plain": [
       "        0     1         2         3       4         5      6       7\n",
       "0  8.3252  41.0  6.984127  1.023810   322.0  2.555556  37.88 -122.23\n",
       "1  8.3014  21.0  6.238137  0.971880  2401.0  2.109842  37.86 -122.22\n",
       "2  7.2574  52.0  8.288136  1.073446   496.0  2.802260  37.85 -122.24\n",
       "3  5.6431  52.0  5.817352  1.073059   558.0  2.547945  37.85 -122.25\n",
       "4  3.8462  52.0  6.281853  1.081081   565.0  2.181467  37.85 -122.25"
      ]
     },
     "execution_count": 3,
     "metadata": {},
     "output_type": "execute_result"
    }
   ],
   "source": [
    "X = pd.DataFrame(housevalue.data)\n",
    "X.head()\n",
    "# 量纲不统一"
   ]
  },
  {
   "cell_type": "code",
   "execution_count": 4,
   "id": "ef6c5e99",
   "metadata": {},
   "outputs": [
    {
     "data": {
      "text/plain": [
       "array([4.526, 3.585, 3.521, ..., 0.923, 0.847, 0.894])"
      ]
     },
     "execution_count": 4,
     "metadata": {},
     "output_type": "execute_result"
    }
   ],
   "source": [
    "y = housevalue.target\n",
    "y"
   ]
  },
  {
   "cell_type": "code",
   "execution_count": 5,
   "id": "e857cbc4",
   "metadata": {},
   "outputs": [
    {
     "data": {
      "text/plain": [
       "(20640, 8)"
      ]
     },
     "execution_count": 5,
     "metadata": {},
     "output_type": "execute_result"
    }
   ],
   "source": [
    "X.shape"
   ]
  },
  {
   "cell_type": "code",
   "execution_count": 6,
   "id": "b7cfb738",
   "metadata": {},
   "outputs": [
    {
     "data": {
      "text/plain": [
       "(20640,)"
      ]
     },
     "execution_count": 6,
     "metadata": {},
     "output_type": "execute_result"
    }
   ],
   "source": [
    "y.shape"
   ]
  },
  {
   "cell_type": "code",
   "execution_count": 8,
   "id": "5ef3dea5",
   "metadata": {},
   "outputs": [
    {
     "data": {
      "text/plain": [
       "5.00001"
      ]
     },
     "execution_count": 8,
     "metadata": {},
     "output_type": "execute_result"
    }
   ],
   "source": [
    "y.max()"
   ]
  },
  {
   "cell_type": "code",
   "execution_count": 9,
   "id": "fee254d0",
   "metadata": {},
   "outputs": [
    {
     "data": {
      "text/plain": [
       "0.14999"
      ]
     },
     "execution_count": 9,
     "metadata": {},
     "output_type": "execute_result"
    }
   ],
   "source": [
    "y.min()"
   ]
  },
  {
   "cell_type": "code",
   "execution_count": 10,
   "id": "9a137601",
   "metadata": {},
   "outputs": [
    {
     "data": {
      "text/plain": [
       "['MedInc',\n",
       " 'HouseAge',\n",
       " 'AveRooms',\n",
       " 'AveBedrms',\n",
       " 'Population',\n",
       " 'AveOccup',\n",
       " 'Latitude',\n",
       " 'Longitude']"
      ]
     },
     "execution_count": 10,
     "metadata": {},
     "output_type": "execute_result"
    }
   ],
   "source": [
    "housevalue.feature_names"
   ]
  },
  {
   "cell_type": "code",
   "execution_count": 5,
   "id": "ee77f170",
   "metadata": {},
   "outputs": [],
   "source": [
    "X.columns = housevalue.feature_names"
   ]
  },
  {
   "cell_type": "code",
   "execution_count": 6,
   "id": "6acc4850",
   "metadata": {},
   "outputs": [
    {
     "data": {
      "text/html": [
       "<div>\n",
       "<style scoped>\n",
       "    .dataframe tbody tr th:only-of-type {\n",
       "        vertical-align: middle;\n",
       "    }\n",
       "\n",
       "    .dataframe tbody tr th {\n",
       "        vertical-align: top;\n",
       "    }\n",
       "\n",
       "    .dataframe thead th {\n",
       "        text-align: right;\n",
       "    }\n",
       "</style>\n",
       "<table border=\"1\" class=\"dataframe\">\n",
       "  <thead>\n",
       "    <tr style=\"text-align: right;\">\n",
       "      <th></th>\n",
       "      <th>MedInc</th>\n",
       "      <th>HouseAge</th>\n",
       "      <th>AveRooms</th>\n",
       "      <th>AveBedrms</th>\n",
       "      <th>Population</th>\n",
       "      <th>AveOccup</th>\n",
       "      <th>Latitude</th>\n",
       "      <th>Longitude</th>\n",
       "    </tr>\n",
       "  </thead>\n",
       "  <tbody>\n",
       "    <tr>\n",
       "      <th>0</th>\n",
       "      <td>8.3252</td>\n",
       "      <td>41.0</td>\n",
       "      <td>6.984127</td>\n",
       "      <td>1.023810</td>\n",
       "      <td>322.0</td>\n",
       "      <td>2.555556</td>\n",
       "      <td>37.88</td>\n",
       "      <td>-122.23</td>\n",
       "    </tr>\n",
       "    <tr>\n",
       "      <th>1</th>\n",
       "      <td>8.3014</td>\n",
       "      <td>21.0</td>\n",
       "      <td>6.238137</td>\n",
       "      <td>0.971880</td>\n",
       "      <td>2401.0</td>\n",
       "      <td>2.109842</td>\n",
       "      <td>37.86</td>\n",
       "      <td>-122.22</td>\n",
       "    </tr>\n",
       "    <tr>\n",
       "      <th>2</th>\n",
       "      <td>7.2574</td>\n",
       "      <td>52.0</td>\n",
       "      <td>8.288136</td>\n",
       "      <td>1.073446</td>\n",
       "      <td>496.0</td>\n",
       "      <td>2.802260</td>\n",
       "      <td>37.85</td>\n",
       "      <td>-122.24</td>\n",
       "    </tr>\n",
       "    <tr>\n",
       "      <th>3</th>\n",
       "      <td>5.6431</td>\n",
       "      <td>52.0</td>\n",
       "      <td>5.817352</td>\n",
       "      <td>1.073059</td>\n",
       "      <td>558.0</td>\n",
       "      <td>2.547945</td>\n",
       "      <td>37.85</td>\n",
       "      <td>-122.25</td>\n",
       "    </tr>\n",
       "    <tr>\n",
       "      <th>4</th>\n",
       "      <td>3.8462</td>\n",
       "      <td>52.0</td>\n",
       "      <td>6.281853</td>\n",
       "      <td>1.081081</td>\n",
       "      <td>565.0</td>\n",
       "      <td>2.181467</td>\n",
       "      <td>37.85</td>\n",
       "      <td>-122.25</td>\n",
       "    </tr>\n",
       "  </tbody>\n",
       "</table>\n",
       "</div>"
      ],
      "text/plain": [
       "   MedInc  HouseAge  AveRooms  AveBedrms  Population  AveOccup  Latitude  \\\n",
       "0  8.3252      41.0  6.984127   1.023810       322.0  2.555556     37.88   \n",
       "1  8.3014      21.0  6.238137   0.971880      2401.0  2.109842     37.86   \n",
       "2  7.2574      52.0  8.288136   1.073446       496.0  2.802260     37.85   \n",
       "3  5.6431      52.0  5.817352   1.073059       558.0  2.547945     37.85   \n",
       "4  3.8462      52.0  6.281853   1.081081       565.0  2.181467     37.85   \n",
       "\n",
       "   Longitude  \n",
       "0    -122.23  \n",
       "1    -122.22  \n",
       "2    -122.24  \n",
       "3    -122.25  \n",
       "4    -122.25  "
      ]
     },
     "execution_count": 6,
     "metadata": {},
     "output_type": "execute_result"
    }
   ],
   "source": [
    "X.head()"
   ]
  },
  {
   "cell_type": "code",
   "execution_count": 13,
   "id": "712a875c",
   "metadata": {},
   "outputs": [],
   "source": [
    "X_train, X_test, y_train, y_test = train_test_split(X, y, test_size=0.3, random_state=420)\n",
    "\n",
    "# 恢复索引\n",
    "for i in [X_train, X_test]:\n",
    "    i.index = range(i.shape[0])\n",
    "X_train.head()"
   ]
  },
  {
   "cell_type": "code",
   "execution_count": 16,
   "id": "903ba464",
   "metadata": {},
   "outputs": [
    {
     "data": {
      "text/plain": [
       "(14448, 8)"
      ]
     },
     "execution_count": 16,
     "metadata": {},
     "output_type": "execute_result"
    }
   ],
   "source": [
    "X_train.shape"
   ]
  },
  {
   "cell_type": "code",
   "execution_count": null,
   "id": "ec568e17",
   "metadata": {},
   "outputs": [],
   "source": [
    "# Nomalization\n",
    "from sklean.preprocessing import StandardScaler\n"
   ]
  },
  {
   "cell_type": "code",
   "execution_count": 17,
   "id": "236ef756",
   "metadata": {},
   "outputs": [],
   "source": [
    "reg = LR().fit(X_train, y_train)\n",
    "yhat = reg.predict(X_test)"
   ]
  },
  {
   "cell_type": "code",
   "execution_count": 18,
   "id": "94cb0b8a",
   "metadata": {},
   "outputs": [
    {
     "data": {
      "text/plain": [
       "array([1.51384887, 0.46566247, 2.2567733 , ..., 2.11885803, 1.76968187,\n",
       "       0.73219077])"
      ]
     },
     "execution_count": 18,
     "metadata": {},
     "output_type": "execute_result"
    }
   ],
   "source": [
    "yhat"
   ]
  },
  {
   "cell_type": "code",
   "execution_count": 19,
   "id": "c6a0671b",
   "metadata": {},
   "outputs": [
    {
     "data": {
      "text/plain": [
       "-0.6528439725035895"
      ]
     },
     "execution_count": 19,
     "metadata": {},
     "output_type": "execute_result"
    }
   ],
   "source": [
    "yhat.min()"
   ]
  },
  {
   "cell_type": "code",
   "execution_count": 20,
   "id": "64c6da30",
   "metadata": {},
   "outputs": [
    {
     "data": {
      "text/plain": [
       "7.146198214270882"
      ]
     },
     "execution_count": 20,
     "metadata": {},
     "output_type": "execute_result"
    }
   ],
   "source": [
    "yhat.max() #yhat的值在y真实值范围外"
   ]
  },
  {
   "cell_type": "code",
   "execution_count": 21,
   "id": "a353c8f4",
   "metadata": {},
   "outputs": [
    {
     "data": {
      "text/plain": [
       "array([ 4.37358931e-01,  1.02112683e-02, -1.07807216e-01,  6.26433828e-01,\n",
       "        5.21612535e-07, -3.34850965e-03, -4.13095938e-01, -4.26210954e-01])"
      ]
     },
     "execution_count": 21,
     "metadata": {},
     "output_type": "execute_result"
    }
   ],
   "source": [
    "# 查看系数\n",
    "reg.coef_"
   ]
  },
  {
   "cell_type": "code",
   "execution_count": 22,
   "id": "6b98cd0d",
   "metadata": {},
   "outputs": [
    {
     "data": {
      "text/plain": [
       "[('MedInc', 0.43735893059684033),\n",
       " ('HouseAge', 0.010211268294494024),\n",
       " ('AveRooms', -0.10780721617317683),\n",
       " ('AveBedrms', 0.6264338275363768),\n",
       " ('Population', 5.216125353123053e-07),\n",
       " ('AveOccup', -0.003348509646333473),\n",
       " ('Latitude', -0.41309593789477156),\n",
       " ('Longitude', -0.4262109536208467)]"
      ]
     },
     "execution_count": 22,
     "metadata": {},
     "output_type": "execute_result"
    }
   ],
   "source": [
    "[*zip(X_train.columns, reg.coef_)]"
   ]
  },
  {
   "cell_type": "code",
   "execution_count": 23,
   "id": "64664ea8",
   "metadata": {},
   "outputs": [
    {
     "data": {
      "text/plain": [
       "-36.25689322920383"
      ]
     },
     "execution_count": 23,
     "metadata": {},
     "output_type": "execute_result"
    }
   ],
   "source": [
    "reg.intercept_"
   ]
  },
  {
   "cell_type": "code",
   "execution_count": null,
   "id": "26b5f293",
   "metadata": {},
   "outputs": [],
   "source": [
    "# 回归类算法的模型评估指标\n",
    "1. 是否预测了正确的数值\n",
    "MSE（RSS的变体MSE（均方误差mean squared error）： ）\n",
    "MAE（绝对值误差 Mean absolute error）"
   ]
  },
  {
   "cell_type": "code",
   "execution_count": 25,
   "id": "b44d5439",
   "metadata": {},
   "outputs": [
    {
     "data": {
      "text/plain": [
       "0.530901263932457"
      ]
     },
     "execution_count": 25,
     "metadata": {},
     "output_type": "execute_result"
    }
   ],
   "source": [
    "# metrics里面的mean_squared_error\n",
    "from sklearn.metrics import mean_squared_error as MSE\n",
    "MSE(yhat, y_test)  # 错误20%  一般来说，5%左右的误差可以接受"
   ]
  },
  {
   "cell_type": "code",
   "execution_count": 26,
   "id": "2f8ced6b",
   "metadata": {},
   "outputs": [
    {
     "data": {
      "text/plain": [
       "2.0819292877906976"
      ]
     },
     "execution_count": 26,
     "metadata": {},
     "output_type": "execute_result"
    }
   ],
   "source": [
    "y_test.mean()"
   ]
  },
  {
   "cell_type": "code",
   "execution_count": 28,
   "id": "2f200767",
   "metadata": {},
   "outputs": [
    {
     "ename": "ValueError",
     "evalue": "'mean_squared_error' is not a valid scoring value. Use sorted(sklearn.metrics.SCORERS.keys()) to get valid options.",
     "output_type": "error",
     "traceback": [
      "\u001b[1;31m---------------------------------------------------------------------------\u001b[0m",
      "\u001b[1;31mKeyError\u001b[0m                                  Traceback (most recent call last)",
      "\u001b[1;32mD:\\ISO\\Anoconda\\lib\\site-packages\\sklearn\\metrics\\_scorer.py\u001b[0m in \u001b[0;36mget_scorer\u001b[1;34m(scoring)\u001b[0m\n\u001b[0;32m    384\u001b[0m         \u001b[1;32mtry\u001b[0m\u001b[1;33m:\u001b[0m\u001b[1;33m\u001b[0m\u001b[1;33m\u001b[0m\u001b[0m\n\u001b[1;32m--> 385\u001b[1;33m             \u001b[0mscorer\u001b[0m \u001b[1;33m=\u001b[0m \u001b[0mSCORERS\u001b[0m\u001b[1;33m[\u001b[0m\u001b[0mscoring\u001b[0m\u001b[1;33m]\u001b[0m\u001b[1;33m\u001b[0m\u001b[1;33m\u001b[0m\u001b[0m\n\u001b[0m\u001b[0;32m    386\u001b[0m         \u001b[1;32mexcept\u001b[0m \u001b[0mKeyError\u001b[0m\u001b[1;33m:\u001b[0m\u001b[1;33m\u001b[0m\u001b[1;33m\u001b[0m\u001b[0m\n",
      "\u001b[1;31mKeyError\u001b[0m: 'mean_squared_error'",
      "\nDuring handling of the above exception, another exception occurred:\n",
      "\u001b[1;31mValueError\u001b[0m                                Traceback (most recent call last)",
      "\u001b[1;32m~\\AppData\\Local\\Temp/ipykernel_11304/4017168818.py\u001b[0m in \u001b[0;36m<module>\u001b[1;34m\u001b[0m\n\u001b[0;32m      1\u001b[0m \u001b[1;31m# cross_val_score\u001b[0m\u001b[1;33m\u001b[0m\u001b[1;33m\u001b[0m\u001b[0m\n\u001b[1;32m----> 2\u001b[1;33m \u001b[0mcross_val_score\u001b[0m\u001b[1;33m(\u001b[0m\u001b[0mreg\u001b[0m\u001b[1;33m,\u001b[0m\u001b[0mX\u001b[0m\u001b[1;33m,\u001b[0m\u001b[0my\u001b[0m\u001b[1;33m,\u001b[0m\u001b[0mcv\u001b[0m\u001b[1;33m=\u001b[0m\u001b[1;36m5\u001b[0m\u001b[1;33m,\u001b[0m\u001b[0mscoring\u001b[0m\u001b[1;33m=\u001b[0m\u001b[1;34m\"mean_squared_error\"\u001b[0m\u001b[1;33m)\u001b[0m\u001b[1;33m\u001b[0m\u001b[1;33m\u001b[0m\u001b[0m\n\u001b[0m",
      "\u001b[1;32mD:\\ISO\\Anoconda\\lib\\site-packages\\sklearn\\utils\\validation.py\u001b[0m in \u001b[0;36minner_f\u001b[1;34m(*args, **kwargs)\u001b[0m\n\u001b[0;32m     61\u001b[0m             \u001b[0mextra_args\u001b[0m \u001b[1;33m=\u001b[0m \u001b[0mlen\u001b[0m\u001b[1;33m(\u001b[0m\u001b[0margs\u001b[0m\u001b[1;33m)\u001b[0m \u001b[1;33m-\u001b[0m \u001b[0mlen\u001b[0m\u001b[1;33m(\u001b[0m\u001b[0mall_args\u001b[0m\u001b[1;33m)\u001b[0m\u001b[1;33m\u001b[0m\u001b[1;33m\u001b[0m\u001b[0m\n\u001b[0;32m     62\u001b[0m             \u001b[1;32mif\u001b[0m \u001b[0mextra_args\u001b[0m \u001b[1;33m<=\u001b[0m \u001b[1;36m0\u001b[0m\u001b[1;33m:\u001b[0m\u001b[1;33m\u001b[0m\u001b[1;33m\u001b[0m\u001b[0m\n\u001b[1;32m---> 63\u001b[1;33m                 \u001b[1;32mreturn\u001b[0m \u001b[0mf\u001b[0m\u001b[1;33m(\u001b[0m\u001b[1;33m*\u001b[0m\u001b[0margs\u001b[0m\u001b[1;33m,\u001b[0m \u001b[1;33m**\u001b[0m\u001b[0mkwargs\u001b[0m\u001b[1;33m)\u001b[0m\u001b[1;33m\u001b[0m\u001b[1;33m\u001b[0m\u001b[0m\n\u001b[0m\u001b[0;32m     64\u001b[0m \u001b[1;33m\u001b[0m\u001b[0m\n\u001b[0;32m     65\u001b[0m             \u001b[1;31m# extra_args > 0\u001b[0m\u001b[1;33m\u001b[0m\u001b[1;33m\u001b[0m\u001b[0m\n",
      "\u001b[1;32mD:\\ISO\\Anoconda\\lib\\site-packages\\sklearn\\model_selection\\_validation.py\u001b[0m in \u001b[0;36mcross_val_score\u001b[1;34m(estimator, X, y, groups, scoring, cv, n_jobs, verbose, fit_params, pre_dispatch, error_score)\u001b[0m\n\u001b[0;32m    441\u001b[0m     \"\"\"\n\u001b[0;32m    442\u001b[0m     \u001b[1;31m# To ensure multimetric format is not supported\u001b[0m\u001b[1;33m\u001b[0m\u001b[1;33m\u001b[0m\u001b[0m\n\u001b[1;32m--> 443\u001b[1;33m     \u001b[0mscorer\u001b[0m \u001b[1;33m=\u001b[0m \u001b[0mcheck_scoring\u001b[0m\u001b[1;33m(\u001b[0m\u001b[0mestimator\u001b[0m\u001b[1;33m,\u001b[0m \u001b[0mscoring\u001b[0m\u001b[1;33m=\u001b[0m\u001b[0mscoring\u001b[0m\u001b[1;33m)\u001b[0m\u001b[1;33m\u001b[0m\u001b[1;33m\u001b[0m\u001b[0m\n\u001b[0m\u001b[0;32m    444\u001b[0m \u001b[1;33m\u001b[0m\u001b[0m\n\u001b[0;32m    445\u001b[0m     cv_results = cross_validate(estimator=estimator, X=X, y=y, groups=groups,\n",
      "\u001b[1;32mD:\\ISO\\Anoconda\\lib\\site-packages\\sklearn\\utils\\validation.py\u001b[0m in \u001b[0;36minner_f\u001b[1;34m(*args, **kwargs)\u001b[0m\n\u001b[0;32m     61\u001b[0m             \u001b[0mextra_args\u001b[0m \u001b[1;33m=\u001b[0m \u001b[0mlen\u001b[0m\u001b[1;33m(\u001b[0m\u001b[0margs\u001b[0m\u001b[1;33m)\u001b[0m \u001b[1;33m-\u001b[0m \u001b[0mlen\u001b[0m\u001b[1;33m(\u001b[0m\u001b[0mall_args\u001b[0m\u001b[1;33m)\u001b[0m\u001b[1;33m\u001b[0m\u001b[1;33m\u001b[0m\u001b[0m\n\u001b[0;32m     62\u001b[0m             \u001b[1;32mif\u001b[0m \u001b[0mextra_args\u001b[0m \u001b[1;33m<=\u001b[0m \u001b[1;36m0\u001b[0m\u001b[1;33m:\u001b[0m\u001b[1;33m\u001b[0m\u001b[1;33m\u001b[0m\u001b[0m\n\u001b[1;32m---> 63\u001b[1;33m                 \u001b[1;32mreturn\u001b[0m \u001b[0mf\u001b[0m\u001b[1;33m(\u001b[0m\u001b[1;33m*\u001b[0m\u001b[0margs\u001b[0m\u001b[1;33m,\u001b[0m \u001b[1;33m**\u001b[0m\u001b[0mkwargs\u001b[0m\u001b[1;33m)\u001b[0m\u001b[1;33m\u001b[0m\u001b[1;33m\u001b[0m\u001b[0m\n\u001b[0m\u001b[0;32m     64\u001b[0m \u001b[1;33m\u001b[0m\u001b[0m\n\u001b[0;32m     65\u001b[0m             \u001b[1;31m# extra_args > 0\u001b[0m\u001b[1;33m\u001b[0m\u001b[1;33m\u001b[0m\u001b[0m\n",
      "\u001b[1;32mD:\\ISO\\Anoconda\\lib\\site-packages\\sklearn\\metrics\\_scorer.py\u001b[0m in \u001b[0;36mcheck_scoring\u001b[1;34m(estimator, scoring, allow_none)\u001b[0m\n\u001b[0;32m    428\u001b[0m                         \"'fit' method, %r was passed\" % estimator)\n\u001b[0;32m    429\u001b[0m     \u001b[1;32mif\u001b[0m \u001b[0misinstance\u001b[0m\u001b[1;33m(\u001b[0m\u001b[0mscoring\u001b[0m\u001b[1;33m,\u001b[0m \u001b[0mstr\u001b[0m\u001b[1;33m)\u001b[0m\u001b[1;33m:\u001b[0m\u001b[1;33m\u001b[0m\u001b[1;33m\u001b[0m\u001b[0m\n\u001b[1;32m--> 430\u001b[1;33m         \u001b[1;32mreturn\u001b[0m \u001b[0mget_scorer\u001b[0m\u001b[1;33m(\u001b[0m\u001b[0mscoring\u001b[0m\u001b[1;33m)\u001b[0m\u001b[1;33m\u001b[0m\u001b[1;33m\u001b[0m\u001b[0m\n\u001b[0m\u001b[0;32m    431\u001b[0m     \u001b[1;32melif\u001b[0m \u001b[0mcallable\u001b[0m\u001b[1;33m(\u001b[0m\u001b[0mscoring\u001b[0m\u001b[1;33m)\u001b[0m\u001b[1;33m:\u001b[0m\u001b[1;33m\u001b[0m\u001b[1;33m\u001b[0m\u001b[0m\n\u001b[0;32m    432\u001b[0m         \u001b[1;31m# Heuristic to ensure user has not passed a metric\u001b[0m\u001b[1;33m\u001b[0m\u001b[1;33m\u001b[0m\u001b[0m\n",
      "\u001b[1;32mD:\\ISO\\Anoconda\\lib\\site-packages\\sklearn\\metrics\\_scorer.py\u001b[0m in \u001b[0;36mget_scorer\u001b[1;34m(scoring)\u001b[0m\n\u001b[0;32m    385\u001b[0m             \u001b[0mscorer\u001b[0m \u001b[1;33m=\u001b[0m \u001b[0mSCORERS\u001b[0m\u001b[1;33m[\u001b[0m\u001b[0mscoring\u001b[0m\u001b[1;33m]\u001b[0m\u001b[1;33m\u001b[0m\u001b[1;33m\u001b[0m\u001b[0m\n\u001b[0;32m    386\u001b[0m         \u001b[1;32mexcept\u001b[0m \u001b[0mKeyError\u001b[0m\u001b[1;33m:\u001b[0m\u001b[1;33m\u001b[0m\u001b[1;33m\u001b[0m\u001b[0m\n\u001b[1;32m--> 387\u001b[1;33m             raise ValueError('%r is not a valid scoring value. '\n\u001b[0m\u001b[0;32m    388\u001b[0m                              \u001b[1;34m'Use sorted(sklearn.metrics.SCORERS.keys()) '\u001b[0m\u001b[1;33m\u001b[0m\u001b[1;33m\u001b[0m\u001b[0m\n\u001b[0;32m    389\u001b[0m                              'to get valid options.' % scoring)\n",
      "\u001b[1;31mValueError\u001b[0m: 'mean_squared_error' is not a valid scoring value. Use sorted(sklearn.metrics.SCORERS.keys()) to get valid options."
     ]
    }
   ],
   "source": [
    "# cross_val_score\n",
    "cross_val_score(reg,X,y,cv=5,scoring=\"mean_squared_error\")"
   ]
  },
  {
   "cell_type": "code",
   "execution_count": 30,
   "id": "16af0804",
   "metadata": {},
   "outputs": [
    {
     "data": {
      "text/plain": [
       "['accuracy',\n",
       " 'adjusted_mutual_info_score',\n",
       " 'adjusted_rand_score',\n",
       " 'average_precision',\n",
       " 'balanced_accuracy',\n",
       " 'completeness_score',\n",
       " 'explained_variance',\n",
       " 'f1',\n",
       " 'f1_macro',\n",
       " 'f1_micro',\n",
       " 'f1_samples',\n",
       " 'f1_weighted',\n",
       " 'fowlkes_mallows_score',\n",
       " 'homogeneity_score',\n",
       " 'jaccard',\n",
       " 'jaccard_macro',\n",
       " 'jaccard_micro',\n",
       " 'jaccard_samples',\n",
       " 'jaccard_weighted',\n",
       " 'max_error',\n",
       " 'mutual_info_score',\n",
       " 'neg_brier_score',\n",
       " 'neg_log_loss',\n",
       " 'neg_mean_absolute_error',\n",
       " 'neg_mean_absolute_percentage_error',\n",
       " 'neg_mean_gamma_deviance',\n",
       " 'neg_mean_poisson_deviance',\n",
       " 'neg_mean_squared_error',\n",
       " 'neg_mean_squared_log_error',\n",
       " 'neg_median_absolute_error',\n",
       " 'neg_root_mean_squared_error',\n",
       " 'normalized_mutual_info_score',\n",
       " 'precision',\n",
       " 'precision_macro',\n",
       " 'precision_micro',\n",
       " 'precision_samples',\n",
       " 'precision_weighted',\n",
       " 'r2',\n",
       " 'rand_score',\n",
       " 'recall',\n",
       " 'recall_macro',\n",
       " 'recall_micro',\n",
       " 'recall_samples',\n",
       " 'recall_weighted',\n",
       " 'roc_auc',\n",
       " 'roc_auc_ovo',\n",
       " 'roc_auc_ovo_weighted',\n",
       " 'roc_auc_ovr',\n",
       " 'roc_auc_ovr_weighted',\n",
       " 'top_k_accuracy',\n",
       " 'v_measure_score']"
      ]
     },
     "execution_count": 30,
     "metadata": {},
     "output_type": "execute_result"
    }
   ],
   "source": [
    "# 看一下可用score\n",
    "import sklearn\n",
    "sorted(sklearn.metrics.SCORERS.keys())"
   ]
  },
  {
   "cell_type": "code",
   "execution_count": 32,
   "id": "5dfba273",
   "metadata": {},
   "outputs": [
    {
     "data": {
      "text/plain": [
       "-0.5582901717686554"
      ]
     },
     "execution_count": 32,
     "metadata": {},
     "output_type": "execute_result"
    }
   ],
   "source": [
    "# \"neg_mean_squared_error\"   损失显示为负数\n",
    "cross_val_score(reg,X,y,cv=5,scoring=\"neg_mean_squared_error\").mean()"
   ]
  },
  {
   "cell_type": "code",
   "execution_count": 33,
   "id": "6ecb74e3",
   "metadata": {},
   "outputs": [
    {
     "data": {
      "text/plain": [
       "-0.547496190786682"
      ]
     },
     "execution_count": 33,
     "metadata": {},
     "output_type": "execute_result"
    }
   ],
   "source": [
    "cross_val_score(reg,X,y,cv=5,scoring=\"neg_mean_absolute_error\").mean()"
   ]
  },
  {
   "cell_type": "code",
   "execution_count": null,
   "id": "6d530515",
   "metadata": {},
   "outputs": [],
   "source": [
    "# 2. R^2  表示模型捕获到的信息量占总体的比列。越接近1越好。"
   ]
  },
  {
   "cell_type": "code",
   "execution_count": 38,
   "id": "74b85b37",
   "metadata": {},
   "outputs": [
    {
     "data": {
      "text/plain": [
       "0.6043668160178818"
      ]
     },
     "execution_count": 38,
     "metadata": {},
     "output_type": "execute_result"
    }
   ],
   "source": [
    "from sklearn.metrics import r2_score\n",
    "r2_score(y_test, yhat)"
   ]
  },
  {
   "cell_type": "code",
   "execution_count": 36,
   "id": "5fdf026a",
   "metadata": {},
   "outputs": [
    {
     "data": {
      "text/plain": [
       "0.6043668160178818"
      ]
     },
     "execution_count": 36,
     "metadata": {},
     "output_type": "execute_result"
    }
   ],
   "source": [
    "r2 = reg.score(X_test, y_test)\n",
    "r2"
   ]
  },
  {
   "cell_type": "code",
   "execution_count": 37,
   "id": "53df9d6e",
   "metadata": {},
   "outputs": [
    {
     "data": {
      "text/plain": [
       "0.5530311140279562"
      ]
     },
     "execution_count": 37,
     "metadata": {},
     "output_type": "execute_result"
    }
   ],
   "source": [
    "cross_val_score(reg,X,y,cv=5,scoring=\"r2\").mean()"
   ]
  },
  {
   "cell_type": "code",
   "execution_count": 42,
   "id": "8add4678",
   "metadata": {},
   "outputs": [
    {
     "data": {
      "image/png": "[encoded data removed]",
      "text/plain": [
       "<Figure size 432x288 with 1 Axes>"
      ]
     },
     "metadata": {
      "needs_background": "light"
     },
     "output_type": "display_data"
    }
   ],
   "source": [
    "# 结论：模型拟合了比较好的数值，但是丢失了较多信息（没有很好拟合分布）\n",
    "import matplotlib.pyplot as plt\n",
    "plt.figure()\n",
    "\n",
    "plt.plot(range(len(y_test)), sorted(y_test), c='black',label='Data')\n",
    "plt.plot(range(len(yhat)), sorted(yhat), c='red',label='Predict')\n",
    "\n",
    "plt.legend()\n",
    "plt.show()"
   ]
  },
  {
   "cell_type": "code",
   "execution_count": null,
   "id": "3a21912b",
   "metadata": {},
   "outputs": [],
   "source": []
  },
  {
   "cell_type": "code",
   "execution_count": null,
   "id": "578cf9f6",
   "metadata": {},
   "outputs": [],
   "source": [
    "# Ridge regreesion"
   ]
  },
  {
   "cell_type": "code",
   "execution_count": 7,
   "id": "dd1a117f",
   "metadata": {},
   "outputs": [],
   "source": [
    "X_train, X_test, y_train, y_test = train_test_split(X, y, test_size=0.3, random_state=420)"
   ]
  },
  {
   "cell_type": "code",
   "execution_count": 8,
   "id": "fd5f1083",
   "metadata": {},
   "outputs": [
    {
     "data": {
      "text/html": [
       "<div>\n",
       "<style scoped>\n",
       "    .dataframe tbody tr th:only-of-type {\n",
       "        vertical-align: middle;\n",
       "    }\n",
       "\n",
       "    .dataframe tbody tr th {\n",
       "        vertical-align: top;\n",
       "    }\n",
       "\n",
       "    .dataframe thead th {\n",
       "        text-align: right;\n",
       "    }\n",
       "</style>\n",
       "<table border=\"1\" class=\"dataframe\">\n",
       "  <thead>\n",
       "    <tr style=\"text-align: right;\">\n",
       "      <th></th>\n",
       "      <th>MedInc</th>\n",
       "      <th>HouseAge</th>\n",
       "      <th>AveRooms</th>\n",
       "      <th>AveBedrms</th>\n",
       "      <th>Population</th>\n",
       "      <th>AveOccup</th>\n",
       "      <th>Latitude</th>\n",
       "      <th>Longitude</th>\n",
       "    </tr>\n",
       "  </thead>\n",
       "  <tbody>\n",
       "    <tr>\n",
       "      <th>0</th>\n",
       "      <td>4.1776</td>\n",
       "      <td>35.0</td>\n",
       "      <td>4.425172</td>\n",
       "      <td>1.030683</td>\n",
       "      <td>5380.0</td>\n",
       "      <td>3.368817</td>\n",
       "      <td>37.48</td>\n",
       "      <td>-122.19</td>\n",
       "    </tr>\n",
       "    <tr>\n",
       "      <th>1</th>\n",
       "      <td>5.3261</td>\n",
       "      <td>38.0</td>\n",
       "      <td>6.267516</td>\n",
       "      <td>1.089172</td>\n",
       "      <td>429.0</td>\n",
       "      <td>2.732484</td>\n",
       "      <td>37.53</td>\n",
       "      <td>-122.30</td>\n",
       "    </tr>\n",
       "    <tr>\n",
       "      <th>2</th>\n",
       "      <td>1.9439</td>\n",
       "      <td>26.0</td>\n",
       "      <td>5.768977</td>\n",
       "      <td>1.141914</td>\n",
       "      <td>891.0</td>\n",
       "      <td>2.940594</td>\n",
       "      <td>36.02</td>\n",
       "      <td>-119.08</td>\n",
       "    </tr>\n",
       "    <tr>\n",
       "      <th>3</th>\n",
       "      <td>2.5000</td>\n",
       "      <td>22.0</td>\n",
       "      <td>4.916000</td>\n",
       "      <td>1.012000</td>\n",
       "      <td>733.0</td>\n",
       "      <td>2.932000</td>\n",
       "      <td>38.57</td>\n",
       "      <td>-121.31</td>\n",
       "    </tr>\n",
       "    <tr>\n",
       "      <th>4</th>\n",
       "      <td>3.8250</td>\n",
       "      <td>34.0</td>\n",
       "      <td>5.036765</td>\n",
       "      <td>1.098039</td>\n",
       "      <td>1134.0</td>\n",
       "      <td>2.779412</td>\n",
       "      <td>33.91</td>\n",
       "      <td>-118.35</td>\n",
       "    </tr>\n",
       "  </tbody>\n",
       "</table>\n",
       "</div>"
      ],
      "text/plain": [
       "   MedInc  HouseAge  AveRooms  AveBedrms  Population  AveOccup  Latitude  \\\n",
       "0  4.1776      35.0  4.425172   1.030683      5380.0  3.368817     37.48   \n",
       "1  5.3261      38.0  6.267516   1.089172       429.0  2.732484     37.53   \n",
       "2  1.9439      26.0  5.768977   1.141914       891.0  2.940594     36.02   \n",
       "3  2.5000      22.0  4.916000   1.012000       733.0  2.932000     38.57   \n",
       "4  3.8250      34.0  5.036765   1.098039      1134.0  2.779412     33.91   \n",
       "\n",
       "   Longitude  \n",
       "0    -122.19  \n",
       "1    -122.30  \n",
       "2    -119.08  \n",
       "3    -121.31  \n",
       "4    -118.35  "
      ]
     },
     "execution_count": 8,
     "metadata": {},
     "output_type": "execute_result"
    }
   ],
   "source": [
    "# reset index\n",
    "for i in [X_train, X_test]:\n",
    "    i.index = range(i.shape[0])\n",
    "X_train.head()"
   ]
  },
  {
   "cell_type": "code",
   "execution_count": 10,
   "id": "105841d1",
   "metadata": {},
   "outputs": [
    {
     "data": {
      "text/plain": [
       "0.6043610352312278"
      ]
     },
     "execution_count": 10,
     "metadata": {},
     "output_type": "execute_result"
    }
   ],
   "source": [
    "from sklearn.linear_model import Ridge\n",
    "reg = Ridge().fit(X_train, y_train)\n",
    "reg.score(X_test, y_test)   #数据集中应该不是共线性问题"
   ]
  },
  {
   "cell_type": "code",
   "execution_count": 12,
   "id": "e6de7757",
   "metadata": {},
   "outputs": [
    {
     "data": {
      "image/png": "[encoded data removed]",
      "text/plain": [
       "<Figure size 432x288 with 1 Axes>"
      ]
     },
     "metadata": {
      "needs_background": "light"
     },
     "output_type": "display_data"
    }
   ],
   "source": [
    "import matplotlib.pyplot as plt\n",
    "\n",
    "alpharange = np.arange(1, 1001, 100)\n",
    "ridge, lr = [], []\n",
    "\n",
    "for a in alpharange:\n",
    "    reg = Ridge(alpha=a)\n",
    "    linear = LR()\n",
    "    \n",
    "    regs = cross_val_score(reg, X, y, cv=5, scoring=\"r2\").mean()\n",
    "    linears = cross_val_score(linear, X, y, cv=5, scoring=\"r2\").mean()\n",
    "    \n",
    "    ridge.append(regs)\n",
    "    lr.append(linears)\n",
    "    \n",
    "plt.figure()\n",
    "plt.plot(alpharange, ridge, color='red', label=\"Ridge\")\n",
    "plt.plot(alpharange, lr, color='black', label=\"Linear Regression\")\n",
    "plt.title(\"Mean\")\n",
    "plt.legend()\n",
    "plt.show()"
   ]
  },
  {
   "cell_type": "code",
   "execution_count": 14,
   "id": "683b0c1b",
   "metadata": {},
   "outputs": [
    {
     "data": {
      "image/png": "[encoded data removed]",
      "text/plain": [
       "<Figure size 432x288 with 1 Axes>"
      ]
     },
     "metadata": {
      "needs_background": "light"
     },
     "output_type": "display_data"
    }
   ],
   "source": [
    "alpharange = np.arange(1, 201, 10)\n",
    "ridge, lr = [], []\n",
    "\n",
    "for a in alpharange:\n",
    "    reg = Ridge(alpha=a)\n",
    "    linear = LR()\n",
    "    \n",
    "    regs = cross_val_score(reg, X, y, cv=5, scoring=\"r2\").mean()\n",
    "    linears = cross_val_score(linear, X, y, cv=5, scoring=\"r2\").mean()\n",
    "    \n",
    "    ridge.append(regs)\n",
    "    lr.append(linears)\n",
    "    \n",
    "plt.figure()\n",
    "plt.plot(alpharange, ridge, color='red', label=\"Ridge\")\n",
    "plt.plot(alpharange, lr, color='black', label=\"Linear Regression\")\n",
    "plt.title(\"Mean\")\n",
    "plt.legend()\n",
    "plt.show()"
   ]
  },
  {
   "cell_type": "code",
   "execution_count": 20,
   "id": "607e4545",
   "metadata": {},
   "outputs": [
    {
     "data": {
      "image/png": "[encoded data removed]",
      "text/plain": [
       "<Figure size 432x288 with 1 Axes>"
      ]
     },
     "metadata": {
      "needs_background": "light"
     },
     "output_type": "display_data"
    }
   ],
   "source": [
    "# See variance\n",
    "alpharange = np.arange(1, 1001, 100)\n",
    "ridge, lr = [], []\n",
    "\n",
    "for a in alpharange:\n",
    "    reg = Ridge(alpha=a)\n",
    "    linear = LR()\n",
    "    \n",
    "    regs = cross_val_score(reg, X, y, cv=5, scoring=\"r2\").var()\n",
    "    linears = cross_val_score(linear, X, y, cv=5, scoring=\"r2\").var()\n",
    "    \n",
    "    ridge.append(regs)\n",
    "    lr.append(linears)\n",
    "    \n",
    "plt.figure()\n",
    "plt.plot(alpharange, ridge, color='red', label=\"Ridge\")\n",
    "plt.plot(alpharange, lr, color='black', label=\"Linear Regression\")\n",
    "plt.title(\"Virance\")\n",
    "plt.legend()\n",
    "plt.show()"
   ]
  },
  {
   "cell_type": "code",
   "execution_count": 16,
   "id": "7d962491",
   "metadata": {},
   "outputs": [],
   "source": [
    "# Boston Data\n",
    "from sklearn.datasets import load_boston\n",
    "\n",
    "X = load_boston().data\n",
    "y = load_boston().target\n",
    "\n",
    "X_train, X_test, y_train, y_test = train_test_split(X, y, test_size=0.3, random_state=420)"
   ]
  },
  {
   "cell_type": "code",
   "execution_count": 18,
   "id": "4e02c35e",
   "metadata": {},
   "outputs": [
    {
     "data": {
      "text/plain": [
       "(354, 13)"
      ]
     },
     "execution_count": 18,
     "metadata": {},
     "output_type": "execute_result"
    }
   ],
   "source": [
    "X_train.shape"
   ]
  },
  {
   "cell_type": "code",
   "execution_count": 24,
   "id": "ee423f6d",
   "metadata": {},
   "outputs": [
    {
     "data": {
      "image/png": "[encoded data removed]",
      "text/plain": [
       "<Figure size 432x288 with 1 Axes>"
      ]
     },
     "metadata": {
      "needs_background": "light"
     },
     "output_type": "display_data"
    }
   ],
   "source": [
    "alpharange = np.arange(100, 301, 10)\n",
    "ridge, lr = [], []\n",
    "\n",
    "for a in alpharange:\n",
    "    reg = Ridge(alpha=a)\n",
    "    #linear = LR()\n",
    "    \n",
    "    regs = cross_val_score(reg, X, y, cv=5, scoring=\"r2\").mean()\n",
    "    #linears = cross_val_score(linear, X, y, cv=5, scoring=\"r2\").mean()\n",
    "    \n",
    "    ridge.append(regs)\n",
    "    #lr.append(linears)\n",
    "    \n",
    "plt.figure()\n",
    "plt.plot(alpharange, ridge, color='red', label=\"Ridge\")\n",
    "#plt.plot(alpharange, lr, color='black', label=\"Linear Regression\")\n",
    "plt.title(\"Mean\")\n",
    "plt.legend()\n",
    "plt.show()"
   ]
  },
  {
   "cell_type": "code",
   "execution_count": 25,
   "id": "6f1c741b",
   "metadata": {},
   "outputs": [
    {
     "data": {
      "image/png": "[encoded data removed]",
      "text/plain": [
       "<Figure size 432x288 with 1 Axes>"
      ]
     },
     "metadata": {
      "needs_background": "light"
     },
     "output_type": "display_data"
    }
   ],
   "source": [
    "alpharange = np.arange(100, 800, 50)\n",
    "ridge, lr = [], []\n",
    "\n",
    "for a in alpharange:\n",
    "    reg = Ridge(alpha=a)\n",
    "    #linear = LR()\n",
    "    \n",
    "    regs = cross_val_score(reg, X, y, cv=5, scoring=\"r2\").var()\n",
    "    #linears = cross_val_score(linear, X, y, cv=5, scoring=\"r2\").var()\n",
    "    \n",
    "    ridge.append(regs)\n",
    "    #lr.append(linears)\n",
    "    \n",
    "plt.figure()\n",
    "plt.plot(alpharange, ridge, color='red', label=\"Ridge\")\n",
    "#plt.plot(alpharange, lr, color='black', label=\"Linear Regression\")\n",
    "plt.title(\"Virance\")\n",
    "plt.legend()\n",
    "plt.show()"
   ]
  },
  {
   "cell_type": "code",
   "execution_count": 26,
   "id": "c37f3c43",
   "metadata": {},
   "outputs": [
    {
     "data": {
      "text/plain": [
       "0.7504796922136654"
      ]
     },
     "execution_count": 26,
     "metadata": {},
     "output_type": "execute_result"
    }
   ],
   "source": [
    "reg = Ridge().fit(X_train, y_train)\n",
    "reg.score(X_test, y_test) "
   ]
  },
  {
   "cell_type": "code",
   "execution_count": 31,
   "id": "c269e020",
   "metadata": {},
   "outputs": [
    {
     "data": {
      "text/plain": [
       "0.7453397158646906"
      ]
     },
     "execution_count": 31,
     "metadata": {},
     "output_type": "execute_result"
    }
   ],
   "source": [
    "reg = Ridge(alpha=10).fit(X_train, y_train)\n",
    "reg.score(X_test, y_test)                      #Ridge模型的score反而降低 - 因为ridge会进行特征选择，导致整体信息量减少"
   ]
  },
  {
   "cell_type": "code",
   "execution_count": 32,
   "id": "664cdfc5",
   "metadata": {},
   "outputs": [],
   "source": [
    "# Alpha and w\n",
    "\n",
    "\n",
    "# 创建一个10*10的希尔伯特矩阵\n",
    "x = 1./(np.arange(1,11) + np.arange(0,10)[:,np.newaxis])\n",
    "y = np.ones(10)"
   ]
  },
  {
   "cell_type": "code",
   "execution_count": 33,
   "id": "084d025a",
   "metadata": {},
   "outputs": [
    {
     "data": {
      "text/plain": [
       "array([[1.        , 0.5       , 0.33333333, 0.25      , 0.2       ,\n",
       "        0.16666667, 0.14285714, 0.125     , 0.11111111, 0.1       ],\n",
       "       [0.5       , 0.33333333, 0.25      , 0.2       , 0.16666667,\n",
       "        0.14285714, 0.125     , 0.11111111, 0.1       , 0.09090909],\n",
       "       [0.33333333, 0.25      , 0.2       , 0.16666667, 0.14285714,\n",
       "        0.125     , 0.11111111, 0.1       , 0.09090909, 0.08333333],\n",
       "       [0.25      , 0.2       , 0.16666667, 0.14285714, 0.125     ,\n",
       "        0.11111111, 0.1       , 0.09090909, 0.08333333, 0.07692308],\n",
       "       [0.2       , 0.16666667, 0.14285714, 0.125     , 0.11111111,\n",
       "        0.1       , 0.09090909, 0.08333333, 0.07692308, 0.07142857],\n",
       "       [0.16666667, 0.14285714, 0.125     , 0.11111111, 0.1       ,\n",
       "        0.09090909, 0.08333333, 0.07692308, 0.07142857, 0.06666667],\n",
       "       [0.14285714, 0.125     , 0.11111111, 0.1       , 0.09090909,\n",
       "        0.08333333, 0.07692308, 0.07142857, 0.06666667, 0.0625    ],\n",
       "       [0.125     , 0.11111111, 0.1       , 0.09090909, 0.08333333,\n",
       "        0.07692308, 0.07142857, 0.06666667, 0.0625    , 0.05882353],\n",
       "       [0.11111111, 0.1       , 0.09090909, 0.08333333, 0.07692308,\n",
       "        0.07142857, 0.06666667, 0.0625    , 0.05882353, 0.05555556],\n",
       "       [0.1       , 0.09090909, 0.08333333, 0.07692308, 0.07142857,\n",
       "        0.06666667, 0.0625    , 0.05882353, 0.05555556, 0.05263158]])"
      ]
     },
     "execution_count": 33,
     "metadata": {},
     "output_type": "execute_result"
    }
   ],
   "source": [
    "x"
   ]
  },
  {
   "cell_type": "code",
   "execution_count": 34,
   "id": "48e63e5d",
   "metadata": {},
   "outputs": [
    {
     "data": {
      "text/plain": [
       "array([1., 1., 1., 1., 1., 1., 1., 1., 1., 1.])"
      ]
     },
     "execution_count": 34,
     "metadata": {},
     "output_type": "execute_result"
    }
   ],
   "source": [
    "y"
   ]
  },
  {
   "cell_type": "code",
   "execution_count": 38,
   "id": "22d823ed",
   "metadata": {},
   "outputs": [
    {
     "name": "stderr",
     "output_type": "stream",
     "text": [
      "D:\\ISO\\Anoconda\\lib\\site-packages\\matplotlib\\backends\\backend_agg.py:240: RuntimeWarning: Glyph 23725 missing from current font.\n",
      "  font.set_text(s, 0.0, flags=flags)\n",
      "D:\\ISO\\Anoconda\\lib\\site-packages\\matplotlib\\backends\\backend_agg.py:240: RuntimeWarning: Glyph 36857 missing from current font.\n",
      "  font.set_text(s, 0.0, flags=flags)\n",
      "D:\\ISO\\Anoconda\\lib\\site-packages\\matplotlib\\backends\\backend_agg.py:240: RuntimeWarning: Glyph 22270 missing from current font.\n",
      "  font.set_text(s, 0.0, flags=flags)\n",
      "D:\\ISO\\Anoconda\\lib\\site-packages\\matplotlib\\backends\\backend_agg.py:203: RuntimeWarning: Glyph 23725 missing from current font.\n",
      "  font.set_text(s, 0, flags=flags)\n",
      "D:\\ISO\\Anoconda\\lib\\site-packages\\matplotlib\\backends\\backend_agg.py:203: RuntimeWarning: Glyph 36857 missing from current font.\n",
      "  font.set_text(s, 0, flags=flags)\n",
      "D:\\ISO\\Anoconda\\lib\\site-packages\\matplotlib\\backends\\backend_agg.py:203: RuntimeWarning: Glyph 22270 missing from current font.\n",
      "  font.set_text(s, 0, flags=flags)\n"
     ]
    },
    {
     "data": {
      "image/png": "[encoded data removed]",
      "text/plain": [
       "<Figure size 432x288 with 1 Axes>"
      ]
     },
     "metadata": {
      "needs_background": "light"
     },
     "output_type": "display_data"
    }
   ],
   "source": [
    "\n",
    "# calculate x asis\n",
    "n_alphas = 200\n",
    "alphas = np.logspace(-10,-2,n_alphas)\n",
    "\n",
    "# gew w\n",
    "coefs = []\n",
    "for a in alphas:\n",
    "    ridge = Ridge(alpha=a, fit_intercept=False)\n",
    "    ridge.fit(x, y)\n",
    "    coefs.append(ridge.coef_)\n",
    "    \n",
    "# plot\n",
    "ax = plt.gca()\n",
    "ax.plot(alphas, coefs)\n",
    "ax.set_xscale('log')\n",
    "ax.set_xlim(ax.get_xlim()[::-1])  # inverse xlim\n",
    "plt.xlabel('alpha')\n",
    "plt.ylabel('coef w')\n",
    "plt.title('岭迹图')\n",
    "plt.axis('tight')\n",
    "plt.show()"
   ]
  },
  {
   "cell_type": "code",
   "execution_count": 39,
   "id": "e933041e",
   "metadata": {},
   "outputs": [],
   "source": [
    "# linear_model.RidgeCV\n",
    "from sklearn.linear_model import RidgeCV"
   ]
  },
  {
   "cell_type": "code",
   "execution_count": 40,
   "id": "2a780d7f",
   "metadata": {},
   "outputs": [],
   "source": [
    "X = pd.DataFrame(housevalue.data)\n",
    "y = housevalue.target\n",
    "X.columns = housevalue.feature_names"
   ]
  },
  {
   "cell_type": "code",
   "execution_count": 41,
   "id": "ee75b6e2",
   "metadata": {},
   "outputs": [
    {
     "data": {
      "text/html": [
       "<div>\n",
       "<style scoped>\n",
       "    .dataframe tbody tr th:only-of-type {\n",
       "        vertical-align: middle;\n",
       "    }\n",
       "\n",
       "    .dataframe tbody tr th {\n",
       "        vertical-align: top;\n",
       "    }\n",
       "\n",
       "    .dataframe thead th {\n",
       "        text-align: right;\n",
       "    }\n",
       "</style>\n",
       "<table border=\"1\" class=\"dataframe\">\n",
       "  <thead>\n",
       "    <tr style=\"text-align: right;\">\n",
       "      <th></th>\n",
       "      <th>MedInc</th>\n",
       "      <th>HouseAge</th>\n",
       "      <th>AveRooms</th>\n",
       "      <th>AveBedrms</th>\n",
       "      <th>Population</th>\n",
       "      <th>AveOccup</th>\n",
       "      <th>Latitude</th>\n",
       "      <th>Longitude</th>\n",
       "    </tr>\n",
       "  </thead>\n",
       "  <tbody>\n",
       "    <tr>\n",
       "      <th>0</th>\n",
       "      <td>8.3252</td>\n",
       "      <td>41.0</td>\n",
       "      <td>6.984127</td>\n",
       "      <td>1.023810</td>\n",
       "      <td>322.0</td>\n",
       "      <td>2.555556</td>\n",
       "      <td>37.88</td>\n",
       "      <td>-122.23</td>\n",
       "    </tr>\n",
       "    <tr>\n",
       "      <th>1</th>\n",
       "      <td>8.3014</td>\n",
       "      <td>21.0</td>\n",
       "      <td>6.238137</td>\n",
       "      <td>0.971880</td>\n",
       "      <td>2401.0</td>\n",
       "      <td>2.109842</td>\n",
       "      <td>37.86</td>\n",
       "      <td>-122.22</td>\n",
       "    </tr>\n",
       "    <tr>\n",
       "      <th>2</th>\n",
       "      <td>7.2574</td>\n",
       "      <td>52.0</td>\n",
       "      <td>8.288136</td>\n",
       "      <td>1.073446</td>\n",
       "      <td>496.0</td>\n",
       "      <td>2.802260</td>\n",
       "      <td>37.85</td>\n",
       "      <td>-122.24</td>\n",
       "    </tr>\n",
       "    <tr>\n",
       "      <th>3</th>\n",
       "      <td>5.6431</td>\n",
       "      <td>52.0</td>\n",
       "      <td>5.817352</td>\n",
       "      <td>1.073059</td>\n",
       "      <td>558.0</td>\n",
       "      <td>2.547945</td>\n",
       "      <td>37.85</td>\n",
       "      <td>-122.25</td>\n",
       "    </tr>\n",
       "    <tr>\n",
       "      <th>4</th>\n",
       "      <td>3.8462</td>\n",
       "      <td>52.0</td>\n",
       "      <td>6.281853</td>\n",
       "      <td>1.081081</td>\n",
       "      <td>565.0</td>\n",
       "      <td>2.181467</td>\n",
       "      <td>37.85</td>\n",
       "      <td>-122.25</td>\n",
       "    </tr>\n",
       "  </tbody>\n",
       "</table>\n",
       "</div>"
      ],
      "text/plain": [
       "   MedInc  HouseAge  AveRooms  AveBedrms  Population  AveOccup  Latitude  \\\n",
       "0  8.3252      41.0  6.984127   1.023810       322.0  2.555556     37.88   \n",
       "1  8.3014      21.0  6.238137   0.971880      2401.0  2.109842     37.86   \n",
       "2  7.2574      52.0  8.288136   1.073446       496.0  2.802260     37.85   \n",
       "3  5.6431      52.0  5.817352   1.073059       558.0  2.547945     37.85   \n",
       "4  3.8462      52.0  6.281853   1.081081       565.0  2.181467     37.85   \n",
       "\n",
       "   Longitude  \n",
       "0    -122.23  \n",
       "1    -122.22  \n",
       "2    -122.24  \n",
       "3    -122.25  \n",
       "4    -122.25  "
      ]
     },
     "execution_count": 41,
     "metadata": {},
     "output_type": "execute_result"
    }
   ],
   "source": [
    "X.head()"
   ]
  },
  {
   "cell_type": "code",
   "execution_count": 42,
   "id": "3e4565fd",
   "metadata": {},
   "outputs": [],
   "source": [
    "Ridge_ = RidgeCV(alphas=np.arange(1,1001,100)\n",
    "                 ,store_cv_values=True\n",
    "                ).fit(X,y)"
   ]
  },
  {
   "cell_type": "code",
   "execution_count": 43,
   "id": "22f25aae",
   "metadata": {},
   "outputs": [
    {
     "data": {
      "text/plain": [
       "0.6060251767338437"
      ]
     },
     "execution_count": 43,
     "metadata": {},
     "output_type": "execute_result"
    }
   ],
   "source": [
    "Ridge_.score(X,y)"
   ]
  },
  {
   "cell_type": "code",
   "execution_count": 44,
   "id": "282dca85",
   "metadata": {},
   "outputs": [
    {
     "data": {
      "text/plain": [
       "(20640, 10)"
      ]
     },
     "execution_count": 44,
     "metadata": {},
     "output_type": "execute_result"
    }
   ],
   "source": [
    "Ridge_.cv_values_.shape"
   ]
  },
  {
   "cell_type": "code",
   "execution_count": 46,
   "id": "09bc829c",
   "metadata": {},
   "outputs": [
    {
     "data": {
      "text/plain": [
       "array([0.52823795, 0.52787439, 0.52807763, 0.52855759, 0.52917958,\n",
       "       0.52987689, 0.53061486, 0.53137481, 0.53214638, 0.53292369])"
      ]
     },
     "execution_count": 46,
     "metadata": {},
     "output_type": "execute_result"
    }
   ],
   "source": [
    "#the mean score for each alpha\n",
    "Ridge_.cv_values_.mean(axis=0)  # = cross_val_score 得到的十个结果"
   ]
  },
  {
   "cell_type": "code",
   "execution_count": 47,
   "id": "e3251ead",
   "metadata": {},
   "outputs": [
    {
     "data": {
      "text/plain": [
       "101"
      ]
     },
     "execution_count": 47,
     "metadata": {},
     "output_type": "execute_result"
    }
   ],
   "source": [
    "# best alpha\n",
    "Ridge_.alpha_"
   ]
  },
  {
   "cell_type": "code",
   "execution_count": 48,
   "id": "510a9665",
   "metadata": {},
   "outputs": [],
   "source": [
    "Ridge_ = RidgeCV(alphas=np.arange(1,1001,100)\n",
    "                 ,scoring=\"neg_mean_squared_error\"\n",
    "                 ,store_cv_values=True\n",
    "                ).fit(X,y)"
   ]
  },
  {
   "cell_type": "code",
   "execution_count": 49,
   "id": "3cdc2c9b",
   "metadata": {},
   "outputs": [
    {
     "data": {
      "text/plain": [
       "array([-6.10618033e-05, -9.07302179e-05, -1.11785961e-04, -1.27544011e-04,\n",
       "       -1.39823410e-04, -1.49699514e-04, -1.57846229e-04, -1.64706208e-04,\n",
       "       -1.70581703e-04, -1.75685916e-04])"
      ]
     },
     "execution_count": 49,
     "metadata": {},
     "output_type": "execute_result"
    }
   ],
   "source": [
    "Ridge_.cv_values_.mean(axis=0) "
   ]
  },
  {
   "cell_type": "code",
   "execution_count": 50,
   "id": "633383f8",
   "metadata": {},
   "outputs": [
    {
     "data": {
      "text/plain": [
       "101"
      ]
     },
     "execution_count": 50,
     "metadata": {},
     "output_type": "execute_result"
    }
   ],
   "source": [
    "Ridge_.alpha_"
   ]
  },
  {
   "cell_type": "code",
   "execution_count": 51,
   "id": "c87fdac4",
   "metadata": {},
   "outputs": [],
   "source": [
    "Ridge_ = RidgeCV(alphas=np.arange(1,1001,100)\n",
    "                 #,scoring=\"neg_mean_squared_error\"\n",
    "                 #,store_cv_values=True\n",
    "                 ,cv=5\n",
    "                ).fit(X,y)"
   ]
  },
  {
   "cell_type": "code",
   "execution_count": 52,
   "id": "40c962fb",
   "metadata": {},
   "outputs": [
    {
     "data": {
      "text/plain": [
       "101"
      ]
     },
     "execution_count": 52,
     "metadata": {},
     "output_type": "execute_result"
    }
   ],
   "source": [
    "Ridge_.alpha_"
   ]
  },
  {
   "cell_type": "code",
   "execution_count": null,
   "id": "f031f183",
   "metadata": {},
   "outputs": [],
   "source": [
    "# Lasso\n",
    "Lasso使用L1范式解决多重共线性\n",
    "Lasso无法解决特征之间“精确相关”问题 （初灵错误，Lasso不能解决）\n",
    "Lasso可以解决“高度相关”问题 - 减小w\n",
    "   Lasso可以限制多重共线性来来的影响\n",
    "    正则化参数alpha可以取负数\n",
    "L1正则化可以使某些特征成为0 - 可以用来作 特征选择\n",
    "Lasso是线性模型的首选特征选择方法"
   ]
  },
  {
   "cell_type": "code",
   "execution_count": 1,
   "id": "66ebe5dc",
   "metadata": {},
   "outputs": [],
   "source": [
    "import numpy as np\n",
    "import pandas as pd\n",
    "from sklearn.linear_model import LinearRegression as LR\n",
    "from sklearn.model_selection import train_test_split\n",
    "from sklearn.model_selection import cross_val_score\n",
    "from sklearn.datasets import fetch_california_housing as fch"
   ]
  },
  {
   "cell_type": "code",
   "execution_count": 3,
   "id": "07296922",
   "metadata": {},
   "outputs": [],
   "source": [
    "housevalue = fch()\n",
    "X = pd.DataFrame(housevalue.data)\n",
    "y = housevalue.target\n",
    "X.columns = housevalue.feature_names"
   ]
  },
  {
   "cell_type": "code",
   "execution_count": 6,
   "id": "9a8cd233",
   "metadata": {},
   "outputs": [],
   "source": [
    "from sklearn.linear_model import Lasso, Ridge"
   ]
  },
  {
   "cell_type": "code",
   "execution_count": 4,
   "id": "f651c492",
   "metadata": {},
   "outputs": [
    {
     "data": {
      "text/html": [
       "<div>\n",
       "<style scoped>\n",
       "    .dataframe tbody tr th:only-of-type {\n",
       "        vertical-align: middle;\n",
       "    }\n",
       "\n",
       "    .dataframe tbody tr th {\n",
       "        vertical-align: top;\n",
       "    }\n",
       "\n",
       "    .dataframe thead th {\n",
       "        text-align: right;\n",
       "    }\n",
       "</style>\n",
       "<table border=\"1\" class=\"dataframe\">\n",
       "  <thead>\n",
       "    <tr style=\"text-align: right;\">\n",
       "      <th></th>\n",
       "      <th>MedInc</th>\n",
       "      <th>HouseAge</th>\n",
       "      <th>AveRooms</th>\n",
       "      <th>AveBedrms</th>\n",
       "      <th>Population</th>\n",
       "      <th>AveOccup</th>\n",
       "      <th>Latitude</th>\n",
       "      <th>Longitude</th>\n",
       "    </tr>\n",
       "  </thead>\n",
       "  <tbody>\n",
       "    <tr>\n",
       "      <th>0</th>\n",
       "      <td>8.3252</td>\n",
       "      <td>41.0</td>\n",
       "      <td>6.984127</td>\n",
       "      <td>1.023810</td>\n",
       "      <td>322.0</td>\n",
       "      <td>2.555556</td>\n",
       "      <td>37.88</td>\n",
       "      <td>-122.23</td>\n",
       "    </tr>\n",
       "    <tr>\n",
       "      <th>1</th>\n",
       "      <td>8.3014</td>\n",
       "      <td>21.0</td>\n",
       "      <td>6.238137</td>\n",
       "      <td>0.971880</td>\n",
       "      <td>2401.0</td>\n",
       "      <td>2.109842</td>\n",
       "      <td>37.86</td>\n",
       "      <td>-122.22</td>\n",
       "    </tr>\n",
       "    <tr>\n",
       "      <th>2</th>\n",
       "      <td>7.2574</td>\n",
       "      <td>52.0</td>\n",
       "      <td>8.288136</td>\n",
       "      <td>1.073446</td>\n",
       "      <td>496.0</td>\n",
       "      <td>2.802260</td>\n",
       "      <td>37.85</td>\n",
       "      <td>-122.24</td>\n",
       "    </tr>\n",
       "    <tr>\n",
       "      <th>3</th>\n",
       "      <td>5.6431</td>\n",
       "      <td>52.0</td>\n",
       "      <td>5.817352</td>\n",
       "      <td>1.073059</td>\n",
       "      <td>558.0</td>\n",
       "      <td>2.547945</td>\n",
       "      <td>37.85</td>\n",
       "      <td>-122.25</td>\n",
       "    </tr>\n",
       "    <tr>\n",
       "      <th>4</th>\n",
       "      <td>3.8462</td>\n",
       "      <td>52.0</td>\n",
       "      <td>6.281853</td>\n",
       "      <td>1.081081</td>\n",
       "      <td>565.0</td>\n",
       "      <td>2.181467</td>\n",
       "      <td>37.85</td>\n",
       "      <td>-122.25</td>\n",
       "    </tr>\n",
       "  </tbody>\n",
       "</table>\n",
       "</div>"
      ],
      "text/plain": [
       "   MedInc  HouseAge  AveRooms  AveBedrms  Population  AveOccup  Latitude  \\\n",
       "0  8.3252      41.0  6.984127   1.023810       322.0  2.555556     37.88   \n",
       "1  8.3014      21.0  6.238137   0.971880      2401.0  2.109842     37.86   \n",
       "2  7.2574      52.0  8.288136   1.073446       496.0  2.802260     37.85   \n",
       "3  5.6431      52.0  5.817352   1.073059       558.0  2.547945     37.85   \n",
       "4  3.8462      52.0  6.281853   1.081081       565.0  2.181467     37.85   \n",
       "\n",
       "   Longitude  \n",
       "0    -122.23  \n",
       "1    -122.22  \n",
       "2    -122.24  \n",
       "3    -122.25  \n",
       "4    -122.25  "
      ]
     },
     "execution_count": 4,
     "metadata": {},
     "output_type": "execute_result"
    }
   ],
   "source": [
    "X.head()"
   ]
  },
  {
   "cell_type": "code",
   "execution_count": 5,
   "id": "18a59fa0",
   "metadata": {},
   "outputs": [],
   "source": [
    "X_train, X_test, y_train, y_test = train_test_split(X, y, test_size=0.3, random_state=420)\n",
    "\n",
    "# 恢复索引\n",
    "for i in [X_train, X_test]:\n",
    "    i.index = range(i.shape[0])"
   ]
  },
  {
   "cell_type": "code",
   "execution_count": 7,
   "id": "99cb547c",
   "metadata": {},
   "outputs": [
    {
     "data": {
      "text/plain": [
       "[43.73589305968403,\n",
       " 1.0211268294494025,\n",
       " -10.780721617317683,\n",
       " 62.64338275363768,\n",
       " 5.216125353123053e-05,\n",
       " -0.3348509646333473,\n",
       " -41.309593789477155,\n",
       " -42.621095362084674]"
      ]
     },
     "execution_count": 7,
     "metadata": {},
     "output_type": "execute_result"
    }
   ],
   "source": [
    "reg = LR().fit(X_train, y_train)\n",
    "(reg.coef_*100).tolist()"
   ]
  },
  {
   "cell_type": "code",
   "execution_count": 13,
   "id": "7caa87ce",
   "metadata": {},
   "outputs": [
    {
     "data": {
      "text/plain": [
       "[34.62081517607694,\n",
       " 1.5196170869238694,\n",
       " 0.3968610529210159,\n",
       " 0.9151812510354839,\n",
       " 0.002173923801224844,\n",
       " -0.3476866014810102,\n",
       " -14.736963474215257,\n",
       " -13.43557610252691]"
      ]
     },
     "execution_count": 13,
     "metadata": {},
     "output_type": "execute_result"
    }
   ],
   "source": [
    "Ridge_ = Ridge(alpha=10**4).fit(X_train, y_train)\n",
    "(Ridge_.coef_*100).tolist()"
   ]
  },
  {
   "cell_type": "code",
   "execution_count": 14,
   "id": "baa4cf8a",
   "metadata": {},
   "outputs": [
    {
     "data": {
      "text/plain": [
       "[0.0, 0.0, 0.0, -0.0, -0.0, -0.0, -0.0, -0.0]"
      ]
     },
     "execution_count": 14,
     "metadata": {},
     "output_type": "execute_result"
    }
   ],
   "source": [
    "Lasso_ = Lasso(alpha=10**4).fit(X_train, y_train)\n",
    "(Lasso_.coef_*100).tolist()\n",
    "# Lasso在sklearn里面不是用最小二乘法求解，而是用坐标下降法。\n",
    "# 所以alpha尽量不用0，尽量不要太小\n",
    "# Lasso对alpha更加敏感"
   ]
  },
  {
   "cell_type": "code",
   "execution_count": 20,
   "id": "f82fcbd8",
   "metadata": {},
   "outputs": [
    {
     "data": {
      "image/png": "[encoded data removed]",
      "text/plain": [
       "<Figure size 432x288 with 1 Axes>"
      ]
     },
     "metadata": {
      "needs_background": "light"
     },
     "output_type": "display_data"
    }
   ],
   "source": [
    "import matplotlib.pyplot as plt\n",
    "\n",
    "plt.plot(range(1,9), (reg.coef_*100).tolist(), color='red', label='LR')\n",
    "plt.plot(range(1,9), (Ridge_.coef_*100).tolist(), color='orange', label='Ridge')\n",
    "plt.plot(range(1,9), (Lasso_.coef_*100).tolist(), color='black', label='Lasso')\n",
    "plt.plot(range(1,9),[0]*8, color='grey',linestyle='--')\n",
    "plt.xlabel(\"w\")\n",
    "plt.legend()\n",
    "plt.show()"
   ]
  },
  {
   "cell_type": "code",
   "execution_count": null,
   "id": "ea80d1c5",
   "metadata": {},
   "outputs": [],
   "source": [
    "# LassoCV  选择最佳正则化参数alpha\n",
    "正则化路径：每个alpha（n个）对应的w（n+1个）形成的向量空间\n",
    "正则化长度：alpha最小值/alpha最大值\n",
    "alpha取值非常小，所以规定正则化长度，和alpha的个数，就可以让sklearn自动生成alpha值"
   ]
  },
  {
   "cell_type": "code",
   "execution_count": 21,
   "id": "db6a8346",
   "metadata": {},
   "outputs": [],
   "source": [
    "from sklearn.linear_model import LassoCV\n",
    "\n",
    "# Manually set up alpha\n",
    "alpharange = np.logspace(-10, -2, 200, base=10)  #形成以10为底的指数，之后用logspace取对数\n",
    "\n",
    "lasso_ = LassoCV(alphas=alpharange\n",
    "                 , cv=5\n",
    "                ).fit(X_train, y_train)"
   ]
  },
  {
   "cell_type": "code",
   "execution_count": 24,
   "id": "991df625",
   "metadata": {},
   "outputs": [
    {
     "data": {
      "text/plain": [
       "0.0020729217795953697"
      ]
     },
     "execution_count": 24,
     "metadata": {},
     "output_type": "execute_result"
    }
   ],
   "source": [
    "lasso_.alpha_"
   ]
  },
  {
   "cell_type": "code",
   "execution_count": 26,
   "id": "87f0cebc",
   "metadata": {},
   "outputs": [
    {
     "data": {
      "text/plain": [
       "(200, 5)"
      ]
     },
     "execution_count": 26,
     "metadata": {},
     "output_type": "execute_result"
    }
   ],
   "source": [
    "lasso_.mse_path_.shape  #交叉验证结果"
   ]
  },
  {
   "cell_type": "code",
   "execution_count": 28,
   "id": "e156b13b",
   "metadata": {},
   "outputs": [
    {
     "data": {
      "text/plain": [
       "array([0.52816924, 0.52742297, 0.5268146 , 0.52632488, 0.52593241,\n",
       "       0.52561942, 0.52537133, 0.5251761 , 0.52502385, 0.52490641,\n",
       "       0.52481712, 0.52475046, 0.52470198, 0.52466795, 0.52464541,\n",
       "       0.52463188, 0.5246254 , 0.52462436, 0.52462744, 0.52463361,\n",
       "       0.52464201, 0.52465199, 0.52466301, 0.52467466, 0.5246866 ,\n",
       "       0.5246986 , 0.52471046, 0.52472203, 0.5247332 , 0.52474392,\n",
       "       0.52475413, 0.52476379, 0.52477291, 0.52478147, 0.52478949,\n",
       "       0.52479697, 0.52480393, 0.52481039, 0.52481639, 0.52482193,\n",
       "       0.52482706, 0.52483179, 0.52483615, 0.52484016, 0.52484385,\n",
       "       0.52484725, 0.52485036, 0.52485322, 0.52485584, 0.52485824,\n",
       "       0.52486044, 0.52486246, 0.5248643 , 0.52486599, 0.52486753,\n",
       "       0.52486895, 0.52487024, 0.52487141, 0.52487249, 0.52487348,\n",
       "       0.52487437, 0.52487519, 0.52487594, 0.52487663, 0.52487725,\n",
       "       0.52487782, 0.52487834, 0.52487882, 0.52487925, 0.52487965,\n",
       "       0.52488001, 0.52488033, 0.52488063, 0.52488091, 0.52488116,\n",
       "       0.52488138, 0.52488159, 0.52488178, 0.52488195, 0.52488211,\n",
       "       0.52488225, 0.52488239, 0.5248825 , 0.52488261, 0.52488271,\n",
       "       0.5248828 , 0.52488289, 0.52488296, 0.52488303, 0.52488309,\n",
       "       0.52488315, 0.5248832 , 0.52488325, 0.52488329, 0.52488333,\n",
       "       0.52488337, 0.5248834 , 0.52488343, 0.52488346, 0.52488348,\n",
       "       0.5248835 , 0.52488352, 0.52488354, 0.52488356, 0.52488357,\n",
       "       0.52488359, 0.5248836 , 0.52488361, 0.52488362, 0.52488363,\n",
       "       0.52488364, 0.52488365, 0.52488366, 0.52488367, 0.52488367,\n",
       "       0.52488368, 0.52488368, 0.52488369, 0.52488369, 0.5248837 ,\n",
       "       0.5248837 , 0.5248837 , 0.52488371, 0.52488371, 0.52488371,\n",
       "       0.52488371, 0.52488371, 0.52488372, 0.52488372, 0.52488372,\n",
       "       0.52488372, 0.52488372, 0.52488372, 0.52488372, 0.52488373,\n",
       "       0.52488373, 0.52488373, 0.52488373, 0.52488373, 0.52488373,\n",
       "       0.52488373, 0.52488373, 0.52488373, 0.52488373, 0.52488373,\n",
       "       0.52488373, 0.52488373, 0.52488373, 0.52488373, 0.52488373,\n",
       "       0.52488373, 0.52488373, 0.52488373, 0.52488373, 0.52488373,\n",
       "       0.52488373, 0.52488373, 0.52488373, 0.52488373, 0.52488373,\n",
       "       0.52488373, 0.52488373, 0.52488374, 0.52488374, 0.52488374,\n",
       "       0.52488374, 0.52488374, 0.52488374, 0.52488374, 0.52488374,\n",
       "       0.52488374, 0.52488374, 0.52488374, 0.52488374, 0.52488374,\n",
       "       0.52488374, 0.52488374, 0.52488374, 0.52488374, 0.52488374,\n",
       "       0.52488374, 0.52488374, 0.52488374, 0.52488374, 0.52488374,\n",
       "       0.52488374, 0.52488374, 0.52488374, 0.52488374, 0.52488374,\n",
       "       0.52488374, 0.52488374, 0.52488374, 0.52488374, 0.52488374,\n",
       "       0.52488374, 0.52488374, 0.52488374, 0.52488374, 0.52488374])"
      ]
     },
     "execution_count": 28,
     "metadata": {},
     "output_type": "execute_result"
    }
   ],
   "source": [
    "lasso_.mse_path_.mean(axis=1)\n",
    "# 每一个alpha下的交叉验证结果"
   ]
  },
  {
   "cell_type": "code",
   "execution_count": 29,
   "id": "b7d83637",
   "metadata": {},
   "outputs": [
    {
     "data": {
      "text/plain": [
       "array([ 4.29867301e-01,  1.03623683e-02, -9.32648616e-02,  5.51755252e-01,\n",
       "        1.14732262e-06, -3.31941716e-03, -4.10451223e-01, -4.22410330e-01])"
      ]
     },
     "execution_count": 29,
     "metadata": {},
     "output_type": "execute_result"
    }
   ],
   "source": [
    "lasso_.coef_"
   ]
  },
  {
   "cell_type": "code",
   "execution_count": 30,
   "id": "bed58f50",
   "metadata": {},
   "outputs": [
    {
     "data": {
      "text/plain": [
       "0.6038982670571438"
      ]
     },
     "execution_count": 30,
     "metadata": {},
     "output_type": "execute_result"
    }
   ],
   "source": [
    "lasso_.score(X_test, y_test)"
   ]
  },
  {
   "cell_type": "code",
   "execution_count": 32,
   "id": "c93d9917",
   "metadata": {},
   "outputs": [],
   "source": [
    "ls_ = LassoCV(eps=0.00001\n",
    "            ,n_alphas=300\n",
    "            ,cv=5\n",
    "            ).fit(X_train, y_train)"
   ]
  },
  {
   "cell_type": "code",
   "execution_count": 33,
   "id": "dfcdfc56",
   "metadata": {},
   "outputs": [
    {
     "data": {
      "text/plain": [
       "0.0020954551690628535"
      ]
     },
     "execution_count": 33,
     "metadata": {},
     "output_type": "execute_result"
    }
   ],
   "source": [
    "ls_.alpha_"
   ]
  },
  {
   "cell_type": "code",
   "execution_count": 35,
   "id": "a6ad5e7f",
   "metadata": {},
   "outputs": [
    {
     "data": {
      "text/plain": [
       "(300,)"
      ]
     },
     "execution_count": 35,
     "metadata": {},
     "output_type": "execute_result"
    }
   ],
   "source": [
    "ls_.alphas_.shape"
   ]
  },
  {
   "cell_type": "code",
   "execution_count": 36,
   "id": "49045c33",
   "metadata": {},
   "outputs": [
    {
     "data": {
      "text/plain": [
       "0.6038915423819199"
      ]
     },
     "execution_count": 36,
     "metadata": {},
     "output_type": "execute_result"
    }
   ],
   "source": [
    "ls_.score(X_test, y_test)"
   ]
  },
  {
   "cell_type": "code",
   "execution_count": 37,
   "id": "a480e18a",
   "metadata": {},
   "outputs": [
    {
     "data": {
      "text/plain": [
       "array([ 4.29785372e-01,  1.03639989e-02, -9.31060823e-02,  5.50940621e-01,\n",
       "        1.15407943e-06, -3.31909776e-03, -4.10423420e-01, -4.22369926e-01])"
      ]
     },
     "execution_count": 37,
     "metadata": {},
     "output_type": "execute_result"
    }
   ],
   "source": [
    "ls_.coef_"
   ]
  },
  {
   "cell_type": "code",
   "execution_count": null,
   "id": "a83261fe",
   "metadata": {},
   "outputs": [],
   "source": [
    "# alpha越大，更多的系数被压缩到0，模型表现持续下降"
   ]
  },
  {
   "cell_type": "code",
   "execution_count": 6,
   "id": "5fc3375c",
   "metadata": {},
   "outputs": [
    {
     "name": "stdout",
     "output_type": "stream",
     "text": [
      "[[-1.50000000e+00  5.00000000e-01  5.00000000e-01]\n",
      " [ 2.00000000e+00  5.55111512e-17 -1.00000000e+00]\n",
      " [ 5.00000000e-01 -5.00000000e-01  5.00000000e-01]]\n"
     ]
    }
   ],
   "source": [
    "import numpy as np\n",
    "\n",
    "a = [[1, 1, 1],\n",
    "     [3, 2, 1],\n",
    "     [2, 1, 2]]\n",
    "\n",
    "print(np.linalg.inv(a))"
   ]
  },
  {
   "cell_type": "code",
   "execution_count": 2,
   "id": "38b5c191",
   "metadata": {},
   "outputs": [
    {
     "name": "stdout",
     "output_type": "stream",
     "text": [
      "[[-1.50000000e+00  5.00000000e-01  5.00000000e-01]\n",
      " [ 2.00000000e+00  5.55111512e-17 -1.00000000e+00]\n",
      " [ 5.00000000e-01 -5.00000000e-01  5.00000000e-01]]\n"
     ]
    }
   ],
   "source": [
    "A = np.matrix(a)\n",
    "print(A.I)"
   ]
  },
  {
   "cell_type": "code",
   "execution_count": null,
   "id": "5c39afd7",
   "metadata": {},
   "outputs": [],
   "source": []
  },
  {
   "cell_type": "code",
   "execution_count": 1,
   "id": "7d7e50e3",
   "metadata": {},
   "outputs": [],
   "source": [
    "import numpy as np\n",
    "import matplotlib.pyplot as plt\n",
    "from sklearn.linear_model import LinearRegression as LR\n",
    "from sklearn.tree import DecisionTreeRegressor\n",
    "\n",
    "rnd = np.random.RandomState(42)\n",
    "X = rnd.uniform(-3,3,size=100)  #-3和3之间随机取出100个数\n",
    "\n",
    "y = np.sin(X) + rnd.normal(size=len(X))/3  #random.normal 取出size个正态分布的随机数\n",
    "\n",
    "plt.scatter(X, y, marker='o', c='k', s=20)\n",
    "plt.show()"
   ]
  },
  {
   "cell_type": "code",
   "execution_count": 11,
   "id": "33c512c2",
   "metadata": {},
   "outputs": [
    {
     "data": {
      "text/plain": [
       "(100, 1)"
      ]
     },
     "execution_count": 11,
     "metadata": {},
     "output_type": "execute_result"
    }
   ],
   "source": [
    "X.shape"
   ]
  },
  {
   "cell_type": "code",
   "execution_count": 10,
   "id": "e58aa5b1",
   "metadata": {},
   "outputs": [],
   "source": [
    "# sklearn只接受二维以上的数组\n",
    "X = X.reshape(-1,1)"
   ]
  },
  {
   "cell_type": "code",
   "execution_count": 12,
   "id": "f568fd54",
   "metadata": {},
   "outputs": [],
   "source": [
    "LinarR = LR().fit(X,y)\n",
    "TreeR = DecisionTreeRegressor(random_state=0).fit(X,y)"
   ]
  },
  {
   "cell_type": "code",
   "execution_count": 18,
   "id": "6cd7d693",
   "metadata": {},
   "outputs": [
    {
     "data": {
      "image/png": "[encoded data removed]",
      "text/plain": [
       "<Figure size 432x288 with 1 Axes>"
      ]
     },
     "metadata": {
      "needs_background": "light"
     },
     "output_type": "display_data"
    }
   ],
   "source": [
    "fig, ax1 = plt.subplots(1)\n",
    "\n",
    "# create tesing data\n",
    "line = np.linspace(-3,3,1000,endpoint=False).reshape(-1,1)\n",
    "\n",
    "# predict attibute: plot using the result\n",
    "ax1.plot(line, LinarR.predict(line), linewidth=2, color='green', label=\"Linear Regression\")\n",
    "ax1.plot(line, TreeR.predict(line), linewidth=2, color='orange', label=\"Decision Tree Regression\")\n",
    "\n",
    "ax1.plot(X[:,0], y, 'o', c='k')\n",
    "\n",
    "ax1.legend(loc='best')\n",
    "ax1.set_ylabel('Regression output')\n",
    "ax1.set_xlabel('input feature')\n",
    "ax1.set_title('Result before discretization')\n",
    "plt.tight_layout()\n",
    "plt.show()"
   ]
  },
  {
   "cell_type": "code",
   "execution_count": 20,
   "id": "41303786",
   "metadata": {},
   "outputs": [],
   "source": [
    "# 分箱 KBinsDiscretizer - 线性回归处理非线性问题\n",
    "from sklearn.preprocessing import KBinsDiscretizer\n",
    "\n",
    "# 数据分箱\n",
    "enc = KBinsDiscretizer(n_bins=10\n",
    "                       , encode='onehot'   \n",
    "                      )\n",
    "# onehot：使用哑变量做离散化 \n",
    "# 返回一个稀疏矩阵（m，n_bins），每一列是一个分号的类别\n",
    "# 对于每一个样本而言，它包含的分类（箱子）中表示为1，其它分类中表示为0\n",
    "# ordinal：按数字0-9分类  只返回一列\n",
    "\n",
    "\n",
    "X_binned = enc.fit_transform(X)"
   ]
  },
  {
   "cell_type": "code",
   "execution_count": 22,
   "id": "693a401b",
   "metadata": {},
   "outputs": [
    {
     "data": {
      "text/plain": [
       "(100, 10)"
      ]
     },
     "execution_count": 22,
     "metadata": {},
     "output_type": "execute_result"
    }
   ],
   "source": [
    "X_binned.shape"
   ]
  },
  {
   "cell_type": "code",
   "execution_count": 23,
   "id": "ecc4e903",
   "metadata": {},
   "outputs": [
    {
     "data": {
      "text/plain": [
       "<100x10 sparse matrix of type '<class 'numpy.float64'>'\n",
       "\twith 100 stored elements in Compressed Sparse Row format>"
      ]
     },
     "execution_count": 23,
     "metadata": {},
     "output_type": "execute_result"
    }
   ],
   "source": [
    "X_binned # sparse matrix 稀疏矩阵"
   ]
  },
  {
   "cell_type": "code",
   "execution_count": 24,
   "id": "041e712d",
   "metadata": {},
   "outputs": [
    {
     "data": {
      "text/html": [
       "<div>\n",
       "<style scoped>\n",
       "    .dataframe tbody tr th:only-of-type {\n",
       "        vertical-align: middle;\n",
       "    }\n",
       "\n",
       "    .dataframe tbody tr th {\n",
       "        vertical-align: top;\n",
       "    }\n",
       "\n",
       "    .dataframe thead th {\n",
       "        text-align: right;\n",
       "    }\n",
       "</style>\n",
       "<table border=\"1\" class=\"dataframe\">\n",
       "  <thead>\n",
       "    <tr style=\"text-align: right;\">\n",
       "      <th></th>\n",
       "      <th>0</th>\n",
       "      <th>1</th>\n",
       "      <th>2</th>\n",
       "      <th>3</th>\n",
       "      <th>4</th>\n",
       "      <th>5</th>\n",
       "      <th>6</th>\n",
       "      <th>7</th>\n",
       "      <th>8</th>\n",
       "      <th>9</th>\n",
       "    </tr>\n",
       "  </thead>\n",
       "  <tbody>\n",
       "    <tr>\n",
       "      <th>0</th>\n",
       "      <td>0.0</td>\n",
       "      <td>0.0</td>\n",
       "      <td>0.0</td>\n",
       "      <td>0.0</td>\n",
       "      <td>1.0</td>\n",
       "      <td>0.0</td>\n",
       "      <td>0.0</td>\n",
       "      <td>0.0</td>\n",
       "      <td>0.0</td>\n",
       "      <td>0.0</td>\n",
       "    </tr>\n",
       "    <tr>\n",
       "      <th>1</th>\n",
       "      <td>0.0</td>\n",
       "      <td>0.0</td>\n",
       "      <td>0.0</td>\n",
       "      <td>0.0</td>\n",
       "      <td>0.0</td>\n",
       "      <td>0.0</td>\n",
       "      <td>0.0</td>\n",
       "      <td>0.0</td>\n",
       "      <td>0.0</td>\n",
       "      <td>1.0</td>\n",
       "    </tr>\n",
       "    <tr>\n",
       "      <th>2</th>\n",
       "      <td>0.0</td>\n",
       "      <td>0.0</td>\n",
       "      <td>0.0</td>\n",
       "      <td>0.0</td>\n",
       "      <td>0.0</td>\n",
       "      <td>0.0</td>\n",
       "      <td>0.0</td>\n",
       "      <td>1.0</td>\n",
       "      <td>0.0</td>\n",
       "      <td>0.0</td>\n",
       "    </tr>\n",
       "    <tr>\n",
       "      <th>3</th>\n",
       "      <td>0.0</td>\n",
       "      <td>0.0</td>\n",
       "      <td>0.0</td>\n",
       "      <td>0.0</td>\n",
       "      <td>0.0</td>\n",
       "      <td>0.0</td>\n",
       "      <td>1.0</td>\n",
       "      <td>0.0</td>\n",
       "      <td>0.0</td>\n",
       "      <td>0.0</td>\n",
       "    </tr>\n",
       "    <tr>\n",
       "      <th>4</th>\n",
       "      <td>0.0</td>\n",
       "      <td>0.0</td>\n",
       "      <td>1.0</td>\n",
       "      <td>0.0</td>\n",
       "      <td>0.0</td>\n",
       "      <td>0.0</td>\n",
       "      <td>0.0</td>\n",
       "      <td>0.0</td>\n",
       "      <td>0.0</td>\n",
       "      <td>0.0</td>\n",
       "    </tr>\n",
       "  </tbody>\n",
       "</table>\n",
       "</div>"
      ],
      "text/plain": [
       "     0    1    2    3    4    5    6    7    8    9\n",
       "0  0.0  0.0  0.0  0.0  1.0  0.0  0.0  0.0  0.0  0.0\n",
       "1  0.0  0.0  0.0  0.0  0.0  0.0  0.0  0.0  0.0  1.0\n",
       "2  0.0  0.0  0.0  0.0  0.0  0.0  0.0  1.0  0.0  0.0\n",
       "3  0.0  0.0  0.0  0.0  0.0  0.0  1.0  0.0  0.0  0.0\n",
       "4  0.0  0.0  1.0  0.0  0.0  0.0  0.0  0.0  0.0  0.0"
      ]
     },
     "execution_count": 24,
     "metadata": {},
     "output_type": "execute_result"
    }
   ],
   "source": [
    "import pandas as pd\n",
    "pd.DataFrame(X_binned.toarray()).head()"
   ]
  },
  {
   "cell_type": "code",
   "execution_count": 27,
   "id": "1aa100c0",
   "metadata": {},
   "outputs": [],
   "source": [
    "LinarR_ = LR().fit(X_binned,y)"
   ]
  },
  {
   "cell_type": "code",
   "execution_count": 30,
   "id": "8fae2360",
   "metadata": {},
   "outputs": [
    {
     "data": {
      "text/plain": [
       "(1000,)"
      ]
     },
     "execution_count": 30,
     "metadata": {},
     "output_type": "execute_result"
    }
   ],
   "source": [
    "# line与X的结构一致，但是和X_binned结构不同\n",
    "# 训练数据和测试数据必须一致\n",
    "line_binned = enc.transform(line)\n",
    "LinarR_.predict(line_binned).shape"
   ]
  },
  {
   "cell_type": "code",
   "execution_count": 36,
   "id": "19bff06f",
   "metadata": {},
   "outputs": [
    {
     "data": {
      "image/png": "[encoded data removed]",
      "text/plain": [
       "<Figure size 720x288 with 2 Axes>"
      ]
     },
     "metadata": {
      "needs_background": "light"
     },
     "output_type": "display_data"
    }
   ],
   "source": [
    "enc = KBinsDiscretizer(n_bins=10\n",
    "                       , encode='onehot'   \n",
    "                      )\n",
    "X_binned = enc.fit_transform(X)\n",
    "line_binned = enc.transform(line)\n",
    "\n",
    "\n",
    "fig, (ax1,ax2) = plt.subplots(ncols=2\n",
    "                             ,sharey=True  #两张图共享y轴的刻度\n",
    "                             ,figsize=(10,4)\n",
    "                             )\n",
    "\n",
    "LinarR_ = LR().fit(X_binned,y)\n",
    "TreeR_ = DecisionTreeRegressor(random_state=0).fit(X_binned,y)\n",
    "\n",
    "ax2.plot(line, LinarR_.predict(line_binned), linewidth=2, color='green', linestyle='-', label=\"Linear Regression - Binned\")\n",
    "ax2.plot(line, TreeR_.predict(line_binned), linewidth=2, color='orange', linestyle=':', label=\"Decision Tree Regression - Binned\")\n",
    "\n",
    "\n",
    "# 绘制和箱宽一样的竖线\n",
    "ax2.vlines(enc.bin_edges_[0]  #x轴（箱子的上限和下限）\n",
    "           , *plt.gca().get_ylim() #y轴的上限和下限\n",
    "           ,linewidth=1\n",
    "           ,alpha=.2\n",
    "            )\n",
    "\n",
    "# 原数据图像\n",
    "ax2.plot(X[:,0], y, 'o', c='k')\n",
    "\n",
    "# create tesing data\n",
    "line = np.linspace(-3,3,1000,endpoint=False).reshape(-1,1)\n",
    "\n",
    "\n",
    "# predict attibute: plot using the result\n",
    "ax1.plot(line, LinarR.predict(line), linewidth=2, color='green', label=\"Linear Regression\")\n",
    "ax1.plot(line, TreeR.predict(line), linewidth=2, color='orange', label=\"Decision Tree Regression\")\n",
    "\n",
    "ax1.plot(X[:,0], y, 'o', c='k')\n",
    "\n",
    "ax1.legend(loc='best')\n",
    "ax1.set_ylabel('Regression output')\n",
    "ax1.set_xlabel('input feature')\n",
    "ax1.set_title('Result before discretization')\n",
    "ax2.legend(loc='best')\n",
    "ax2.set_ylabel('Regression output')\n",
    "ax2.set_xlabel('input feature')\n",
    "ax2.set_title('Result after discretization')\n",
    "plt.tight_layout()\n",
    "plt.show()"
   ]
  },
  {
   "cell_type": "code",
   "execution_count": 42,
   "id": "196dbae3",
   "metadata": {},
   "outputs": [
    {
     "data": {
      "image/png": "[encoded data removed]",
      "text/plain": [
       "<Figure size 432x360 with 1 Axes>"
      ]
     },
     "metadata": {
      "needs_background": "light"
     },
     "output_type": "display_data"
    }
   ],
   "source": [
    "# 选择合适的n_bins\n",
    "from sklearn.model_selection import cross_val_score as CVS\n",
    "\n",
    "pred, score, var = [], [], []\n",
    "binsrange = [2,5,10,15,20,30]\n",
    "for i in binsrange:\n",
    "    enc = KBinsDiscretizer(n_bins=i\n",
    "                       , encode='onehot'   \n",
    "                      )\n",
    "    X_binned = enc.fit_transform(X)\n",
    "    line_binned = enc.transform(line)\n",
    "    LinarR_ = LR()\n",
    "    \n",
    "    cvresult = CVS(LinarR_, X_binned, y, cv=5)\n",
    "    score.append(cvresult.mean())\n",
    "    var.append(cvresult.var())\n",
    "    # 测试集上的预测结果score\n",
    "    pred.append(LinarR_.fit(X_binned, y).score(line_binned, np.sin(line)))\n",
    "    \n",
    "plt.figure(figsize=(6,5))\n",
    "plt.plot(binsrange, pred, c='orange', label='test')\n",
    "plt.plot(binsrange, score, c='k', label='full data')\n",
    "plt.plot(binsrange, score+np.array(var)*0.5, c='red', linestyle='--', label='var')\n",
    "plt.plot(binsrange, score-np.array(var)*0.5, c='red', linestyle='--')\n",
    "plt.legend()\n",
    "plt.show()"
   ]
  },
  {
   "cell_type": "code",
   "execution_count": null,
   "id": "a515ce06",
   "metadata": {},
   "outputs": [],
   "source": [
    "# 多项式变化 - 模拟升维：sklearn.preprocessing.PolynorminalFeatures\n",
    "# 默认会生成所有degree以下的可能组合。\n",
    "# 如果interaction_only=True，会避免生成纯次方项。"
   ]
  },
  {
   "cell_type": "code",
   "execution_count": 2,
   "id": "fcb2639c",
   "metadata": {},
   "outputs": [],
   "source": [
    "from sklearn.preprocessing import PolynomialFeatures\n",
    "import numpy as np"
   ]
  },
  {
   "cell_type": "code",
   "execution_count": 3,
   "id": "2798aa0d",
   "metadata": {},
   "outputs": [
    {
     "data": {
      "text/plain": [
       "array([[1],\n",
       "       [2],\n",
       "       [3]])"
      ]
     },
     "execution_count": 3,
     "metadata": {},
     "output_type": "execute_result"
    }
   ],
   "source": [
    "X = np.arange(1,4).reshape(-1,1)\n",
    "X"
   ]
  },
  {
   "cell_type": "code",
   "execution_count": 5,
   "id": "41ee0b06",
   "metadata": {},
   "outputs": [],
   "source": [
    "poly = PolynomialFeatures()"
   ]
  },
  {
   "cell_type": "code",
   "execution_count": 6,
   "id": "864112ab",
   "metadata": {},
   "outputs": [],
   "source": [
    "X_ = poly.fit_transform(X)"
   ]
  },
  {
   "cell_type": "code",
   "execution_count": 7,
   "id": "3bf8f9b8",
   "metadata": {},
   "outputs": [
    {
     "data": {
      "text/plain": [
       "array([[1., 1., 1.],\n",
       "       [1., 2., 4.],\n",
       "       [1., 3., 9.]])"
      ]
     },
     "execution_count": 7,
     "metadata": {},
     "output_type": "execute_result"
    }
   ],
   "source": [
    "X_"
   ]
  },
  {
   "cell_type": "code",
   "execution_count": 8,
   "id": "35921cfe",
   "metadata": {},
   "outputs": [
    {
     "data": {
      "text/plain": [
       "array([[ 1.,  1.,  1.,  1.],\n",
       "       [ 1.,  2.,  4.,  8.],\n",
       "       [ 1.,  3.,  9., 27.]])"
      ]
     },
     "execution_count": 8,
     "metadata": {},
     "output_type": "execute_result"
    }
   ],
   "source": [
    "xxx = PolynomialFeatures(degree=3).fit_transform(X)\n",
    "xxx"
   ]
  },
  {
   "cell_type": "code",
   "execution_count": 9,
   "id": "82680b07",
   "metadata": {},
   "outputs": [
    {
     "data": {
      "text/plain": [
       "array([ 0.49671415, -0.1382643 ,  0.64768854])"
      ]
     },
     "execution_count": 9,
     "metadata": {},
     "output_type": "execute_result"
    }
   ],
   "source": [
    "rnd = np.random.RandomState(42)\n",
    "y = rnd.randn(3)\n",
    "y"
   ]
  },
  {
   "cell_type": "code",
   "execution_count": 10,
   "id": "88d5e3a1",
   "metadata": {},
   "outputs": [
    {
     "data": {
      "text/plain": [
       "array([ 1.36002321e-15, -3.51045297e-01, -6.06987134e-01,  2.19575463e-01])"
      ]
     },
     "execution_count": 10,
     "metadata": {},
     "output_type": "execute_result"
    }
   ],
   "source": [
    "from sklearn.linear_model import LinearRegression as LR\n",
    "LR().fit(xxx,y).coef_"
   ]
  },
  {
   "cell_type": "code",
   "execution_count": 11,
   "id": "7dae5f3d",
   "metadata": {},
   "outputs": [
    {
     "data": {
      "text/plain": [
       "1.2351711202036895"
      ]
     },
     "execution_count": 11,
     "metadata": {},
     "output_type": "execute_result"
    }
   ],
   "source": [
    "LR().fit(xxx,y).intercept_\n",
    "# 截距不是x0的系数 - 算法不知道第一列是截距项"
   ]
  },
  {
   "cell_type": "code",
   "execution_count": null,
   "id": "3366f798",
   "metadata": {},
   "outputs": [],
   "source": [
    "# 解决方法\n",
    "1. xxx = PolynomialFeatures(degree=3,include_bias=False).fit_transform(X)\n",
    "   # 不生成第一列x0。这样计算之后就没有第一个系数了。截距本身就是截距。\n",
    "2. LR(fit_intercept=False).fit(xxx,y).coef_\n",
    "   # 要求截距为0。这样第一个系数*1就是截距。"
   ]
  },
  {
   "cell_type": "code",
   "execution_count": 12,
   "id": "ca2924cb",
   "metadata": {},
   "outputs": [
    {
     "data": {
      "image/png": "[encoded data removed]",
      "text/plain": [
       "<Figure size 432x288 with 1 Axes>"
      ]
     },
     "metadata": {
      "needs_background": "light"
     },
     "output_type": "display_data"
    }
   ],
   "source": [
    "import numpy as np\n",
    "import matplotlib.pyplot as plt\n",
    "from sklearn.linear_model import LinearRegression as LR\n",
    "from sklearn.tree import DecisionTreeRegressor\n",
    "\n",
    "rnd = np.random.RandomState(42)\n",
    "X = rnd.uniform(-3,3,size=100)  #-3和3之间随机取出100个数\n",
    "\n",
    "y = np.sin(X) + rnd.normal(size=len(X))/3  #random.normal 取出size个正态分布的随机数\n",
    "\n",
    "plt.scatter(X, y, marker='o', c='k', s=20)\n",
    "plt.show()"
   ]
  },
  {
   "cell_type": "code",
   "execution_count": 13,
   "id": "52b8a86d",
   "metadata": {},
   "outputs": [],
   "source": [
    "from sklearn.preprocessing import PolynomialFeatures as PF"
   ]
  },
  {
   "cell_type": "code",
   "execution_count": 14,
   "id": "b616b4cc",
   "metadata": {},
   "outputs": [],
   "source": [
    "X = X.reshape(-1,1)\n",
    "\n",
    "# create tesing data\n",
    "line = np.linspace(-3,3,1000,endpoint=False).reshape(-1,1)"
   ]
  },
  {
   "cell_type": "code",
   "execution_count": 15,
   "id": "ab3f648f",
   "metadata": {},
   "outputs": [
    {
     "data": {
      "text/plain": [
       "0.5361526059318595"
      ]
     },
     "execution_count": 15,
     "metadata": {},
     "output_type": "execute_result"
    }
   ],
   "source": [
    "LinearR = LR().fit(X, y)\n",
    "LinearR.score(X,y)"
   ]
  },
  {
   "cell_type": "code",
   "execution_count": 16,
   "id": "d64d71f8",
   "metadata": {},
   "outputs": [
    {
     "data": {
      "text/plain": [
       "0.6800102369793312"
      ]
     },
     "execution_count": 16,
     "metadata": {},
     "output_type": "execute_result"
    }
   ],
   "source": [
    "LinearR.score(line,np.sin(line))"
   ]
  },
  {
   "cell_type": "code",
   "execution_count": 17,
   "id": "11966df6",
   "metadata": {},
   "outputs": [],
   "source": [
    "# 多项式拟合\n",
    "d = 5\n",
    "\n",
    "poly = PF(degree=d)\n",
    "X_ = poly.fit_transform(X)\n",
    "line_ = poly.fit_transform(line)"
   ]
  },
  {
   "cell_type": "code",
   "execution_count": 18,
   "id": "c69885d5",
   "metadata": {},
   "outputs": [
    {
     "data": {
      "text/plain": [
       "0.8561679370344799"
      ]
     },
     "execution_count": 18,
     "metadata": {},
     "output_type": "execute_result"
    }
   ],
   "source": [
    "LinearR_ = LR().fit(X_,y)\n",
    "LinearR_.score(X_,y)"
   ]
  },
  {
   "cell_type": "code",
   "execution_count": 20,
   "id": "06ab22de",
   "metadata": {},
   "outputs": [
    {
     "data": {
      "text/plain": [
       "0.9868904451787976"
      ]
     },
     "execution_count": 20,
     "metadata": {},
     "output_type": "execute_result"
    }
   ],
   "source": [
    "LinearR_.score(line_, np.sin(line))"
   ]
  },
  {
   "cell_type": "code",
   "execution_count": 22,
   "id": "97a15b88",
   "metadata": {},
   "outputs": [
    {
     "data": {
      "image/png": "[encoded data removed]",
      "text/plain": [
       "<Figure size 432x288 with 1 Axes>"
      ]
     },
     "metadata": {
      "needs_background": "light"
     },
     "output_type": "display_data"
    }
   ],
   "source": [
    "fig, ax1 = plt.subplots(1)\n",
    "\n",
    "# create tesing data\n",
    "line = np.linspace(-3,3,1000,endpoint=False).reshape(-1,1)\n",
    "\n",
    "# predict attibute: plot using the result\n",
    "ax1.plot(line, LinearR.predict(line), linewidth=2, color='green', label=\"Linear Regression\")\n",
    "ax1.plot(line, LinearR_.predict(line_), linewidth=2, color='orange', label=\"Poly Regression\")\n",
    "\n",
    "ax1.plot(X[:,0], y, 'o', c='k')\n",
    "\n",
    "ax1.legend(loc='best')\n",
    "ax1.set_ylabel('Regression output')\n",
    "ax1.set_xlabel('input feature')\n",
    "ax1.set_title('Poly vs Linear')\n",
    "plt.tight_layout()\n",
    "plt.show()"
   ]
  },
  {
   "cell_type": "code",
   "execution_count": 24,
   "id": "cddf60aa",
   "metadata": {},
   "outputs": [
    {
     "data": {
      "image/png": "[encoded data removed]",
      "text/plain": [
       "<Figure size 432x360 with 1 Axes>"
      ]
     },
     "metadata": {
      "needs_background": "light"
     },
     "output_type": "display_data"
    }
   ],
   "source": [
    "# 最佳degree的选择 (越高越容易过拟合)\n",
    "\n",
    "from sklearn.model_selection import cross_val_score as CVS\n",
    "\n",
    "pred, score, var = [], [], []\n",
    "drange = np.arange(1,10)\n",
    "\n",
    "for d in drange:\n",
    "    poly = PF(degree=d)\n",
    "    X_ = poly.fit_transform(X)\n",
    "    line_ = poly.fit_transform(line)\n",
    "    \n",
    "    LinarR_ = LR()\n",
    "    \n",
    "    cvresult = CVS(LinarR_, X_, y, cv=5)\n",
    "    score.append(cvresult.mean())\n",
    "    var.append(cvresult.var())\n",
    "    # 测试集上的预测结果score\n",
    "    pred.append(LinarR_.fit(X_, y).score(line_, np.sin(line)))\n",
    "    \n",
    "plt.figure(figsize=(6,5))\n",
    "plt.plot(drange, pred, c='orange', label='test')\n",
    "plt.plot(drange, score, c='k', label='full data')\n",
    "plt.plot(drange, score+np.array(var)*0.5, c='red', linestyle='--', label='var')\n",
    "plt.plot(drange, score-np.array(var)*0.5, c='red', linestyle='--')\n",
    "plt.legend()\n",
    "plt.show()"
   ]
  },
  {
   "cell_type": "code",
   "execution_count": 25,
   "id": "39d2a1f7",
   "metadata": {},
   "outputs": [],
   "source": [
    "d = 3\n",
    "\n",
    "poly = PF(degree=d)\n",
    "X_ = poly.fit_transform(X)\n",
    "line_ = poly.fit_transform(line)"
   ]
  },
  {
   "cell_type": "code",
   "execution_count": 26,
   "id": "d1c502c8",
   "metadata": {},
   "outputs": [
    {
     "data": {
      "text/plain": [
       "0.8517087521131271"
      ]
     },
     "execution_count": 26,
     "metadata": {},
     "output_type": "execute_result"
    }
   ],
   "source": [
    "LinearR_ = LR().fit(X_,y)\n",
    "LinearR_.score(X_,y)"
   ]
  },
  {
   "cell_type": "code",
   "execution_count": 27,
   "id": "d039224d",
   "metadata": {},
   "outputs": [
    {
     "data": {
      "text/plain": [
       "0.983255068550753"
      ]
     },
     "execution_count": 27,
     "metadata": {},
     "output_type": "execute_result"
    }
   ],
   "source": [
    "LinearR_.score(line_, np.sin(line))"
   ]
  },
  {
   "cell_type": "code",
   "execution_count": 28,
   "id": "fc46f3c7",
   "metadata": {},
   "outputs": [],
   "source": [
    "# .get_feature_names() 查看每个特征的名字\n",
    "\n",
    "from sklearn.datasets import fetch_california_housing as fch\n",
    "import pandas as pd"
   ]
  },
  {
   "cell_type": "code",
   "execution_count": null,
   "id": "0acd6e6e",
   "metadata": {},
   "outputs": [],
   "source": [
    "housevalue = fch()\n",
    "X = pd.DataFrame(housevalue.data)\n",
    "y = housevalue.target\n",
    "\n",
    "X.columns = housevalue.feature_names"
   ]
  },
  {
   "cell_type": "code",
   "execution_count": 32,
   "id": "330f5780",
   "metadata": {},
   "outputs": [
    {
     "data": {
      "text/html": [
       "<div>\n",
       "<style scoped>\n",
       "    .dataframe tbody tr th:only-of-type {\n",
       "        vertical-align: middle;\n",
       "    }\n",
       "\n",
       "    .dataframe tbody tr th {\n",
       "        vertical-align: top;\n",
       "    }\n",
       "\n",
       "    .dataframe thead th {\n",
       "        text-align: right;\n",
       "    }\n",
       "</style>\n",
       "<table border=\"1\" class=\"dataframe\">\n",
       "  <thead>\n",
       "    <tr style=\"text-align: right;\">\n",
       "      <th></th>\n",
       "      <th>MedInc</th>\n",
       "      <th>HouseAge</th>\n",
       "      <th>AveRooms</th>\n",
       "      <th>AveBedrms</th>\n",
       "      <th>Population</th>\n",
       "      <th>AveOccup</th>\n",
       "      <th>Latitude</th>\n",
       "      <th>Longitude</th>\n",
       "    </tr>\n",
       "  </thead>\n",
       "  <tbody>\n",
       "    <tr>\n",
       "      <th>0</th>\n",
       "      <td>8.3252</td>\n",
       "      <td>41.0</td>\n",
       "      <td>6.984127</td>\n",
       "      <td>1.023810</td>\n",
       "      <td>322.0</td>\n",
       "      <td>2.555556</td>\n",
       "      <td>37.88</td>\n",
       "      <td>-122.23</td>\n",
       "    </tr>\n",
       "    <tr>\n",
       "      <th>1</th>\n",
       "      <td>8.3014</td>\n",
       "      <td>21.0</td>\n",
       "      <td>6.238137</td>\n",
       "      <td>0.971880</td>\n",
       "      <td>2401.0</td>\n",
       "      <td>2.109842</td>\n",
       "      <td>37.86</td>\n",
       "      <td>-122.22</td>\n",
       "    </tr>\n",
       "    <tr>\n",
       "      <th>2</th>\n",
       "      <td>7.2574</td>\n",
       "      <td>52.0</td>\n",
       "      <td>8.288136</td>\n",
       "      <td>1.073446</td>\n",
       "      <td>496.0</td>\n",
       "      <td>2.802260</td>\n",
       "      <td>37.85</td>\n",
       "      <td>-122.24</td>\n",
       "    </tr>\n",
       "    <tr>\n",
       "      <th>3</th>\n",
       "      <td>5.6431</td>\n",
       "      <td>52.0</td>\n",
       "      <td>5.817352</td>\n",
       "      <td>1.073059</td>\n",
       "      <td>558.0</td>\n",
       "      <td>2.547945</td>\n",
       "      <td>37.85</td>\n",
       "      <td>-122.25</td>\n",
       "    </tr>\n",
       "    <tr>\n",
       "      <th>4</th>\n",
       "      <td>3.8462</td>\n",
       "      <td>52.0</td>\n",
       "      <td>6.281853</td>\n",
       "      <td>1.081081</td>\n",
       "      <td>565.0</td>\n",
       "      <td>2.181467</td>\n",
       "      <td>37.85</td>\n",
       "      <td>-122.25</td>\n",
       "    </tr>\n",
       "  </tbody>\n",
       "</table>\n",
       "</div>"
      ],
      "text/plain": [
       "   MedInc  HouseAge  AveRooms  AveBedrms  Population  AveOccup  Latitude  \\\n",
       "0  8.3252      41.0  6.984127   1.023810       322.0  2.555556     37.88   \n",
       "1  8.3014      21.0  6.238137   0.971880      2401.0  2.109842     37.86   \n",
       "2  7.2574      52.0  8.288136   1.073446       496.0  2.802260     37.85   \n",
       "3  5.6431      52.0  5.817352   1.073059       558.0  2.547945     37.85   \n",
       "4  3.8462      52.0  6.281853   1.081081       565.0  2.181467     37.85   \n",
       "\n",
       "   Longitude  \n",
       "0    -122.23  \n",
       "1    -122.22  \n",
       "2    -122.24  \n",
       "3    -122.25  \n",
       "4    -122.25  "
      ]
     },
     "execution_count": 32,
     "metadata": {},
     "output_type": "execute_result"
    }
   ],
   "source": [
    "X.head()"
   ]
  },
  {
   "cell_type": "code",
   "execution_count": 33,
   "id": "794d4992",
   "metadata": {},
   "outputs": [],
   "source": [
    "poly = PF().fit(X,y)"
   ]
  },
  {
   "cell_type": "code",
   "execution_count": 34,
   "id": "174e4d28",
   "metadata": {
    "collapsed": true
   },
   "outputs": [
    {
     "data": {
      "text/plain": [
       "['1',\n",
       " 'MedInc',\n",
       " 'HouseAge',\n",
       " 'AveRooms',\n",
       " 'AveBedrms',\n",
       " 'Population',\n",
       " 'AveOccup',\n",
       " 'Latitude',\n",
       " 'Longitude',\n",
       " 'MedInc^2',\n",
       " 'MedInc HouseAge',\n",
       " 'MedInc AveRooms',\n",
       " 'MedInc AveBedrms',\n",
       " 'MedInc Population',\n",
       " 'MedInc AveOccup',\n",
       " 'MedInc Latitude',\n",
       " 'MedInc Longitude',\n",
       " 'HouseAge^2',\n",
       " 'HouseAge AveRooms',\n",
       " 'HouseAge AveBedrms',\n",
       " 'HouseAge Population',\n",
       " 'HouseAge AveOccup',\n",
       " 'HouseAge Latitude',\n",
       " 'HouseAge Longitude',\n",
       " 'AveRooms^2',\n",
       " 'AveRooms AveBedrms',\n",
       " 'AveRooms Population',\n",
       " 'AveRooms AveOccup',\n",
       " 'AveRooms Latitude',\n",
       " 'AveRooms Longitude',\n",
       " 'AveBedrms^2',\n",
       " 'AveBedrms Population',\n",
       " 'AveBedrms AveOccup',\n",
       " 'AveBedrms Latitude',\n",
       " 'AveBedrms Longitude',\n",
       " 'Population^2',\n",
       " 'Population AveOccup',\n",
       " 'Population Latitude',\n",
       " 'Population Longitude',\n",
       " 'AveOccup^2',\n",
       " 'AveOccup Latitude',\n",
       " 'AveOccup Longitude',\n",
       " 'Latitude^2',\n",
       " 'Latitude Longitude',\n",
       " 'Longitude^2']"
      ]
     },
     "execution_count": 34,
     "metadata": {},
     "output_type": "execute_result"
    }
   ],
   "source": [
    "poly.get_feature_names(X.columns)  #特征组合名字"
   ]
  },
  {
   "cell_type": "code",
   "execution_count": 35,
   "id": "88110f00",
   "metadata": {},
   "outputs": [],
   "source": [
    "X_ = poly.transform(X)"
   ]
  },
  {
   "cell_type": "code",
   "execution_count": 37,
   "id": "b1ea5083",
   "metadata": {},
   "outputs": [],
   "source": [
    "reg = LR().fit(X_,y)\n",
    "coef = reg.coef_"
   ]
  },
  {
   "cell_type": "code",
   "execution_count": 38,
   "id": "27ed57d4",
   "metadata": {},
   "outputs": [
    {
     "data": {
      "text/plain": [
       "array([ 5.91954898e-08, -1.12430255e+01, -8.48898551e-01,  6.44105935e+00,\n",
       "       -3.15913308e+01,  4.06090625e-04,  1.00386233e+00,  8.70568191e+00,\n",
       "        5.88063274e+00, -3.13081241e-02,  1.85994733e-03,  4.33020448e-02,\n",
       "       -1.86142297e-01,  5.72831334e-05, -2.59019469e-03, -1.52505720e-01,\n",
       "       -1.44242944e-01,  2.11725363e-04, -1.26218988e-03,  1.06115040e-02,\n",
       "        2.81885350e-06, -1.81716946e-03, -1.00690374e-02, -9.99950177e-03,\n",
       "        7.26947733e-03, -6.89064347e-02, -6.82365631e-05,  2.68878840e-02,\n",
       "        8.75089947e-02,  8.22890396e-02,  1.60180950e-01,  5.14264038e-04,\n",
       "       -8.71911385e-02, -4.37043031e-01, -4.04150610e-01,  2.73779463e-09,\n",
       "        1.91426755e-05,  2.29529811e-05,  1.46567747e-05,  8.71561013e-05,\n",
       "        2.13344592e-02,  1.62412938e-02,  6.18867358e-02,  1.08107173e-01,\n",
       "        3.99077351e-02])"
      ]
     },
     "execution_count": 38,
     "metadata": {},
     "output_type": "execute_result"
    }
   ],
   "source": [
    "coef"
   ]
  },
  {
   "cell_type": "code",
   "execution_count": 39,
   "id": "b5374fe8",
   "metadata": {
    "collapsed": true
   },
   "outputs": [
    {
     "data": {
      "text/plain": [
       "[('1', 5.919548979451466e-08),\n",
       " ('MedInc', -11.24302548299935),\n",
       " ('HouseAge', -0.8488985511052133),\n",
       " ('AveRooms', 6.441059349843383),\n",
       " ('AveBedrms', -31.591330763254792),\n",
       " ('Population', 0.00040609062532270633),\n",
       " ('AveOccup', 1.003862326514533),\n",
       " ('Latitude', 8.70568191419001),\n",
       " ('Longitude', 5.880632741524842),\n",
       " ('MedInc^2', -0.03130812412478552),\n",
       " ('MedInc HouseAge', 0.0018599473264526876),\n",
       " ('MedInc AveRooms', 0.04330204481030008),\n",
       " ('MedInc AveBedrms', -0.1861422968683334),\n",
       " ('MedInc Population', 5.7283133376319876e-05),\n",
       " ('MedInc AveOccup', -0.0025901946916912564),\n",
       " ('MedInc Latitude', -0.1525057196838008),\n",
       " ('MedInc Longitude', -0.1442429441109192),\n",
       " ('HouseAge^2', 0.00021172536278806547),\n",
       " ('HouseAge AveRooms', -0.0012621898754027279),\n",
       " ('HouseAge AveBedrms', 0.010611503993005564),\n",
       " ('HouseAge Population', 2.8188534961846406e-06),\n",
       " ('HouseAge AveOccup', -0.0018171694558569297),\n",
       " ('HouseAge Latitude', -0.010069037355560558),\n",
       " ('HouseAge Longitude', -0.009999501774406838),\n",
       " ('AveRooms^2', 0.007269477327343921),\n",
       " ('AveRooms AveBedrms', -0.06890643474741485),\n",
       " ('AveRooms Population', -6.823656309774736e-05),\n",
       " ('AveRooms AveOccup', 0.026887883995676518),\n",
       " ('AveRooms Latitude', 0.0875089946781034),\n",
       " ('AveRooms Longitude', 0.08228903961282477),\n",
       " ('AveBedrms^2', 0.16018095041852973),\n",
       " ('AveBedrms Population', 0.0005142640380415207),\n",
       " ('AveBedrms AveOccup', -0.08719113848047312),\n",
       " ('AveBedrms Latitude', -0.43704303108213777),\n",
       " ('AveBedrms Longitude', -0.4041506096408639),\n",
       " ('Population^2', 2.7377946296198593e-09),\n",
       " ('Population AveOccup', 1.914267547922087e-05),\n",
       " ('Population Latitude', 2.2952981097563308e-05),\n",
       " ('Population Longitude', 1.4656774667354749e-05),\n",
       " ('AveOccup^2', 8.715610129866067e-05),\n",
       " ('AveOccup Latitude', 0.02133445922526862),\n",
       " ('AveOccup Longitude', 0.016241293810076513),\n",
       " ('Latitude^2', 0.061886735751295795),\n",
       " ('Latitude Longitude', 0.10810717327032994),\n",
       " ('Longitude^2', 0.039907735075027456)]"
      ]
     },
     "execution_count": 39,
     "metadata": {},
     "output_type": "execute_result"
    }
   ],
   "source": [
    "[*zip(poly.get_feature_names(X.columns), coef)]"
   ]
  },
  {
   "cell_type": "code",
   "execution_count": 51,
   "id": "39c9cd60",
   "metadata": {},
   "outputs": [
    {
     "data": {
      "text/html": [
       "<div>\n",
       "<style scoped>\n",
       "    .dataframe tbody tr th:only-of-type {\n",
       "        vertical-align: middle;\n",
       "    }\n",
       "\n",
       "    .dataframe tbody tr th {\n",
       "        vertical-align: top;\n",
       "    }\n",
       "\n",
       "    .dataframe thead th {\n",
       "        text-align: right;\n",
       "    }\n",
       "</style>\n",
       "<table border=\"1\" class=\"dataframe\">\n",
       "  <thead>\n",
       "    <tr style=\"text-align: right;\">\n",
       "      <th></th>\n",
       "      <th>0</th>\n",
       "      <th>1</th>\n",
       "    </tr>\n",
       "  </thead>\n",
       "  <tbody>\n",
       "    <tr>\n",
       "      <th>0</th>\n",
       "      <td>1</td>\n",
       "      <td>0.0</td>\n",
       "    </tr>\n",
       "    <tr>\n",
       "      <th>1</th>\n",
       "      <td>MedInc</td>\n",
       "      <td>-11.243025</td>\n",
       "    </tr>\n",
       "    <tr>\n",
       "      <th>2</th>\n",
       "      <td>HouseAge</td>\n",
       "      <td>-0.848899</td>\n",
       "    </tr>\n",
       "    <tr>\n",
       "      <th>3</th>\n",
       "      <td>AveRooms</td>\n",
       "      <td>6.441059</td>\n",
       "    </tr>\n",
       "    <tr>\n",
       "      <th>4</th>\n",
       "      <td>AveBedrms</td>\n",
       "      <td>-31.591331</td>\n",
       "    </tr>\n",
       "  </tbody>\n",
       "</table>\n",
       "</div>"
      ],
      "text/plain": [
       "           0          1\n",
       "0          1        0.0\n",
       "1     MedInc -11.243025\n",
       "2   HouseAge  -0.848899\n",
       "3   AveRooms   6.441059\n",
       "4  AveBedrms -31.591331"
      ]
     },
     "execution_count": 51,
     "metadata": {},
     "output_type": "execute_result"
    }
   ],
   "source": [
    "coeff = pd.DataFrame([poly.get_feature_names(X.columns), coef.tolist()]).T\n",
    "coeff.head()"
   ]
  },
  {
   "cell_type": "code",
   "execution_count": 52,
   "id": "bc6f77e7",
   "metadata": {
    "scrolled": true
   },
   "outputs": [
    {
     "data": {
      "text/html": [
       "<div>\n",
       "<style scoped>\n",
       "    .dataframe tbody tr th:only-of-type {\n",
       "        vertical-align: middle;\n",
       "    }\n",
       "\n",
       "    .dataframe tbody tr th {\n",
       "        vertical-align: top;\n",
       "    }\n",
       "\n",
       "    .dataframe thead th {\n",
       "        text-align: right;\n",
       "    }\n",
       "</style>\n",
       "<table border=\"1\" class=\"dataframe\">\n",
       "  <thead>\n",
       "    <tr style=\"text-align: right;\">\n",
       "      <th></th>\n",
       "      <th>features</th>\n",
       "      <th>coef</th>\n",
       "    </tr>\n",
       "  </thead>\n",
       "  <tbody>\n",
       "    <tr>\n",
       "      <th>4</th>\n",
       "      <td>AveBedrms</td>\n",
       "      <td>-31.591331</td>\n",
       "    </tr>\n",
       "    <tr>\n",
       "      <th>1</th>\n",
       "      <td>MedInc</td>\n",
       "      <td>-11.243025</td>\n",
       "    </tr>\n",
       "    <tr>\n",
       "      <th>2</th>\n",
       "      <td>HouseAge</td>\n",
       "      <td>-0.848899</td>\n",
       "    </tr>\n",
       "    <tr>\n",
       "      <th>33</th>\n",
       "      <td>AveBedrms Latitude</td>\n",
       "      <td>-0.437043</td>\n",
       "    </tr>\n",
       "    <tr>\n",
       "      <th>34</th>\n",
       "      <td>AveBedrms Longitude</td>\n",
       "      <td>-0.404151</td>\n",
       "    </tr>\n",
       "    <tr>\n",
       "      <th>12</th>\n",
       "      <td>MedInc AveBedrms</td>\n",
       "      <td>-0.186142</td>\n",
       "    </tr>\n",
       "    <tr>\n",
       "      <th>15</th>\n",
       "      <td>MedInc Latitude</td>\n",
       "      <td>-0.152506</td>\n",
       "    </tr>\n",
       "    <tr>\n",
       "      <th>16</th>\n",
       "      <td>MedInc Longitude</td>\n",
       "      <td>-0.144243</td>\n",
       "    </tr>\n",
       "    <tr>\n",
       "      <th>32</th>\n",
       "      <td>AveBedrms AveOccup</td>\n",
       "      <td>-0.087191</td>\n",
       "    </tr>\n",
       "    <tr>\n",
       "      <th>25</th>\n",
       "      <td>AveRooms AveBedrms</td>\n",
       "      <td>-0.068906</td>\n",
       "    </tr>\n",
       "    <tr>\n",
       "      <th>9</th>\n",
       "      <td>MedInc^2</td>\n",
       "      <td>-0.031308</td>\n",
       "    </tr>\n",
       "    <tr>\n",
       "      <th>22</th>\n",
       "      <td>HouseAge Latitude</td>\n",
       "      <td>-0.010069</td>\n",
       "    </tr>\n",
       "    <tr>\n",
       "      <th>23</th>\n",
       "      <td>HouseAge Longitude</td>\n",
       "      <td>-0.01</td>\n",
       "    </tr>\n",
       "    <tr>\n",
       "      <th>14</th>\n",
       "      <td>MedInc AveOccup</td>\n",
       "      <td>-0.00259</td>\n",
       "    </tr>\n",
       "    <tr>\n",
       "      <th>21</th>\n",
       "      <td>HouseAge AveOccup</td>\n",
       "      <td>-0.001817</td>\n",
       "    </tr>\n",
       "    <tr>\n",
       "      <th>18</th>\n",
       "      <td>HouseAge AveRooms</td>\n",
       "      <td>-0.001262</td>\n",
       "    </tr>\n",
       "    <tr>\n",
       "      <th>26</th>\n",
       "      <td>AveRooms Population</td>\n",
       "      <td>-0.000068</td>\n",
       "    </tr>\n",
       "    <tr>\n",
       "      <th>35</th>\n",
       "      <td>Population^2</td>\n",
       "      <td>0.0</td>\n",
       "    </tr>\n",
       "    <tr>\n",
       "      <th>0</th>\n",
       "      <td>1</td>\n",
       "      <td>0.0</td>\n",
       "    </tr>\n",
       "    <tr>\n",
       "      <th>20</th>\n",
       "      <td>HouseAge Population</td>\n",
       "      <td>0.000003</td>\n",
       "    </tr>\n",
       "    <tr>\n",
       "      <th>38</th>\n",
       "      <td>Population Longitude</td>\n",
       "      <td>0.000015</td>\n",
       "    </tr>\n",
       "    <tr>\n",
       "      <th>36</th>\n",
       "      <td>Population AveOccup</td>\n",
       "      <td>0.000019</td>\n",
       "    </tr>\n",
       "    <tr>\n",
       "      <th>37</th>\n",
       "      <td>Population Latitude</td>\n",
       "      <td>0.000023</td>\n",
       "    </tr>\n",
       "    <tr>\n",
       "      <th>13</th>\n",
       "      <td>MedInc Population</td>\n",
       "      <td>0.000057</td>\n",
       "    </tr>\n",
       "    <tr>\n",
       "      <th>39</th>\n",
       "      <td>AveOccup^2</td>\n",
       "      <td>0.000087</td>\n",
       "    </tr>\n",
       "    <tr>\n",
       "      <th>17</th>\n",
       "      <td>HouseAge^2</td>\n",
       "      <td>0.000212</td>\n",
       "    </tr>\n",
       "    <tr>\n",
       "      <th>5</th>\n",
       "      <td>Population</td>\n",
       "      <td>0.000406</td>\n",
       "    </tr>\n",
       "    <tr>\n",
       "      <th>31</th>\n",
       "      <td>AveBedrms Population</td>\n",
       "      <td>0.000514</td>\n",
       "    </tr>\n",
       "    <tr>\n",
       "      <th>10</th>\n",
       "      <td>MedInc HouseAge</td>\n",
       "      <td>0.00186</td>\n",
       "    </tr>\n",
       "    <tr>\n",
       "      <th>24</th>\n",
       "      <td>AveRooms^2</td>\n",
       "      <td>0.007269</td>\n",
       "    </tr>\n",
       "    <tr>\n",
       "      <th>19</th>\n",
       "      <td>HouseAge AveBedrms</td>\n",
       "      <td>0.010612</td>\n",
       "    </tr>\n",
       "    <tr>\n",
       "      <th>41</th>\n",
       "      <td>AveOccup Longitude</td>\n",
       "      <td>0.016241</td>\n",
       "    </tr>\n",
       "    <tr>\n",
       "      <th>40</th>\n",
       "      <td>AveOccup Latitude</td>\n",
       "      <td>0.021334</td>\n",
       "    </tr>\n",
       "    <tr>\n",
       "      <th>27</th>\n",
       "      <td>AveRooms AveOccup</td>\n",
       "      <td>0.026888</td>\n",
       "    </tr>\n",
       "    <tr>\n",
       "      <th>44</th>\n",
       "      <td>Longitude^2</td>\n",
       "      <td>0.039908</td>\n",
       "    </tr>\n",
       "    <tr>\n",
       "      <th>11</th>\n",
       "      <td>MedInc AveRooms</td>\n",
       "      <td>0.043302</td>\n",
       "    </tr>\n",
       "    <tr>\n",
       "      <th>42</th>\n",
       "      <td>Latitude^2</td>\n",
       "      <td>0.061887</td>\n",
       "    </tr>\n",
       "    <tr>\n",
       "      <th>29</th>\n",
       "      <td>AveRooms Longitude</td>\n",
       "      <td>0.082289</td>\n",
       "    </tr>\n",
       "    <tr>\n",
       "      <th>28</th>\n",
       "      <td>AveRooms Latitude</td>\n",
       "      <td>0.087509</td>\n",
       "    </tr>\n",
       "    <tr>\n",
       "      <th>43</th>\n",
       "      <td>Latitude Longitude</td>\n",
       "      <td>0.108107</td>\n",
       "    </tr>\n",
       "    <tr>\n",
       "      <th>30</th>\n",
       "      <td>AveBedrms^2</td>\n",
       "      <td>0.160181</td>\n",
       "    </tr>\n",
       "    <tr>\n",
       "      <th>6</th>\n",
       "      <td>AveOccup</td>\n",
       "      <td>1.003862</td>\n",
       "    </tr>\n",
       "    <tr>\n",
       "      <th>8</th>\n",
       "      <td>Longitude</td>\n",
       "      <td>5.880633</td>\n",
       "    </tr>\n",
       "    <tr>\n",
       "      <th>3</th>\n",
       "      <td>AveRooms</td>\n",
       "      <td>6.441059</td>\n",
       "    </tr>\n",
       "    <tr>\n",
       "      <th>7</th>\n",
       "      <td>Latitude</td>\n",
       "      <td>8.705682</td>\n",
       "    </tr>\n",
       "  </tbody>\n",
       "</table>\n",
       "</div>"
      ],
      "text/plain": [
       "                features       coef\n",
       "4              AveBedrms -31.591331\n",
       "1                 MedInc -11.243025\n",
       "2               HouseAge  -0.848899\n",
       "33    AveBedrms Latitude  -0.437043\n",
       "34   AveBedrms Longitude  -0.404151\n",
       "12      MedInc AveBedrms  -0.186142\n",
       "15       MedInc Latitude  -0.152506\n",
       "16      MedInc Longitude  -0.144243\n",
       "32    AveBedrms AveOccup  -0.087191\n",
       "25    AveRooms AveBedrms  -0.068906\n",
       "9               MedInc^2  -0.031308\n",
       "22     HouseAge Latitude  -0.010069\n",
       "23    HouseAge Longitude      -0.01\n",
       "14       MedInc AveOccup   -0.00259\n",
       "21     HouseAge AveOccup  -0.001817\n",
       "18     HouseAge AveRooms  -0.001262\n",
       "26   AveRooms Population  -0.000068\n",
       "35          Population^2        0.0\n",
       "0                      1        0.0\n",
       "20   HouseAge Population   0.000003\n",
       "38  Population Longitude   0.000015\n",
       "36   Population AveOccup   0.000019\n",
       "37   Population Latitude   0.000023\n",
       "13     MedInc Population   0.000057\n",
       "39            AveOccup^2   0.000087\n",
       "17            HouseAge^2   0.000212\n",
       "5             Population   0.000406\n",
       "31  AveBedrms Population   0.000514\n",
       "10       MedInc HouseAge    0.00186\n",
       "24            AveRooms^2   0.007269\n",
       "19    HouseAge AveBedrms   0.010612\n",
       "41    AveOccup Longitude   0.016241\n",
       "40     AveOccup Latitude   0.021334\n",
       "27     AveRooms AveOccup   0.026888\n",
       "44           Longitude^2   0.039908\n",
       "11       MedInc AveRooms   0.043302\n",
       "42            Latitude^2   0.061887\n",
       "29    AveRooms Longitude   0.082289\n",
       "28     AveRooms Latitude   0.087509\n",
       "43    Latitude Longitude   0.108107\n",
       "30           AveBedrms^2   0.160181\n",
       "6               AveOccup   1.003862\n",
       "8              Longitude   5.880633\n",
       "3               AveRooms   6.441059\n",
       "7               Latitude   8.705682"
      ]
     },
     "execution_count": 52,
     "metadata": {},
     "output_type": "execute_result"
    }
   ],
   "source": [
    "coeff.columns = ['features','coef']\n",
    "coeff.sort_values(by='coef') #从小到大"
   ]
  },
  {
   "cell_type": "code",
   "execution_count": null,
   "id": "3f449aca",
   "metadata": {},
   "outputs": [],
   "source": [
    "# poly可以用来做特征选择，特征创造"
   ]
  },
  {
   "cell_type": "code",
   "execution_count": 58,
   "id": "5afa6181",
   "metadata": {},
   "outputs": [
    {
     "name": "stdout",
     "output_type": "stream",
     "text": [
      "R2 is 0.7451090627097201\n"
     ]
    }
   ],
   "source": [
    "poly = PF(degree=4).fit(X,y)\n",
    "X_ = poly.transform(X)\n",
    "\n",
    "reg = LR().fit(X_,y)\n",
    "print('R2 is {}'.format(reg.score(X_,y)))"
   ]
  },
  {
   "cell_type": "code",
   "execution_count": 60,
   "id": "4a7d61a0",
   "metadata": {},
   "outputs": [
    {
     "name": "stdout",
     "output_type": "stream",
     "text": [
      "R2 is 0.974407449223263\n"
     ]
    }
   ],
   "source": [
    "from sklearn.ensemble import RandomForestRegressor as RFR\n",
    "\n",
    "print('R2 is {}'.format(RFR(n_estimators=100).fit(X,y).score(X,y)))"
   ]
  },
  {
   "cell_type": "code",
   "execution_count": null,
   "id": "b5fe25a8",
   "metadata": {},
   "outputs": [],
   "source": []
  },
  {
   "cell_type": "code",
   "execution_count": null,
   "id": "af995694",
   "metadata": {},
   "outputs": [],
   "source": []
  },
  {
   "cell_type": "code",
   "execution_count": null,
   "id": "c697f8af",
   "metadata": {},
   "outputs": [],
   "source": []
  },
  {
   "cell_type": "code",
   "execution_count": null,
   "id": "b89c77b8",
   "metadata": {},
   "outputs": [],
   "source": []
  },
  {
   "cell_type": "code",
   "execution_count": null,
   "id": "f063e767",
   "metadata": {},
   "outputs": [],
   "source": []
  },
  {
   "cell_type": "code",
   "execution_count": null,
   "id": "e8a7ed5d",
   "metadata": {},
   "outputs": [],
   "source": []
  },
  {
   "cell_type": "code",
   "execution_count": null,
   "id": "e9cf1521",
   "metadata": {},
   "outputs": [],
   "source": []
  },
  {
   "cell_type": "code",
   "execution_count": null,
   "id": "b159eaa5",
   "metadata": {},
   "outputs": [],
   "source": []
  },
  {
   "cell_type": "code",
   "execution_count": null,
   "id": "98dbfba4",
   "metadata": {},
   "outputs": [],
   "source": []
  },
  {
   "cell_type": "code",
   "execution_count": null,
   "id": "c9599a4b",
   "metadata": {},
   "outputs": [],
   "source": []
  },
  {
   "cell_type": "code",
   "execution_count": null,
   "id": "f18e42c7",
   "metadata": {},
   "outputs": [],
   "source": []
  },
  {
   "cell_type": "code",
   "execution_count": null,
   "id": "c686d7b0",
   "metadata": {},
   "outputs": [],
   "source": []
  },
  {
   "cell_type": "code",
   "execution_count": null,
   "id": "5462e317",
   "metadata": {},
   "outputs": [],
   "source": []
  },
  {
   "cell_type": "code",
   "execution_count": null,
   "id": "9df3861a",
   "metadata": {},
   "outputs": [],
   "source": []
  },
  {
   "cell_type": "code",
   "execution_count": null,
   "id": "6b5445f9",
   "metadata": {},
   "outputs": [],
   "source": []
  },
  {
   "cell_type": "code",
   "execution_count": null,
   "id": "07bf10bd",
   "metadata": {},
   "outputs": [],
   "source": []
  },
  {
   "cell_type": "code",
   "execution_count": null,
   "id": "5475ea29",
   "metadata": {},
   "outputs": [],
   "source": []
  },
  {
   "cell_type": "code",
   "execution_count": null,
   "id": "92a290e7",
   "metadata": {},
   "outputs": [],
   "source": []
  },
  {
   "cell_type": "code",
   "execution_count": null,
   "id": "ca024d04",
   "metadata": {},
   "outputs": [],
   "source": []
  },
  {
   "cell_type": "code",
   "execution_count": null,
   "id": "edfa4004",
   "metadata": {},
   "outputs": [],
   "source": []
  },
  {
   "cell_type": "code",
   "execution_count": null,
   "id": "4f879ecc",
   "metadata": {},
   "outputs": [],
   "source": []
  },
  {
   "cell_type": "code",
   "execution_count": null,
   "id": "e9bd3a7c",
   "metadata": {},
   "outputs": [],
   "source": []
  },
  {
   "cell_type": "code",
   "execution_count": null,
   "id": "c13caa77",
   "metadata": {},
   "outputs": [],
   "source": []
  },
  {
   "cell_type": "code",
   "execution_count": null,
   "id": "e79a8fbd",
   "metadata": {},
   "outputs": [],
   "source": []
  },
  {
   "cell_type": "code",
   "execution_count": null,
   "id": "61a57504",
   "metadata": {},
   "outputs": [],
   "source": []
  },
  {
   "cell_type": "code",
   "execution_count": null,
   "id": "1f034e39",
   "metadata": {},
   "outputs": [],
   "source": []
  },
  {
   "cell_type": "code",
   "execution_count": null,
   "id": "fa67cd7c",
   "metadata": {},
   "outputs": [],
   "source": []
  },
  {
   "cell_type": "code",
   "execution_count": null,
   "id": "653f7e3e",
   "metadata": {},
   "outputs": [],
   "source": []
  },
  {
   "cell_type": "code",
   "execution_count": null,
   "id": "84cc8fe1",
   "metadata": {},
   "outputs": [],
   "source": []
  },
  {
   "cell_type": "code",
   "execution_count": null,
   "id": "eb6ac212",
   "metadata": {},
   "outputs": [],
   "source": []
  },
  {
   "cell_type": "code",
   "execution_count": null,
   "id": "c1cabfd0",
   "metadata": {},
   "outputs": [],
   "source": []
  },
  {
   "cell_type": "code",
   "execution_count": null,
   "id": "0372fa70",
   "metadata": {},
   "outputs": [],
   "source": []
  },
  {
   "cell_type": "code",
   "execution_count": null,
   "id": "f2d48eba",
   "metadata": {},
   "outputs": [],
   "source": []
  },
  {
   "cell_type": "code",
   "execution_count": null,
   "id": "b90ae08c",
   "metadata": {},
   "outputs": [],
   "source": []
  },
  {
   "cell_type": "code",
   "execution_count": null,
   "id": "f50e026f",
   "metadata": {},
   "outputs": [],
   "source": []
  },
  {
   "cell_type": "code",
   "execution_count": null,
   "id": "ce8a666a",
   "metadata": {},
   "outputs": [],
   "source": []
  },
  {
   "cell_type": "code",
   "execution_count": null,
   "id": "e98b481f",
   "metadata": {},
   "outputs": [],
   "source": []
  },
  {
   "cell_type": "code",
   "execution_count": null,
   "id": "1c088685",
   "metadata": {},
   "outputs": [],
   "source": []
  },
  {
   "cell_type": "code",
   "execution_count": null,
   "id": "b05d4503",
   "metadata": {},
   "outputs": [],
   "source": []
  },
  {
   "cell_type": "code",
   "execution_count": null,
   "id": "2f35c91e",
   "metadata": {},
   "outputs": [],
   "source": []
  },
  {
   "cell_type": "code",
   "execution_count": null,
   "id": "3ed619af",
   "metadata": {},
   "outputs": [],
   "source": []
  },
  {
   "cell_type": "code",
   "execution_count": null,
   "id": "34d716fd",
   "metadata": {},
   "outputs": [],
   "source": []
  },
  {
   "cell_type": "code",
   "execution_count": null,
   "id": "f4b67a70",
   "metadata": {},
   "outputs": [],
   "source": []
  },
  {
   "cell_type": "code",
   "execution_count": null,
   "id": "5c732ef6",
   "metadata": {},
   "outputs": [],
   "source": []
  },
  {
   "cell_type": "code",
   "execution_count": null,
   "id": "8d932a10",
   "metadata": {},
   "outputs": [],
   "source": []
  },
  {
   "cell_type": "code",
   "execution_count": null,
   "id": "e51b7f21",
   "metadata": {},
   "outputs": [],
   "source": []
  },
  {
   "cell_type": "code",
   "execution_count": null,
   "id": "7e7f4734",
   "metadata": {},
   "outputs": [],
   "source": []
  },
  {
   "cell_type": "code",
   "execution_count": null,
   "id": "65c732c2",
   "metadata": {},
   "outputs": [],
   "source": []
  }
 ],
 "metadata": {
  "kernelspec": {
   "display_name": "Python 3 (ipykernel)",
   "language": "python",
   "name": "python3"
  },
  "language_info": {
   "codemirror_mode": {
    "name": "ipython",
    "version": 3
   },
   "file_extension": ".py",
   "mimetype": "text/x-python",
   "name": "python",
   "nbconvert_exporter": "python",
   "pygments_lexer": "ipython3",
   "version": "3.9.7"
  }
 },
 "nbformat": 4,
 "nbformat_minor": 5
}
